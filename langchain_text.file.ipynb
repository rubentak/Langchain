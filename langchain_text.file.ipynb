{
 "cells": [
  {
   "cell_type": "markdown",
   "source": [
    "# using langchain to extract infromation of a textfile\n"
   ],
   "metadata": {
    "collapsed": false
   }
  },
  {
   "cell_type": "code",
   "execution_count": 1,
   "metadata": {
    "collapsed": true,
    "ExecuteTime": {
     "end_time": "2023-05-04T08:55:34.375506Z",
     "start_time": "2023-05-04T08:55:32.323888Z"
    }
   },
   "outputs": [],
   "source": [
    "# # import libraries\n",
    "import os\n",
    "from langchain.llms import OpenAI\n"
   ]
  },
  {
   "cell_type": "code",
   "execution_count": 2,
   "outputs": [],
   "source": [
    "#create a new openai api key\n",
    "os.environ[\"OPENAI_API_KEY\"] = \"sk-...\""
   ],
   "metadata": {
    "collapsed": false,
    "ExecuteTime": {
     "end_time": "2023-05-04T08:55:45.959215Z",
     "start_time": "2023-05-04T08:55:45.956317Z"
    }
   }
  },
  {
   "cell_type": "code",
   "execution_count": 3,
   "outputs": [],
   "source": [
    "# set up openai api key\n",
    "openai_api_key = os.environ.get('OPENAI_API_KEY')"
   ],
   "metadata": {
    "collapsed": false,
    "ExecuteTime": {
     "end_time": "2023-05-04T08:55:55.890645Z",
     "start_time": "2023-05-04T08:55:55.887873Z"
    }
   }
  },
  {
   "cell_type": "code",
   "execution_count": 4,
   "outputs": [],
   "source": [
    "from langchain.document_loaders import TextLoader\n",
    "loader = TextLoader('notebook.txt')"
   ],
   "metadata": {
    "collapsed": false,
    "ExecuteTime": {
     "end_time": "2023-05-04T08:57:17.226557Z",
     "start_time": "2023-05-04T08:57:17.220745Z"
    }
   }
  },
  {
   "cell_type": "markdown",
   "source": [
    "# create an index"
   ],
   "metadata": {
    "collapsed": false
   }
  },
  {
   "cell_type": "code",
   "execution_count": 5,
   "outputs": [
    {
     "name": "stderr",
     "output_type": "stream",
     "text": [
      "Using embedded DuckDB without persistence: data will be transient\n"
     ]
    }
   ],
   "source": [
    "from langchain.indexes import VectorstoreIndexCreator\n",
    "index = VectorstoreIndexCreator().from_loaders([loader])"
   ],
   "metadata": {
    "collapsed": false,
    "ExecuteTime": {
     "end_time": "2023-05-04T08:58:00.613551Z",
     "start_time": "2023-05-04T08:57:59.022959Z"
    }
   }
  },
  {
   "cell_type": "code",
   "execution_count": 7,
   "outputs": [
    {
     "data": {
      "text/plain": "' This text is about using LangChain to create a simple AI chatbot that can answer questions using OpenAI and Serpapi. It also covers how to add memory to agents, how to set up an OpenAI API key, and how to use PromptTemplates and LLMChains.'"
     },
     "execution_count": 7,
     "metadata": {},
     "output_type": "execute_result"
    }
   ],
   "source": [
    "query = \"What is the text about?\"\n",
    "index.query(query)"
   ],
   "metadata": {
    "collapsed": false,
    "ExecuteTime": {
     "end_time": "2023-05-04T09:00:46.463471Z",
     "start_time": "2023-05-04T09:00:40.172394Z"
    }
   }
  },
  {
   "cell_type": "code",
   "execution_count": 8,
   "outputs": [
    {
     "data": {
      "text/plain": "' This text explains how to use LangChain to create a simple AI chatbot that can answer questions using OpenAI and Serpapi. It explains how to set up OpenAI API key, how to create a LLM with a temperature of 0.9, and how to use PromptTemplate and LLMChain to generate responses to questions.'"
     },
     "execution_count": 8,
     "metadata": {},
     "output_type": "execute_result"
    }
   ],
   "source": [
    "query = \"please give a summary of the text\"\n",
    "index.query(query)"
   ],
   "metadata": {
    "collapsed": false,
    "ExecuteTime": {
     "end_time": "2023-05-04T09:01:24.658701Z",
     "start_time": "2023-05-04T09:01:15.051182Z"
    }
   }
  },
  {
   "cell_type": "code",
   "execution_count": 9,
   "outputs": [
    {
     "data": {
      "text/plain": "' \\n1. Load the model\\n2. Load in some tools to use\\n3. Initialize an agent\\n4. Create a new OpenAI API key\\n5. Set up OpenAI API key\\n6. Create a LLM with a temperature of 0.9\\n7. Run the LLM with a text input'"
     },
     "execution_count": 9,
     "metadata": {},
     "output_type": "execute_result"
    }
   ],
   "source": [
    "query = \"please give bullet points of all the steps in the text\"\n",
    "index.query(query)"
   ],
   "metadata": {
    "collapsed": false,
    "ExecuteTime": {
     "end_time": "2023-05-04T09:02:02.708632Z",
     "start_time": "2023-05-04T09:01:53.339817Z"
    }
   }
  },
  {
   "cell_type": "code",
   "execution_count": 10,
   "outputs": [
    {
     "data": {
      "text/plain": "' This notebook provides a tutorial on how to use LangChain to create a simple AI chatbot that can answer questions using OpenAI and Serpapi. It covers topics such as importing libraries, setting up an OpenAI API key, creating a language model, and initializing an agent. It also covers how to add memory to the agent to make it more dynamic and interactive. By the end of the tutorial, you will have a fully functioning AI chatbot that can answer questions and have conversations.'"
     },
     "execution_count": 10,
     "metadata": {},
     "output_type": "execute_result"
    }
   ],
   "source": [
    "query = \"Write a introduction paragraph for an article about this notebook\"\n",
    "index.query(query)"
   ],
   "metadata": {
    "collapsed": false,
    "ExecuteTime": {
     "end_time": "2023-05-04T09:04:01.150851Z",
     "start_time": "2023-05-04T09:03:52.866522Z"
    }
   }
  },
  {
   "cell_type": "code",
   "execution_count": 13,
   "outputs": [
    {
     "data": {
      "text/plain": "' The key takeaways from this notebook are that LangChain can be used to create a simple AI chatbot that can answer questions using OpenAI and Serpapi, and that agents can be initialized with tools, a language model, and the type of agent desired. Additionally, the temperature of a language model is a hyperparameter that controls the randomness of the output, and memory can be added to agents to make them more dynamic and interactive.'"
     },
     "execution_count": 13,
     "metadata": {},
     "output_type": "execute_result"
    }
   ],
   "source": [
    "query = \"what are the key takeaways in this notebook?\"\n",
    "index.query(query)"
   ],
   "metadata": {
    "collapsed": false,
    "ExecuteTime": {
     "end_time": "2023-05-04T09:06:24.128132Z",
     "start_time": "2023-05-04T09:06:15.282593Z"
    }
   }
  },
  {
   "cell_type": "code",
   "execution_count": 15,
   "outputs": [
    {
     "data": {
      "text/plain": "' #import libraries, from langchain.agents import load_tools, from langchain.agents import initialize_agent, from langchain.llms import OpenAI, # Load the model, llm = OpenAI(temperature=0), Tools are functions that agents can use to interact with the world. These tools can be generic utilities (e.g. search), other chains, or even other agents., # Load in some tools to use, #os.environ[\"SERPAPI_API_KEY\"] = \"...\", tools = load_tools([\"serpapi\", \"llm-math\"], llm=llm), # Finally, let\\'s initialize an agent with:, 1. The tools, 2. The language model, 3. The type of agent we want to use.'"
     },
     "execution_count": 15,
     "metadata": {},
     "output_type": "execute_result"
    }
   ],
   "source": [
    "query = \"what are the first 10 lines of code?\"\n",
    "index.query(query)"
   ],
   "metadata": {
    "collapsed": false,
    "ExecuteTime": {
     "end_time": "2023-05-04T09:07:37.797352Z",
     "start_time": "2023-05-04T09:07:23.532629Z"
    }
   }
  },
  {
   "cell_type": "code",
   "execution_count": null,
   "outputs": [],
   "source": [],
   "metadata": {
    "collapsed": false
   }
  }
 ],
 "metadata": {
  "kernelspec": {
   "display_name": "Python 3",
   "language": "python",
   "name": "python3"
  },
  "language_info": {
   "codemirror_mode": {
    "name": "ipython",
    "version": 2
   },
   "file_extension": ".py",
   "mimetype": "text/x-python",
   "name": "python",
   "nbconvert_exporter": "python",
   "pygments_lexer": "ipython2",
   "version": "2.7.6"
  }
 },
 "nbformat": 4,
 "nbformat_minor": 0
}
