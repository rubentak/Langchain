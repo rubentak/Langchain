{
 "cells": [
  {
   "cell_type": "markdown",
   "metadata": {},
   "source": [
    "# Getting started with Langchain\n",
    "\n",
    "In this tutorial, we will walk through the basics of using LangChain to create a simple AI chatbot that can answer questions using OpenAI and Serpapi."
   ]
  },
  {
   "cell_type": "code",
   "execution_count": 1,
   "metadata": {
    "ExecuteTime": {
     "end_time": "2023-05-07T10:53:34.209012Z",
     "start_time": "2023-05-07T10:53:31.599400Z"
    }
   },
   "outputs": [],
   "source": [
    "# import libraries\n",
    "import os\n",
    "from langchain.llms import OpenAI"
   ]
  },
  {
   "cell_type": "code",
   "execution_count": 4,
   "metadata": {
    "ExecuteTime": {
     "end_time": "2023-05-04T07:51:05.142310Z",
     "start_time": "2023-05-04T07:51:05.138413Z"
    }
   },
   "outputs": [],
   "source": [
    "#create a new openai api key\n",
    "#os.environ[\"OPENAI_API_KEY\"] = \"...\""
   ]
  },
  {
   "cell_type": "code",
   "execution_count": 5,
   "metadata": {
    "ExecuteTime": {
     "end_time": "2023-05-04T07:51:05.737195Z",
     "start_time": "2023-05-04T07:51:05.731132Z"
    }
   },
   "outputs": [],
   "source": [
    "# set up openai api key\n",
    "openai_api_key = os.environ.get('OPENAI_API_KEY')"
   ]
  },
  {
   "cell_type": "markdown",
   "metadata": {},
   "source": [
    "### The temperature of a llm is a hyperparameter that controls the randomness of the output. It is a value between 0 and 1. A higher temperature will result in more random output. A lower temperature will result in more predictable output. For this tutorial, we will set the temperature to 0.9. You can play around with this yourself to see how it affects the output."
   ]
  },
  {
   "cell_type": "code",
   "execution_count": 6,
   "metadata": {
    "ExecuteTime": {
     "end_time": "2023-05-04T07:51:09.477227Z",
     "start_time": "2023-05-04T07:51:08.896315Z"
    }
   },
   "outputs": [],
   "source": [
    "# create a llm\n",
    "llm = OpenAI(temperature = 0.9)"
   ]
  },
  {
   "cell_type": "code",
   "execution_count": 7,
   "metadata": {
    "ExecuteTime": {
     "end_time": "2023-05-04T07:51:15.146461Z",
     "start_time": "2023-05-04T07:51:10.387988Z"
    }
   },
   "outputs": [
    {
     "name": "stdout",
     "output_type": "stream",
     "text": [
      "\n",
      "\n",
      "1. Ireland \n",
      "2. Russia \n",
      "3. United States \n",
      "4. Germany\n"
     ]
    }
   ],
   "source": [
    "text = \"What are 4 countries where they eat a lot of potatoes?\"\n",
    "print(llm(text))"
   ]
  },
  {
   "cell_type": "markdown",
   "metadata": {},
   "source": [
    "### This works! But what if we what if we want to ask a question about a different food? We can use the prompt template class to do this."
   ]
  },
  {
   "cell_type": "markdown",
   "metadata": {},
   "source": [
    "# Getting started with prompt templates\n",
    "\n",
    "### A prompt template is a string that contains variables that can be filled in with different values. For example, you could have a prompt template that looks like this:"
   ]
  },
  {
   "cell_type": "code",
   "execution_count": 8,
   "metadata": {
    "ExecuteTime": {
     "end_time": "2023-05-04T07:51:21.064906Z",
     "start_time": "2023-05-04T07:51:21.055502Z"
    }
   },
   "outputs": [],
   "source": [
    "from langchain.prompts import PromptTemplate"
   ]
  },
  {
   "cell_type": "code",
   "execution_count": 9,
   "metadata": {
    "ExecuteTime": {
     "end_time": "2023-05-04T07:51:21.665992Z",
     "start_time": "2023-05-04T07:51:21.661148Z"
    }
   },
   "outputs": [],
   "source": [
    "prompt = PromptTemplate(\n",
    "    input_variables=[\"food\"],\n",
    "    template=\"What are 4 countries where they eat a lot of {food}?\",\n",
    ")"
   ]
  },
  {
   "cell_type": "code",
   "execution_count": 10,
   "metadata": {
    "ExecuteTime": {
     "end_time": "2023-05-04T07:51:22.267425Z",
     "start_time": "2023-05-04T07:51:22.259980Z"
    }
   },
   "outputs": [
    {
     "name": "stdout",
     "output_type": "stream",
     "text": [
      "What are 4 countries where they eat a lot of potatoes?\n"
     ]
    }
   ],
   "source": [
    "print(prompt.format(food=\"potatoes\"))"
   ]
  },
  {
   "cell_type": "code",
   "execution_count": 11,
   "metadata": {
    "ExecuteTime": {
     "end_time": "2023-05-04T07:51:25.790414Z",
     "start_time": "2023-05-04T07:51:23.070055Z"
    }
   },
   "outputs": [
    {
     "name": "stdout",
     "output_type": "stream",
     "text": [
      "\n",
      "\n",
      "1. Ireland \n",
      "2. Germany \n",
      "3. Russia \n",
      "4. Poland\n"
     ]
    }
   ],
   "source": [
    "print(llm(prompt.format(food=\"potatoes\")))"
   ]
  },
  {
   "cell_type": "markdown",
   "metadata": {},
   "source": [
    "Notice how the answer is different from the previous one. This is because of the randomness of the llm. If we want to get the same answer every time, we can set the seed of the llm."
   ]
  },
  {
   "cell_type": "code",
   "execution_count": 13,
   "metadata": {
    "ExecuteTime": {
     "end_time": "2023-05-04T07:52:37.534975Z",
     "start_time": "2023-05-04T07:52:33.797048Z"
    }
   },
   "outputs": [
    {
     "name": "stdout",
     "output_type": "stream",
     "text": [
      "\n",
      "\n",
      "1. China \n",
      "2. India \n",
      "3. Indonesia \n",
      "4. Japan\n"
     ]
    }
   ],
   "source": [
    "print(llm(prompt.format(food=\"rice\")))"
   ]
  },
  {
   "cell_type": "markdown",
   "metadata": {},
   "source": [
    "# Chaining\n",
    "\n",
    "### Here, we combine LLMs and prompts in multistep workflows using the prompt template class."
   ]
  },
  {
   "cell_type": "code",
   "execution_count": 14,
   "metadata": {
    "ExecuteTime": {
     "end_time": "2023-05-04T07:52:42.076305Z",
     "start_time": "2023-05-04T07:52:42.073724Z"
    }
   },
   "outputs": [],
   "source": [
    "# import libraries\n",
    "from langchain.prompts import PromptTemplate\n",
    "from langchain.llms import OpenAI\n",
    "from langchain.chains import LLMChain"
   ]
  },
  {
   "cell_type": "code",
   "execution_count": 15,
   "metadata": {
    "ExecuteTime": {
     "end_time": "2023-05-04T07:52:42.738643Z",
     "start_time": "2023-05-04T07:52:42.733814Z"
    }
   },
   "outputs": [],
   "source": [
    "llm = OpenAI(temperature=0.9)\n",
    "\n",
    "prompt = PromptTemplate(\n",
    "    input_variables=[\"food\"],\n",
    "    template=\"What are 4 countries where they eat a lot of {food}?\",\n",
    ")"
   ]
  },
  {
   "cell_type": "code",
   "execution_count": 16,
   "metadata": {
    "ExecuteTime": {
     "end_time": "2023-05-04T07:52:44.089168Z",
     "start_time": "2023-05-04T07:52:44.083051Z"
    }
   },
   "outputs": [],
   "source": [
    "chain = LLMChain(llm=llm, prompt=prompt)"
   ]
  },
  {
   "cell_type": "code",
   "execution_count": 17,
   "metadata": {
    "ExecuteTime": {
     "end_time": "2023-05-04T07:52:47.473090Z",
     "start_time": "2023-05-04T07:52:44.458688Z"
    }
   },
   "outputs": [
    {
     "name": "stdout",
     "output_type": "stream",
     "text": [
      "\n",
      "\n",
      "1. Ireland\n",
      "2. United States\n",
      "3. Germany\n",
      "4. United Kingdom\n",
      "\n",
      "\n",
      "1. China\n",
      "2. Japan\n",
      "3. India\n",
      "4. Indonesia\n"
     ]
    }
   ],
   "source": [
    "print(chain.run(\"potatoes\"))\n",
    "print(chain.run(\"rice\"))"
   ]
  },
  {
   "cell_type": "markdown",
   "metadata": {},
   "source": [
    "# Agents: Dynamically call chains based on user input\n",
    "\n",
    "SerpApi is a search engine results page (SERP) scraping and parsing API that allows developers to retrieve and analyze data from various search engines, including Google, Bing, Yahoo, and more.\n",
    "\n",
    "\n",
    "To use SerpApi in Python, you will need to install the SerpApi Python module using pip. An API key can be created here:\n",
    "\n",
    "[Serpapi key](https://serpapi.com/users/sign_up)\n",
    "\n",
    "[Serpapi documentation](https://python.langchain.com/en/latest/modules/agents/tools/examples/serpapi.html)\n",
    "\n",
    "In the next part, we are going to combine OpenAI with SerpApi to create a chatbot that can answer questions with internet search results.\n",
    "\n",
    "[Agent langchain documentation](https://python.langchain.com/en/latest/modules/agents.html)\n",
    "\n",
    "\n"
   ]
  },
  {
   "cell_type": "code",
   "execution_count": 89,
   "metadata": {
    "ExecuteTime": {
     "end_time": "2023-04-25T19:11:54.670645Z",
     "start_time": "2023-04-25T19:11:51.130043Z"
    }
   },
   "outputs": [
    {
     "name": "stdout",
     "output_type": "stream",
     "text": [
      "Requirement already satisfied: google-search-results in /Users/erictak/miniconda3/lib/python3.10/site-packages (2.4.2)\r\n",
      "Requirement already satisfied: requests in /Users/erictak/miniconda3/lib/python3.10/site-packages (from google-search-results) (2.28.1)\r\n",
      "Requirement already satisfied: certifi>=2017.4.17 in /Users/erictak/miniconda3/lib/python3.10/site-packages (from requests->google-search-results) (2022.12.7)\r\n",
      "Requirement already satisfied: idna<4,>=2.5 in /Users/erictak/miniconda3/lib/python3.10/site-packages (from requests->google-search-results) (3.4)\r\n",
      "Requirement already satisfied: charset-normalizer<3,>=2 in /Users/erictak/miniconda3/lib/python3.10/site-packages (from requests->google-search-results) (2.0.4)\r\n",
      "Requirement already satisfied: urllib3<1.27,>=1.21.1 in /Users/erictak/miniconda3/lib/python3.10/site-packages (from requests->google-search-results) (1.26.15)\r\n"
     ]
    }
   ],
   "source": [
    "# Install serpapi\n",
    "#!pip install google-search-results"
   ]
  },
  {
   "cell_type": "code",
   "execution_count": 18,
   "metadata": {
    "ExecuteTime": {
     "end_time": "2023-05-04T07:52:52.926304Z",
     "start_time": "2023-05-04T07:52:52.891879Z"
    }
   },
   "outputs": [],
   "source": [
    "#import libraries\n",
    "from langchain.agents import load_tools\n",
    "from langchain.agents import initialize_agent\n",
    "from langchain.llms import OpenAI"
   ]
  },
  {
   "cell_type": "code",
   "execution_count": 19,
   "metadata": {
    "ExecuteTime": {
     "end_time": "2023-05-04T07:52:53.308175Z",
     "start_time": "2023-05-04T07:52:53.304615Z"
    }
   },
   "outputs": [],
   "source": [
    "# Load the model\n",
    "llm = OpenAI(temperature=0)"
   ]
  },
  {
   "cell_type": "markdown",
   "metadata": {},
   "source": [
    "Tools are functions that agents can use to interact with the world. These tools can be generic utilities (e.g. search), other chains, or even other agents.\n",
    "Here we use the SerpApi and llm-math tools. We will use the SerpApi tool to search the internet for answers to our questions. We will use the llm-math tool to answer math questions.\n",
    "\n",
    "[Tools documentation](https://python.langchain.com/en/latest/modules/agents/tools/getting_started.html)"
   ]
  },
  {
   "cell_type": "code",
   "execution_count": 2,
   "metadata": {
    "ExecuteTime": {
     "end_time": "2023-05-07T12:41:37.766193Z",
     "start_time": "2023-05-07T12:41:37.193083Z"
    }
   },
   "outputs": [
    {
     "ename": "NameError",
     "evalue": "name 'load_tools' is not defined",
     "output_type": "error",
     "traceback": [
      "\u001B[0;31m---------------------------------------------------------------------------\u001B[0m",
      "\u001B[0;31mNameError\u001B[0m                                 Traceback (most recent call last)",
      "Cell \u001B[0;32mIn[2], line 5\u001B[0m\n\u001B[1;32m      1\u001B[0m \u001B[38;5;66;03m# Load in some tools to use\u001B[39;00m\n\u001B[1;32m      2\u001B[0m \n\u001B[1;32m      3\u001B[0m \u001B[38;5;66;03m#os.environ[\"SERPAPI_API_KEY\"] = \"...\"\u001B[39;00m\n\u001B[0;32m----> 5\u001B[0m tools \u001B[38;5;241m=\u001B[39m \u001B[43mload_tools\u001B[49m([\u001B[38;5;124m\"\u001B[39m\u001B[38;5;124mserpapi\u001B[39m\u001B[38;5;124m\"\u001B[39m, \u001B[38;5;124m\"\u001B[39m\u001B[38;5;124mllm-math\u001B[39m\u001B[38;5;124m\"\u001B[39m], llm\u001B[38;5;241m=\u001B[39mllm)\n",
      "\u001B[0;31mNameError\u001B[0m: name 'load_tools' is not defined"
     ]
    }
   ],
   "source": [
    "# Load in some tools to use\n",
    "\n",
    "#os.environ[\"SERPAPI_API_KEY\"] = \"...\"\n",
    "\n",
    "tools = load_tools([\"serpapi\", \"llm-math\"], llm=llm)"
   ]
  },
  {
   "cell_type": "markdown",
   "metadata": {},
   "source": [
    "### Finally, let's initialize an agent with:\n",
    " 1. The tools\n",
    " 2. The language model\n",
    " 3. The type of agent we want to use."
   ]
  },
  {
   "cell_type": "code",
   "execution_count": 21,
   "metadata": {
    "ExecuteTime": {
     "end_time": "2023-05-04T07:53:11.849563Z",
     "start_time": "2023-05-04T07:53:11.842091Z"
    }
   },
   "outputs": [],
   "source": [
    "agent = initialize_agent(tools, llm, agent=\"zero-shot-react-description\", verbose=True)"
   ]
  },
  {
   "cell_type": "markdown",
   "metadata": {},
   "source": [
    "For the agent, I have chosen the zero-shot-react-description agent. This agent uses the ReAct framework to determine which tool to use based solely on the tool’s description. Any number of tools can be provided. This agent requires that a description is provided for each tool.\n",
    "\n",
    "[Agent types](https://python.langchain.com/en/latest/modules/agents/agents/agent_types.html)\n",
    "\n",
    "By setting verbose=True, we can see the agent's internal state as it processes the input.\n",
    "\n",
    "Other agent types could also be chosen\n",
    "\n",
    "Now, let us ask our agent a question for which it will use the Serpapi tool to search the internet for an answer and need to calculate the answer using the llm-math tool."
   ]
  },
  {
   "cell_type": "code",
   "execution_count": 22,
   "metadata": {
    "ExecuteTime": {
     "end_time": "2023-05-04T07:53:41.299371Z",
     "start_time": "2023-05-04T07:53:16.761842Z"
    }
   },
   "outputs": [
    {
     "name": "stdout",
     "output_type": "stream",
     "text": [
      "\n",
      "\n",
      "\u001B[1m> Entering new AgentExecutor chain...\u001B[0m\n",
      "\u001B[32;1m\u001B[1;3m I need to find out Obama's height and then use a calculator to figure out how many cans of coke I need.\n",
      "Action: Search\n",
      "Action Input: Obama's height\u001B[0m\n",
      "Observation: \u001B[36;1m\u001B[1;3m6′ 2″\u001B[0m\n",
      "Thought:\u001B[32;1m\u001B[1;3m I need to convert this to centimeters and then use a calculator to figure out how many cans of coke I need.\n",
      "Action: Calculator\n",
      "Action Input: 6 feet 2 inches in centimeters\u001B[0m\n",
      "Observation: \u001B[33;1m\u001B[1;3mAnswer: 187.96\u001B[0m\n",
      "Thought:\u001B[32;1m\u001B[1;3m I now know the number of centimeters and can use a calculator to figure out how many cans of coke I need.\n",
      "Action: Calculator\n",
      "Action Input: 187.96 cm divided by 12 cm (the height of a can of coke)\u001B[0m\n",
      "Observation: \u001B[33;1m\u001B[1;3mAnswer: 15.663333333333334\u001B[0m\n",
      "Thought:\u001B[32;1m\u001B[1;3m I now know the final answer\n",
      "Final Answer: 15.66 cans of coke can be stacked to reach Obama's height of 6 feet 2 inches.\u001B[0m\n",
      "\n",
      "\u001B[1m> Finished chain.\u001B[0m\n"
     ]
    },
    {
     "data": {
      "text/plain": [
       "\"15.66 cans of coke can be stacked to reach Obama's height of 6 feet 2 inches.\""
      ]
     },
     "execution_count": 22,
     "metadata": {},
     "output_type": "execute_result"
    }
   ],
   "source": [
    "agent.run(\"What is the hight of Obama? And how many cans of coke can you stack to reach that height?\")"
   ]
  },
  {
   "cell_type": "markdown",
   "metadata": {},
   "source": [
    "# Memory: Add state to chains and agents\n",
    "\n",
    "By adding memory to our agents, we can make them more dynamic and interactive. We can have a conversation and the agent will remember what we said and use that information to answer our questions.\n"
   ]
  },
  {
   "cell_type": "code",
   "execution_count": 30,
   "metadata": {
    "ExecuteTime": {
     "end_time": "2023-05-04T07:55:17.264738Z",
     "start_time": "2023-05-04T07:55:17.258348Z"
    }
   },
   "outputs": [],
   "source": [
    "from langchain import OpenAI, ConversationChain"
   ]
  },
  {
   "cell_type": "code",
   "execution_count": 31,
   "metadata": {
    "ExecuteTime": {
     "end_time": "2023-05-04T07:55:17.763388Z",
     "start_time": "2023-05-04T07:55:17.759465Z"
    }
   },
   "outputs": [],
   "source": [
    "llm = OpenAI(temperature=0)\n",
    "conversation = ConversationChain(llm=llm, verbose=True)"
   ]
  },
  {
   "cell_type": "code",
   "execution_count": 32,
   "metadata": {
    "ExecuteTime": {
     "end_time": "2023-05-04T07:55:19.754062Z",
     "start_time": "2023-05-04T07:55:18.363774Z"
    }
   },
   "outputs": [
    {
     "name": "stdout",
     "output_type": "stream",
     "text": [
      "\n",
      "\n",
      "\u001B[1m> Entering new ConversationChain chain...\u001B[0m\n",
      "Prompt after formatting:\n",
      "\u001B[32;1m\u001B[1;3mThe following is a friendly conversation between a human and an AI. The AI is talkative and provides lots of specific details from its context. If the AI does not know the answer to a question, it truthfully says it does not know.\n",
      "\n",
      "Current conversation:\n",
      "\n",
      "Human: Hi how are you doing!\n",
      "AI:\u001B[0m\n",
      "\n",
      "\u001B[1m> Finished chain.\u001B[0m\n"
     ]
    },
    {
     "data": {
      "text/plain": [
       "\" Hi there! I'm doing great, thanks for asking. How about you?\""
      ]
     },
     "execution_count": 32,
     "metadata": {},
     "output_type": "execute_result"
    }
   ],
   "source": [
    "conversation.predict(input=\"Hi how are you doing!\")"
   ]
  },
  {
   "cell_type": "code",
   "execution_count": 33,
   "metadata": {
    "ExecuteTime": {
     "end_time": "2023-05-04T07:55:26.267762Z",
     "start_time": "2023-05-04T07:55:24.635145Z"
    }
   },
   "outputs": [
    {
     "name": "stdout",
     "output_type": "stream",
     "text": [
      "\n",
      "\n",
      "\u001B[1m> Entering new ConversationChain chain...\u001B[0m\n",
      "Prompt after formatting:\n",
      "\u001B[32;1m\u001B[1;3mThe following is a friendly conversation between a human and an AI. The AI is talkative and provides lots of specific details from its context. If the AI does not know the answer to a question, it truthfully says it does not know.\n",
      "\n",
      "Current conversation:\n",
      "Human: Hi how are you doing!\n",
      "AI:  Hi there! I'm doing great, thanks for asking. How about you?\n",
      "Human: I'm doing well! Just having a conversation with my newly created langchain agent with memory.\n",
      "AI:\u001B[0m\n",
      "\n",
      "\u001B[1m> Finished chain.\u001B[0m\n"
     ]
    },
    {
     "data": {
      "text/plain": [
       "' That sounds really cool! What kind of conversations have you been having?'"
      ]
     },
     "execution_count": 33,
     "metadata": {},
     "output_type": "execute_result"
    }
   ],
   "source": [
    "conversation.predict(input=\"I'm doing well! Just having a conversation with my newly created langchain agent with memory.\")"
   ]
  },
  {
   "cell_type": "code",
   "execution_count": 34,
   "metadata": {
    "ExecuteTime": {
     "end_time": "2023-05-04T07:55:39.039729Z",
     "start_time": "2023-05-04T07:55:33.774782Z"
    }
   },
   "outputs": [
    {
     "name": "stdout",
     "output_type": "stream",
     "text": [
      "\n",
      "\n",
      "\u001B[1m> Entering new ConversationChain chain...\u001B[0m\n",
      "Prompt after formatting:\n",
      "\u001B[32;1m\u001B[1;3mThe following is a friendly conversation between a human and an AI. The AI is talkative and provides lots of specific details from its context. If the AI does not know the answer to a question, it truthfully says it does not know.\n",
      "\n",
      "Current conversation:\n",
      "Human: Hi how are you doing!\n",
      "AI:  Hi there! I'm doing great, thanks for asking. How about you?\n",
      "Human: I'm doing well! Just having a conversation with my newly created langchain agent with memory.\n",
      "AI:  That sounds really cool! What kind of conversations have you been having?\n",
      "Human: I would like to get to know a bit about what LangChain is\n",
      "AI:\u001B[0m\n",
      "\n",
      "\u001B[1m> Finished chain.\u001B[0m\n"
     ]
    },
    {
     "data": {
      "text/plain": [
       "' Sure! LangChain is a natural language processing platform that enables developers to create AI-powered chatbots and virtual assistants. It provides a suite of tools to help developers build, train, and deploy their bots quickly and easily. It also offers a range of features such as natural language understanding, sentiment analysis, and text-to-speech capabilities.'"
      ]
     },
     "execution_count": 34,
     "metadata": {},
     "output_type": "execute_result"
    }
   ],
   "source": [
    "conversation.predict(input=\"I would like to get to know a bit about what LangChain is\")"
   ]
  },
  {
   "cell_type": "markdown",
   "metadata": {},
   "source": [
    "# Continue the conversation yourself!"
   ]
  },
  {
   "cell_type": "code",
   "execution_count": null,
   "metadata": {},
   "outputs": [],
   "source": [
    "conversation.predict(input=\"...\")"
   ]
  },
  {
   "cell_type": "markdown",
   "metadata": {},
   "source": [
    "# This is the end of the tutorial. We hope you enjoyed it!\n",
    "\n",
    "Follow me on Github and Medium for more content:\n",
    "\n",
    "- [Github](https://github.com/rubentak)\n",
    "- [Medium](https://medium.com/@rubentak)"
   ]
  },
  {
   "cell_type": "code",
   "execution_count": null,
   "metadata": {},
   "outputs": [],
   "source": []
  }
 ],
 "metadata": {
  "kernelspec": {
   "display_name": "Python 3 (ipykernel)",
   "language": "python",
   "name": "python3"
  },
  "language_info": {
   "codemirror_mode": {
    "name": "ipython",
    "version": 3
   },
   "file_extension": ".py",
   "mimetype": "text/x-python",
   "name": "python",
   "nbconvert_exporter": "python",
   "pygments_lexer": "ipython3",
   "version": "3.10.10"
  }
 },
 "nbformat": 4,
 "nbformat_minor": 1
}
