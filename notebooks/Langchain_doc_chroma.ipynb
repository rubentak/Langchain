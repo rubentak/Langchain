{
 "cells": [
  {
   "cell_type": "markdown",
   "source": [
    "# In this notebook i try to scrap the whole documentation of langchain and save it into txt files to later on use it for the chatbot\n",
    "\n",
    "## the text files are stored in a chroma db vecor data base"
   ],
   "metadata": {
    "collapsed": false
   }
  },
  {
   "cell_type": "code",
   "execution_count": 3,
   "metadata": {
    "collapsed": true,
    "ExecuteTime": {
     "end_time": "2023-06-19T16:41:30.999311Z",
     "start_time": "2023-06-19T16:41:30.995203Z"
    }
   },
   "outputs": [],
   "source": [
    "# import libraries\n",
    "from bs4 import BeautifulSoup\n",
    "import requests\n",
    "import re"
   ]
  },
  {
   "cell_type": "code",
   "execution_count": 4,
   "outputs": [
    {
     "data": {
      "text/plain": "'<!doctype html>\\n<html lang=\"en\" dir=\"ltr\">\\n<head>\\n<meta charset=\"UTF-8\">\\n<meta name=\"generator\" content=\"Docusaurus v2.4.0\">\\n<title data-rh=\"true\">🦜️🔗 Langchain</title><meta data-rh=\"true\" property=\"og:title\" content=\"🦜️🔗 Langchain\"><meta data-rh=\"true\" name=\"viewport\" content=\"width=device-width,initial-scale=1\"><meta data-rh=\"true\" name=\"twitter:card\" content=\"summary_large_image\"><meta data-rh=\"true\" property=\"og:image\" content=\"https://python.langchain.com/img/parrot-chainlink-icon.png\"><meta data-rh=\"true\" name=\"twitter:image\" content=\"https://python.langchain.com/img/parrot-chainlink-icon.png\"><meta data-rh=\"true\" property=\"og:url\" content=\"https://python.langchain.com/\"><meta data-rh=\"true\" name=\"docusaurus_locale\" content=\"en\"><meta data-rh=\"true\" name=\"docusaurus_tag\" content=\"default\"><meta data-rh=\"true\" name=\"docsearch:language\" content=\"en\"><meta data-rh=\"true\" name=\"docsearch:docusaurus_tag\" content=\"default\"><link data-rh=\"true\" rel=\"icon\" href=\"/img/favicon.ico\"><link data-rh=\"true\" rel=\"canonical\" href=\"https://python.langchain.com/\"><link data-rh=\"true\" rel=\"alternate\" href=\"https://python.langchain.com/\" hreflang=\"en\"><link data-rh=\"true\" rel=\"alternate\" href=\"https://python.langchain.com/\" hreflang=\"x-default\"><script data-rh=\"true\">function maybeInsertBanner(){window.__DOCUSAURUS_INSERT_BASEURL_BANNER&&insertBanner()}function insertBanner(){var n=document.getElementById(\"docusaurus-base-url-issue-banner-container\");if(n){n.innerHTML=\\'\\\\n<div id=\"docusaurus-base-url-issue-banner\" style=\"border: thick solid red; background-color: rgb(255, 230, 179); margin: 20px; padding: 20px; font-size: 20px;\">\\\\n   <p style=\"font-weight: bold; font-size: 30px;\">Your Docusaurus site did not load properly.</p>\\\\n   <p>A very common reason is a wrong site <a href=\"https://docusaurus.io/docs/docusaurus.config.js/#baseUrl\" style=\"font-weight: bold;\">baseUrl configuration</a>.</p>\\\\n   <p>Current configured baseUrl = <span style=\"font-weight: bold; color: red;\">/</span>  (default value)</p>\\\\n   <p>We suggest trying baseUrl = <span id=\"docusaurus-base-url-issue-banner-suggestion-container\" style=\"font-weight: bold; color: green;\"></span></p>\\\\n</div>\\\\n\\';var e=document.getElementById(\"docusaurus-base-url-issue-banner-suggestion-container\"),s=window.location.pathname,r=\"/\"===s.substr(-1)?s:s+\"/\";e.innerHTML=r}}window.__DOCUSAURUS_INSERT_BASEURL_BANNER=!0,document.addEventListener(\"DOMContentLoaded\",maybeInsertBanner)</script><link rel=\"stylesheet\" href=\"/assets/css/styles.700baafe.css\">\\n<link rel=\"preload\" href=\"/assets/js/runtime~main.4ccb8403.js\" as=\"script\">\\n<link rel=\"preload\" href=\"/assets/js/main.ad2aecd1.js\" as=\"script\">\\n</head>\\n<body class=\"navigation-with-keyboard\">\\n<script>!function(){function t(t){document.documentElement.setAttribute(\"data-theme\",t)}var e=function(){var t=null;try{t=new URLSearchParams(window.location.search).get(\"docusaurus-theme\")}catch(t){}return t}()||function(){var t=null;try{t=localStorage.getItem(\"theme\")}catch(t){}return t}();t(null!==e?e:\"light\")}()</script><div id=\"__docusaurus\">\\n<div id=\"docusaurus-base-url-issue-banner-container\"></div></div>\\n<script src=\"/assets/js/runtime~main.4ccb8403.js\"></script>\\n<script src=\"/assets/js/main.ad2aecd1.js\"></script>\\n</body>\\n</html>'"
     },
     "execution_count": 4,
     "metadata": {},
     "output_type": "execute_result"
    }
   ],
   "source": [
    "# Function for getting the text data from a website url\n",
    "def get_data(url):\n",
    "\tr = requests.get(url)\n",
    "\treturn r.text\n",
    "\n",
    "get_data('https://python.langchain.com/en/latest/index.html')"
   ],
   "metadata": {
    "collapsed": false,
    "ExecuteTime": {
     "end_time": "2023-06-19T16:41:31.536319Z",
     "start_time": "2023-06-19T16:41:31.271768Z"
    }
   }
  },
  {
   "cell_type": "code",
   "execution_count": 5,
   "outputs": [
    {
     "data": {
      "text/plain": "[]"
     },
     "execution_count": 5,
     "metadata": {},
     "output_type": "execute_result"
    }
   ],
   "source": [
    "# count links in a website\n",
    "def get_links(website_link):\n",
    "    html_data = get_data(website_link)\n",
    "    soup = BeautifulSoup(html_data, \"html.parser\")\n",
    "    list_links = []\n",
    "    for link in soup.find_all(\"a\", href=True):\n",
    "        list_links.append(link[\"href\"])\n",
    "    return list_links\n",
    "\n",
    "sub_links = get_links('https://python.langchain.com/en/latest/index.html')\n",
    "sub_links"
   ],
   "metadata": {
    "collapsed": false,
    "ExecuteTime": {
     "end_time": "2023-06-19T16:41:32.242590Z",
     "start_time": "2023-06-19T16:41:32.048150Z"
    }
   }
  },
  {
   "cell_type": "code",
   "execution_count": 6,
   "outputs": [
    {
     "data": {
      "text/plain": "0"
     },
     "execution_count": 6,
     "metadata": {},
     "output_type": "execute_result"
    }
   ],
   "source": [
    "len(sub_links)"
   ],
   "metadata": {
    "collapsed": false,
    "ExecuteTime": {
     "end_time": "2023-06-19T16:41:32.721007Z",
     "start_time": "2023-06-19T16:41:32.715151Z"
    }
   }
  },
  {
   "cell_type": "code",
   "execution_count": 7,
   "outputs": [
    {
     "name": "stdout",
     "output_type": "stream",
     "text": [
      "[]\n"
     ]
    }
   ],
   "source": [
    "# Add base path to all links\n",
    "def add_base_path(website_link, list_links):\n",
    "    list_links_with_base_path = []\n",
    "\n",
    "    for link in list_links:\n",
    "\n",
    "        if not link.startswith('/'):\n",
    "            link_with_base_path = website_link + link\n",
    "            list_links_with_base_path.append(link_with_base_path)\n",
    "\n",
    "\t\t# if link.startswith('https://') dont add base path\n",
    "        elif link.startswith('http://'):\n",
    "            list_links_with_base_path.append(link)\n",
    "\n",
    "        elif link.startswith('.'):\n",
    "            link_with_base_path = website_link + link.split('/')[-1]\n",
    "            list_links_with_base_path.append(link_with_base_path)\n",
    "\n",
    "    return list_links_with_base_path\n",
    "\n",
    "link_list = add_base_path('https://python.langchain.com/en/latest/', sub_links)\n",
    "link_list_print = print(link_list)"
   ],
   "metadata": {
    "collapsed": false,
    "ExecuteTime": {
     "end_time": "2023-06-19T16:41:33.900107Z",
     "start_time": "2023-06-19T16:41:33.885118Z"
    }
   }
  },
  {
   "cell_type": "code",
   "execution_count": 207,
   "outputs": [],
   "source": [
    "def save_content(link_list):\n",
    "    for i, link in enumerate(link_list):\n",
    "        html_data = get_data(link)\n",
    "        soup = BeautifulSoup(html_data, \"html.parser\")\n",
    "        text = soup.get_text()\n",
    "\n",
    "        # Remove the first 835 lines\n",
    "        lines = text.splitlines()\n",
    "        cleaned_text = \"\\n\".join(lines[835:])\n",
    "\n",
    "        # Get the first 3 words in the cleaned text\n",
    "        words = cleaned_text.split()[:3]\n",
    "        file_name_prefix = \"_\".join(words)\n",
    "\n",
    "        # Replace special characters and spaces with an underscore\n",
    "        file_name_prefix = re.sub(r\"[^a-zA-Z0-9]+\", \"_\", file_name_prefix)\n",
    "\n",
    "        # Get the current working directory\n",
    "        current_dir = os.getcwd()\n",
    "\n",
    "        # Move up one level to the parent directory\n",
    "        parent_dir = os.path.dirname(current_dir)\n",
    "\n",
    "        # Set the path to the data folder\n",
    "        data_folder = os.path.join(parent_dir, \"data/langchain_doc\")\n",
    "\n",
    "        # Create the data folder if it doesn't exist\n",
    "        if not os.path.exists(data_folder):\n",
    "            os.makedirs(data_folder)\n",
    "\n",
    "        # Set the path to the output file\n",
    "        output_file = os.path.join(data_folder, f\"{i}_{file_name_prefix}.txt\")\n",
    "\n",
    "        # Save the cleaned content to the output file\n",
    "        with open(output_file, \"w\") as f:\n",
    "            f.write(cleaned_text)"
   ],
   "metadata": {
    "collapsed": false,
    "ExecuteTime": {
     "end_time": "2023-06-13T16:19:58.593491Z",
     "start_time": "2023-06-13T16:19:58.585704Z"
    }
   }
  },
  {
   "cell_type": "code",
   "execution_count": 208,
   "outputs": [],
   "source": [
    "# save the content of the first 10 links into txt files with the name content_1.txt, content_2.txt, etc.\n",
    "save_content(link_list)"
   ],
   "metadata": {
    "collapsed": false,
    "ExecuteTime": {
     "end_time": "2023-06-13T16:27:42.481314Z",
     "start_time": "2023-06-13T16:19:59.394583Z"
    }
   }
  },
  {
   "cell_type": "markdown",
   "source": [
    "# Q&A bot with langchain over a directory"
   ],
   "metadata": {
    "collapsed": false
   }
  },
  {
   "cell_type": "code",
   "execution_count": 8,
   "outputs": [],
   "source": [
    "from langchain.chains.question_answering import load_qa_chain\n",
    "from langchain.llms import OpenAI\n",
    "import os\n",
    "import getpass\n",
    "from langchain.document_loaders import PyPDFLoader, TextLoader\n",
    "from langchain.embeddings.openai import OpenAIEmbeddings\n",
    "from langchain.text_splitter import RecursiveCharacterTextSplitter, CharacterTextSplitter\n",
    "from langchain.vectorstores import DeepLake\n",
    "from langchain.chains import ConversationalRetrievalChain, RetrievalQA\n",
    "from langchain.chat_models import ChatOpenAI\n",
    "from langchain.llms import OpenAI\n",
    "from langchain.document_loaders import DirectoryLoader\n",
    "from langchain.document_loaders import TextLoader\n",
    "import os\n",
    "from langchain.llms import OpenAI\n",
    "from langchain.vectorstores import Chroma\n",
    "from langchain.embeddings import OpenAIEmbeddings\n",
    "from langchain.llms import OpenAI\n",
    "from langchain.chains import RetrievalQA\n",
    "from langchain.document_loaders import DirectoryLoader"
   ],
   "metadata": {
    "collapsed": false,
    "ExecuteTime": {
     "end_time": "2023-06-19T16:41:39.120259Z",
     "start_time": "2023-06-19T16:41:37.999101Z"
    }
   }
  },
  {
   "cell_type": "code",
   "execution_count": 10,
   "outputs": [],
   "source": [
    "#create a new openai api key\n",
    "os.environ[\"OPENAI_API_KEY\"] = \"sk-...\"\n",
    "# set up openai api key\n",
    "openai_api_key = os.environ.get('OPENAI_API_KEY')"
   ],
   "metadata": {
    "collapsed": false,
    "ExecuteTime": {
     "end_time": "2023-06-19T16:41:51.728890Z",
     "start_time": "2023-06-19T16:41:51.721987Z"
    }
   }
  },
  {
   "cell_type": "code",
   "execution_count": 11,
   "outputs": [
    {
     "data": {
      "text/plain": "679"
     },
     "execution_count": 11,
     "metadata": {},
     "output_type": "execute_result"
    }
   ],
   "source": [
    "# print number of txt files in directory\n",
    "loader = DirectoryLoader('/Users/erictak/PycharmProjects/langchain/data/langchain_doc', glob=\"./*.txt\")\n",
    "doc = loader.load ( )\n",
    "len(doc)"
   ],
   "metadata": {
    "collapsed": false,
    "ExecuteTime": {
     "end_time": "2023-06-19T16:42:12.868777Z",
     "start_time": "2023-06-19T16:41:56.716136Z"
    }
   }
  },
  {
   "cell_type": "code",
   "execution_count": 12,
   "outputs": [],
   "source": [
    "#splitting the text into chunks\n",
    "text_splitter = RecursiveCharacterTextSplitter (chunk_size=1000, chunk_overlap=200)\n",
    "texts = text_splitter.split_documents(doc)"
   ],
   "metadata": {
    "collapsed": false,
    "ExecuteTime": {
     "end_time": "2023-06-19T16:42:15.006310Z",
     "start_time": "2023-06-19T16:42:14.844815Z"
    }
   }
  },
  {
   "cell_type": "code",
   "execution_count": 13,
   "outputs": [
    {
     "data": {
      "text/plain": "5576"
     },
     "execution_count": 13,
     "metadata": {},
     "output_type": "execute_result"
    }
   ],
   "source": [
    "# count the number of chunks\n",
    "len(texts)"
   ],
   "metadata": {
    "collapsed": false,
    "ExecuteTime": {
     "end_time": "2023-06-19T16:42:15.204405Z",
     "start_time": "2023-06-19T16:42:15.197499Z"
    }
   }
  },
  {
   "cell_type": "code",
   "execution_count": 14,
   "outputs": [
    {
     "data": {
      "text/plain": "Document(page_content='Twitter\\n\\nContents\\n\\nInstallation and Setup\\n\\nDocument Loader\\n\\nTwitter#\\n\\nTwitter is an online social media and social networking service.\\n\\nInstallation and Setup#\\n\\npip install tweepy\\n\\nWe must initialize the loader with the Twitter API token, and we need to set up the Twitter username.\\n\\nDocument Loader#\\n\\nSee a usage example.\\n\\nfrom langchain.document_loaders import TwitterTweetLoader\\n\\nprevious\\n\\nTrello\\n\\nnext\\n\\nUnstructured\\n\\nContents\\n\\nInstallation and Setup\\n\\nDocument Loader\\n\\nBy Harrison Chase\\n\\n© Copyright 2023, Harrison Chase.\\n\\nLast updated on Jun 13, 2023.', metadata={'source': '/Users/erictak/PycharmProjects/langchain/data/langchain_doc/592_Twitter_Contents_Installation.txt'})"
     },
     "execution_count": 14,
     "metadata": {},
     "output_type": "execute_result"
    }
   ],
   "source": [
    "# print the first chunk\n",
    "texts[0]"
   ],
   "metadata": {
    "collapsed": false,
    "ExecuteTime": {
     "end_time": "2023-06-19T16:42:16.482727Z",
     "start_time": "2023-06-19T16:42:16.460830Z"
    }
   }
  },
  {
   "cell_type": "markdown",
   "source": [
    "# Data base creation with ChromaDB\n",
    "\n",
    "https://www.youtube.com/watch?v=3yPBVii7Ct0"
   ],
   "metadata": {
    "collapsed": false
   }
  },
  {
   "cell_type": "code",
   "execution_count": 15,
   "outputs": [
    {
     "name": "stderr",
     "output_type": "stream",
     "text": [
      "Using embedded DuckDB with persistence: data will be stored in: db\n"
     ]
    }
   ],
   "source": [
    "# Embed and store the texts\n",
    "# Supplying a persist_directory will store the embeddings on disk\n",
    "persist_directory = 'db'\n",
    "\n",
    "## here we are using OpenAI embeddings but in future we will swap out to local embeddings\n",
    "embedding = OpenAIEmbeddings()\n",
    "\n",
    "vectordb = Chroma.from_documents(documents=texts,\n",
    "                                 embedding=embedding,\n",
    "                                 persist_directory=persist_directory)"
   ],
   "metadata": {
    "collapsed": false,
    "ExecuteTime": {
     "end_time": "2023-06-19T16:43:22.594752Z",
     "start_time": "2023-06-19T16:42:18.312526Z"
    }
   }
  },
  {
   "cell_type": "code",
   "execution_count": 16,
   "outputs": [
    {
     "data": {
      "text/plain": "FloatProgress(value=0.0, layout=Layout(width='100%'), style=ProgressStyle(bar_color='black'))",
      "application/vnd.jupyter.widget-view+json": {
       "version_major": 2,
       "version_minor": 0,
       "model_id": "125530d1ac8c4ce3b0eac61cf501ec54"
      }
     },
     "metadata": {},
     "output_type": "display_data"
    }
   ],
   "source": [
    "# persiste the db to disk\n",
    "vectordb.persist()\n",
    "vectordb = None"
   ],
   "metadata": {
    "collapsed": false,
    "ExecuteTime": {
     "end_time": "2023-06-19T16:43:27.867043Z",
     "start_time": "2023-06-19T16:43:22.595566Z"
    }
   }
  },
  {
   "cell_type": "code",
   "execution_count": 17,
   "outputs": [
    {
     "name": "stderr",
     "output_type": "stream",
     "text": [
      "Using embedded DuckDB with persistence: data will be stored in: db\n"
     ]
    }
   ],
   "source": [
    "# Now we can load the persisted database from disk, and use it as normal.\n",
    "vectordb = Chroma(persist_directory=persist_directory,\n",
    "                  embedding_function=embedding)"
   ],
   "metadata": {
    "collapsed": false,
    "ExecuteTime": {
     "end_time": "2023-06-19T16:43:31.243716Z",
     "start_time": "2023-06-19T16:43:29.911945Z"
    }
   }
  },
  {
   "cell_type": "markdown",
   "source": [
    "# create retriever"
   ],
   "metadata": {
    "collapsed": false
   }
  },
  {
   "cell_type": "code",
   "execution_count": 41,
   "outputs": [],
   "source": [
    "retriever = vectordb.as_retriever()"
   ],
   "metadata": {
    "collapsed": false,
    "ExecuteTime": {
     "end_time": "2023-06-19T16:26:30.027619Z",
     "start_time": "2023-06-19T16:26:30.025333Z"
    }
   }
  },
  {
   "cell_type": "code",
   "execution_count": 42,
   "outputs": [],
   "source": [
    "docs = retriever.get_relevant_documents(\"What to do when getting started?\")"
   ],
   "metadata": {
    "collapsed": false,
    "ExecuteTime": {
     "end_time": "2023-06-19T16:26:30.878277Z",
     "start_time": "2023-06-19T16:26:30.666287Z"
    }
   }
  },
  {
   "cell_type": "code",
   "execution_count": 43,
   "outputs": [
    {
     "data": {
      "text/plain": "[Document(page_content='Step 1: Create Tools# Agents are largely defined by the tools they can use. If you have a specific task you want the agent to accomplish, you have to give it access to the right tools. We have many tools natively in LangChain, so you should first look to see if any of them meet your needs. But we also make it easy to define a custom tool, so if you need custom tools you should absolutely do that.\\n\\n(Optional) Step 2: Modify Agent# The built-in LangChain agent types are designed to work well in generic situations, but you may be able to improve performance by modifying the agent implementation. There are several ways you could do this:\\n\\nModify the base prompt. This can be used to give the agent more context on how it should behave, etc. Modify the output parser. This is necessary if the agent is having trouble parsing the language model output.', metadata={'source': '/Users/erictak/PycharmProjects/langchain/data/langchain_doc/644_Agents_Contents_Create.txt'}),\n Document(page_content='Step 1: Create Tools# Agents are largely defined by the tools they can use. If you have a specific task you want the agent to accomplish, you have to give it access to the right tools. We have many tools natively in LangChain, so you should first look to see if any of them meet your needs. But we also make it easy to define a custom tool, so if you need custom tools you should absolutely do that.\\n\\n(Optional) Step 2: Modify Agent# The built-in LangChain agent types are designed to work well in generic situations, but you may be able to improve performance by modifying the agent implementation. There are several ways you could do this:\\n\\nModify the base prompt. This can be used to give the agent more context on how it should behave, etc. Modify the output parser. This is necessary if the agent is having trouble parsing the language model output.', metadata={'source': '/Users/erictak/PycharmProjects/langchain/data/langchain_doc/644_Agents_Contents_Create.txt'}),\n Document(page_content='Step 1: Create Tools# Agents are largely defined by the tools they can use. If you have a specific task you want the agent to accomplish, you have to give it access to the right tools. We have many tools natively in LangChain, so you should first look to see if any of them meet your needs. But we also make it easy to define a custom tool, so if you need custom tools you should absolutely do that.\\n\\n(Optional) Step 2: Modify Agent# The built-in LangChain agent types are designed to work well in generic situations, but you may be able to improve performance by modifying the agent implementation. There are several ways you could do this:\\n\\nModify the base prompt. This can be used to give the agent more context on how it should behave, etc. Modify the output parser. This is necessary if the agent is having trouble parsing the language model output.', metadata={'source': '/Users/erictak/PycharmProjects/langchain/data/langchain_doc/644_Agents_Contents_Create.txt'}),\n Document(page_content='Step 1: Create Tools# Agents are largely defined by the tools they can use. If you have a specific task you want the agent to accomplish, you have to give it access to the right tools. We have many tools natively in LangChain, so you should first look to see if any of them meet your needs. But we also make it easy to define a custom tool, so if you need custom tools you should absolutely do that.\\n\\n(Optional) Step 2: Modify Agent# The built-in LangChain agent types are designed to work well in generic situations, but you may be able to improve performance by modifying the agent implementation. There are several ways you could do this:\\n\\nModify the base prompt. This can be used to give the agent more context on how it should behave, etc. Modify the output parser. This is necessary if the agent is having trouble parsing the language model output.', metadata={'source': '/Users/erictak/PycharmProjects/langchain/data/langchain_doc/426_Agents_Contents_Create.txt'})]"
     },
     "execution_count": 43,
     "metadata": {},
     "output_type": "execute_result"
    }
   ],
   "source": [
    "docs"
   ],
   "metadata": {
    "collapsed": false,
    "ExecuteTime": {
     "end_time": "2023-06-19T16:26:31.158685Z",
     "start_time": "2023-06-19T16:26:31.152005Z"
    }
   }
  },
  {
   "cell_type": "code",
   "execution_count": 44,
   "outputs": [
    {
     "data": {
      "text/plain": "4"
     },
     "execution_count": 44,
     "metadata": {},
     "output_type": "execute_result"
    }
   ],
   "source": [
    "len(docs)"
   ],
   "metadata": {
    "collapsed": false,
    "ExecuteTime": {
     "end_time": "2023-06-19T16:26:31.757606Z",
     "start_time": "2023-06-19T16:26:31.753080Z"
    }
   }
  },
  {
   "cell_type": "code",
   "execution_count": 45,
   "outputs": [],
   "source": [
    "retriever = vectordb.as_retriever(search_kwargs={\"k\": 2})"
   ],
   "metadata": {
    "collapsed": false,
    "ExecuteTime": {
     "end_time": "2023-06-19T16:26:32.357106Z",
     "start_time": "2023-06-19T16:26:32.352369Z"
    }
   }
  },
  {
   "cell_type": "code",
   "execution_count": 46,
   "outputs": [
    {
     "data": {
      "text/plain": "'similarity'"
     },
     "execution_count": 46,
     "metadata": {},
     "output_type": "execute_result"
    }
   ],
   "source": [
    "retriever.search_type"
   ],
   "metadata": {
    "collapsed": false,
    "ExecuteTime": {
     "end_time": "2023-06-19T16:26:32.812894Z",
     "start_time": "2023-06-19T16:26:32.810205Z"
    }
   }
  },
  {
   "cell_type": "code",
   "execution_count": 47,
   "outputs": [
    {
     "data": {
      "text/plain": "{'k': 2}"
     },
     "execution_count": 47,
     "metadata": {},
     "output_type": "execute_result"
    }
   ],
   "source": [
    "retriever.search_kwargs"
   ],
   "metadata": {
    "collapsed": false,
    "ExecuteTime": {
     "end_time": "2023-06-19T16:26:34.043554Z",
     "start_time": "2023-06-19T16:26:34.016639Z"
    }
   }
  },
  {
   "cell_type": "markdown",
   "source": [
    "# create a question answering chain"
   ],
   "metadata": {
    "collapsed": false
   }
  },
  {
   "cell_type": "code",
   "execution_count": 49,
   "outputs": [],
   "source": [
    "# create the chain to answer questions\n",
    "qa_chain = RetrievalQA.from_chain_type(llm=OpenAI(),\n",
    "                                  chain_type=\"stuff\",\n",
    "                                  retriever=retriever,\n",
    "                                  return_source_documents=True,\n",
    "                                  verbose=True)"
   ],
   "metadata": {
    "collapsed": false,
    "ExecuteTime": {
     "end_time": "2023-06-19T16:27:30.194519Z",
     "start_time": "2023-06-19T16:27:30.192880Z"
    }
   }
  },
  {
   "cell_type": "code",
   "execution_count": 50,
   "outputs": [],
   "source": [
    "## Cite sources\n",
    "def process_llm_response(llm_response):\n",
    "    print(llm_response['result'])\n",
    "    print('\\n\\nSources:')\n",
    "    for source in llm_response[\"source_documents\"]:\n",
    "        print(source.metadata['source'])"
   ],
   "metadata": {
    "collapsed": false,
    "ExecuteTime": {
     "end_time": "2023-06-19T16:27:30.714970Z",
     "start_time": "2023-06-19T16:27:30.710251Z"
    }
   }
  },
  {
   "cell_type": "code",
   "execution_count": 51,
   "outputs": [
    {
     "name": "stdout",
     "output_type": "stream",
     "text": [
      "\n",
      "\n",
      "\u001B[1m> Entering new RetrievalQA chain...\u001B[0m\n",
      "\n",
      "\u001B[1m> Finished chain.\u001B[0m\n",
      " Step 1: Create Tools (Optional), Step 2: Modify Agent (Optional), Step 3: Modify Agent Executor.\n",
      "\n",
      "\n",
      "Sources:\n",
      "/Users/erictak/PycharmProjects/langchain/data/langchain_doc/426_Agents_Contents_Create.txt\n",
      "/Users/erictak/PycharmProjects/langchain/data/langchain_doc/644_Agents_Contents_Create.txt\n"
     ]
    }
   ],
   "source": [
    "# full example\n",
    "query = \"What are the steps of the Quickstart Guide?\"\n",
    "llm_response = qa_chain(query)\n",
    "process_llm_response(llm_response)"
   ],
   "metadata": {
    "collapsed": false,
    "ExecuteTime": {
     "end_time": "2023-06-19T16:27:34.967867Z",
     "start_time": "2023-06-19T16:27:31.647843Z"
    }
   }
  },
  {
   "cell_type": "code",
   "execution_count": 53,
   "outputs": [
    {
     "name": "stdout",
     "output_type": "stream",
     "text": [
      "\n",
      "\n",
      "\u001B[1m> Entering new RetrievalQA chain...\u001B[0m\n",
      "\n",
      "\u001B[1m> Finished chain.\u001B[0m\n",
      " Custom Agent, Custom LLM Agent, Custom LLM Agent (with a ChatModel), Custom MRKL Agent, Custom MultiAction Agent, Custom Agent with Tool Retrieval, Conversation Agent (for Chat Models), Conversation Agent MRKL, MRKL Chat, ReAct, Self Ask With Search, Structured Tool Chat Agent.\n",
      "\n",
      "\n",
      "Sources:\n",
      "/Users/erictak/PycharmProjects/langchain/data/langchain_doc/382_Agents_Agents_Note.txt\n",
      "/Users/erictak/PycharmProjects/langchain/data/langchain_doc/382_Agents_Agents_Note.txt\n"
     ]
    }
   ],
   "source": [
    "# break it down\n",
    "query = \"What are all agent types?\"\n",
    "llm_response = qa_chain(query)\n",
    "process_llm_response(llm_response)\n",
    "#llm_response"
   ],
   "metadata": {
    "collapsed": false,
    "ExecuteTime": {
     "end_time": "2023-06-19T16:28:07.848794Z",
     "start_time": "2023-06-19T16:28:02.784404Z"
    }
   }
  },
  {
   "cell_type": "code",
   "execution_count": 54,
   "outputs": [
    {
     "data": {
      "text/plain": "('similarity', <langchain.vectorstores.chroma.Chroma at 0x7f8dba0c1ff0>)"
     },
     "execution_count": 54,
     "metadata": {},
     "output_type": "execute_result"
    }
   ],
   "source": [
    "qa_chain.retriever.search_type , qa_chain.retriever.vectorstore"
   ],
   "metadata": {
    "collapsed": false,
    "ExecuteTime": {
     "end_time": "2023-06-19T16:28:14.817109Z",
     "start_time": "2023-06-19T16:28:14.812659Z"
    }
   }
  },
  {
   "cell_type": "code",
   "execution_count": 55,
   "outputs": [
    {
     "name": "stdout",
     "output_type": "stream",
     "text": [
      "Use the following pieces of context to answer the question at the end. If you don't know the answer, just say that you don't know, don't try to make up an answer.\n",
      "\n",
      "{context}\n",
      "\n",
      "Question: {question}\n",
      "Helpful Answer:\n"
     ]
    }
   ],
   "source": [
    "print(qa_chain.combine_documents_chain.llm_chain.prompt.template)"
   ],
   "metadata": {
    "collapsed": false,
    "ExecuteTime": {
     "end_time": "2023-06-19T16:28:15.148649Z",
     "start_time": "2023-06-19T16:28:15.140236Z"
    }
   }
  },
  {
   "cell_type": "markdown",
   "source": [
    "# Deleteing the DB"
   ],
   "metadata": {
    "collapsed": false
   }
  },
  {
   "cell_type": "code",
   "execution_count": 250,
   "outputs": [
    {
     "name": "stdout",
     "output_type": "stream",
     "text": [
      "updating: db/ (stored 0%)\r\n",
      "updating: db/chroma-embeddings.parquet (deflated 29%)\r\n",
      "updating: db/index/ (stored 0%)\r\n",
      "updating: db/index/index_metadata_b9a5e02f-ebd0-4b13-8858-b30b211c4546.pkl (deflated 5%)\r\n",
      "updating: db/index/id_to_uuid_b9a5e02f-ebd0-4b13-8858-b30b211c4546.pkl (deflated 37%)\r\n",
      "updating: db/index/uuid_to_id_d80886e4-65e1-4231-8c73-99ff58d68061.pkl (deflated 39%)\r\n",
      "updating: db/index/index_b9a5e02f-ebd0-4b13-8858-b30b211c4546.bin (deflated 17%)\r\n",
      "updating: db/index/index_d80886e4-65e1-4231-8c73-99ff58d68061.bin (deflated 17%)\r\n",
      "updating: db/index/uuid_to_id_b9a5e02f-ebd0-4b13-8858-b30b211c4546.pkl (deflated 41%)\r\n",
      "updating: db/index/id_to_uuid_d80886e4-65e1-4231-8c73-99ff58d68061.pkl (deflated 32%)\r\n",
      "updating: db/index/index_metadata_d80886e4-65e1-4231-8c73-99ff58d68061.pkl (deflated 5%)\r\n",
      "updating: db/chroma-collections.parquet (deflated 50%)\r\n",
      "updating: db/.DS_Store (deflated 96%)\r\n"
     ]
    }
   ],
   "source": [
    "!zip -r db.zip ./db"
   ],
   "metadata": {
    "collapsed": false,
    "ExecuteTime": {
     "end_time": "2023-06-13T17:27:10.552238Z",
     "start_time": "2023-06-13T17:27:05.048974Z"
    }
   }
  },
  {
   "cell_type": "code",
   "execution_count": 251,
   "outputs": [],
   "source": [
    "# To cleanup, you can delete the collection\n",
    "vectordb.delete_collection()\n",
    "vectordb.persist()\n",
    "\n",
    "# delete the directory\n",
    "!rm -rf db/"
   ],
   "metadata": {
    "collapsed": false,
    "ExecuteTime": {
     "end_time": "2023-06-13T17:27:10.802965Z",
     "start_time": "2023-06-13T17:27:10.552089Z"
    }
   }
  },
  {
   "cell_type": "markdown",
   "source": [
    "# Starting again loading the db"
   ],
   "metadata": {
    "collapsed": false
   }
  },
  {
   "cell_type": "code",
   "execution_count": 57,
   "outputs": [
    {
     "name": "stdout",
     "output_type": "stream",
     "text": [
      "Archive:  db.zip\r\n",
      "replace db/chroma-embeddings.parquet? [y]es, [n]o, [A]ll, [N]one, [r]ename: ^C\r\n"
     ]
    }
   ],
   "source": [
    "!unzip db.zip"
   ],
   "metadata": {
    "collapsed": false,
    "ExecuteTime": {
     "end_time": "2023-06-19T16:30:09.309839Z",
     "start_time": "2023-06-19T16:29:00.698188Z"
    }
   }
  },
  {
   "cell_type": "code",
   "execution_count": null,
   "outputs": [],
   "source": [
    "os.environ[\"OPENAI_API_KEY\"] = \"sk-...\""
   ],
   "metadata": {
    "collapsed": false
   }
  },
  {
   "cell_type": "code",
   "execution_count": 59,
   "outputs": [
    {
     "name": "stderr",
     "output_type": "stream",
     "text": [
      "Using embedded DuckDB with persistence: data will be stored in: db\n"
     ]
    }
   ],
   "source": [
    "persist_directory = 'db'\n",
    "embedding = OpenAIEmbeddings()\n",
    "\n",
    "vectordb2 = Chroma(persist_directory=persist_directory,\n",
    "                  embedding_function=embedding,\n",
    "                   )\n",
    "\n",
    "retriever = vectordb2.as_retriever(search_kwargs={\"k\": 2})"
   ],
   "metadata": {
    "collapsed": false,
    "ExecuteTime": {
     "end_time": "2023-06-19T16:30:13.801920Z",
     "start_time": "2023-06-19T16:30:12.530863Z"
    }
   }
  },
  {
   "cell_type": "markdown",
   "source": [
    "#### Usung turbo GPT API"
   ],
   "metadata": {
    "collapsed": false
   }
  },
  {
   "cell_type": "code",
   "execution_count": 60,
   "outputs": [],
   "source": [
    "# Set up the turbo LLM\n",
    "turbo_llm = ChatOpenAI(\n",
    "    temperature=0,\n",
    "    model_name='gpt-3.5-turbo'\n",
    ")"
   ],
   "metadata": {
    "collapsed": false,
    "ExecuteTime": {
     "end_time": "2023-06-19T16:30:15.131031Z",
     "start_time": "2023-06-19T16:30:15.126008Z"
    }
   }
  },
  {
   "cell_type": "code",
   "execution_count": 61,
   "outputs": [],
   "source": [
    "# create the chain to answer questions\n",
    "qa_chain = RetrievalQA.from_chain_type(llm=turbo_llm,\n",
    "                                  chain_type=\"stuff\",\n",
    "                                  retriever=retriever,\n",
    "                                  return_source_documents=True,\n",
    "                                  verbose=True)"
   ],
   "metadata": {
    "collapsed": false,
    "ExecuteTime": {
     "end_time": "2023-06-19T16:30:15.535025Z",
     "start_time": "2023-06-19T16:30:15.531668Z"
    }
   }
  },
  {
   "cell_type": "code",
   "execution_count": 62,
   "outputs": [],
   "source": [
    "## Cite sources\n",
    "def process_llm_response(llm_response):\n",
    "    print(llm_response['result'])\n",
    "    print('\\n\\nSources:')\n",
    "    for source in llm_response[\"source_documents\"]:\n",
    "        print(source.metadata['source'])"
   ],
   "metadata": {
    "collapsed": false,
    "ExecuteTime": {
     "end_time": "2023-06-19T16:30:16.283860Z",
     "start_time": "2023-06-19T16:30:16.275813Z"
    }
   }
  },
  {
   "cell_type": "code",
   "execution_count": 63,
   "outputs": [
    {
     "name": "stdout",
     "output_type": "stream",
     "text": [
      "\n",
      "\n",
      "\u001B[1m> Entering new RetrievalQA chain...\u001B[0m\n",
      "\n",
      "\u001B[1m> Finished chain.\u001B[0m\n",
      "There are two main types of agents mentioned in the context: Action Agents and Plan-and-Execute Agents. Action Agents decide the actions to take and execute those actions one at a time, while Plan-and-Execute Agents first decide a plan of actions to take, and then execute those actions one at a time.\n",
      "\n",
      "\n",
      "Sources:\n",
      "/Users/erictak/PycharmProjects/langchain/data/langchain_doc/639_Agents_Contents_Action.txt\n",
      "/Users/erictak/PycharmProjects/langchain/data/langchain_doc/344_Agents_Contents_Action.txt\n"
     ]
    }
   ],
   "source": [
    "# full example\n",
    "query = \"What are the agent types?\"\n",
    "llm_response = qa_chain(query)\n",
    "process_llm_response(llm_response)"
   ],
   "metadata": {
    "collapsed": false,
    "ExecuteTime": {
     "end_time": "2023-06-19T16:30:22.264885Z",
     "start_time": "2023-06-19T16:30:16.942379Z"
    }
   }
  },
  {
   "cell_type": "code",
   "execution_count": 64,
   "outputs": [
    {
     "name": "stdout",
     "output_type": "stream",
     "text": [
      "Use the following pieces of context to answer the users question. \n",
      "If you don't know the answer, just say that you don't know, don't try to make up an answer.\n",
      "----------------\n",
      "{context}\n"
     ]
    }
   ],
   "source": [
    "print(qa_chain.combine_documents_chain.llm_chain.prompt.messages[0].prompt.template)"
   ],
   "metadata": {
    "collapsed": false,
    "ExecuteTime": {
     "end_time": "2023-06-19T16:30:23.332015Z",
     "start_time": "2023-06-19T16:30:23.325565Z"
    }
   }
  },
  {
   "cell_type": "code",
   "execution_count": 65,
   "outputs": [
    {
     "name": "stdout",
     "output_type": "stream",
     "text": [
      "{question}\n"
     ]
    }
   ],
   "source": [
    "print(qa_chain.combine_documents_chain.llm_chain.prompt.messages[1].prompt.template)"
   ],
   "metadata": {
    "collapsed": false,
    "ExecuteTime": {
     "end_time": "2023-06-19T16:30:24.189842Z",
     "start_time": "2023-06-19T16:30:24.183626Z"
    }
   }
  },
  {
   "cell_type": "code",
   "execution_count": 65,
   "outputs": [],
   "source": [],
   "metadata": {
    "collapsed": false,
    "ExecuteTime": {
     "end_time": "2023-06-19T16:30:24.724602Z",
     "start_time": "2023-06-19T16:30:24.717401Z"
    }
   }
  },
  {
   "cell_type": "markdown",
   "source": [
    "# Visualizing the Vector db\n",
    "https://github.com/mtybadger/chromaviz?ref=reactjsexample.com\n",
    "\n",
    "https://github.com/avantrio/chroma-viewer\n"
   ],
   "metadata": {
    "collapsed": false
   }
  },
  {
   "cell_type": "code",
   "execution_count": 18,
   "outputs": [
    {
     "name": "stderr",
     "output_type": "stream",
     "text": [
      "Using embedded DuckDB without persistence: data will be transient\n",
      "WARNING: This is a development server. Do not use it in a production deployment. Use a production WSGI server instead.\n",
      " * Running on http://127.0.0.1:5000\n",
      "Press CTRL+C to quit\n",
      "127.0.0.1 - - [19/Jun/2023 18:43:54] \"GET / HTTP/1.1\" 200 -\n",
      "127.0.0.1 - - [19/Jun/2023 18:43:54] \"GET /assets/index-8146af32.js HTTP/1.1\" 200 -\n",
      "127.0.0.1 - - [19/Jun/2023 18:43:54] \"GET /assets/index-26d05a53.css HTTP/1.1\" 200 -\n",
      "127.0.0.1 - - [19/Jun/2023 18:43:54] \"GET /assets/glasses-5d966a6f.svg HTTP/1.1\" 200 -\n",
      "127.0.0.1 - - [19/Jun/2023 18:43:55] \"GET /assets/glasses-5d966a6f.svg HTTP/1.1\" 200 -\n"
     ]
    },
    {
     "name": "stdout",
     "output_type": "stream",
     "text": [
      "           0         1         2         3         4         5         6     \\\n",
      "0      0.007118  0.021829  0.017987 -0.029570 -0.021800  0.013447 -0.010238   \n",
      "1      0.011453  0.032211 -0.007604 -0.039562 -0.010802  0.021170 -0.045379   \n",
      "2     -0.013182  0.035104  0.014451 -0.023866 -0.014564  0.024778 -0.004816   \n",
      "3      0.000610  0.015848  0.004164 -0.016822 -0.004514  0.005991  0.012949   \n",
      "4     -0.021725  0.014808  0.008128 -0.034246 -0.019668  0.020385 -0.014632   \n",
      "...         ...       ...       ...       ...       ...       ...       ...   \n",
      "36761  0.005724  0.015840  0.012498 -0.033025 -0.012662  0.011221 -0.009066   \n",
      "36762 -0.021673  0.014796  0.008102 -0.034167 -0.019629  0.020360 -0.014620   \n",
      "36763 -0.007286  0.006825  0.010365 -0.008643 -0.027148  0.026459 -0.041569   \n",
      "36764  0.002776  0.005819  0.016296 -0.014760 -0.023690  0.030904 -0.038353   \n",
      "36765  0.016768  0.021518 -0.001173 -0.043916 -0.012074  0.010573 -0.000993   \n",
      "\n",
      "           7         8         9     ...      1526      1527      1528  \\\n",
      "0     -0.014472 -0.021387 -0.030765  ... -0.013340 -0.007243  0.009783   \n",
      "1     -0.001273 -0.028376 -0.018565  ...  0.014289  0.024180  0.049315   \n",
      "2     -0.007401 -0.016416 -0.030923  ...  0.027710  0.008846 -0.012747   \n",
      "3      0.003295 -0.014436 -0.043981  ...  0.008829  0.011914 -0.014107   \n",
      "4     -0.004829 -0.014741 -0.075910  ...  0.020412  0.025976 -0.007181   \n",
      "...         ...       ...       ...  ...       ...       ...       ...   \n",
      "36761  0.032037 -0.023705 -0.034178  ...  0.016224  0.002495  0.020823   \n",
      "36762 -0.004880 -0.014715 -0.075915  ...  0.020495  0.025883 -0.007148   \n",
      "36763  0.011357 -0.028291 -0.025688  ...  0.010978  0.013147  0.041018   \n",
      "36764  0.018775 -0.020229 -0.025698  ...  0.015646  0.004929  0.038934   \n",
      "36765  0.007861 -0.006061 -0.020430  ...  0.009609  0.011881  0.009802   \n",
      "\n",
      "           1529      1530      1531      1532      1533      1534      1535  \n",
      "0      0.014884 -0.038193  0.032529  0.006652  0.023536 -0.008830 -0.043743  \n",
      "1     -0.007362 -0.019868 -0.013067  0.002328 -0.015064  0.013993 -0.035799  \n",
      "2     -0.033112 -0.016051 -0.027037  0.020877 -0.006338  0.007541 -0.021902  \n",
      "3     -0.001110 -0.048395 -0.014546  0.011907 -0.008171 -0.013792 -0.037894  \n",
      "4     -0.009827 -0.010876 -0.016338  0.017150 -0.008081 -0.024663 -0.007133  \n",
      "...         ...       ...       ...       ...       ...       ...       ...  \n",
      "36761  0.003502 -0.026272 -0.006053  0.023554 -0.009464 -0.031790 -0.017487  \n",
      "36762 -0.009835 -0.010904 -0.016298  0.017219 -0.008061 -0.024651 -0.007100  \n",
      "36763  0.003120  0.007231 -0.010702 -0.010082 -0.029200 -0.015069 -0.032975  \n",
      "36764 -0.005687 -0.011409 -0.028688  0.003877 -0.023939 -0.009810 -0.040042  \n",
      "36765 -0.013856 -0.043614 -0.007290  0.016575 -0.002846 -0.013774 -0.021944  \n",
      "\n",
      "[36766 rows x 1536 columns]\n",
      "Size of the dataframe: (36766, 1536)\n",
      "Cumulative explained variation for 50 principal components: 0.5685819042196152\n",
      "t-SNE done! Time elapsed: 57.14820885658264 seconds\n"
     ]
    },
    {
     "name": "stderr",
     "output_type": "stream",
     "text": [
      "127.0.0.1 - - [19/Jun/2023 18:45:25] \"GET /data HTTP/1.1\" 200 -\n"
     ]
    }
   ],
   "source": [
    "from langchain.vectorstores import Chroma\n",
    "\n",
    "from chromaviz import visualize_collection\n",
    "visualize_collection(vectordb._collection)"
   ],
   "metadata": {
    "collapsed": false,
    "ExecuteTime": {
     "end_time": "2023-06-19T19:26:25.019413Z",
     "start_time": "2023-06-19T16:43:41.535876Z"
    }
   }
  },
  {
   "cell_type": "code",
   "execution_count": null,
   "outputs": [],
   "source": [],
   "metadata": {
    "collapsed": false
   }
  }
 ],
 "metadata": {
  "kernelspec": {
   "display_name": "Python 3",
   "language": "python",
   "name": "python3"
  },
  "language_info": {
   "codemirror_mode": {
    "name": "ipython",
    "version": 2
   },
   "file_extension": ".py",
   "mimetype": "text/x-python",
   "name": "python",
   "nbconvert_exporter": "python",
   "pygments_lexer": "ipython2",
   "version": "2.7.6"
  }
 },
 "nbformat": 4,
 "nbformat_minor": 0
}
