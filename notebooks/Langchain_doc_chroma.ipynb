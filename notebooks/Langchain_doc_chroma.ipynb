{
 "cells": [
  {
   "cell_type": "markdown",
   "source": [
    "# In this notebook i try to scrap the whole documentation of langchain and save it into txt files to later on use it for the chatbot\n",
    "\n",
    "## the text files are stored in a chroma db vecor data base"
   ],
   "metadata": {
    "collapsed": false
   }
  },
  {
   "cell_type": "code",
   "execution_count": 206,
   "metadata": {
    "collapsed": true,
    "ExecuteTime": {
     "end_time": "2023-06-13T16:19:53.929187Z",
     "start_time": "2023-06-13T16:19:53.923838Z"
    }
   },
   "outputs": [],
   "source": [
    "# import libraries\n",
    "from bs4 import BeautifulSoup\n",
    "import requests\n",
    "import re"
   ]
  },
  {
   "cell_type": "code",
   "execution_count": 198,
   "outputs": [
    {
     "data": {
      "text/plain": "'\\n\\n<!DOCTYPE html>\\n\\n\\n<html lang=\"en\" >\\n\\n  <head>\\n    <meta charset=\"utf-8\" />\\n    <meta name=\"viewport\" content=\"width=device-width, initial-scale=1.0\" /><meta name=\"generator\" content=\"Docutils 0.17.1: http://docutils.sourceforge.net/\" />\\n\\n    <title>Summarization &#8212; 🦜🔗 LangChain 0.0.198</title>\\n  \\n  \\n  \\n  <script data-cfasync=\"false\">\\n    document.documentElement.dataset.mode = localStorage.getItem(\"mode\") || \"\";\\n    document.documentElement.dataset.theme = localStorage.getItem(\"theme\") || \"light\";\\n  </script>\\n  \\n  <!-- Loaded before other Sphinx assets -->\\n  <link href=\"../_static/styles/theme.css?digest=12da95d707ffb74b382d\" rel=\"stylesheet\" />\\n<link href=\"../_static/styles/bootstrap.css?digest=12da95d707ffb74b382d\" rel=\"stylesheet\" />\\n<link href=\"../_static/styles/pydata-sphinx-theme.css?digest=12da95d707ffb74b382d\" rel=\"stylesheet\" />\\n\\n  \\n  <link href=\"../_static/vendor/fontawesome/6.1.2/css/all.min.css?digest=12da95d707ffb74b382d\" rel=\"stylesheet\" />\\n  <link rel=\"preload\" as=\"font\" type=\"font/woff2\" crossorigin href=\"../_static/vendor/fontawesome/6.1.2/webfonts/fa-solid-900.woff2\" />\\n<link rel=\"preload\" as=\"font\" type=\"font/woff2\" crossorigin href=\"../_static/vendor/fontawesome/6.1.2/webfonts/fa-brands-400.woff2\" />\\n<link rel=\"preload\" as=\"font\" type=\"font/woff2\" crossorigin href=\"../_static/vendor/fontawesome/6.1.2/webfonts/fa-regular-400.woff2\" />\\n\\n    <link rel=\"stylesheet\" type=\"text/css\" href=\"../_static/pygments.css\" />\\n    <link rel=\"stylesheet\" href=\"../_static/styles/sphinx-book-theme.css?digest=14f4ca6b54d191a8c7657f6c759bf11a5fb86285\" type=\"text/css\" />\\n    <link rel=\"stylesheet\" type=\"text/css\" href=\"../_static/autodoc_pydantic.css\" />\\n    <link rel=\"stylesheet\" type=\"text/css\" href=\"../_static/mystnb.4510f1fc1dee50b3e5859aac5469c37c29e427902b24a333a5f9fcb2f0b3ac41.css\" />\\n    <link rel=\"stylesheet\" type=\"text/css\" href=\"../_static/copybutton.css\" />\\n    <link rel=\"stylesheet\" type=\"text/css\" href=\"../_static/css/custom.css\" />\\n    <link rel=\"stylesheet\" type=\"text/css\" href=\"../_static/panels-bootstrap.5fd3999ee7762ccc51105388f4a9d115.css\" />\\n    <link rel=\"stylesheet\" type=\"text/css\" href=\"../_static/panels-main.c949a650a448cc0ae9fd3441c0e17fb0.css\" />\\n    <link rel=\"stylesheet\" type=\"text/css\" href=\"../_static/panels-variables.06eb56fa6e07937060861dad626602ad.css\" />\\n    <link rel=\"stylesheet\" type=\"text/css\" href=\"/_/static/css/badge_only.css\" />\\n  \\n  <!-- Pre-loaded scripts that we\\'ll load fully later -->\\n  <link rel=\"preload\" as=\"script\" href=\"../_static/scripts/bootstrap.js?digest=12da95d707ffb74b382d\" />\\n<link rel=\"preload\" as=\"script\" href=\"../_static/scripts/pydata-sphinx-theme.js?digest=12da95d707ffb74b382d\" />\\n\\n    <script data-url_root=\"../\" id=\"documentation_options\" src=\"../_static/documentation_options.js\"></script>\\n    <script src=\"../_static/jquery.js\"></script>\\n    <script src=\"../_static/underscore.js\"></script>\\n    <script src=\"../_static/doctools.js\"></script>\\n    <script src=\"../_static/clipboard.min.js\"></script>\\n    <script src=\"../_static/copybutton.js\"></script>\\n    <script src=\"../_static/scripts/sphinx-book-theme.js?digest=5a5c038af52cf7bc1a1ec88eea08e6366ee68824\"></script>\\n    <script src=\"../_static/js/mendablesearch.js\"></script>\\n    <script async=\"async\" src=\"/_/static/javascript/readthedocs-doc-embed.js\"></script>\\n    <script>DOCUMENTATION_OPTIONS.pagename = \\'use_cases/summarization\\';</script>\\n    <link rel=\"canonical\" href=\"https://python.langchain.com/en/latest/use_cases/summarization.html\" />\\n    <link rel=\"index\" title=\"Index\" href=\"../genindex.html\" />\\n    <link rel=\"search\" title=\"Search\" href=\"../search.html\" />\\n    <link rel=\"next\" title=\"Evaluation\" href=\"evaluation.html\" />\\n    <link rel=\"prev\" title=\"Extraction\" href=\"extraction.html\" />\\n  <meta name=\"viewport\" content=\"width=device-width, initial-scale=1\"/>\\n  <meta name=\"docsearch:language\" content=\"en\"/>\\n  \\n<!-- RTD Extra Head -->\\n\\n<link rel=\"stylesheet\" href=\"/_/static/css/readthedocs-doc-embed.css\" type=\"text/css\" />\\n\\n<script type=\"application/json\" id=\"READTHEDOCS_DATA\">{\"ad_free\": false, \"api_host\": \"https://readthedocs.org\", \"builder\": \"sphinx\", \"canonical_url\": null, \"docroot\": \"/docs/\", \"features\": {\"docsearch_disabled\": false}, \"global_analytics_code\": \"UA-17997319-1\", \"language\": \"en\", \"page\": \"use_cases/summarization\", \"programming_language\": \"words\", \"project\": \"langchain\", \"proxied_api_host\": \"/_\", \"source_suffix\": \".md\", \"subprojects\": {}, \"theme\": \"sphinx_book_theme\", \"user_analytics_code\": \"\", \"version\": \"latest\"}</script>\\n\\n<!--\\nUsing this variable directly instead of using `JSON.parse` is deprecated.\\nThe READTHEDOCS_DATA global variable will be removed in the future.\\n-->\\n<script type=\"text/javascript\">\\nREADTHEDOCS_DATA = JSON.parse(document.getElementById(\\'READTHEDOCS_DATA\\').innerHTML);\\n</script>\\n\\n<script type=\"text/javascript\" src=\"/_/static/javascript/readthedocs-analytics.js\" async=\"async\"></script>\\n\\n<!-- end RTD <extrahead> -->\\n</head>\\n  \\n  \\n  <body data-bs-spy=\"scroll\" data-bs-target=\".bd-toc-nav\" data-offset=\"180\" data-bs-root-margin=\"0px 0px -60%\" data-default-mode=\"\">\\n\\n  \\n  \\n  <a class=\"skip-link\" href=\"#main-content\">Skip to main content</a>\\n  \\n  <input type=\"checkbox\"\\n          class=\"sidebar-toggle\"\\n          name=\"__primary\"\\n          id=\"__primary\"/>\\n  <label class=\"overlay overlay-primary\" for=\"__primary\"></label>\\n  \\n  <input type=\"checkbox\"\\n          class=\"sidebar-toggle\"\\n          name=\"__secondary\"\\n          id=\"__secondary\"/>\\n  <label class=\"overlay overlay-secondary\" for=\"__secondary\"></label>\\n  \\n  <div class=\"search-button__wrapper\">\\n    <div class=\"search-button__overlay\"></div>\\n    <div class=\"search-button__search-container\">\\n<form class=\"bd-search d-flex align-items-center\"\\n      action=\"../search.html\"\\n      method=\"get\">\\n  <i class=\"fa-solid fa-magnifying-glass\"></i>\\n  <input type=\"search\"\\n         class=\"form-control\"\\n         name=\"q\"\\n         id=\"search-input\"\\n         placeholder=\"Search...\"\\n         aria-label=\"Search...\"\\n         autocomplete=\"off\"\\n         autocorrect=\"off\"\\n         autocapitalize=\"off\"\\n         spellcheck=\"false\"/>\\n  <span class=\"search-button__kbd-shortcut\"><kbd class=\"kbd-shortcut__modifier\">Ctrl</kbd>+<kbd>K</kbd></span>\\n</form></div>\\n  </div>\\n  \\n    <nav class=\"bd-header navbar navbar-expand-lg bd-navbar\">\\n    </nav>\\n  \\n  <div class=\"bd-container\">\\n    <div class=\"bd-container__inner bd-page-width\">\\n      \\n      <div class=\"bd-sidebar-primary bd-sidebar\">\\n        \\n\\n  \\n  <div class=\"sidebar-header-items sidebar-primary__section\">\\n    \\n    \\n    \\n    \\n  </div>\\n  \\n    <div class=\"sidebar-primary-items__start sidebar-primary__section\">\\n        <div class=\"sidebar-primary-item\">\\n  \\n\\n<a class=\"navbar-brand logo\" href=\"../index.html\">\\n  \\n  \\n  \\n  \\n  \\n    <p class=\"title logo__title\">🦜🔗 LangChain 0.0.198</p>\\n  \\n</a></div>\\n        <div class=\"sidebar-primary-item\"><nav class=\"bd-links\" id=\"bd-docs-nav\" aria-label=\"Main\">\\n    <div class=\"bd-toc-item navbar-nav active\">\\n        <p aria-level=\"2\" class=\"caption\" role=\"heading\"><span class=\"caption-text\">Getting Started</span></p>\\n<ul class=\"nav bd-sidenav\">\\n<li class=\"toctree-l1\"><a class=\"reference internal\" href=\"../getting_started/getting_started.html\">Quickstart Guide</a></li>\\n<li class=\"toctree-l1\"><a class=\"reference internal\" href=\"../getting_started/concepts.html\">Concepts</a></li>\\n<li class=\"toctree-l1\"><a class=\"reference internal\" href=\"../getting_started/tutorials.html\">Tutorials</a></li>\\n</ul>\\n<p aria-level=\"2\" class=\"caption\" role=\"heading\"><span class=\"caption-text\">Modules</span></p>\\n<ul class=\"nav bd-sidenav\">\\n<li class=\"toctree-l1 has-children\"><a class=\"reference internal\" href=\"../modules/models.html\">Models</a><input class=\"toctree-checkbox\" id=\"toctree-checkbox-1\" name=\"toctree-checkbox-1\" type=\"checkbox\"/><label class=\"toctree-toggle\" for=\"toctree-checkbox-1\"><i class=\"fa-solid fa-chevron-down\"></i></label><ul>\\n<li class=\"toctree-l2\"><a class=\"reference internal\" href=\"../modules/models/getting_started.html\">Getting Started</a></li>\\n<li class=\"toctree-l2 has-children\"><a class=\"reference internal\" href=\"../modules/models/llms.html\">LLMs</a><input class=\"toctree-checkbox\" id=\"toctree-checkbox-2\" name=\"toctree-checkbox-2\" type=\"checkbox\"/><label class=\"toctree-toggle\" for=\"toctree-checkbox-2\"><i class=\"fa-solid fa-chevron-down\"></i></label><ul>\\n<li class=\"toctree-l3\"><a class=\"reference internal\" href=\"../modules/models/llms/getting_started.html\">Getting Started</a></li>\\n<li class=\"toctree-l3 has-children\"><a class=\"reference internal\" href=\"../modules/models/llms/how_to_guides.html\">Generic Functionality</a><input class=\"toctree-checkbox\" id=\"toctree-checkbox-3\" name=\"toctree-checkbox-3\" type=\"checkbox\"/><label class=\"toctree-toggle\" for=\"toctree-checkbox-3\"><i class=\"fa-solid fa-chevron-down\"></i></label><ul>\\n<li class=\"toctree-l4\"><a class=\"reference internal\" href=\"../modules/models/llms/examples/async_llm.html\">How to use the async API for LLMs</a></li>\\n<li class=\"toctree-l4\"><a class=\"reference internal\" href=\"../modules/models/llms/examples/custom_llm.html\">How to write a custom LLM wrapper</a></li>\\n<li class=\"toctree-l4\"><a class=\"reference internal\" href=\"../modules/models/llms/examples/fake_llm.html\">How (and why) to use the fake LLM</a></li>\\n<li class=\"toctree-l4\"><a class=\"reference internal\" href=\"../modules/models/llms/examples/human_input_llm.html\">How (and why) to use the human input LLM</a></li>\\n<li class=\"toctree-l4\"><a class=\"reference internal\" href=\"../modules/models/llms/examples/llm_caching.html\">How to cache LLM calls</a></li>\\n<li class=\"toctree-l4\"><a class=\"reference internal\" href=\"../modules/models/llms/examples/llm_serialization.html\">How to serialize LLM classes</a></li>\\n<li class=\"toctree-l4\"><a class=\"reference internal\" href=\"../modules/models/llms/examples/streaming_llm.html\">How to stream LLM and Chat Model responses</a></li>\\n<li class=\"toctree-l4\"><a class=\"reference internal\" href=\"../modules/models/llms/examples/token_usage_tracking.html\">How to track token usage</a></li>\\n</ul>\\n</li>\\n<li class=\"toctree-l3 has-children\"><a class=\"reference internal\" href=\"../modules/models/llms/integrations.html\">Integrations</a><input class=\"toctree-checkbox\" id=\"toctree-checkbox-4\" name=\"toctree-checkbox-4\" type=\"checkbox\"/><label class=\"toctree-toggle\" for=\"toctree-checkbox-4\"><i class=\"fa-solid fa-chevron-down\"></i></label><ul>\\n<li class=\"toctree-l4\"><a class=\"reference internal\" href=\"../modules/models/llms/integrations/ai21.html\">AI21</a></li>\\n<li class=\"toctree-l4\"><a class=\"reference internal\" href=\"../modules/models/llms/integrations/aleph_alpha.html\">Aleph Alpha</a></li>\\n<li class=\"toctree-l4\"><a class=\"reference internal\" href=\"../modules/models/llms/integrations/anyscale.html\">Anyscale</a></li>\\n<li class=\"toctree-l4\"><a class=\"reference internal\" href=\"../modules/models/llms/integrations/aviary.html\">Aviary</a></li>\\n<li class=\"toctree-l4\"><a class=\"reference internal\" href=\"../modules/models/llms/integrations/azure_openai_example.html\">Azure OpenAI</a></li>\\n<li class=\"toctree-l4\"><a class=\"reference internal\" href=\"../modules/models/llms/integrations/banana.html\">Banana</a></li>\\n<li class=\"toctree-l4\"><a class=\"reference internal\" href=\"../modules/models/llms/integrations/baseten.html\">Baseten</a></li>\\n\\n\\n\\n<li class=\"toctree-l4\"><a class=\"reference internal\" href=\"../modules/models/llms/integrations/beam.html\">Beam</a></li>\\n<li class=\"toctree-l4\"><a class=\"reference internal\" href=\"../modules/models/llms/integrations/bedrock.html\">Bedrock</a></li>\\n<li class=\"toctree-l4\"><a class=\"reference internal\" href=\"../modules/models/llms/integrations/cerebriumai_example.html\">CerebriumAI</a></li>\\n<li class=\"toctree-l4\"><a class=\"reference internal\" href=\"../modules/models/llms/integrations/cohere.html\">Cohere</a></li>\\n<li class=\"toctree-l4\"><a class=\"reference internal\" href=\"../modules/models/llms/integrations/ctransformers.html\">C Transformers</a></li>\\n<li class=\"toctree-l4\"><a class=\"reference internal\" href=\"../modules/models/llms/integrations/databricks.html\">Databricks</a></li>\\n<li class=\"toctree-l4\"><a class=\"reference internal\" href=\"../modules/models/llms/integrations/deepinfra_example.html\">DeepInfra</a></li>\\n<li class=\"toctree-l4\"><a class=\"reference internal\" href=\"../modules/models/llms/integrations/forefrontai_example.html\">ForefrontAI</a></li>\\n<li class=\"toctree-l4\"><a class=\"reference internal\" href=\"../modules/models/llms/integrations/google_vertex_ai_palm.html\">Google Cloud Platform Vertex AI PaLM</a></li>\\n<li class=\"toctree-l4\"><a class=\"reference internal\" href=\"../modules/models/llms/integrations/gooseai_example.html\">GooseAI</a></li>\\n<li class=\"toctree-l4\"><a class=\"reference internal\" href=\"../modules/models/llms/integrations/gpt4all.html\">GPT4All</a></li>\\n<li class=\"toctree-l4\"><a class=\"reference internal\" href=\"../modules/models/llms/integrations/huggingface_hub.html\">Hugging Face Hub</a></li>\\n<li class=\"toctree-l4\"><a class=\"reference internal\" href=\"../modules/models/llms/integrations/huggingface_pipelines.html\">Hugging Face Pipeline</a></li>\\n<li class=\"toctree-l4\"><a class=\"reference internal\" href=\"../modules/models/llms/integrations/huggingface_textgen_inference.html\">Huggingface TextGen Inference</a></li>\\n<li class=\"toctree-l4\"><a class=\"reference internal\" href=\"../modules/models/llms/integrations/jsonformer_experimental.html\">Jsonformer</a></li>\\n<li class=\"toctree-l4\"><a class=\"reference internal\" href=\"../modules/models/llms/integrations/llamacpp.html\">Llama-cpp</a></li>\\n<li class=\"toctree-l4\"><a class=\"reference internal\" href=\"../modules/models/llms/integrations/manifest.html\">Manifest</a></li>\\n<li class=\"toctree-l4\"><a class=\"reference internal\" href=\"../modules/models/llms/integrations/modal.html\">Modal</a></li>\\n<li class=\"toctree-l4\"><a class=\"reference internal\" href=\"../modules/models/llms/integrations/mosaicml.html\">MosaicML</a></li>\\n<li class=\"toctree-l4\"><a class=\"reference internal\" href=\"../modules/models/llms/integrations/nlpcloud.html\">NLP Cloud</a></li>\\n<li class=\"toctree-l4\"><a class=\"reference internal\" href=\"../modules/models/llms/integrations/openai.html\">OpenAI</a></li>\\n<li class=\"toctree-l4\"><a class=\"reference internal\" href=\"../modules/models/llms/integrations/openlm.html\">OpenLM</a></li>\\n<li class=\"toctree-l4\"><a class=\"reference internal\" href=\"../modules/models/llms/integrations/petals_example.html\">Petals</a></li>\\n<li class=\"toctree-l4\"><a class=\"reference internal\" href=\"../modules/models/llms/integrations/pipelineai_example.html\">PipelineAI</a></li>\\n<li class=\"toctree-l4\"><a class=\"reference internal\" href=\"../modules/models/llms/integrations/predictionguard.html\">Prediction Guard</a></li>\\n\\n\\n<li class=\"toctree-l4\"><a class=\"reference internal\" href=\"../modules/models/llms/integrations/promptlayer_openai.html\">PromptLayer OpenAI</a></li>\\n<li class=\"toctree-l4\"><a class=\"reference internal\" href=\"../modules/models/llms/integrations/rellm_experimental.html\">ReLLM</a></li>\\n<li class=\"toctree-l4\"><a class=\"reference internal\" href=\"../modules/models/llms/integrations/replicate.html\">Replicate</a></li>\\n<li class=\"toctree-l4\"><a class=\"reference internal\" href=\"../modules/models/llms/integrations/runhouse.html\">Runhouse</a></li>\\n<li class=\"toctree-l4\"><a class=\"reference internal\" href=\"../modules/models/llms/integrations/sagemaker.html\">SageMaker Endpoint</a></li>\\n<li class=\"toctree-l4\"><a class=\"reference internal\" href=\"../modules/models/llms/integrations/stochasticai.html\">StochasticAI</a></li>\\n<li class=\"toctree-l4\"><a class=\"reference internal\" href=\"../modules/models/llms/integrations/writer.html\">Writer</a></li>\\n</ul>\\n</li>\\n<li class=\"toctree-l3\"><a class=\"reference internal\" href=\"../reference/modules/llms.html\">Reference</a></li>\\n</ul>\\n</li>\\n<li class=\"toctree-l2 has-children\"><a class=\"reference internal\" href=\"../modules/models/chat.html\">Chat Models</a><input class=\"toctree-checkbox\" id=\"toctree-checkbox-5\" name=\"toctree-checkbox-5\" type=\"checkbox\"/><label class=\"toctree-toggle\" for=\"toctree-checkbox-5\"><i class=\"fa-solid fa-chevron-down\"></i></label><ul>\\n<li class=\"toctree-l3\"><a class=\"reference internal\" href=\"../modules/models/chat/getting_started.html\">Getting Started</a></li>\\n<li class=\"toctree-l3 has-children\"><a class=\"reference internal\" href=\"../modules/models/chat/how_to_guides.html\">How-To Guides</a><input class=\"toctree-checkbox\" id=\"toctree-checkbox-6\" name=\"toctree-checkbox-6\" type=\"checkbox\"/><label class=\"toctree-toggle\" for=\"toctree-checkbox-6\"><i class=\"fa-solid fa-chevron-down\"></i></label><ul>\\n<li class=\"toctree-l4\"><a class=\"reference internal\" href=\"../modules/models/chat/examples/few_shot_examples.html\">How to use few shot examples</a></li>\\n<li class=\"toctree-l4\"><a class=\"reference internal\" href=\"../modules/models/chat/examples/streaming.html\">How to stream responses</a></li>\\n</ul>\\n</li>\\n<li class=\"toctree-l3 has-children\"><a class=\"reference internal\" href=\"../modules/models/chat/integrations.html\">Integrations</a><input class=\"toctree-checkbox\" id=\"toctree-checkbox-7\" name=\"toctree-checkbox-7\" type=\"checkbox\"/><label class=\"toctree-toggle\" for=\"toctree-checkbox-7\"><i class=\"fa-solid fa-chevron-down\"></i></label><ul>\\n<li class=\"toctree-l4\"><a class=\"reference internal\" href=\"../modules/models/chat/integrations/anthropic.html\">Anthropic</a></li>\\n<li class=\"toctree-l4\"><a class=\"reference internal\" href=\"../modules/models/chat/integrations/azure_chat_openai.html\">Azure</a></li>\\n<li class=\"toctree-l4\"><a class=\"reference internal\" href=\"../modules/models/chat/integrations/google_vertex_ai_palm.html\">Google Vertex AI PaLM</a></li>\\n<li class=\"toctree-l4\"><a class=\"reference internal\" href=\"../modules/models/chat/integrations/openai.html\">OpenAI</a></li>\\n<li class=\"toctree-l4\"><a class=\"reference internal\" href=\"../modules/models/chat/integrations/promptlayer_chatopenai.html\">PromptLayer ChatOpenAI</a></li>\\n</ul>\\n</li>\\n</ul>\\n</li>\\n<li class=\"toctree-l2 has-children\"><a class=\"reference internal\" href=\"../modules/models/text_embedding.html\">Text Embedding Models</a><input class=\"toctree-checkbox\" id=\"toctree-checkbox-8\" name=\"toctree-checkbox-8\" type=\"checkbox\"/><label class=\"toctree-toggle\" for=\"toctree-checkbox-8\"><i class=\"fa-solid fa-chevron-down\"></i></label><ul>\\n<li class=\"toctree-l3\"><a class=\"reference internal\" href=\"../modules/models/text_embedding/examples/aleph_alpha.html\">Aleph Alpha</a></li>\\n<li class=\"toctree-l3\"><a class=\"reference internal\" href=\"../modules/models/text_embedding/examples/amazon_bedrock.html\">Amazon Bedrock</a></li>\\n<li class=\"toctree-l3\"><a class=\"reference internal\" href=\"../modules/models/text_embedding/examples/azureopenai.html\">Azure OpenAI</a></li>\\n<li class=\"toctree-l3\"><a class=\"reference internal\" href=\"../modules/models/text_embedding/examples/cohere.html\">Cohere</a></li>\\n<li class=\"toctree-l3\"><a class=\"reference internal\" href=\"../modules/models/text_embedding/examples/dashscope.html\">DashScope</a></li>\\n<li class=\"toctree-l3\"><a class=\"reference internal\" href=\"../modules/models/text_embedding/examples/deepinfra.html\">DeepInfra</a></li>\\n<li class=\"toctree-l3\"><a class=\"reference internal\" href=\"../modules/models/text_embedding/examples/elasticsearch.html\">Elasticsearch</a></li>\\n<li class=\"toctree-l3\"><a class=\"reference internal\" href=\"../modules/models/text_embedding/examples/embaas.html\">Embaas</a></li>\\n<li class=\"toctree-l3\"><a class=\"reference internal\" href=\"../modules/models/text_embedding/examples/fake.html\">Fake Embeddings</a></li>\\n<li class=\"toctree-l3\"><a class=\"reference internal\" href=\"../modules/models/text_embedding/examples/google_vertex_ai_palm.html\">Google Vertex AI PaLM</a></li>\\n<li class=\"toctree-l3\"><a class=\"reference internal\" href=\"../modules/models/text_embedding/examples/huggingface_hub.html\">Hugging Face Hub</a></li>\\n<li class=\"toctree-l3\"><a class=\"reference internal\" href=\"../modules/models/text_embedding/examples/huggingface_instruct.html\">HuggingFace Instruct</a></li>\\n<li class=\"toctree-l3\"><a class=\"reference internal\" href=\"../modules/models/text_embedding/examples/jina.html\">Jina</a></li>\\n<li class=\"toctree-l3\"><a class=\"reference internal\" href=\"../modules/models/text_embedding/examples/llamacpp.html\">Llama-cpp</a></li>\\n<li class=\"toctree-l3\"><a class=\"reference internal\" href=\"../modules/models/text_embedding/examples/minimax.html\">MiniMax</a></li>\\n<li class=\"toctree-l3\"><a class=\"reference internal\" href=\"../modules/models/text_embedding/examples/modelscope_hub.html\">ModelScope</a></li>\\n<li class=\"toctree-l3\"><a class=\"reference internal\" href=\"../modules/models/text_embedding/examples/mosaicml.html\">MosaicML</a></li>\\n<li class=\"toctree-l3\"><a class=\"reference internal\" href=\"../modules/models/text_embedding/examples/openai.html\">OpenAI</a></li>\\n<li class=\"toctree-l3\"><a class=\"reference internal\" href=\"../modules/models/text_embedding/examples/sagemaker-endpoint.html\">SageMaker Endpoint</a></li>\\n<li class=\"toctree-l3\"><a class=\"reference internal\" href=\"../modules/models/text_embedding/examples/self-hosted.html\">Self Hosted Embeddings</a></li>\\n<li class=\"toctree-l3\"><a class=\"reference internal\" href=\"../modules/models/text_embedding/examples/sentence_transformers.html\">Sentence Transformers</a></li>\\n<li class=\"toctree-l3\"><a class=\"reference internal\" href=\"../modules/models/text_embedding/examples/tensorflowhub.html\">Tensorflow Hub</a></li>\\n</ul>\\n</li>\\n</ul>\\n</li>\\n<li class=\"toctree-l1 has-children\"><a class=\"reference internal\" href=\"../modules/prompts.html\">Prompts</a><input class=\"toctree-checkbox\" id=\"toctree-checkbox-9\" name=\"toctree-checkbox-9\" type=\"checkbox\"/><label class=\"toctree-toggle\" for=\"toctree-checkbox-9\"><i class=\"fa-solid fa-chevron-down\"></i></label><ul>\\n<li class=\"toctree-l2\"><a class=\"reference internal\" href=\"../modules/prompts/getting_started.html\">Getting Started</a></li>\\n<li class=\"toctree-l2 has-children\"><a class=\"reference internal\" href=\"../modules/prompts/prompt_templates.html\">Prompt Templates</a><input class=\"toctree-checkbox\" id=\"toctree-checkbox-10\" name=\"toctree-checkbox-10\" type=\"checkbox\"/><label class=\"toctree-toggle\" for=\"toctree-checkbox-10\"><i class=\"fa-solid fa-chevron-down\"></i></label><ul>\\n<li class=\"toctree-l3\"><a class=\"reference internal\" href=\"../modules/prompts/prompt_templates/getting_started.html\">Getting Started</a></li>\\n<li class=\"toctree-l3 has-children\"><a class=\"reference internal\" href=\"../modules/prompts/prompt_templates/how_to_guides.html\">How-To Guides</a><input class=\"toctree-checkbox\" id=\"toctree-checkbox-11\" name=\"toctree-checkbox-11\" type=\"checkbox\"/><label class=\"toctree-toggle\" for=\"toctree-checkbox-11\"><i class=\"fa-solid fa-chevron-down\"></i></label><ul>\\n<li class=\"toctree-l4\"><a class=\"reference internal\" href=\"../modules/prompts/prompt_templates/examples/connecting_to_a_feature_store.html\">Connecting to a Feature Store</a></li>\\n<li class=\"toctree-l4\"><a class=\"reference internal\" href=\"../modules/prompts/prompt_templates/examples/custom_prompt_template.html\">How to create a custom prompt template</a></li>\\n<li class=\"toctree-l4\"><a class=\"reference internal\" href=\"../modules/prompts/prompt_templates/examples/few_shot_examples.html\">How to create a prompt template that uses few shot examples</a></li>\\n<li class=\"toctree-l4\"><a class=\"reference internal\" href=\"../modules/prompts/prompt_templates/examples/partial.html\">How to work with partial Prompt Templates</a></li>\\n<li class=\"toctree-l4\"><a class=\"reference internal\" href=\"../modules/prompts/prompt_templates/examples/prompt_composition.html\">Prompt Composition</a></li>\\n<li class=\"toctree-l4\"><a class=\"reference internal\" href=\"../modules/prompts/prompt_templates/examples/prompt_serialization.html\">How to serialize prompts</a></li>\\n</ul>\\n</li>\\n<li class=\"toctree-l3 has-children\"><a class=\"reference internal\" href=\"../reference/prompts.html\">Reference</a><input class=\"toctree-checkbox\" id=\"toctree-checkbox-12\" name=\"toctree-checkbox-12\" type=\"checkbox\"/><label class=\"toctree-toggle\" for=\"toctree-checkbox-12\"><i class=\"fa-solid fa-chevron-down\"></i></label><ul>\\n<li class=\"toctree-l4\"><a class=\"reference internal\" href=\"../reference/modules/prompts.html\">PromptTemplates</a></li>\\n<li class=\"toctree-l4\"><a class=\"reference internal\" href=\"../reference/modules/example_selector.html\">Example Selector</a></li>\\n<li class=\"toctree-l4\"><a class=\"reference internal\" href=\"../reference/modules/output_parsers.html\">Output Parsers</a></li>\\n</ul>\\n</li>\\n</ul>\\n</li>\\n<li class=\"toctree-l2\"><a class=\"reference internal\" href=\"../modules/prompts/chat_prompt_template.html\">Chat Prompt Templates</a></li>\\n<li class=\"toctree-l2 has-children\"><a class=\"reference internal\" href=\"../modules/prompts/example_selectors.html\">Example Selectors</a><input class=\"toctree-checkbox\" id=\"toctree-checkbox-13\" name=\"toctree-checkbox-13\" type=\"checkbox\"/><label class=\"toctree-toggle\" for=\"toctree-checkbox-13\"><i class=\"fa-solid fa-chevron-down\"></i></label><ul>\\n<li class=\"toctree-l3\"><a class=\"reference internal\" href=\"../modules/prompts/example_selectors/examples/custom_example_selector.html\">How to create a custom example selector</a></li>\\n<li class=\"toctree-l3\"><a class=\"reference internal\" href=\"../modules/prompts/example_selectors/examples/length_based.html\">LengthBased ExampleSelector</a></li>\\n<li class=\"toctree-l3\"><a class=\"reference internal\" href=\"../modules/prompts/example_selectors/examples/mmr.html\">Maximal Marginal Relevance ExampleSelector</a></li>\\n<li class=\"toctree-l3\"><a class=\"reference internal\" href=\"../modules/prompts/example_selectors/examples/ngram_overlap.html\">NGram Overlap ExampleSelector</a></li>\\n<li class=\"toctree-l3\"><a class=\"reference internal\" href=\"../modules/prompts/example_selectors/examples/similarity.html\">Similarity ExampleSelector</a></li>\\n</ul>\\n</li>\\n<li class=\"toctree-l2 has-children\"><a class=\"reference internal\" href=\"../modules/prompts/output_parsers.html\">Output Parsers</a><input class=\"toctree-checkbox\" id=\"toctree-checkbox-14\" name=\"toctree-checkbox-14\" type=\"checkbox\"/><label class=\"toctree-toggle\" for=\"toctree-checkbox-14\"><i class=\"fa-solid fa-chevron-down\"></i></label><ul>\\n<li class=\"toctree-l3\"><a class=\"reference internal\" href=\"../modules/prompts/output_parsers/getting_started.html\">Output Parsers</a></li>\\n<li class=\"toctree-l3\"><a class=\"reference internal\" href=\"../modules/prompts/output_parsers/examples/comma_separated.html\">CommaSeparatedListOutputParser</a></li>\\n<li class=\"toctree-l3\"><a class=\"reference internal\" href=\"../modules/prompts/output_parsers/examples/datetime.html\">Datetime</a></li>\\n<li class=\"toctree-l3\"><a class=\"reference internal\" href=\"../modules/prompts/output_parsers/examples/enum.html\">Enum Output Parser</a></li>\\n<li class=\"toctree-l3\"><a class=\"reference internal\" href=\"../modules/prompts/output_parsers/examples/output_fixing_parser.html\">OutputFixingParser</a></li>\\n<li class=\"toctree-l3\"><a class=\"reference internal\" href=\"../modules/prompts/output_parsers/examples/pydantic.html\">PydanticOutputParser</a></li>\\n<li class=\"toctree-l3\"><a class=\"reference internal\" href=\"../modules/prompts/output_parsers/examples/retry.html\">RetryOutputParser</a></li>\\n<li class=\"toctree-l3\"><a class=\"reference internal\" href=\"../modules/prompts/output_parsers/examples/structured.html\">Structured Output Parser</a></li>\\n</ul>\\n</li>\\n</ul>\\n</li>\\n<li class=\"toctree-l1 has-children\"><a class=\"reference internal\" href=\"../modules/memory.html\">Memory</a><input class=\"toctree-checkbox\" id=\"toctree-checkbox-15\" name=\"toctree-checkbox-15\" type=\"checkbox\"/><label class=\"toctree-toggle\" for=\"toctree-checkbox-15\"><i class=\"fa-solid fa-chevron-down\"></i></label><ul>\\n<li class=\"toctree-l2\"><a class=\"reference internal\" href=\"../modules/memory/getting_started.html\">Getting Started</a></li>\\n<li class=\"toctree-l2 has-children\"><a class=\"reference internal\" href=\"../modules/memory/how_to_guides.html\">How-To Guides</a><input class=\"toctree-checkbox\" id=\"toctree-checkbox-16\" name=\"toctree-checkbox-16\" type=\"checkbox\"/><label class=\"toctree-toggle\" for=\"toctree-checkbox-16\"><i class=\"fa-solid fa-chevron-down\"></i></label><ul>\\n<li class=\"toctree-l3\"><a class=\"reference internal\" href=\"../modules/memory/types/buffer.html\">ConversationBufferMemory</a></li>\\n<li class=\"toctree-l3\"><a class=\"reference internal\" href=\"../modules/memory/types/buffer_window.html\">ConversationBufferWindowMemory</a></li>\\n<li class=\"toctree-l3\"><a class=\"reference internal\" href=\"../modules/memory/types/entity_summary_memory.html\">Entity Memory</a></li>\\n<li class=\"toctree-l3\"><a class=\"reference internal\" href=\"../modules/memory/types/kg.html\">Conversation Knowledge Graph Memory</a></li>\\n<li class=\"toctree-l3\"><a class=\"reference internal\" href=\"../modules/memory/types/summary.html\">ConversationSummaryMemory</a></li>\\n<li class=\"toctree-l3\"><a class=\"reference internal\" href=\"../modules/memory/types/summary_buffer.html\">ConversationSummaryBufferMemory</a></li>\\n<li class=\"toctree-l3\"><a class=\"reference internal\" href=\"../modules/memory/types/token_buffer.html\">ConversationTokenBufferMemory</a></li>\\n<li class=\"toctree-l3\"><a class=\"reference internal\" href=\"../modules/memory/types/vectorstore_retriever_memory.html\">VectorStore-Backed Memory</a></li>\\n<li class=\"toctree-l3\"><a class=\"reference internal\" href=\"../modules/memory/examples/adding_memory.html\">How to add Memory to an LLMChain</a></li>\\n<li class=\"toctree-l3\"><a class=\"reference internal\" href=\"../modules/memory/examples/adding_memory_chain_multiple_inputs.html\">How to add memory to a Multi-Input Chain</a></li>\\n<li class=\"toctree-l3\"><a class=\"reference internal\" href=\"../modules/memory/examples/agent_with_memory.html\">How to add Memory to an Agent</a></li>\\n<li class=\"toctree-l3\"><a class=\"reference internal\" href=\"../modules/memory/examples/agent_with_memory_in_db.html\">Adding Message Memory backed by a database to an Agent</a></li>\\n<li class=\"toctree-l3\"><a class=\"reference internal\" href=\"../modules/memory/examples/cassandra_chat_message_history.html\">Cassandra Chat Message History</a></li>\\n<li class=\"toctree-l3\"><a class=\"reference internal\" href=\"../modules/memory/examples/conversational_customization.html\">How to customize conversational memory</a></li>\\n<li class=\"toctree-l3\"><a class=\"reference internal\" href=\"../modules/memory/examples/custom_memory.html\">How to create a custom Memory class</a></li>\\n<li class=\"toctree-l3\"><a class=\"reference internal\" href=\"../modules/memory/examples/dynamodb_chat_message_history.html\">Dynamodb Chat Message History</a></li>\\n<li class=\"toctree-l3\"><a class=\"reference internal\" href=\"../modules/memory/examples/entity_memory_with_sqlite.html\">Entity Memory with SQLite storage</a></li>\\n<li class=\"toctree-l3\"><a class=\"reference internal\" href=\"../modules/memory/examples/momento_chat_message_history.html\">Momento Chat Message History</a></li>\\n<li class=\"toctree-l3\"><a class=\"reference internal\" href=\"../modules/memory/examples/mongodb_chat_message_history.html\">Mongodb Chat Message History</a></li>\\n<li class=\"toctree-l3\"><a class=\"reference internal\" href=\"../modules/memory/examples/motorhead_memory.html\">Motörhead Memory</a></li>\\n<li class=\"toctree-l3\"><a class=\"reference internal\" href=\"../modules/memory/examples/motorhead_memory_managed.html\">Motörhead Memory (Managed)</a></li>\\n<li class=\"toctree-l3\"><a class=\"reference internal\" href=\"../modules/memory/examples/multiple_memory.html\">How to use multiple memory classes in the same chain</a></li>\\n<li class=\"toctree-l3\"><a class=\"reference internal\" href=\"../modules/memory/examples/postgres_chat_message_history.html\">Postgres Chat Message History</a></li>\\n<li class=\"toctree-l3\"><a class=\"reference internal\" href=\"../modules/memory/examples/redis_chat_message_history.html\">Redis Chat Message History</a></li>\\n<li class=\"toctree-l3\"><a class=\"reference internal\" href=\"../modules/memory/examples/zep_memory.html\">Zep Memory</a></li>\\n</ul>\\n</li>\\n</ul>\\n</li>\\n<li class=\"toctree-l1 has-children\"><a class=\"reference internal\" href=\"../modules/indexes.html\">Indexes</a><input class=\"toctree-checkbox\" id=\"toctree-checkbox-17\" name=\"toctree-checkbox-17\" type=\"checkbox\"/><label class=\"toctree-toggle\" for=\"toctree-checkbox-17\"><i class=\"fa-solid fa-chevron-down\"></i></label><ul>\\n<li class=\"toctree-l2\"><a class=\"reference internal\" href=\"../modules/indexes/getting_started.html\">Getting Started</a></li>\\n<li class=\"toctree-l2 has-children\"><a class=\"reference internal\" href=\"../modules/indexes/document_loaders.html\">Document Loaders</a><input class=\"toctree-checkbox\" id=\"toctree-checkbox-18\" name=\"toctree-checkbox-18\" type=\"checkbox\"/><label class=\"toctree-toggle\" for=\"toctree-checkbox-18\"><i class=\"fa-solid fa-chevron-down\"></i></label><ul>\\n<li class=\"toctree-l3\"><a class=\"reference internal\" href=\"../modules/indexes/document_loaders/examples/airtable.html\">Airtable</a></li>\\n<li class=\"toctree-l3\"><a class=\"reference internal\" href=\"../modules/indexes/document_loaders/examples/audio.html\">OpenAIWhisperParser</a></li>\\n<li class=\"toctree-l3\"><a class=\"reference internal\" href=\"../modules/indexes/document_loaders/examples/conll-u.html\">CoNLL-U</a></li>\\n<li class=\"toctree-l3\"><a class=\"reference internal\" href=\"../modules/indexes/document_loaders/examples/copypaste.html\">Copy Paste</a></li>\\n<li class=\"toctree-l3\"><a class=\"reference internal\" href=\"../modules/indexes/document_loaders/examples/csv.html\">CSV</a></li>\\n<li class=\"toctree-l3\"><a class=\"reference internal\" href=\"../modules/indexes/document_loaders/examples/email.html\">Email</a></li>\\n<li class=\"toctree-l3\"><a class=\"reference internal\" href=\"../modules/indexes/document_loaders/examples/epub.html\">EPub</a></li>\\n<li class=\"toctree-l3\"><a class=\"reference internal\" href=\"../modules/indexes/document_loaders/examples/evernote.html\">EverNote</a></li>\\n<li class=\"toctree-l3\"><a class=\"reference internal\" href=\"../modules/indexes/document_loaders/examples/excel.html\">Microsoft Excel</a></li>\\n<li class=\"toctree-l3\"><a class=\"reference internal\" href=\"../modules/indexes/document_loaders/examples/facebook_chat.html\">Facebook Chat</a></li>\\n<li class=\"toctree-l3\"><a class=\"reference internal\" href=\"../modules/indexes/document_loaders/examples/file_directory.html\">File Directory</a></li>\\n<li class=\"toctree-l3\"><a class=\"reference internal\" href=\"../modules/indexes/document_loaders/examples/html.html\">HTML</a></li>\\n<li class=\"toctree-l3\"><a class=\"reference internal\" href=\"../modules/indexes/document_loaders/examples/image.html\">Images</a></li>\\n<li class=\"toctree-l3\"><a class=\"reference internal\" href=\"../modules/indexes/document_loaders/examples/jupyter_notebook.html\">Jupyter Notebook</a></li>\\n<li class=\"toctree-l3\"><a class=\"reference internal\" href=\"../modules/indexes/document_loaders/examples/json.html\">JSON</a></li>\\n<li class=\"toctree-l3\"><a class=\"reference internal\" href=\"../modules/indexes/document_loaders/examples/markdown.html\">Markdown</a></li>\\n<li class=\"toctree-l3\"><a class=\"reference internal\" href=\"../modules/indexes/document_loaders/examples/microsoft_powerpoint.html\">Microsoft PowerPoint</a></li>\\n<li class=\"toctree-l3\"><a class=\"reference internal\" href=\"../modules/indexes/document_loaders/examples/microsoft_word.html\">Microsoft Word</a></li>\\n<li class=\"toctree-l3\"><a class=\"reference internal\" href=\"../modules/indexes/document_loaders/examples/odt.html\">Open Document Format (ODT)</a></li>\\n<li class=\"toctree-l3\"><a class=\"reference internal\" href=\"../modules/indexes/document_loaders/examples/pandas_dataframe.html\">Pandas DataFrame</a></li>\\n<li class=\"toctree-l3\"><a class=\"reference internal\" href=\"../modules/indexes/document_loaders/examples/pdf.html\">PDF</a></li>\\n<li class=\"toctree-l3\"><a class=\"reference internal\" href=\"../modules/indexes/document_loaders/examples/sitemap.html\">Sitemap</a></li>\\n<li class=\"toctree-l3\"><a class=\"reference internal\" href=\"../modules/indexes/document_loaders/examples/subtitle.html\">Subtitle</a></li>\\n<li class=\"toctree-l3\"><a class=\"reference internal\" href=\"../modules/indexes/document_loaders/examples/telegram.html\">Telegram</a></li>\\n<li class=\"toctree-l3\"><a class=\"reference internal\" href=\"../modules/indexes/document_loaders/examples/toml.html\">TOML</a></li>\\n<li class=\"toctree-l3\"><a class=\"reference internal\" href=\"../modules/indexes/document_loaders/examples/unstructured_file.html\">Unstructured File</a></li>\\n<li class=\"toctree-l3\"><a class=\"reference internal\" href=\"../modules/indexes/document_loaders/examples/url.html\">URL</a></li>\\n\\n\\n<li class=\"toctree-l3\"><a class=\"reference internal\" href=\"../modules/indexes/document_loaders/examples/web_base.html\">WebBaseLoader</a></li>\\n<li class=\"toctree-l3\"><a class=\"reference internal\" href=\"../modules/indexes/document_loaders/examples/weather.html\">Weather</a></li>\\n<li class=\"toctree-l3\"><a class=\"reference internal\" href=\"../modules/indexes/document_loaders/examples/whatsapp_chat.html\">WhatsApp Chat</a></li>\\n<li class=\"toctree-l3\"><a class=\"reference internal\" href=\"../modules/indexes/document_loaders/examples/arxiv.html\">Arxiv</a></li>\\n<li class=\"toctree-l3\"><a class=\"reference internal\" href=\"../modules/indexes/document_loaders/examples/azlyrics.html\">AZLyrics</a></li>\\n<li class=\"toctree-l3\"><a class=\"reference internal\" href=\"../modules/indexes/document_loaders/examples/bilibili.html\">BiliBili</a></li>\\n<li class=\"toctree-l3\"><a class=\"reference internal\" href=\"../modules/indexes/document_loaders/examples/college_confidential.html\">College Confidential</a></li>\\n<li class=\"toctree-l3\"><a class=\"reference internal\" href=\"../modules/indexes/document_loaders/examples/gutenberg.html\">Gutenberg</a></li>\\n<li class=\"toctree-l3\"><a class=\"reference internal\" href=\"../modules/indexes/document_loaders/examples/hacker_news.html\">Hacker News</a></li>\\n<li class=\"toctree-l3\"><a class=\"reference internal\" href=\"../modules/indexes/document_loaders/examples/hugging_face_dataset.html\">HuggingFace dataset</a></li>\\n<li class=\"toctree-l3\"><a class=\"reference internal\" href=\"../modules/indexes/document_loaders/examples/ifixit.html\">iFixit</a></li>\\n<li class=\"toctree-l3\"><a class=\"reference internal\" href=\"../modules/indexes/document_loaders/examples/imsdb.html\">IMSDb</a></li>\\n<li class=\"toctree-l3\"><a class=\"reference internal\" href=\"../modules/indexes/document_loaders/examples/mediawikidump.html\">MediaWikiDump</a></li>\\n<li class=\"toctree-l3\"><a class=\"reference internal\" href=\"../modules/indexes/document_loaders/examples/wikipedia.html\">Wikipedia</a></li>\\n<li class=\"toctree-l3\"><a class=\"reference internal\" href=\"../modules/indexes/document_loaders/examples/youtube_transcript.html\">YouTube transcripts</a></li>\\n<li class=\"toctree-l3\"><a class=\"reference internal\" href=\"../modules/indexes/document_loaders/examples/airbyte_json.html\">Airbyte JSON</a></li>\\n<li class=\"toctree-l3\"><a class=\"reference internal\" href=\"../modules/indexes/document_loaders/examples/apify_dataset.html\">Apify Dataset</a></li>\\n<li class=\"toctree-l3\"><a class=\"reference internal\" href=\"../modules/indexes/document_loaders/examples/aws_s3_directory.html\">AWS S3 Directory</a></li>\\n<li class=\"toctree-l3\"><a class=\"reference internal\" href=\"../modules/indexes/document_loaders/examples/aws_s3_file.html\">AWS S3 File</a></li>\\n<li class=\"toctree-l3\"><a class=\"reference internal\" href=\"../modules/indexes/document_loaders/examples/azure_blob_storage_container.html\">Azure Blob Storage Container</a></li>\\n<li class=\"toctree-l3\"><a class=\"reference internal\" href=\"../modules/indexes/document_loaders/examples/azure_blob_storage_file.html\">Azure Blob Storage File</a></li>\\n<li class=\"toctree-l3\"><a class=\"reference internal\" href=\"../modules/indexes/document_loaders/examples/blackboard.html\">Blackboard</a></li>\\n<li class=\"toctree-l3\"><a class=\"reference internal\" href=\"../modules/indexes/document_loaders/examples/blockchain.html\">Blockchain</a></li>\\n<li class=\"toctree-l3\"><a class=\"reference internal\" href=\"../modules/indexes/document_loaders/examples/chatgpt_loader.html\">ChatGPT Data</a></li>\\n<li class=\"toctree-l3\"><a class=\"reference internal\" href=\"../modules/indexes/document_loaders/examples/confluence.html\">Confluence</a></li>\\n\\n<li class=\"toctree-l3\"><a class=\"reference internal\" href=\"../modules/indexes/document_loaders/examples/diffbot.html\">Diffbot</a></li>\\n<li class=\"toctree-l3\"><a class=\"reference internal\" href=\"../modules/indexes/document_loaders/examples/docugami.html\">Docugami</a></li>\\n<li class=\"toctree-l3\"><a class=\"reference internal\" href=\"../modules/indexes/document_loaders/examples/duckdb.html\">DuckDB</a></li>\\n<li class=\"toctree-l3\"><a class=\"reference internal\" href=\"../modules/indexes/document_loaders/examples/fauna.html\">Fauna</a></li>\\n<li class=\"toctree-l3\"><a class=\"reference internal\" href=\"../modules/indexes/document_loaders/examples/figma.html\">Figma</a></li>\\n<li class=\"toctree-l3\"><a class=\"reference internal\" href=\"../modules/indexes/document_loaders/examples/gitbook.html\">GitBook</a></li>\\n<li class=\"toctree-l3\"><a class=\"reference internal\" href=\"../modules/indexes/document_loaders/examples/git.html\">Git</a></li>\\n<li class=\"toctree-l3\"><a class=\"reference internal\" href=\"../modules/indexes/document_loaders/examples/google_bigquery.html\">Google BigQuery</a></li>\\n<li class=\"toctree-l3\"><a class=\"reference internal\" href=\"../modules/indexes/document_loaders/examples/google_cloud_storage_directory.html\">Google Cloud Storage Directory</a></li>\\n<li class=\"toctree-l3\"><a class=\"reference internal\" href=\"../modules/indexes/document_loaders/examples/google_cloud_storage_file.html\">Google Cloud Storage File</a></li>\\n<li class=\"toctree-l3\"><a class=\"reference internal\" href=\"../modules/indexes/document_loaders/examples/google_drive.html\">Google Drive</a></li>\\n<li class=\"toctree-l3\"><a class=\"reference internal\" href=\"../modules/indexes/document_loaders/examples/image_captions.html\">Image captions</a></li>\\n<li class=\"toctree-l3\"><a class=\"reference internal\" href=\"../modules/indexes/document_loaders/examples/iugu.html\">Iugu</a></li>\\n<li class=\"toctree-l3\"><a class=\"reference internal\" href=\"../modules/indexes/document_loaders/examples/joplin.html\">Joplin</a></li>\\n<li class=\"toctree-l3\"><a class=\"reference internal\" href=\"../modules/indexes/document_loaders/examples/microsoft_onedrive.html\">Microsoft OneDrive</a></li>\\n<li class=\"toctree-l3\"><a class=\"reference internal\" href=\"../modules/indexes/document_loaders/examples/modern_treasury.html\">Modern Treasury</a></li>\\n<li class=\"toctree-l3\"><a class=\"reference internal\" href=\"../modules/indexes/document_loaders/examples/notiondb.html\">Notion DB 2/2</a></li>\\n<li class=\"toctree-l3\"><a class=\"reference internal\" href=\"../modules/indexes/document_loaders/examples/notion.html\">Notion DB 1/2</a></li>\\n<li class=\"toctree-l3\"><a class=\"reference internal\" href=\"../modules/indexes/document_loaders/examples/obsidian.html\">Obsidian</a></li>\\n<li class=\"toctree-l3\"><a class=\"reference internal\" href=\"../modules/indexes/document_loaders/examples/psychic.html\">Psychic</a></li>\\n<li class=\"toctree-l3\"><a class=\"reference internal\" href=\"../modules/indexes/document_loaders/examples/pyspark_dataframe.html\">PySpark DataFrame Loader</a></li>\\n<li class=\"toctree-l3\"><a class=\"reference internal\" href=\"../modules/indexes/document_loaders/examples/readthedocs_documentation.html\">ReadTheDocs Documentation</a></li>\\n<li class=\"toctree-l3\"><a class=\"reference internal\" href=\"../modules/indexes/document_loaders/examples/reddit.html\">Reddit</a></li>\\n<li class=\"toctree-l3\"><a class=\"reference internal\" href=\"../modules/indexes/document_loaders/examples/roam.html\">Roam</a></li>\\n<li class=\"toctree-l3\"><a class=\"reference internal\" href=\"../modules/indexes/document_loaders/examples/slack.html\">Slack</a></li>\\n<li class=\"toctree-l3\"><a class=\"reference internal\" href=\"../modules/indexes/document_loaders/examples/snowflake.html\">Snowflake</a></li>\\n<li class=\"toctree-l3\"><a class=\"reference internal\" href=\"../modules/indexes/document_loaders/examples/spreedly.html\">Spreedly</a></li>\\n<li class=\"toctree-l3\"><a class=\"reference internal\" href=\"../modules/indexes/document_loaders/examples/stripe.html\">Stripe</a></li>\\n<li class=\"toctree-l3\"><a class=\"reference internal\" href=\"../modules/indexes/document_loaders/examples/tomarkdown.html\">2Markdown</a></li>\\n<li class=\"toctree-l3\"><a class=\"reference internal\" href=\"../modules/indexes/document_loaders/examples/twitter.html\">Twitter</a></li>\\n</ul>\\n</li>\\n<li class=\"toctree-l2 has-children\"><a class=\"reference internal\" href=\"../modules/indexes/text_splitters.html\">Text Splitters</a><input class=\"toctree-checkbox\" id=\"toctree-checkbox-19\" name=\"toctree-checkbox-19\" type=\"checkbox\"/><label class=\"toctree-toggle\" for=\"toctree-checkbox-19\"><i class=\"fa-solid fa-chevron-down\"></i></label><ul>\\n<li class=\"toctree-l3\"><a class=\"reference internal\" href=\"../modules/indexes/text_splitters/getting_started.html\">Getting Started</a></li>\\n<li class=\"toctree-l3\"><a class=\"reference internal\" href=\"../modules/indexes/text_splitters/examples/character_text_splitter.html\">Character</a></li>\\n<li class=\"toctree-l3\"><a class=\"reference internal\" href=\"../modules/indexes/text_splitters/examples/code_splitter.html\">CodeTextSplitter</a></li>\\n<li class=\"toctree-l3\"><a class=\"reference internal\" href=\"../modules/indexes/text_splitters/examples/nltk.html\">NLTK</a></li>\\n<li class=\"toctree-l3\"><a class=\"reference internal\" href=\"../modules/indexes/text_splitters/examples/recursive_text_splitter.html\">Recursive Character</a></li>\\n<li class=\"toctree-l3\"><a class=\"reference internal\" href=\"../modules/indexes/text_splitters/examples/spacy.html\">spaCy</a></li>\\n<li class=\"toctree-l3\"><a class=\"reference internal\" href=\"../modules/indexes/text_splitters/examples/tiktoken_splitter.html\">Tiktoken</a></li>\\n<li class=\"toctree-l3\"><a class=\"reference internal\" href=\"../modules/indexes/text_splitters/examples/huggingface_length_function.html\">Hugging Face tokenizer</a></li>\\n<li class=\"toctree-l3\"><a class=\"reference internal\" href=\"../modules/indexes/text_splitters/examples/tiktoken.html\">tiktoken (OpenAI) tokenizer</a></li>\\n</ul>\\n</li>\\n<li class=\"toctree-l2 has-children\"><a class=\"reference internal\" href=\"../modules/indexes/vectorstores.html\">Vectorstores</a><input class=\"toctree-checkbox\" id=\"toctree-checkbox-20\" name=\"toctree-checkbox-20\" type=\"checkbox\"/><label class=\"toctree-toggle\" for=\"toctree-checkbox-20\"><i class=\"fa-solid fa-chevron-down\"></i></label><ul>\\n<li class=\"toctree-l3\"><a class=\"reference internal\" href=\"../modules/indexes/vectorstores/getting_started.html\">Getting Started</a></li>\\n<li class=\"toctree-l3\"><a class=\"reference internal\" href=\"../modules/indexes/vectorstores/examples/analyticdb.html\">AnalyticDB</a></li>\\n<li class=\"toctree-l3\"><a class=\"reference internal\" href=\"../modules/indexes/vectorstores/examples/annoy.html\">Annoy</a></li>\\n<li class=\"toctree-l3\"><a class=\"reference internal\" href=\"../modules/indexes/vectorstores/examples/atlas.html\">Atlas</a></li>\\n<li class=\"toctree-l3\"><a class=\"reference internal\" href=\"../modules/indexes/vectorstores/examples/awadb.html\">AwaDB</a></li>\\n<li class=\"toctree-l3\"><a class=\"reference internal\" href=\"../modules/indexes/vectorstores/examples/azuresearch.html\">Azure Cognitive Search</a></li>\\n\\n<li class=\"toctree-l3\"><a class=\"reference internal\" href=\"../modules/indexes/vectorstores/examples/chroma.html\">Chroma</a></li>\\n<li class=\"toctree-l3\"><a class=\"reference internal\" href=\"../modules/indexes/vectorstores/examples/clickhouse.html\">ClickHouse Vector Search</a></li>\\n<li class=\"toctree-l3\"><a class=\"reference internal\" href=\"../modules/indexes/vectorstores/examples/deeplake.html\">Deep Lake</a></li>\\n<li class=\"toctree-l3\"><a class=\"reference internal\" href=\"../modules/indexes/vectorstores/examples/docarray_hnsw.html\">DocArrayHnswSearch</a></li>\\n<li class=\"toctree-l3\"><a class=\"reference internal\" href=\"../modules/indexes/vectorstores/examples/docarray_in_memory.html\">DocArrayInMemorySearch</a></li>\\n<li class=\"toctree-l3\"><a class=\"reference internal\" href=\"../modules/indexes/vectorstores/examples/elasticsearch.html\">ElasticSearch</a></li>\\n\\n\\n<li class=\"toctree-l3\"><a class=\"reference internal\" href=\"../modules/indexes/vectorstores/examples/faiss.html\">FAISS</a></li>\\n<li class=\"toctree-l3\"><a class=\"reference internal\" href=\"../modules/indexes/vectorstores/examples/hologres.html\">Hologres</a></li>\\n<li class=\"toctree-l3\"><a class=\"reference internal\" href=\"../modules/indexes/vectorstores/examples/lancedb.html\">LanceDB</a></li>\\n<li class=\"toctree-l3\"><a class=\"reference internal\" href=\"../modules/indexes/vectorstores/examples/matchingengine.html\">MatchingEngine</a></li>\\n<li class=\"toctree-l3\"><a class=\"reference internal\" href=\"../modules/indexes/vectorstores/examples/milvus.html\">Milvus</a></li>\\n<li class=\"toctree-l3\"><a class=\"reference internal\" href=\"../modules/indexes/vectorstores/examples/myscale.html\">MyScale</a></li>\\n<li class=\"toctree-l3\"><a class=\"reference internal\" href=\"../modules/indexes/vectorstores/examples/opensearch.html\">OpenSearch</a></li>\\n<li class=\"toctree-l3\"><a class=\"reference internal\" href=\"../modules/indexes/vectorstores/examples/pgvector.html\">PGVector</a></li>\\n<li class=\"toctree-l3\"><a class=\"reference internal\" href=\"../modules/indexes/vectorstores/examples/pinecone.html\">Pinecone</a></li>\\n<li class=\"toctree-l3\"><a class=\"reference internal\" href=\"../modules/indexes/vectorstores/examples/qdrant.html\">Qdrant</a></li>\\n<li class=\"toctree-l3\"><a class=\"reference internal\" href=\"../modules/indexes/vectorstores/examples/redis.html\">Redis</a></li>\\n<li class=\"toctree-l3\"><a class=\"reference internal\" href=\"../modules/indexes/vectorstores/examples/singlestoredb.html\">SingleStoreDB vector search</a></li>\\n<li class=\"toctree-l3\"><a class=\"reference internal\" href=\"../modules/indexes/vectorstores/examples/sklearn.html\">SKLearnVectorStore</a></li>\\n<li class=\"toctree-l3\"><a class=\"reference internal\" href=\"../modules/indexes/vectorstores/examples/supabase.html\">Supabase (Postgres)</a></li>\\n<li class=\"toctree-l3\"><a class=\"reference internal\" href=\"../modules/indexes/vectorstores/examples/tair.html\">Tair</a></li>\\n<li class=\"toctree-l3\"><a class=\"reference internal\" href=\"../modules/indexes/vectorstores/examples/tigris.html\">Tigris</a></li>\\n<li class=\"toctree-l3\"><a class=\"reference internal\" href=\"../modules/indexes/vectorstores/examples/typesense.html\">Typesense</a></li>\\n<li class=\"toctree-l3\"><a class=\"reference internal\" href=\"../modules/indexes/vectorstores/examples/vectara.html\">Vectara</a></li>\\n<li class=\"toctree-l3\"><a class=\"reference internal\" href=\"../modules/indexes/vectorstores/examples/weaviate.html\">Weaviate</a></li>\\n\\n\\n<li class=\"toctree-l3\"><a class=\"reference internal\" href=\"../modules/indexes/vectorstores/examples/zilliz.html\">Zilliz</a></li>\\n</ul>\\n</li>\\n<li class=\"toctree-l2 has-children\"><a class=\"reference internal\" href=\"../modules/indexes/retrievers.html\">Retrievers</a><input class=\"toctree-checkbox\" id=\"toctree-checkbox-21\" name=\"toctree-checkbox-21\" type=\"checkbox\"/><label class=\"toctree-toggle\" for=\"toctree-checkbox-21\"><i class=\"fa-solid fa-chevron-down\"></i></label><ul>\\n<li class=\"toctree-l3\"><a class=\"reference internal\" href=\"../modules/indexes/retrievers/examples/arxiv.html\">Arxiv</a></li>\\n<li class=\"toctree-l3\"><a class=\"reference internal\" href=\"../modules/indexes/retrievers/examples/aws_kendra_index_retriever.html\">AWS Kendra</a></li>\\n<li class=\"toctree-l3\"><a class=\"reference internal\" href=\"../modules/indexes/retrievers/examples/azure_cognitive_search.html\">Azure Cognitive Search</a></li>\\n<li class=\"toctree-l3\"><a class=\"reference internal\" href=\"../modules/indexes/retrievers/examples/chatgpt-plugin.html\">ChatGPT Plugin</a></li>\\n<li class=\"toctree-l3\"><a class=\"reference internal\" href=\"../modules/indexes/retrievers/examples/chroma_self_query.html\">Self-querying with Chroma</a></li>\\n<li class=\"toctree-l3\"><a class=\"reference internal\" href=\"../modules/indexes/retrievers/examples/cohere-reranker.html\">Cohere Reranker</a></li>\\n<li class=\"toctree-l3\"><a class=\"reference internal\" href=\"../modules/indexes/retrievers/examples/contextual-compression.html\">Contextual Compression</a></li>\\n\\n<li class=\"toctree-l3\"><a class=\"reference internal\" href=\"../modules/indexes/retrievers/examples/databerry.html\">Databerry</a></li>\\n<li class=\"toctree-l3\"><a class=\"reference internal\" href=\"../modules/indexes/retrievers/examples/elastic_search_bm25.html\">ElasticSearch BM25</a></li>\\n<li class=\"toctree-l3\"><a class=\"reference internal\" href=\"../modules/indexes/retrievers/examples/knn.html\">kNN</a></li>\\n<li class=\"toctree-l3\"><a class=\"reference internal\" href=\"../modules/indexes/retrievers/examples/merger_retriever.html\">LOTR (Merger Retriever)</a></li>\\n<li class=\"toctree-l3\"><a class=\"reference internal\" href=\"../modules/indexes/retrievers/examples/metal.html\">Metal</a></li>\\n<li class=\"toctree-l3\"><a class=\"reference internal\" href=\"../modules/indexes/retrievers/examples/pinecone_hybrid_search.html\">Pinecone Hybrid Search</a></li>\\n<li class=\"toctree-l3\"><a class=\"reference internal\" href=\"../modules/indexes/retrievers/examples/pubmed.html\">PubMed Retriever</a></li>\\n<li class=\"toctree-l3\"><a class=\"reference internal\" href=\"../modules/indexes/retrievers/examples/qdrant_self_query.html\">Self-querying with Qdrant</a></li>\\n<li class=\"toctree-l3\"><a class=\"reference internal\" href=\"../modules/indexes/retrievers/examples/self_query.html\">Self-querying</a></li>\\n<li class=\"toctree-l3\"><a class=\"reference internal\" href=\"../modules/indexes/retrievers/examples/svm.html\">SVM</a></li>\\n<li class=\"toctree-l3\"><a class=\"reference internal\" href=\"../modules/indexes/retrievers/examples/tf_idf.html\">TF-IDF</a></li>\\n<li class=\"toctree-l3\"><a class=\"reference internal\" href=\"../modules/indexes/retrievers/examples/time_weighted_vectorstore.html\">Time Weighted VectorStore</a></li>\\n<li class=\"toctree-l3\"><a class=\"reference internal\" href=\"../modules/indexes/retrievers/examples/vectorstore.html\">VectorStore</a></li>\\n<li class=\"toctree-l3\"><a class=\"reference internal\" href=\"../modules/indexes/retrievers/examples/vespa.html\">Vespa</a></li>\\n<li class=\"toctree-l3\"><a class=\"reference internal\" href=\"../modules/indexes/retrievers/examples/weaviate-hybrid.html\">Weaviate Hybrid Search</a></li>\\n<li class=\"toctree-l3\"><a class=\"reference internal\" href=\"../modules/indexes/retrievers/examples/weaviate_self_query.html\">Self-querying with Weaviate</a></li>\\n<li class=\"toctree-l3\"><a class=\"reference internal\" href=\"../modules/indexes/retrievers/examples/wikipedia.html\">Wikipedia</a></li>\\n<li class=\"toctree-l3\"><a class=\"reference internal\" href=\"../modules/indexes/retrievers/examples/zep_memorystore.html\">Zep</a></li>\\n</ul>\\n</li>\\n</ul>\\n</li>\\n<li class=\"toctree-l1 has-children\"><a class=\"reference internal\" href=\"../modules/chains.html\">Chains</a><input class=\"toctree-checkbox\" id=\"toctree-checkbox-22\" name=\"toctree-checkbox-22\" type=\"checkbox\"/><label class=\"toctree-toggle\" for=\"toctree-checkbox-22\"><i class=\"fa-solid fa-chevron-down\"></i></label><ul>\\n<li class=\"toctree-l2\"><a class=\"reference internal\" href=\"../modules/chains/getting_started.html\">Getting Started</a></li>\\n<li class=\"toctree-l2 has-children\"><a class=\"reference internal\" href=\"../modules/chains/how_to_guides.html\">How-To Guides</a><input class=\"toctree-checkbox\" id=\"toctree-checkbox-23\" name=\"toctree-checkbox-23\" type=\"checkbox\"/><label class=\"toctree-toggle\" for=\"toctree-checkbox-23\"><i class=\"fa-solid fa-chevron-down\"></i></label><ul>\\n<li class=\"toctree-l3\"><a class=\"reference internal\" href=\"../modules/chains/generic/async_chain.html\">Async API for Chain</a></li>\\n<li class=\"toctree-l3\"><a class=\"reference internal\" href=\"../modules/chains/generic/custom_chain.html\">Creating a custom Chain</a></li>\\n<li class=\"toctree-l3\"><a class=\"reference internal\" href=\"../modules/chains/generic/from_hub.html\">Loading from LangChainHub</a></li>\\n<li class=\"toctree-l3\"><a class=\"reference internal\" href=\"../modules/chains/generic/llm_chain.html\">LLM Chain</a></li>\\n\\n\\n\\n<li class=\"toctree-l3\"><a class=\"reference internal\" href=\"../modules/chains/generic/router.html\">Router Chains</a></li>\\n<li class=\"toctree-l3\"><a class=\"reference internal\" href=\"../modules/chains/generic/sequential_chains.html\">Sequential Chains</a></li>\\n<li class=\"toctree-l3\"><a class=\"reference internal\" href=\"../modules/chains/generic/serialization.html\">Serialization</a></li>\\n<li class=\"toctree-l3\"><a class=\"reference internal\" href=\"../modules/chains/generic/transformation.html\">Transformation Chain</a></li>\\n<li class=\"toctree-l3\"><a class=\"reference internal\" href=\"../modules/chains/index_examples/analyze_document.html\">Analyze Document</a></li>\\n<li class=\"toctree-l3\"><a class=\"reference internal\" href=\"../modules/chains/index_examples/chat_vector_db.html\">Chat Over Documents with Chat History</a></li>\\n<li class=\"toctree-l3\"><a class=\"reference internal\" href=\"../modules/chains/index_examples/graph_qa.html\">Graph QA</a></li>\\n<li class=\"toctree-l3\"><a class=\"reference internal\" href=\"../modules/chains/index_examples/hyde.html\">Hypothetical Document Embeddings</a></li>\\n<li class=\"toctree-l3\"><a class=\"reference internal\" href=\"../modules/chains/index_examples/qa_with_sources.html\">Question Answering with Sources</a></li>\\n<li class=\"toctree-l3\"><a class=\"reference internal\" href=\"../modules/chains/index_examples/question_answering.html\">Question Answering</a></li>\\n<li class=\"toctree-l3\"><a class=\"reference internal\" href=\"../modules/chains/index_examples/summarize.html\">Summarization</a></li>\\n<li class=\"toctree-l3\"><a class=\"reference internal\" href=\"../modules/chains/index_examples/vector_db_qa.html\">Retrieval Question/Answering</a></li>\\n<li class=\"toctree-l3\"><a class=\"reference internal\" href=\"../modules/chains/index_examples/vector_db_qa_with_sources.html\">Retrieval Question Answering with Sources</a></li>\\n<li class=\"toctree-l3\"><a class=\"reference internal\" href=\"../modules/chains/index_examples/vector_db_text_generation.html\">Vector DB Text Generation</a></li>\\n<li class=\"toctree-l3\"><a class=\"reference internal\" href=\"../modules/chains/examples/api.html\">API Chains</a></li>\\n<li class=\"toctree-l3\"><a class=\"reference internal\" href=\"../modules/chains/examples/constitutional_chain.html\">Self-Critique Chain with Constitutional AI</a></li>\\n<li class=\"toctree-l3\"><a class=\"reference internal\" href=\"../modules/chains/examples/flare.html\">FLARE</a></li>\\n<li class=\"toctree-l3\"><a class=\"reference internal\" href=\"../modules/chains/examples/graph_cypher_qa.html\">GraphCypherQAChain</a></li>\\n<li class=\"toctree-l3\"><a class=\"reference internal\" href=\"../modules/chains/examples/graph_nebula_qa.html\">NebulaGraphQAChain</a></li>\\n<li class=\"toctree-l3\"><a class=\"reference internal\" href=\"../modules/chains/examples/llm_bash.html\">BashChain</a></li>\\n<li class=\"toctree-l3\"><a class=\"reference internal\" href=\"../modules/chains/examples/llm_checker.html\">LLMCheckerChain</a></li>\\n<li class=\"toctree-l3\"><a class=\"reference internal\" href=\"../modules/chains/examples/llm_math.html\">LLM Math</a></li>\\n<li class=\"toctree-l3\"><a class=\"reference internal\" href=\"../modules/chains/examples/llm_requests.html\">LLMRequestsChain</a></li>\\n<li class=\"toctree-l3\"><a class=\"reference internal\" href=\"../modules/chains/examples/llm_summarization_checker.html\">LLMSummarizationCheckerChain</a></li>\\n<li class=\"toctree-l3\"><a class=\"reference internal\" href=\"../modules/chains/examples/moderation.html\">Moderation</a></li>\\n<li class=\"toctree-l3\"><a class=\"reference internal\" href=\"../modules/chains/examples/multi_prompt_router.html\">Router Chains: Selecting from multiple prompts with MultiPromptChain</a></li>\\n<li class=\"toctree-l3\"><a class=\"reference internal\" href=\"../modules/chains/examples/multi_retrieval_qa_router.html\">Router Chains: Selecting from multiple prompts with MultiRetrievalQAChain</a></li>\\n<li class=\"toctree-l3\"><a class=\"reference internal\" href=\"../modules/chains/examples/openapi.html\">OpenAPI Chain</a></li>\\n<li class=\"toctree-l3\"><a class=\"reference internal\" href=\"../modules/chains/examples/pal.html\">PAL</a></li>\\n<li class=\"toctree-l3\"><a class=\"reference internal\" href=\"../modules/chains/examples/sqlite.html\">SQL Chain example</a></li>\\n</ul>\\n</li>\\n<li class=\"toctree-l2\"><a class=\"reference internal\" href=\"../reference/modules/chains.html\">Reference</a></li>\\n</ul>\\n</li>\\n<li class=\"toctree-l1 has-children\"><a class=\"reference internal\" href=\"../modules/agents.html\">Agents</a><input class=\"toctree-checkbox\" id=\"toctree-checkbox-24\" name=\"toctree-checkbox-24\" type=\"checkbox\"/><label class=\"toctree-toggle\" for=\"toctree-checkbox-24\"><i class=\"fa-solid fa-chevron-down\"></i></label><ul>\\n<li class=\"toctree-l2\"><a class=\"reference internal\" href=\"../modules/agents/getting_started.html\">Getting Started</a></li>\\n<li class=\"toctree-l2 has-children\"><a class=\"reference internal\" href=\"../modules/agents/tools.html\">Tools</a><input class=\"toctree-checkbox\" id=\"toctree-checkbox-25\" name=\"toctree-checkbox-25\" type=\"checkbox\"/><label class=\"toctree-toggle\" for=\"toctree-checkbox-25\"><i class=\"fa-solid fa-chevron-down\"></i></label><ul>\\n<li class=\"toctree-l3\"><a class=\"reference internal\" href=\"../modules/agents/tools/getting_started.html\">Getting Started</a></li>\\n<li class=\"toctree-l3\"><a class=\"reference internal\" href=\"../modules/agents/tools/custom_tools.html\">Defining Custom Tools</a></li>\\n<li class=\"toctree-l3\"><a class=\"reference internal\" href=\"../modules/agents/tools/multi_input_tool.html\">Multi-Input Tools</a></li>\\n<li class=\"toctree-l3\"><a class=\"reference internal\" href=\"../modules/agents/tools/tool_input_validation.html\">Tool Input Schema</a></li>\\n<li class=\"toctree-l3\"><a class=\"reference internal\" href=\"../modules/agents/tools/examples/apify.html\">Apify</a></li>\\n<li class=\"toctree-l3\"><a class=\"reference internal\" href=\"../modules/agents/tools/examples/arxiv.html\">ArXiv API Tool</a></li>\\n<li class=\"toctree-l3\"><a class=\"reference internal\" href=\"../modules/agents/tools/examples/awslambda.html\">AWS Lambda API</a></li>\\n<li class=\"toctree-l3\"><a class=\"reference internal\" href=\"../modules/agents/tools/examples/bash.html\">Shell Tool</a></li>\\n<li class=\"toctree-l3\"><a class=\"reference internal\" href=\"../modules/agents/tools/examples/bing_search.html\">Bing Search</a></li>\\n<li class=\"toctree-l3\"><a class=\"reference internal\" href=\"../modules/agents/tools/examples/brave_search.html\">Brave Search</a></li>\\n<li class=\"toctree-l3\"><a class=\"reference internal\" href=\"../modules/agents/tools/examples/chatgpt_plugins.html\">ChatGPT Plugins</a></li>\\n<li class=\"toctree-l3\"><a class=\"reference internal\" href=\"../modules/agents/tools/examples/ddg.html\">DuckDuckGo Search</a></li>\\n<li class=\"toctree-l3\"><a class=\"reference internal\" href=\"../modules/agents/tools/examples/filesystem.html\">File System Tools</a></li>\\n<li class=\"toctree-l3\"><a class=\"reference internal\" href=\"../modules/agents/tools/examples/google_places.html\">Google Places</a></li>\\n<li class=\"toctree-l3\"><a class=\"reference internal\" href=\"../modules/agents/tools/examples/google_search.html\">Google Search</a></li>\\n<li class=\"toctree-l3\"><a class=\"reference internal\" href=\"../modules/agents/tools/examples/google_serper.html\">Google Serper API</a></li>\\n<li class=\"toctree-l3\"><a class=\"reference internal\" href=\"../modules/agents/tools/examples/gradio_tools.html\">Gradio Tools</a></li>\\n<li class=\"toctree-l3\"><a class=\"reference internal\" href=\"../modules/agents/tools/examples/graphql.html\">GraphQL tool</a></li>\\n<li class=\"toctree-l3\"><a class=\"reference internal\" href=\"../modules/agents/tools/examples/huggingface_tools.html\">HuggingFace Tools</a></li>\\n<li class=\"toctree-l3\"><a class=\"reference internal\" href=\"../modules/agents/tools/examples/human_tools.html\">Human as a tool</a></li>\\n<li class=\"toctree-l3\"><a class=\"reference internal\" href=\"../modules/agents/tools/examples/ifttt.html\">IFTTT WebHooks</a></li>\\n<li class=\"toctree-l3\"><a class=\"reference internal\" href=\"../modules/agents/tools/examples/metaphor_search.html\">Metaphor Search</a></li>\\n\\n\\n<li class=\"toctree-l3\"><a class=\"reference internal\" href=\"../modules/agents/tools/examples/openweathermap.html\">OpenWeatherMap API</a></li>\\n<li class=\"toctree-l3\"><a class=\"reference internal\" href=\"../modules/agents/tools/examples/pubmed.html\">PubMed Tool</a></li>\\n<li class=\"toctree-l3\"><a class=\"reference internal\" href=\"../modules/agents/tools/examples/python.html\">Python REPL</a></li>\\n<li class=\"toctree-l3\"><a class=\"reference internal\" href=\"../modules/agents/tools/examples/requests.html\">Requests</a></li>\\n<li class=\"toctree-l3\"><a class=\"reference internal\" href=\"../modules/agents/tools/examples/sceneXplain.html\">SceneXplain</a></li>\\n<li class=\"toctree-l3\"><a class=\"reference internal\" href=\"../modules/agents/tools/examples/search_tools.html\">Search Tools</a></li>\\n<li class=\"toctree-l3\"><a class=\"reference internal\" href=\"../modules/agents/tools/examples/searx_search.html\">SearxNG Search API</a></li>\\n<li class=\"toctree-l3\"><a class=\"reference internal\" href=\"../modules/agents/tools/examples/serpapi.html\">SerpAPI</a></li>\\n<li class=\"toctree-l3\"><a class=\"reference internal\" href=\"../modules/agents/tools/examples/twilio.html\">Twilio</a></li>\\n<li class=\"toctree-l3\"><a class=\"reference internal\" href=\"../modules/agents/tools/examples/wikipedia.html\">Wikipedia</a></li>\\n<li class=\"toctree-l3\"><a class=\"reference internal\" href=\"../modules/agents/tools/examples/wolfram_alpha.html\">Wolfram Alpha</a></li>\\n<li class=\"toctree-l3\"><a class=\"reference internal\" href=\"../modules/agents/tools/examples/youtube.html\">YouTubeSearchTool</a></li>\\n<li class=\"toctree-l3\"><a class=\"reference internal\" href=\"../modules/agents/tools/examples/zapier.html\">Zapier Natural Language Actions API</a></li>\\n\\n</ul>\\n</li>\\n<li class=\"toctree-l2 has-children\"><a class=\"reference internal\" href=\"../modules/agents/agents.html\">Agents</a><input class=\"toctree-checkbox\" id=\"toctree-checkbox-26\" name=\"toctree-checkbox-26\" type=\"checkbox\"/><label class=\"toctree-toggle\" for=\"toctree-checkbox-26\"><i class=\"fa-solid fa-chevron-down\"></i></label><ul>\\n<li class=\"toctree-l3\"><a class=\"reference internal\" href=\"../modules/agents/agents/agent_types.html\">Agent Types</a></li>\\n<li class=\"toctree-l3\"><a class=\"reference internal\" href=\"../modules/agents/agents/custom_agent.html\">Custom Agent</a></li>\\n<li class=\"toctree-l3\"><a class=\"reference internal\" href=\"../modules/agents/agents/custom_llm_agent.html\">Custom LLM Agent</a></li>\\n<li class=\"toctree-l3\"><a class=\"reference internal\" href=\"../modules/agents/agents/custom_llm_chat_agent.html\">Custom LLM Agent (with a ChatModel)</a></li>\\n<li class=\"toctree-l3\"><a class=\"reference internal\" href=\"../modules/agents/agents/custom_mrkl_agent.html\">Custom MRKL Agent</a></li>\\n<li class=\"toctree-l3\"><a class=\"reference internal\" href=\"../modules/agents/agents/custom_multi_action_agent.html\">Custom MultiAction Agent</a></li>\\n<li class=\"toctree-l3\"><a class=\"reference internal\" href=\"../modules/agents/agents/custom_agent_with_tool_retrieval.html\">Custom Agent with Tool Retrieval</a></li>\\n<li class=\"toctree-l3\"><a class=\"reference internal\" href=\"../modules/agents/agents/examples/chat_conversation_agent.html\">Conversation Agent (for Chat Models)</a></li>\\n<li class=\"toctree-l3\"><a class=\"reference internal\" href=\"../modules/agents/agents/examples/conversational_agent.html\">Conversation Agent</a></li>\\n<li class=\"toctree-l3\"><a class=\"reference internal\" href=\"../modules/agents/agents/examples/mrkl.html\">MRKL</a></li>\\n<li class=\"toctree-l3\"><a class=\"reference internal\" href=\"../modules/agents/agents/examples/mrkl_chat.html\">MRKL Chat</a></li>\\n<li class=\"toctree-l3\"><a class=\"reference internal\" href=\"../modules/agents/agents/examples/react.html\">ReAct</a></li>\\n<li class=\"toctree-l3\"><a class=\"reference internal\" href=\"../modules/agents/agents/examples/self_ask_with_search.html\">Self Ask With Search</a></li>\\n<li class=\"toctree-l3\"><a class=\"reference internal\" href=\"../modules/agents/agents/examples/structured_chat.html\">Structured Tool Chat Agent</a></li>\\n</ul>\\n</li>\\n<li class=\"toctree-l2 has-children\"><a class=\"reference internal\" href=\"../modules/agents/toolkits.html\">Toolkits</a><input class=\"toctree-checkbox\" id=\"toctree-checkbox-27\" name=\"toctree-checkbox-27\" type=\"checkbox\"/><label class=\"toctree-toggle\" for=\"toctree-checkbox-27\"><i class=\"fa-solid fa-chevron-down\"></i></label><ul>\\n<li class=\"toctree-l3\"><a class=\"reference internal\" href=\"../modules/agents/toolkits/examples/azure_cognitive_services.html\">Azure Cognitive Services Toolkit</a></li>\\n<li class=\"toctree-l3\"><a class=\"reference internal\" href=\"../modules/agents/toolkits/examples/csv.html\">CSV Agent</a></li>\\n<li class=\"toctree-l3\"><a class=\"reference internal\" href=\"../modules/agents/toolkits/examples/gmail.html\">Gmail Toolkit</a></li>\\n<li class=\"toctree-l3\"><a class=\"reference internal\" href=\"../modules/agents/toolkits/examples/jira.html\">Jira</a></li>\\n<li class=\"toctree-l3\"><a class=\"reference internal\" href=\"../modules/agents/toolkits/examples/json.html\">JSON Agent</a></li>\\n<li class=\"toctree-l3\"><a class=\"reference internal\" href=\"../modules/agents/toolkits/examples/openapi.html\">OpenAPI agents</a></li>\\n<li class=\"toctree-l3\"><a class=\"reference internal\" href=\"../modules/agents/toolkits/examples/openapi_nla.html\">Natural Language APIs</a></li>\\n<li class=\"toctree-l3\"><a class=\"reference internal\" href=\"../modules/agents/toolkits/examples/pandas.html\">Pandas Dataframe Agent</a></li>\\n<li class=\"toctree-l3\"><a class=\"reference internal\" href=\"../modules/agents/toolkits/examples/playwright.html\">PlayWright Browser Toolkit</a></li>\\n<li class=\"toctree-l3\"><a class=\"reference internal\" href=\"../modules/agents/toolkits/examples/powerbi.html\">PowerBI Dataset Agent</a></li>\\n<li class=\"toctree-l3\"><a class=\"reference internal\" href=\"../modules/agents/toolkits/examples/python.html\">Python Agent</a></li>\\n<li class=\"toctree-l3\"><a class=\"reference internal\" href=\"../modules/agents/toolkits/examples/spark.html\">Spark Dataframe Agent</a></li>\\n<li class=\"toctree-l3\"><a class=\"reference internal\" href=\"../modules/agents/toolkits/examples/spark_sql.html\">Spark SQL Agent</a></li>\\n<li class=\"toctree-l3\"><a class=\"reference internal\" href=\"../modules/agents/toolkits/examples/sql_database.html\">SQL Database Agent</a></li>\\n<li class=\"toctree-l3\"><a class=\"reference internal\" href=\"../modules/agents/toolkits/examples/vectorstore.html\">Vectorstore Agent</a></li>\\n</ul>\\n</li>\\n<li class=\"toctree-l2 has-children\"><a class=\"reference internal\" href=\"../modules/agents/agent_executors.html\">Agent Executors</a><input class=\"toctree-checkbox\" id=\"toctree-checkbox-28\" name=\"toctree-checkbox-28\" type=\"checkbox\"/><label class=\"toctree-toggle\" for=\"toctree-checkbox-28\"><i class=\"fa-solid fa-chevron-down\"></i></label><ul>\\n<li class=\"toctree-l3\"><a class=\"reference internal\" href=\"../modules/agents/agent_executors/examples/agent_vectorstore.html\">How to combine agents and vectorstores</a></li>\\n<li class=\"toctree-l3\"><a class=\"reference internal\" href=\"../modules/agents/agent_executors/examples/async_agent.html\">How to use the async API for Agents</a></li>\\n<li class=\"toctree-l3\"><a class=\"reference internal\" href=\"../modules/agents/agent_executors/examples/chatgpt_clone.html\">How to create ChatGPT Clone</a></li>\\n<li class=\"toctree-l3\"><a class=\"reference internal\" href=\"../modules/agents/agent_executors/examples/handle_parsing_errors.html\">Handle Parsing Errors</a></li>\\n<li class=\"toctree-l3\"><a class=\"reference internal\" href=\"../modules/agents/agent_executors/examples/intermediate_steps.html\">How to access intermediate steps</a></li>\\n<li class=\"toctree-l3\"><a class=\"reference internal\" href=\"../modules/agents/agent_executors/examples/max_iterations.html\">How to cap the max number of iterations</a></li>\\n<li class=\"toctree-l3\"><a class=\"reference internal\" href=\"../modules/agents/agent_executors/examples/max_time_limit.html\">How to use a timeout for the agent</a></li>\\n<li class=\"toctree-l3\"><a class=\"reference internal\" href=\"../modules/agents/agent_executors/examples/sharedmemory_for_tools.html\">How to add SharedMemory to an Agent and its Tools</a></li>\\n</ul>\\n</li>\\n<li class=\"toctree-l2\"><a class=\"reference internal\" href=\"../modules/agents/plan_and_execute.html\">Plan and Execute</a></li>\\n\\n\\n\\n\\n</ul>\\n</li>\\n<li class=\"toctree-l1\"><a class=\"reference internal\" href=\"../modules/callbacks/getting_started.html\">Callbacks</a></li>\\n\\n</ul>\\n<p aria-level=\"2\" class=\"caption\" role=\"heading\"><span class=\"caption-text\">Use Cases</span></p>\\n<ul class=\"current nav bd-sidenav\">\\n<li class=\"toctree-l1\"><a class=\"reference internal\" href=\"autonomous_agents.html\">Autonomous Agents</a></li>\\n<li class=\"toctree-l1\"><a class=\"reference internal\" href=\"agent_simulations.html\">Agent Simulations</a></li>\\n<li class=\"toctree-l1\"><a class=\"reference internal\" href=\"personal_assistants.html\">Agents</a></li>\\n<li class=\"toctree-l1\"><a class=\"reference internal\" href=\"question_answering.html\">Question Answering over Docs</a></li>\\n<li class=\"toctree-l1\"><a class=\"reference internal\" href=\"chatbots.html\">Chatbots</a></li>\\n<li class=\"toctree-l1\"><a class=\"reference internal\" href=\"tabular.html\">Querying Tabular Data</a></li>\\n<li class=\"toctree-l1\"><a class=\"reference internal\" href=\"code.html\">Code Understanding</a></li>\\n<li class=\"toctree-l1\"><a class=\"reference internal\" href=\"apis.html\">Interacting with APIs</a></li>\\n<li class=\"toctree-l1\"><a class=\"reference internal\" href=\"extraction.html\">Extraction</a></li>\\n<li class=\"toctree-l1 current active\"><a class=\"current reference internal\" href=\"#\">Summarization</a></li>\\n<li class=\"toctree-l1 has-children\"><a class=\"reference internal\" href=\"evaluation.html\">Evaluation</a><input class=\"toctree-checkbox\" id=\"toctree-checkbox-29\" name=\"toctree-checkbox-29\" type=\"checkbox\"/><label class=\"toctree-toggle\" for=\"toctree-checkbox-29\"><i class=\"fa-solid fa-chevron-down\"></i></label><ul>\\n<li class=\"toctree-l2\"><a class=\"reference internal\" href=\"evaluation/agent_benchmarking.html\">Agent Benchmarking: Search + Calculator</a></li>\\n<li class=\"toctree-l2\"><a class=\"reference internal\" href=\"evaluation/agent_vectordb_sota_pg.html\">Agent VectorDB Question Answering Benchmarking</a></li>\\n<li class=\"toctree-l2\"><a class=\"reference internal\" href=\"evaluation/benchmarking_template.html\">Benchmarking Template</a></li>\\n<li class=\"toctree-l2\"><a class=\"reference internal\" href=\"evaluation/data_augmented_question_answering.html\">Data Augmented Question Answering</a></li>\\n<li class=\"toctree-l2\"><a class=\"reference internal\" href=\"evaluation/generic_agent_evaluation.html\">Generic Agent Evaluation</a></li>\\n<li class=\"toctree-l2\"><a class=\"reference internal\" href=\"evaluation/huggingface_datasets.html\">Using Hugging Face Datasets</a></li>\\n<li class=\"toctree-l2\"><a class=\"reference internal\" href=\"evaluation/llm_math.html\">LLM Math</a></li>\\n<li class=\"toctree-l2\"><a class=\"reference internal\" href=\"evaluation/openapi_eval.html\">Evaluating an OpenAPI Chain</a></li>\\n<li class=\"toctree-l2\"><a class=\"reference internal\" href=\"evaluation/qa_benchmarking_pg.html\">Question Answering Benchmarking: Paul Graham Essay</a></li>\\n<li class=\"toctree-l2\"><a class=\"reference internal\" href=\"evaluation/qa_benchmarking_sota.html\">Question Answering Benchmarking: State of the Union Address</a></li>\\n<li class=\"toctree-l2\"><a class=\"reference internal\" href=\"evaluation/qa_generation.html\">QA Generation</a></li>\\n<li class=\"toctree-l2\"><a class=\"reference internal\" href=\"evaluation/question_answering.html\">Question Answering</a></li>\\n<li class=\"toctree-l2\"><a class=\"reference internal\" href=\"evaluation/sql_qa_benchmarking_chinook.html\">SQL Question Answering Benchmarking: Chinook</a></li>\\n</ul>\\n</li>\\n</ul>\\n<p aria-level=\"2\" class=\"caption\" role=\"heading\"><span class=\"caption-text\">Reference</span></p>\\n<ul class=\"nav bd-sidenav\">\\n<li class=\"toctree-l1\"><a class=\"reference internal\" href=\"../reference/installation.html\">Installation</a></li>\\n<li class=\"toctree-l1 has-children\"><a class=\"reference internal\" href=\"../reference.html\">API References</a><input class=\"toctree-checkbox\" id=\"toctree-checkbox-30\" name=\"toctree-checkbox-30\" type=\"checkbox\"/><label class=\"toctree-toggle\" for=\"toctree-checkbox-30\"><i class=\"fa-solid fa-chevron-down\"></i></label><ul>\\n<li class=\"toctree-l2 has-children\"><a class=\"reference internal\" href=\"../reference/models.html\">Models</a><input class=\"toctree-checkbox\" id=\"toctree-checkbox-31\" name=\"toctree-checkbox-31\" type=\"checkbox\"/><label class=\"toctree-toggle\" for=\"toctree-checkbox-31\"><i class=\"fa-solid fa-chevron-down\"></i></label><ul>\\n<li class=\"toctree-l3\"><a class=\"reference internal\" href=\"../reference/modules/llms.html\">LLMs</a></li>\\n<li class=\"toctree-l3\"><a class=\"reference internal\" href=\"../reference/modules/chat_models.html\">Chat Models</a></li>\\n<li class=\"toctree-l3\"><a class=\"reference internal\" href=\"../reference/modules/embeddings.html\">Embeddings</a></li>\\n</ul>\\n</li>\\n<li class=\"toctree-l2 has-children\"><a class=\"reference internal\" href=\"../reference/prompts.html\">Prompts</a><input class=\"toctree-checkbox\" id=\"toctree-checkbox-32\" name=\"toctree-checkbox-32\" type=\"checkbox\"/><label class=\"toctree-toggle\" for=\"toctree-checkbox-32\"><i class=\"fa-solid fa-chevron-down\"></i></label><ul>\\n<li class=\"toctree-l3\"><a class=\"reference internal\" href=\"../reference/modules/prompts.html\">PromptTemplates</a></li>\\n<li class=\"toctree-l3\"><a class=\"reference internal\" href=\"../reference/modules/example_selector.html\">Example Selector</a></li>\\n<li class=\"toctree-l3\"><a class=\"reference internal\" href=\"../reference/modules/output_parsers.html\">Output Parsers</a></li>\\n</ul>\\n</li>\\n<li class=\"toctree-l2 has-children\"><a class=\"reference internal\" href=\"../reference/indexes.html\">Indexes</a><input class=\"toctree-checkbox\" id=\"toctree-checkbox-33\" name=\"toctree-checkbox-33\" type=\"checkbox\"/><label class=\"toctree-toggle\" for=\"toctree-checkbox-33\"><i class=\"fa-solid fa-chevron-down\"></i></label><ul>\\n<li class=\"toctree-l3\"><a class=\"reference internal\" href=\"../reference/modules/docstore.html\">Docstore</a></li>\\n<li class=\"toctree-l3\"><a class=\"reference internal\" href=\"../reference/modules/text_splitter.html\">Text Splitter</a></li>\\n<li class=\"toctree-l3\"><a class=\"reference internal\" href=\"../reference/modules/document_loaders.html\">Document Loaders</a></li>\\n<li class=\"toctree-l3\"><a class=\"reference internal\" href=\"../reference/modules/vectorstores.html\">Vector Stores</a></li>\\n<li class=\"toctree-l3\"><a class=\"reference internal\" href=\"../reference/modules/retrievers.html\">Retrievers</a></li>\\n<li class=\"toctree-l3\"><a class=\"reference internal\" href=\"../reference/modules/document_compressors.html\">Document Compressors</a></li>\\n<li class=\"toctree-l3\"><a class=\"reference internal\" href=\"../reference/modules/document_transformers.html\">Document Transformers</a></li>\\n</ul>\\n</li>\\n<li class=\"toctree-l2\"><a class=\"reference internal\" href=\"../reference/modules/memory.html\">Memory</a></li>\\n<li class=\"toctree-l2\"><a class=\"reference internal\" href=\"../reference/modules/chains.html\">Chains</a></li>\\n<li class=\"toctree-l2 has-children\"><a class=\"reference internal\" href=\"../reference/agents.html\">Agents</a><input class=\"toctree-checkbox\" id=\"toctree-checkbox-34\" name=\"toctree-checkbox-34\" type=\"checkbox\"/><label class=\"toctree-toggle\" for=\"toctree-checkbox-34\"><i class=\"fa-solid fa-chevron-down\"></i></label><ul>\\n<li class=\"toctree-l3\"><a class=\"reference internal\" href=\"../reference/modules/agents.html\">Agents</a></li>\\n<li class=\"toctree-l3\"><a class=\"reference internal\" href=\"../reference/modules/tools.html\">Tools</a></li>\\n<li class=\"toctree-l3\"><a class=\"reference internal\" href=\"../reference/modules/agent_toolkits.html\">Agent Toolkits</a></li>\\n</ul>\\n</li>\\n<li class=\"toctree-l2\"><a class=\"reference internal\" href=\"../reference/modules/utilities.html\">Utilities</a></li>\\n<li class=\"toctree-l2\"><a class=\"reference internal\" href=\"../reference/modules/experimental.html\">Experimental Modules</a></li>\\n</ul>\\n</li>\\n</ul>\\n<p aria-level=\"2\" class=\"caption\" role=\"heading\"><span class=\"caption-text\">Ecosystem</span></p>\\n<ul class=\"nav bd-sidenav\">\\n<li class=\"toctree-l1 has-children\"><a class=\"reference internal\" href=\"../integrations.html\">Integrations</a><input class=\"toctree-checkbox\" id=\"toctree-checkbox-35\" name=\"toctree-checkbox-35\" type=\"checkbox\"/><label class=\"toctree-toggle\" for=\"toctree-checkbox-35\"><i class=\"fa-solid fa-chevron-down\"></i></label><ul>\\n<li class=\"toctree-l2\"><a class=\"reference internal\" href=\"../integrations/agent_with_wandb_tracing.html\">Tracing Walkthrough</a></li>\\n<li class=\"toctree-l2\"><a class=\"reference internal\" href=\"../integrations/ai21.html\">AI21 Labs</a></li>\\n<li class=\"toctree-l2\"><a class=\"reference internal\" href=\"../integrations/aim_tracking.html\">Aim</a></li>\\n<li class=\"toctree-l2\"><a class=\"reference internal\" href=\"../integrations/airbyte.html\">Airbyte</a></li>\\n<li class=\"toctree-l2\"><a class=\"reference internal\" href=\"../integrations/aleph_alpha.html\">Aleph Alpha</a></li>\\n<li class=\"toctree-l2\"><a class=\"reference internal\" href=\"../integrations/amazon_bedrock.html\">Amazon Bedrock</a></li>\\n<li class=\"toctree-l2\"><a class=\"reference internal\" href=\"../integrations/analyticdb.html\">AnalyticDB</a></li>\\n<li class=\"toctree-l2\"><a class=\"reference internal\" href=\"../integrations/annoy.html\">Annoy</a></li>\\n<li class=\"toctree-l2\"><a class=\"reference internal\" href=\"../integrations/anthropic.html\">Anthropic</a></li>\\n<li class=\"toctree-l2\"><a class=\"reference internal\" href=\"../integrations/anyscale.html\">Anyscale</a></li>\\n<li class=\"toctree-l2\"><a class=\"reference internal\" href=\"../integrations/apify.html\">Apify</a></li>\\n<li class=\"toctree-l2\"><a class=\"reference internal\" href=\"../integrations/argilla.html\">Argilla</a></li>\\n<li class=\"toctree-l2\"><a class=\"reference internal\" href=\"../integrations/arxiv.html\">Arxiv</a></li>\\n<li class=\"toctree-l2\"><a class=\"reference internal\" href=\"../integrations/atlas.html\">AtlasDB</a></li>\\n<li class=\"toctree-l2\"><a class=\"reference internal\" href=\"../integrations/awadb.html\">AwaDB</a></li>\\n<li class=\"toctree-l2\"><a class=\"reference internal\" href=\"../integrations/aws_s3.html\">AWS S3 Directory</a></li>\\n<li class=\"toctree-l2\"><a class=\"reference internal\" href=\"../integrations/azlyrics.html\">AZLyrics</a></li>\\n<li class=\"toctree-l2\"><a class=\"reference internal\" href=\"../integrations/azure_blob_storage.html\">Azure Blob Storage</a></li>\\n<li class=\"toctree-l2\"><a class=\"reference internal\" href=\"../integrations/azure_cognitive_search_.html\">Azure Cognitive Search</a></li>\\n<li class=\"toctree-l2\"><a class=\"reference internal\" href=\"../integrations/azure_openai.html\">Azure OpenAI</a></li>\\n<li class=\"toctree-l2\"><a class=\"reference internal\" href=\"../integrations/bananadev.html\">Banana</a></li>\\n<li class=\"toctree-l2\"><a class=\"reference internal\" href=\"../integrations/beam.html\">Beam</a></li>\\n<li class=\"toctree-l2\"><a class=\"reference internal\" href=\"../integrations/bilibili.html\">BiliBili</a></li>\\n<li class=\"toctree-l2\"><a class=\"reference internal\" href=\"../integrations/blackboard.html\">Blackboard</a></li>\\n<li class=\"toctree-l2\"><a class=\"reference internal\" href=\"../integrations/cassandra.html\">Cassandra</a></li>\\n<li class=\"toctree-l2\"><a class=\"reference internal\" href=\"../integrations/cerebriumai.html\">CerebriumAI</a></li>\\n<li class=\"toctree-l2\"><a class=\"reference internal\" href=\"../integrations/chroma.html\">Chroma</a></li>\\n<li class=\"toctree-l2\"><a class=\"reference internal\" href=\"../integrations/clearml_tracking.html\">ClearML</a></li>\\n<li class=\"toctree-l2\"><a class=\"reference internal\" href=\"../integrations/clickhouse.html\">ClickHouse</a></li>\\n<li class=\"toctree-l2\"><a class=\"reference internal\" href=\"../integrations/cohere.html\">Cohere</a></li>\\n<li class=\"toctree-l2\"><a class=\"reference internal\" href=\"../integrations/college_confidential.html\">College Confidential</a></li>\\n<li class=\"toctree-l2\"><a class=\"reference internal\" href=\"../integrations/comet_tracking.html\">Comet</a></li>\\n<li class=\"toctree-l2\"><a class=\"reference internal\" href=\"../integrations/confluence.html\">Confluence</a></li>\\n<li class=\"toctree-l2\"><a class=\"reference internal\" href=\"../integrations/ctransformers.html\">C Transformers</a></li>\\n<li class=\"toctree-l2\"><a class=\"reference internal\" href=\"../integrations/databerry.html\">Databerry</a></li>\\n<li class=\"toctree-l2\"><a class=\"reference internal\" href=\"../integrations/databricks.html\">Databricks</a></li>\\n<li class=\"toctree-l2\"><a class=\"reference internal\" href=\"../integrations/deepinfra.html\">DeepInfra</a></li>\\n<li class=\"toctree-l2\"><a class=\"reference internal\" href=\"../integrations/deeplake.html\">Deep Lake</a></li>\\n<li class=\"toctree-l2\"><a class=\"reference internal\" href=\"../integrations/diffbot.html\">Diffbot</a></li>\\n<li class=\"toctree-l2\"><a class=\"reference internal\" href=\"../integrations/discord.html\">Discord</a></li>\\n<li class=\"toctree-l2\"><a class=\"reference internal\" href=\"../integrations/docugami.html\">Docugami</a></li>\\n<li class=\"toctree-l2\"><a class=\"reference internal\" href=\"../integrations/duckdb.html\">DuckDB</a></li>\\n<li class=\"toctree-l2\"><a class=\"reference internal\" href=\"../integrations/elasticsearch.html\">Elasticsearch</a></li>\\n<li class=\"toctree-l2\"><a class=\"reference internal\" href=\"../integrations/evernote.html\">EverNote</a></li>\\n<li class=\"toctree-l2\"><a class=\"reference internal\" href=\"../integrations/facebook_chat.html\">Facebook Chat</a></li>\\n<li class=\"toctree-l2\"><a class=\"reference internal\" href=\"../integrations/figma.html\">Figma</a></li>\\n<li class=\"toctree-l2\"><a class=\"reference internal\" href=\"../integrations/forefrontai.html\">ForefrontAI</a></li>\\n<li class=\"toctree-l2\"><a class=\"reference internal\" href=\"../integrations/git.html\">Git</a></li>\\n<li class=\"toctree-l2\"><a class=\"reference internal\" href=\"../integrations/gitbook.html\">GitBook</a></li>\\n<li class=\"toctree-l2\"><a class=\"reference internal\" href=\"../integrations/google_bigquery.html\">Google BigQuery</a></li>\\n<li class=\"toctree-l2\"><a class=\"reference internal\" href=\"../integrations/google_cloud_storage.html\">Google Cloud Storage</a></li>\\n<li class=\"toctree-l2\"><a class=\"reference internal\" href=\"../integrations/google_drive.html\">Google Drive</a></li>\\n<li class=\"toctree-l2\"><a class=\"reference internal\" href=\"../integrations/google_search.html\">Google Search</a></li>\\n<li class=\"toctree-l2\"><a class=\"reference internal\" href=\"../integrations/google_serper.html\">Google Serper</a></li>\\n<li class=\"toctree-l2\"><a class=\"reference internal\" href=\"../integrations/google_vertex_ai.html\">Google Vertex AI</a></li>\\n<li class=\"toctree-l2\"><a class=\"reference internal\" href=\"../integrations/gooseai.html\">GooseAI</a></li>\\n<li class=\"toctree-l2\"><a class=\"reference internal\" href=\"../integrations/gpt4all.html\">GPT4All</a></li>\\n<li class=\"toctree-l2\"><a class=\"reference internal\" href=\"../integrations/graphsignal.html\">Graphsignal</a></li>\\n<li class=\"toctree-l2\"><a class=\"reference internal\" href=\"../integrations/gutenberg.html\">Gutenberg</a></li>\\n<li class=\"toctree-l2\"><a class=\"reference internal\" href=\"../integrations/hacker_news.html\">Hacker News</a></li>\\n<li class=\"toctree-l2\"><a class=\"reference internal\" href=\"../integrations/hazy_research.html\">Hazy Research</a></li>\\n<li class=\"toctree-l2\"><a class=\"reference internal\" href=\"../integrations/helicone.html\">Helicone</a></li>\\n<li class=\"toctree-l2\"><a class=\"reference internal\" href=\"../integrations/huggingface.html\">Hugging Face</a></li>\\n<li class=\"toctree-l2\"><a class=\"reference internal\" href=\"../integrations/ifixit.html\">iFixit</a></li>\\n<li class=\"toctree-l2\"><a class=\"reference internal\" href=\"../integrations/imsdb.html\">IMSDb</a></li>\\n<li class=\"toctree-l2\"><a class=\"reference internal\" href=\"../integrations/jina.html\">Jina</a></li>\\n<li class=\"toctree-l2\"><a class=\"reference internal\" href=\"../integrations/lancedb.html\">LanceDB</a></li>\\n<li class=\"toctree-l2\"><a class=\"reference internal\" href=\"../integrations/langchain_decorators.html\">LangChain Decorators ✨</a></li>\\n\\n\\n\\n\\n\\n\\n\\n\\n<li class=\"toctree-l2\"><a class=\"reference internal\" href=\"../integrations/llamacpp.html\">Llama.cpp</a></li>\\n<li class=\"toctree-l2\"><a class=\"reference internal\" href=\"../integrations/mediawikidump.html\">MediaWikiDump</a></li>\\n<li class=\"toctree-l2\"><a class=\"reference internal\" href=\"../integrations/metal.html\">Metal</a></li>\\n<li class=\"toctree-l2\"><a class=\"reference internal\" href=\"../integrations/microsoft_onedrive.html\">Microsoft OneDrive</a></li>\\n<li class=\"toctree-l2\"><a class=\"reference internal\" href=\"../integrations/microsoft_powerpoint.html\">Microsoft PowerPoint</a></li>\\n<li class=\"toctree-l2\"><a class=\"reference internal\" href=\"../integrations/microsoft_word.html\">Microsoft Word</a></li>\\n<li class=\"toctree-l2\"><a class=\"reference internal\" href=\"../integrations/milvus.html\">Milvus</a></li>\\n<li class=\"toctree-l2\"><a class=\"reference internal\" href=\"../integrations/mlflow_tracking.html\">MLflow</a></li>\\n<li class=\"toctree-l2\"><a class=\"reference internal\" href=\"../integrations/modal.html\">Modal</a></li>\\n<li class=\"toctree-l2\"><a class=\"reference internal\" href=\"../integrations/modern_treasury.html\">Modern Treasury</a></li>\\n<li class=\"toctree-l2\"><a class=\"reference internal\" href=\"../integrations/momento.html\">Momento</a></li>\\n<li class=\"toctree-l2\"><a class=\"reference internal\" href=\"../integrations/myscale.html\">MyScale</a></li>\\n<li class=\"toctree-l2\"><a class=\"reference internal\" href=\"../integrations/nlpcloud.html\">NLPCloud</a></li>\\n<li class=\"toctree-l2\"><a class=\"reference internal\" href=\"../integrations/notion.html\">Notion DB</a></li>\\n<li class=\"toctree-l2\"><a class=\"reference internal\" href=\"../integrations/obsidian.html\">Obsidian</a></li>\\n<li class=\"toctree-l2\"><a class=\"reference internal\" href=\"../integrations/openai.html\">OpenAI</a></li>\\n<li class=\"toctree-l2\"><a class=\"reference internal\" href=\"../integrations/opensearch.html\">OpenSearch</a></li>\\n<li class=\"toctree-l2\"><a class=\"reference internal\" href=\"../integrations/openweathermap.html\">OpenWeatherMap</a></li>\\n<li class=\"toctree-l2\"><a class=\"reference internal\" href=\"../integrations/petals.html\">Petals</a></li>\\n<li class=\"toctree-l2\"><a class=\"reference internal\" href=\"../integrations/pgvector.html\">PGVector</a></li>\\n<li class=\"toctree-l2\"><a class=\"reference internal\" href=\"../integrations/pinecone.html\">Pinecone</a></li>\\n<li class=\"toctree-l2\"><a class=\"reference internal\" href=\"../integrations/pipelineai.html\">PipelineAI</a></li>\\n<li class=\"toctree-l2\"><a class=\"reference internal\" href=\"../integrations/predictionguard.html\">Prediction Guard</a></li>\\n<li class=\"toctree-l2\"><a class=\"reference internal\" href=\"../integrations/promptlayer.html\">PromptLayer</a></li>\\n<li class=\"toctree-l2\"><a class=\"reference internal\" href=\"../integrations/psychic.html\">Psychic</a></li>\\n<li class=\"toctree-l2\"><a class=\"reference internal\" href=\"../integrations/qdrant.html\">Qdrant</a></li>\\n<li class=\"toctree-l2\"><a class=\"reference internal\" href=\"../integrations/ray_serve.html\">Ray Serve</a></li>\\n<li class=\"toctree-l2\"><a class=\"reference internal\" href=\"../integrations/rebuff.html\">Rebuff</a></li>\\n<li class=\"toctree-l2\"><a class=\"reference internal\" href=\"../integrations/reddit.html\">Reddit</a></li>\\n<li class=\"toctree-l2\"><a class=\"reference internal\" href=\"../integrations/redis.html\">Redis</a></li>\\n<li class=\"toctree-l2\"><a class=\"reference internal\" href=\"../integrations/replicate.html\">Replicate</a></li>\\n<li class=\"toctree-l2\"><a class=\"reference internal\" href=\"../integrations/roam.html\">Roam</a></li>\\n<li class=\"toctree-l2\"><a class=\"reference internal\" href=\"../integrations/runhouse.html\">Runhouse</a></li>\\n<li class=\"toctree-l2\"><a class=\"reference internal\" href=\"../integrations/rwkv.html\">RWKV-4</a></li>\\n<li class=\"toctree-l2\"><a class=\"reference internal\" href=\"../integrations/sagemaker_endpoint.html\">SageMaker Endpoint</a></li>\\n<li class=\"toctree-l2\"><a class=\"reference internal\" href=\"../integrations/searx.html\">SearxNG Search API</a></li>\\n<li class=\"toctree-l2\"><a class=\"reference internal\" href=\"../integrations/serpapi.html\">SerpAPI</a></li>\\n<li class=\"toctree-l2\"><a class=\"reference internal\" href=\"../integrations/shaleprotocol.html\">Shale Protocol</a></li>\\n<li class=\"toctree-l2\"><a class=\"reference internal\" href=\"../integrations/sklearn.html\">scikit-learn</a></li>\\n<li class=\"toctree-l2\"><a class=\"reference internal\" href=\"../integrations/slack.html\">Slack</a></li>\\n<li class=\"toctree-l2\"><a class=\"reference internal\" href=\"../integrations/spacy.html\">spaCy</a></li>\\n<li class=\"toctree-l2\"><a class=\"reference internal\" href=\"../integrations/spreedly.html\">Spreedly</a></li>\\n<li class=\"toctree-l2\"><a class=\"reference internal\" href=\"../integrations/stochasticai.html\">StochasticAI</a></li>\\n<li class=\"toctree-l2\"><a class=\"reference internal\" href=\"../integrations/stripe.html\">Stripe</a></li>\\n<li class=\"toctree-l2\"><a class=\"reference internal\" href=\"../integrations/tair.html\">Tair</a></li>\\n<li class=\"toctree-l2\"><a class=\"reference internal\" href=\"../integrations/telegram.html\">Telegram</a></li>\\n<li class=\"toctree-l2\"><a class=\"reference internal\" href=\"../integrations/tensorflow_hub.html\">Tensorflow Hub</a></li>\\n<li class=\"toctree-l2\"><a class=\"reference internal\" href=\"../integrations/tomarkdown.html\">2Markdown</a></li>\\n<li class=\"toctree-l2\"><a class=\"reference internal\" href=\"../integrations/trello.html\">Trello</a></li>\\n<li class=\"toctree-l2\"><a class=\"reference internal\" href=\"../integrations/twitter.html\">Twitter</a></li>\\n<li class=\"toctree-l2\"><a class=\"reference internal\" href=\"../integrations/unstructured.html\">Unstructured</a></li>\\n<li class=\"toctree-l2\"><a class=\"reference internal\" href=\"../integrations/vectara.html\">Vectara</a></li>\\n<li class=\"toctree-l2\"><a class=\"reference internal\" href=\"../integrations/vespa.html\">Vespa</a></li>\\n<li class=\"toctree-l2\"><a class=\"reference internal\" href=\"../integrations/wandb_tracking.html\">Weights &amp; Biases</a></li>\\n<li class=\"toctree-l2\"><a class=\"reference internal\" href=\"../integrations/weather.html\">Weather</a></li>\\n<li class=\"toctree-l2\"><a class=\"reference internal\" href=\"../integrations/weaviate.html\">Weaviate</a></li>\\n<li class=\"toctree-l2\"><a class=\"reference internal\" href=\"../integrations/whatsapp.html\">WhatsApp</a></li>\\n<li class=\"toctree-l2\"><a class=\"reference internal\" href=\"../integrations/whylabs_profiling.html\">WhyLabs</a></li>\\n<li class=\"toctree-l2\"><a class=\"reference internal\" href=\"../integrations/wikipedia.html\">Wikipedia</a></li>\\n<li class=\"toctree-l2\"><a class=\"reference internal\" href=\"../integrations/wolfram_alpha.html\">Wolfram Alpha</a></li>\\n<li class=\"toctree-l2\"><a class=\"reference internal\" href=\"../integrations/writer.html\">Writer</a></li>\\n<li class=\"toctree-l2\"><a class=\"reference internal\" href=\"../integrations/yeagerai.html\">Yeager.ai</a></li>\\n<li class=\"toctree-l2\"><a class=\"reference internal\" href=\"../integrations/youtube.html\">YouTube</a></li>\\n<li class=\"toctree-l2\"><a class=\"reference internal\" href=\"../integrations/zep.html\">Zep</a></li>\\n<li class=\"toctree-l2\"><a class=\"reference internal\" href=\"../integrations/zilliz.html\">Zilliz</a></li>\\n</ul>\\n</li>\\n<li class=\"toctree-l1\"><a class=\"reference internal\" href=\"../dependents.html\">Dependents</a></li>\\n<li class=\"toctree-l1\"><a class=\"reference internal\" href=\"../ecosystem/deployments.html\">Deployments</a></li>\\n</ul>\\n<p aria-level=\"2\" class=\"caption\" role=\"heading\"><span class=\"caption-text\">Additional Resources</span></p>\\n<ul class=\"nav bd-sidenav\">\\n<li class=\"toctree-l1\"><a class=\"reference external\" href=\"https://github.com/hwchase17/langchain-hub\">LangChainHub</a></li>\\n<li class=\"toctree-l1\"><a class=\"reference internal\" href=\"../additional_resources/deploy_llms.html\">Deploying LLMs in Production</a></li>\\n<li class=\"toctree-l1\"><a class=\"reference external\" href=\"https://github.com/kyrolabs/awesome-langchain\">Gallery</a></li>\\n<li class=\"toctree-l1\"><a class=\"reference internal\" href=\"../additional_resources/tracing.html\">Tracing</a></li>\\n<li class=\"toctree-l1\"><a class=\"reference internal\" href=\"../additional_resources/model_laboratory.html\">Model Comparison</a></li>\\n<li class=\"toctree-l1\"><a class=\"reference external\" href=\"https://discord.gg/6adMQxSpJS\">Discord</a></li>\\n<li class=\"toctree-l1\"><a class=\"reference internal\" href=\"../additional_resources/youtube.html\">YouTube</a></li>\\n<li class=\"toctree-l1\"><a class=\"reference external\" href=\"https://forms.gle/57d8AmXBYp8PP8tZA\">Production Support</a></li>\\n</ul>\\n\\n    </div>\\n</nav></div>\\n    </div>\\n  \\n  \\n  <div class=\"sidebar-primary-items__end sidebar-primary__section\">\\n      <div class=\"sidebar-primary-item\">\\n  <div id=\"ethical-ad-placement\"\\n       class=\"flat\"\\n       data-ea-publisher=\"readthedocs\"\\n       data-ea-type=\"readthedocs-sidebar\"\\n       data-ea-manual=\"true\">\\n  </div>\\n</div>\\n  </div>\\n  \\n  <div id=\"rtd-footer-container\"></div>\\n\\n\\n      </div>\\n      \\n      <main id=\"main-content\" class=\"bd-main\">\\n        \\n        \\n\\n<div class=\"sbt-scroll-pixel-helper\"></div>\\n\\n          <div class=\"bd-content\">\\n            <div class=\"bd-article-container\">\\n              \\n              <div class=\"bd-header-article\">\\n<div class=\"header-article-items header-article__inner\">\\n  \\n    <div class=\"header-article-items__start\">\\n      \\n        <div class=\"header-article-item\"><label class=\"sidebar-toggle primary-toggle btn btn-sm\" for=\"__primary\" title=\"Toggle primary sidebar\" data-bs-placement=\"bottom\" data-bs-toggle=\"tooltip\">\\n  <span class=\"fa-solid fa-bars\"></span>\\n</label></div>\\n      \\n    </div>\\n  \\n  \\n    <div class=\"header-article-items__end\">\\n      \\n        <div class=\"header-article-item\">\\n\\n<div class=\"article-header-buttons\">\\n\\n\\n<a href=\"https://github.com/hwchase17/langchain\" target=\"_blank\"\\n   class=\"btn btn-sm btn-source-repository-button\"\\n   title=\"Source repository\"\\n   data-bs-placement=\"bottom\" data-bs-toggle=\"tooltip\"\\n>\\n  \\n\\n<span class=\"btn__icon-container\">\\n  <i class=\"fab fa-github\"></i>\\n  </span>\\n\\n</a>\\n\\n\\n\\n\\n\\n\\n<div class=\"dropdown dropdown-download-buttons\">\\n  <button class=\"btn dropdown-toggle\" type=\"button\" data-bs-toggle=\"dropdown\" aria-expanded=\"false\" aria-label=\"Download this page\">\\n    <i class=\"fas fa-download\"></i>\\n  </button>\\n  <ul class=\"dropdown-menu\">\\n      \\n      \\n      \\n      <li><a href=\"../_sources/use_cases/summarization.md\" target=\"_blank\"\\n   class=\"btn btn-sm btn-download-source-button dropdown-item\"\\n   title=\"Download source file\"\\n   data-bs-placement=\"left\" data-bs-toggle=\"tooltip\"\\n>\\n  \\n\\n<span class=\"btn__icon-container\">\\n  <i class=\"fas fa-file\"></i>\\n  </span>\\n<span class=\"btn__text-container\">.md</span>\\n</a>\\n</li>\\n      \\n      \\n      \\n      \\n      <li>\\n<button onclick=\"window.print()\"\\n  class=\"btn btn-sm btn-download-pdf-button dropdown-item\"\\n  title=\"Print to PDF\"\\n  data-bs-placement=\"left\" data-bs-toggle=\"tooltip\"\\n>\\n  \\n\\n<span class=\"btn__icon-container\">\\n  <i class=\"fas fa-file-pdf\"></i>\\n  </span>\\n<span class=\"btn__text-container\">.pdf</span>\\n</button>\\n</li>\\n      \\n  </ul>\\n</div>\\n\\n\\n\\n\\n<button onclick=\"toggleFullScreen()\"\\n  class=\"btn btn-sm btn-fullscreen-button\"\\n  title=\"Fullscreen mode\"\\n  data-bs-placement=\"bottom\" data-bs-toggle=\"tooltip\"\\n>\\n  \\n\\n<span class=\"btn__icon-container\">\\n  <i class=\"fas fa-expand\"></i>\\n  </span>\\n\\n</button>\\n\\n\\n<script>\\ndocument.write(`\\n  <button class=\"theme-switch-button btn btn-sm btn-outline-primary navbar-btn rounded-circle\" title=\"light/dark\" aria-label=\"light/dark\" data-bs-placement=\"bottom\" data-bs-toggle=\"tooltip\">\\n    <span class=\"theme-switch\" data-mode=\"light\"><i class=\"fa-solid fa-sun\"></i></span>\\n    <span class=\"theme-switch\" data-mode=\"dark\"><i class=\"fa-solid fa-moon\"></i></span>\\n    <span class=\"theme-switch\" data-mode=\"auto\"><i class=\"fa-solid fa-circle-half-stroke\"></i></span>\\n  </button>\\n`);\\n</script>\\n\\n<script>\\ndocument.write(`\\n  <button class=\"btn btn-sm navbar-btn search-button search-button__button\" title=\"Search\" aria-label=\"Search\" data-bs-placement=\"bottom\" data-bs-toggle=\"tooltip\">\\n    <i class=\"fa-solid fa-magnifying-glass\"></i>\\n  </button>\\n`);\\n</script>\\n\\n</div></div>\\n      \\n    </div>\\n  \\n</div>\\n</div>\\n              \\n              \\n\\n<div id=\"jb-print-docs-body\" class=\"onlyprint\">\\n    <h1>Summarization</h1>\\n    <!-- Table of contents -->\\n    <div id=\"print-main-content\">\\n        <div id=\"jb-print-toc\">\\n            \\n        </div>\\n    </div>\\n</div>\\n\\n              \\n                \\n<div id=\"searchbox\"></div>\\n                <article class=\"bd-article\" role=\"main\">\\n                  \\n  <section id=\"summarization\">\\n<h1>Summarization<a class=\"headerlink\" href=\"#summarization\" title=\"Permalink to this headline\">#</a></h1>\\n<blockquote>\\n<div><p><a class=\"reference external\" href=\"https://docs.langchain.com/docs/use-cases/summarization\">Conceptual Guide</a></p>\\n</div></blockquote>\\n<p>Summarization involves creating a smaller summary of multiple longer documents.\\nThis can be useful for distilling long documents into the core pieces of information.</p>\\n<p>The recommended way to get started using a summarization chain is:</p>\\n<div class=\"highlight-python notranslate\"><div class=\"highlight\"><pre><span></span><span class=\"kn\">from</span> <span class=\"nn\">langchain.chains.summarize</span> <span class=\"kn\">import</span> <span class=\"n\">load_summarize_chain</span>\\n<span class=\"n\">chain</span> <span class=\"o\">=</span> <span class=\"n\">load_summarize_chain</span><span class=\"p\">(</span><span class=\"n\">llm</span><span class=\"p\">,</span> <span class=\"n\">chain_type</span><span class=\"o\">=</span><span class=\"s2\">&quot;map_reduce&quot;</span><span class=\"p\">)</span>\\n<span class=\"n\">chain</span><span class=\"o\">.</span><span class=\"n\">run</span><span class=\"p\">(</span><span class=\"n\">docs</span><span class=\"p\">)</span>\\n</pre></div>\\n</div>\\n<p>The following resources exist:</p>\\n<ul class=\"simple\">\\n<li><p><a class=\"reference internal\" href=\"../modules/chains/index_examples/summarize.html\"><span class=\"doc std std-doc\">Summarization Notebook</span></a>: A notebook walking through how to accomplish this task.</p></li>\\n</ul>\\n<p>Additional related resources include:</p>\\n<ul class=\"simple\">\\n<li><p><span class=\"xref myst\">Utilities for working with Documents</span>: Guides on how to use several of the utilities which will prove helpful for this task, including Text Splitters (for splitting up long documents).</p></li>\\n</ul>\\n</section>\\n\\n\\n                </article>\\n              \\n\\n              \\n              \\n                <footer class=\"bd-footer-article\">\\n                  <!-- Previous / next buttons -->\\n<div class=\"prev-next-area\">\\n    <a class=\"left-prev\"\\n       href=\"extraction.html\"\\n       title=\"previous page\">\\n      <i class=\"fa-solid fa-angle-left\"></i>\\n      <div class=\"prev-next-info\">\\n        <p class=\"prev-next-subtitle\">previous</p>\\n        <p class=\"prev-next-title\">Extraction</p>\\n      </div>\\n    </a>\\n    <a class=\"right-next\"\\n       href=\"evaluation.html\"\\n       title=\"next page\">\\n      <div class=\"prev-next-info\">\\n        <p class=\"prev-next-subtitle\">next</p>\\n        <p class=\"prev-next-title\">Evaluation</p>\\n      </div>\\n      <i class=\"fa-solid fa-angle-right\"></i>\\n    </a>\\n</div>\\n                </footer>\\n              \\n            </div>\\n            \\n            \\n              \\n            \\n          </div>\\n          <footer class=\"bd-footer-content\">\\n            <div class=\"bd-footer-content__inner\">\\n<div class=\"bd-footer-content__inner container\">\\n  \\n  <div class=\"footer-item\">\\n    \\n<p class=\"component-author\">\\nBy Harrison Chase\\n</p>\\n\\n  </div>\\n  \\n  <div class=\"footer-item\">\\n    \\n  <p class=\"copyright\">\\n    \\n      © Copyright 2023, Harrison Chase.\\n      <br/>\\n    \\n  </p>\\n\\n  </div>\\n  \\n  <div class=\"footer-item\">\\n    <p class=\"last-updated\">\\n  Last updated on Jun 13, 2023.\\n  <br/>\\n</p>\\n  </div>\\n  \\n  <div class=\"footer-item\">\\n    \\n  </div>\\n  \\n</div></div>\\n          </footer>\\n        \\n\\n      </main>\\n    </div>\\n  </div>\\n  \\n  <!-- Scripts loaded after <body> so the DOM is not blocked -->\\n  <script src=\"../_static/scripts/bootstrap.js?digest=12da95d707ffb74b382d\"></script>\\n<script src=\"../_static/scripts/pydata-sphinx-theme.js?digest=12da95d707ffb74b382d\"></script>\\n\\n  <footer class=\"bd-footer\">\\n  </footer>\\n  </body>\\n</html>'"
     },
     "execution_count": 198,
     "metadata": {},
     "output_type": "execute_result"
    }
   ],
   "source": [
    "# Function for getting the text data from a website url\n",
    "def get_data(url):\n",
    "\tr = requests.get(url)\n",
    "\treturn r.text\n",
    "\n",
    "get_data('https://python.langchain.com/en/latest/use_cases/summarization.html')"
   ],
   "metadata": {
    "collapsed": false,
    "ExecuteTime": {
     "end_time": "2023-06-13T15:02:06.340843Z",
     "start_time": "2023-06-13T15:02:05.486230Z"
    }
   }
  },
  {
   "cell_type": "code",
   "execution_count": 199,
   "outputs": [
    {
     "data": {
      "text/plain": "['#main-content',\n '#',\n 'getting_started/getting_started.html',\n 'getting_started/concepts.html',\n 'getting_started/tutorials.html',\n 'modules/models.html',\n 'modules/models/getting_started.html',\n 'modules/models/llms.html',\n 'modules/models/llms/getting_started.html',\n 'modules/models/llms/how_to_guides.html',\n 'modules/models/llms/examples/async_llm.html',\n 'modules/models/llms/examples/custom_llm.html',\n 'modules/models/llms/examples/fake_llm.html',\n 'modules/models/llms/examples/human_input_llm.html',\n 'modules/models/llms/examples/llm_caching.html',\n 'modules/models/llms/examples/llm_serialization.html',\n 'modules/models/llms/examples/streaming_llm.html',\n 'modules/models/llms/examples/token_usage_tracking.html',\n 'modules/models/llms/integrations.html',\n 'modules/models/llms/integrations/ai21.html',\n 'modules/models/llms/integrations/aleph_alpha.html',\n 'modules/models/llms/integrations/anyscale.html',\n 'modules/models/llms/integrations/aviary.html',\n 'modules/models/llms/integrations/azure_openai_example.html',\n 'modules/models/llms/integrations/banana.html',\n 'modules/models/llms/integrations/baseten.html',\n 'modules/models/llms/integrations/beam.html',\n 'modules/models/llms/integrations/bedrock.html',\n 'modules/models/llms/integrations/cerebriumai_example.html',\n 'modules/models/llms/integrations/cohere.html',\n 'modules/models/llms/integrations/ctransformers.html',\n 'modules/models/llms/integrations/databricks.html',\n 'modules/models/llms/integrations/deepinfra_example.html',\n 'modules/models/llms/integrations/forefrontai_example.html',\n 'modules/models/llms/integrations/google_vertex_ai_palm.html',\n 'modules/models/llms/integrations/gooseai_example.html',\n 'modules/models/llms/integrations/gpt4all.html',\n 'modules/models/llms/integrations/huggingface_hub.html',\n 'modules/models/llms/integrations/huggingface_pipelines.html',\n 'modules/models/llms/integrations/huggingface_textgen_inference.html',\n 'modules/models/llms/integrations/jsonformer_experimental.html',\n 'modules/models/llms/integrations/llamacpp.html',\n 'modules/models/llms/integrations/manifest.html',\n 'modules/models/llms/integrations/modal.html',\n 'modules/models/llms/integrations/mosaicml.html',\n 'modules/models/llms/integrations/nlpcloud.html',\n 'modules/models/llms/integrations/openai.html',\n 'modules/models/llms/integrations/openlm.html',\n 'modules/models/llms/integrations/petals_example.html',\n 'modules/models/llms/integrations/pipelineai_example.html',\n 'modules/models/llms/integrations/predictionguard.html',\n 'modules/models/llms/integrations/promptlayer_openai.html',\n 'modules/models/llms/integrations/rellm_experimental.html',\n 'modules/models/llms/integrations/replicate.html',\n 'modules/models/llms/integrations/runhouse.html',\n 'modules/models/llms/integrations/sagemaker.html',\n 'modules/models/llms/integrations/stochasticai.html',\n 'modules/models/llms/integrations/writer.html',\n 'reference/modules/llms.html',\n 'modules/models/chat.html',\n 'modules/models/chat/getting_started.html',\n 'modules/models/chat/how_to_guides.html',\n 'modules/models/chat/examples/few_shot_examples.html',\n 'modules/models/chat/examples/streaming.html',\n 'modules/models/chat/integrations.html',\n 'modules/models/chat/integrations/anthropic.html',\n 'modules/models/chat/integrations/azure_chat_openai.html',\n 'modules/models/chat/integrations/google_vertex_ai_palm.html',\n 'modules/models/chat/integrations/openai.html',\n 'modules/models/chat/integrations/promptlayer_chatopenai.html',\n 'modules/models/text_embedding.html',\n 'modules/models/text_embedding/examples/aleph_alpha.html',\n 'modules/models/text_embedding/examples/amazon_bedrock.html',\n 'modules/models/text_embedding/examples/azureopenai.html',\n 'modules/models/text_embedding/examples/cohere.html',\n 'modules/models/text_embedding/examples/dashscope.html',\n 'modules/models/text_embedding/examples/deepinfra.html',\n 'modules/models/text_embedding/examples/elasticsearch.html',\n 'modules/models/text_embedding/examples/embaas.html',\n 'modules/models/text_embedding/examples/fake.html',\n 'modules/models/text_embedding/examples/google_vertex_ai_palm.html',\n 'modules/models/text_embedding/examples/huggingface_hub.html',\n 'modules/models/text_embedding/examples/huggingface_instruct.html',\n 'modules/models/text_embedding/examples/jina.html',\n 'modules/models/text_embedding/examples/llamacpp.html',\n 'modules/models/text_embedding/examples/minimax.html',\n 'modules/models/text_embedding/examples/modelscope_hub.html',\n 'modules/models/text_embedding/examples/mosaicml.html',\n 'modules/models/text_embedding/examples/openai.html',\n 'modules/models/text_embedding/examples/sagemaker-endpoint.html',\n 'modules/models/text_embedding/examples/self-hosted.html',\n 'modules/models/text_embedding/examples/sentence_transformers.html',\n 'modules/models/text_embedding/examples/tensorflowhub.html',\n 'modules/prompts.html',\n 'modules/prompts/getting_started.html',\n 'modules/prompts/prompt_templates.html',\n 'modules/prompts/prompt_templates/getting_started.html',\n 'modules/prompts/prompt_templates/how_to_guides.html',\n 'modules/prompts/prompt_templates/examples/connecting_to_a_feature_store.html',\n 'modules/prompts/prompt_templates/examples/custom_prompt_template.html',\n 'modules/prompts/prompt_templates/examples/few_shot_examples.html',\n 'modules/prompts/prompt_templates/examples/partial.html',\n 'modules/prompts/prompt_templates/examples/prompt_composition.html',\n 'modules/prompts/prompt_templates/examples/prompt_serialization.html',\n 'reference/prompts.html',\n 'reference/modules/prompts.html',\n 'reference/modules/example_selector.html',\n 'reference/modules/output_parsers.html',\n 'modules/prompts/chat_prompt_template.html',\n 'modules/prompts/example_selectors.html',\n 'modules/prompts/example_selectors/examples/custom_example_selector.html',\n 'modules/prompts/example_selectors/examples/length_based.html',\n 'modules/prompts/example_selectors/examples/mmr.html',\n 'modules/prompts/example_selectors/examples/ngram_overlap.html',\n 'modules/prompts/example_selectors/examples/similarity.html',\n 'modules/prompts/output_parsers.html',\n 'modules/prompts/output_parsers/getting_started.html',\n 'modules/prompts/output_parsers/examples/comma_separated.html',\n 'modules/prompts/output_parsers/examples/datetime.html',\n 'modules/prompts/output_parsers/examples/enum.html',\n 'modules/prompts/output_parsers/examples/output_fixing_parser.html',\n 'modules/prompts/output_parsers/examples/pydantic.html',\n 'modules/prompts/output_parsers/examples/retry.html',\n 'modules/prompts/output_parsers/examples/structured.html',\n 'modules/memory.html',\n 'modules/memory/getting_started.html',\n 'modules/memory/how_to_guides.html',\n 'modules/memory/types/buffer.html',\n 'modules/memory/types/buffer_window.html',\n 'modules/memory/types/entity_summary_memory.html',\n 'modules/memory/types/kg.html',\n 'modules/memory/types/summary.html',\n 'modules/memory/types/summary_buffer.html',\n 'modules/memory/types/token_buffer.html',\n 'modules/memory/types/vectorstore_retriever_memory.html',\n 'modules/memory/examples/adding_memory.html',\n 'modules/memory/examples/adding_memory_chain_multiple_inputs.html',\n 'modules/memory/examples/agent_with_memory.html',\n 'modules/memory/examples/agent_with_memory_in_db.html',\n 'modules/memory/examples/cassandra_chat_message_history.html',\n 'modules/memory/examples/conversational_customization.html',\n 'modules/memory/examples/custom_memory.html',\n 'modules/memory/examples/dynamodb_chat_message_history.html',\n 'modules/memory/examples/entity_memory_with_sqlite.html',\n 'modules/memory/examples/momento_chat_message_history.html',\n 'modules/memory/examples/mongodb_chat_message_history.html',\n 'modules/memory/examples/motorhead_memory.html',\n 'modules/memory/examples/motorhead_memory_managed.html',\n 'modules/memory/examples/multiple_memory.html',\n 'modules/memory/examples/postgres_chat_message_history.html',\n 'modules/memory/examples/redis_chat_message_history.html',\n 'modules/memory/examples/zep_memory.html',\n 'modules/indexes.html',\n 'modules/indexes/getting_started.html',\n 'modules/indexes/document_loaders.html',\n 'modules/indexes/document_loaders/examples/airtable.html',\n 'modules/indexes/document_loaders/examples/audio.html',\n 'modules/indexes/document_loaders/examples/conll-u.html',\n 'modules/indexes/document_loaders/examples/copypaste.html',\n 'modules/indexes/document_loaders/examples/csv.html',\n 'modules/indexes/document_loaders/examples/email.html',\n 'modules/indexes/document_loaders/examples/epub.html',\n 'modules/indexes/document_loaders/examples/evernote.html',\n 'modules/indexes/document_loaders/examples/excel.html',\n 'modules/indexes/document_loaders/examples/facebook_chat.html',\n 'modules/indexes/document_loaders/examples/file_directory.html',\n 'modules/indexes/document_loaders/examples/html.html',\n 'modules/indexes/document_loaders/examples/image.html',\n 'modules/indexes/document_loaders/examples/jupyter_notebook.html',\n 'modules/indexes/document_loaders/examples/json.html',\n 'modules/indexes/document_loaders/examples/markdown.html',\n 'modules/indexes/document_loaders/examples/microsoft_powerpoint.html',\n 'modules/indexes/document_loaders/examples/microsoft_word.html',\n 'modules/indexes/document_loaders/examples/odt.html',\n 'modules/indexes/document_loaders/examples/pandas_dataframe.html',\n 'modules/indexes/document_loaders/examples/pdf.html',\n 'modules/indexes/document_loaders/examples/sitemap.html',\n 'modules/indexes/document_loaders/examples/subtitle.html',\n 'modules/indexes/document_loaders/examples/telegram.html',\n 'modules/indexes/document_loaders/examples/toml.html',\n 'modules/indexes/document_loaders/examples/unstructured_file.html',\n 'modules/indexes/document_loaders/examples/url.html',\n 'modules/indexes/document_loaders/examples/web_base.html',\n 'modules/indexes/document_loaders/examples/weather.html',\n 'modules/indexes/document_loaders/examples/whatsapp_chat.html',\n 'modules/indexes/document_loaders/examples/arxiv.html',\n 'modules/indexes/document_loaders/examples/azlyrics.html',\n 'modules/indexes/document_loaders/examples/bilibili.html',\n 'modules/indexes/document_loaders/examples/college_confidential.html',\n 'modules/indexes/document_loaders/examples/gutenberg.html',\n 'modules/indexes/document_loaders/examples/hacker_news.html',\n 'modules/indexes/document_loaders/examples/hugging_face_dataset.html',\n 'modules/indexes/document_loaders/examples/ifixit.html',\n 'modules/indexes/document_loaders/examples/imsdb.html',\n 'modules/indexes/document_loaders/examples/mediawikidump.html',\n 'modules/indexes/document_loaders/examples/wikipedia.html',\n 'modules/indexes/document_loaders/examples/youtube_transcript.html',\n 'modules/indexes/document_loaders/examples/airbyte_json.html',\n 'modules/indexes/document_loaders/examples/apify_dataset.html',\n 'modules/indexes/document_loaders/examples/aws_s3_directory.html',\n 'modules/indexes/document_loaders/examples/aws_s3_file.html',\n 'modules/indexes/document_loaders/examples/azure_blob_storage_container.html',\n 'modules/indexes/document_loaders/examples/azure_blob_storage_file.html',\n 'modules/indexes/document_loaders/examples/blackboard.html',\n 'modules/indexes/document_loaders/examples/blockchain.html',\n 'modules/indexes/document_loaders/examples/chatgpt_loader.html',\n 'modules/indexes/document_loaders/examples/confluence.html',\n 'modules/indexes/document_loaders/examples/diffbot.html',\n 'modules/indexes/document_loaders/examples/docugami.html',\n 'modules/indexes/document_loaders/examples/duckdb.html',\n 'modules/indexes/document_loaders/examples/fauna.html',\n 'modules/indexes/document_loaders/examples/figma.html',\n 'modules/indexes/document_loaders/examples/gitbook.html',\n 'modules/indexes/document_loaders/examples/git.html',\n 'modules/indexes/document_loaders/examples/google_bigquery.html',\n 'modules/indexes/document_loaders/examples/google_cloud_storage_directory.html',\n 'modules/indexes/document_loaders/examples/google_cloud_storage_file.html',\n 'modules/indexes/document_loaders/examples/google_drive.html',\n 'modules/indexes/document_loaders/examples/image_captions.html',\n 'modules/indexes/document_loaders/examples/iugu.html',\n 'modules/indexes/document_loaders/examples/joplin.html',\n 'modules/indexes/document_loaders/examples/microsoft_onedrive.html',\n 'modules/indexes/document_loaders/examples/modern_treasury.html',\n 'modules/indexes/document_loaders/examples/notiondb.html',\n 'modules/indexes/document_loaders/examples/notion.html',\n 'modules/indexes/document_loaders/examples/obsidian.html',\n 'modules/indexes/document_loaders/examples/psychic.html',\n 'modules/indexes/document_loaders/examples/pyspark_dataframe.html',\n 'modules/indexes/document_loaders/examples/readthedocs_documentation.html',\n 'modules/indexes/document_loaders/examples/reddit.html',\n 'modules/indexes/document_loaders/examples/roam.html',\n 'modules/indexes/document_loaders/examples/slack.html',\n 'modules/indexes/document_loaders/examples/snowflake.html',\n 'modules/indexes/document_loaders/examples/spreedly.html',\n 'modules/indexes/document_loaders/examples/stripe.html',\n 'modules/indexes/document_loaders/examples/tomarkdown.html',\n 'modules/indexes/document_loaders/examples/twitter.html',\n 'modules/indexes/text_splitters.html',\n 'modules/indexes/text_splitters/getting_started.html',\n 'modules/indexes/text_splitters/examples/character_text_splitter.html',\n 'modules/indexes/text_splitters/examples/code_splitter.html',\n 'modules/indexes/text_splitters/examples/nltk.html',\n 'modules/indexes/text_splitters/examples/recursive_text_splitter.html',\n 'modules/indexes/text_splitters/examples/spacy.html',\n 'modules/indexes/text_splitters/examples/tiktoken_splitter.html',\n 'modules/indexes/text_splitters/examples/huggingface_length_function.html',\n 'modules/indexes/text_splitters/examples/tiktoken.html',\n 'modules/indexes/vectorstores.html',\n 'modules/indexes/vectorstores/getting_started.html',\n 'modules/indexes/vectorstores/examples/analyticdb.html',\n 'modules/indexes/vectorstores/examples/annoy.html',\n 'modules/indexes/vectorstores/examples/atlas.html',\n 'modules/indexes/vectorstores/examples/awadb.html',\n 'modules/indexes/vectorstores/examples/azuresearch.html',\n 'modules/indexes/vectorstores/examples/chroma.html',\n 'modules/indexes/vectorstores/examples/clickhouse.html',\n 'modules/indexes/vectorstores/examples/deeplake.html',\n 'modules/indexes/vectorstores/examples/docarray_hnsw.html',\n 'modules/indexes/vectorstores/examples/docarray_in_memory.html',\n 'modules/indexes/vectorstores/examples/elasticsearch.html',\n 'modules/indexes/vectorstores/examples/faiss.html',\n 'modules/indexes/vectorstores/examples/hologres.html',\n 'modules/indexes/vectorstores/examples/lancedb.html',\n 'modules/indexes/vectorstores/examples/matchingengine.html',\n 'modules/indexes/vectorstores/examples/milvus.html',\n 'modules/indexes/vectorstores/examples/myscale.html',\n 'modules/indexes/vectorstores/examples/opensearch.html',\n 'modules/indexes/vectorstores/examples/pgvector.html',\n 'modules/indexes/vectorstores/examples/pinecone.html',\n 'modules/indexes/vectorstores/examples/qdrant.html',\n 'modules/indexes/vectorstores/examples/redis.html',\n 'modules/indexes/vectorstores/examples/singlestoredb.html',\n 'modules/indexes/vectorstores/examples/sklearn.html',\n 'modules/indexes/vectorstores/examples/supabase.html',\n 'modules/indexes/vectorstores/examples/tair.html',\n 'modules/indexes/vectorstores/examples/tigris.html',\n 'modules/indexes/vectorstores/examples/typesense.html',\n 'modules/indexes/vectorstores/examples/vectara.html',\n 'modules/indexes/vectorstores/examples/weaviate.html',\n 'modules/indexes/vectorstores/examples/zilliz.html',\n 'modules/indexes/retrievers.html',\n 'modules/indexes/retrievers/examples/arxiv.html',\n 'modules/indexes/retrievers/examples/aws_kendra_index_retriever.html',\n 'modules/indexes/retrievers/examples/azure_cognitive_search.html',\n 'modules/indexes/retrievers/examples/chatgpt-plugin.html',\n 'modules/indexes/retrievers/examples/chroma_self_query.html',\n 'modules/indexes/retrievers/examples/cohere-reranker.html',\n 'modules/indexes/retrievers/examples/contextual-compression.html',\n 'modules/indexes/retrievers/examples/databerry.html',\n 'modules/indexes/retrievers/examples/elastic_search_bm25.html',\n 'modules/indexes/retrievers/examples/knn.html',\n 'modules/indexes/retrievers/examples/merger_retriever.html',\n 'modules/indexes/retrievers/examples/metal.html',\n 'modules/indexes/retrievers/examples/pinecone_hybrid_search.html',\n 'modules/indexes/retrievers/examples/pubmed.html',\n 'modules/indexes/retrievers/examples/qdrant_self_query.html',\n 'modules/indexes/retrievers/examples/self_query.html',\n 'modules/indexes/retrievers/examples/svm.html',\n 'modules/indexes/retrievers/examples/tf_idf.html',\n 'modules/indexes/retrievers/examples/time_weighted_vectorstore.html',\n 'modules/indexes/retrievers/examples/vectorstore.html',\n 'modules/indexes/retrievers/examples/vespa.html',\n 'modules/indexes/retrievers/examples/weaviate-hybrid.html',\n 'modules/indexes/retrievers/examples/weaviate_self_query.html',\n 'modules/indexes/retrievers/examples/wikipedia.html',\n 'modules/indexes/retrievers/examples/zep_memorystore.html',\n 'modules/chains.html',\n 'modules/chains/getting_started.html',\n 'modules/chains/how_to_guides.html',\n 'modules/chains/generic/async_chain.html',\n 'modules/chains/generic/custom_chain.html',\n 'modules/chains/generic/from_hub.html',\n 'modules/chains/generic/llm_chain.html',\n 'modules/chains/generic/router.html',\n 'modules/chains/generic/sequential_chains.html',\n 'modules/chains/generic/serialization.html',\n 'modules/chains/generic/transformation.html',\n 'modules/chains/index_examples/analyze_document.html',\n 'modules/chains/index_examples/chat_vector_db.html',\n 'modules/chains/index_examples/graph_qa.html',\n 'modules/chains/index_examples/hyde.html',\n 'modules/chains/index_examples/qa_with_sources.html',\n 'modules/chains/index_examples/question_answering.html',\n 'modules/chains/index_examples/summarize.html',\n 'modules/chains/index_examples/vector_db_qa.html',\n 'modules/chains/index_examples/vector_db_qa_with_sources.html',\n 'modules/chains/index_examples/vector_db_text_generation.html',\n 'modules/chains/examples/api.html',\n 'modules/chains/examples/constitutional_chain.html',\n 'modules/chains/examples/flare.html',\n 'modules/chains/examples/graph_cypher_qa.html',\n 'modules/chains/examples/graph_nebula_qa.html',\n 'modules/chains/examples/llm_bash.html',\n 'modules/chains/examples/llm_checker.html',\n 'modules/chains/examples/llm_math.html',\n 'modules/chains/examples/llm_requests.html',\n 'modules/chains/examples/llm_summarization_checker.html',\n 'modules/chains/examples/moderation.html',\n 'modules/chains/examples/multi_prompt_router.html',\n 'modules/chains/examples/multi_retrieval_qa_router.html',\n 'modules/chains/examples/openapi.html',\n 'modules/chains/examples/pal.html',\n 'modules/chains/examples/sqlite.html',\n 'reference/modules/chains.html',\n 'modules/agents.html',\n 'modules/agents/getting_started.html',\n 'modules/agents/tools.html',\n 'modules/agents/tools/getting_started.html',\n 'modules/agents/tools/custom_tools.html',\n 'modules/agents/tools/multi_input_tool.html',\n 'modules/agents/tools/tool_input_validation.html',\n 'modules/agents/tools/examples/apify.html',\n 'modules/agents/tools/examples/arxiv.html',\n 'modules/agents/tools/examples/awslambda.html',\n 'modules/agents/tools/examples/bash.html',\n 'modules/agents/tools/examples/bing_search.html',\n 'modules/agents/tools/examples/brave_search.html',\n 'modules/agents/tools/examples/chatgpt_plugins.html',\n 'modules/agents/tools/examples/ddg.html',\n 'modules/agents/tools/examples/filesystem.html',\n 'modules/agents/tools/examples/google_places.html',\n 'modules/agents/tools/examples/google_search.html',\n 'modules/agents/tools/examples/google_serper.html',\n 'modules/agents/tools/examples/gradio_tools.html',\n 'modules/agents/tools/examples/graphql.html',\n 'modules/agents/tools/examples/huggingface_tools.html',\n 'modules/agents/tools/examples/human_tools.html',\n 'modules/agents/tools/examples/ifttt.html',\n 'modules/agents/tools/examples/metaphor_search.html',\n 'modules/agents/tools/examples/openweathermap.html',\n 'modules/agents/tools/examples/pubmed.html',\n 'modules/agents/tools/examples/python.html',\n 'modules/agents/tools/examples/requests.html',\n 'modules/agents/tools/examples/sceneXplain.html',\n 'modules/agents/tools/examples/search_tools.html',\n 'modules/agents/tools/examples/searx_search.html',\n 'modules/agents/tools/examples/serpapi.html',\n 'modules/agents/tools/examples/twilio.html',\n 'modules/agents/tools/examples/wikipedia.html',\n 'modules/agents/tools/examples/wolfram_alpha.html',\n 'modules/agents/tools/examples/youtube.html',\n 'modules/agents/tools/examples/zapier.html',\n 'modules/agents/agents.html',\n 'modules/agents/agents/agent_types.html',\n 'modules/agents/agents/custom_agent.html',\n 'modules/agents/agents/custom_llm_agent.html',\n 'modules/agents/agents/custom_llm_chat_agent.html',\n 'modules/agents/agents/custom_mrkl_agent.html',\n 'modules/agents/agents/custom_multi_action_agent.html',\n 'modules/agents/agents/custom_agent_with_tool_retrieval.html',\n 'modules/agents/agents/examples/chat_conversation_agent.html',\n 'modules/agents/agents/examples/conversational_agent.html',\n 'modules/agents/agents/examples/mrkl.html',\n 'modules/agents/agents/examples/mrkl_chat.html',\n 'modules/agents/agents/examples/react.html',\n 'modules/agents/agents/examples/self_ask_with_search.html',\n 'modules/agents/agents/examples/structured_chat.html',\n 'modules/agents/toolkits.html',\n 'modules/agents/toolkits/examples/azure_cognitive_services.html',\n 'modules/agents/toolkits/examples/csv.html',\n 'modules/agents/toolkits/examples/gmail.html',\n 'modules/agents/toolkits/examples/jira.html',\n 'modules/agents/toolkits/examples/json.html',\n 'modules/agents/toolkits/examples/openapi.html',\n 'modules/agents/toolkits/examples/openapi_nla.html',\n 'modules/agents/toolkits/examples/pandas.html',\n 'modules/agents/toolkits/examples/playwright.html',\n 'modules/agents/toolkits/examples/powerbi.html',\n 'modules/agents/toolkits/examples/python.html',\n 'modules/agents/toolkits/examples/spark.html',\n 'modules/agents/toolkits/examples/spark_sql.html',\n 'modules/agents/toolkits/examples/sql_database.html',\n 'modules/agents/toolkits/examples/vectorstore.html',\n 'modules/agents/agent_executors.html',\n 'modules/agents/agent_executors/examples/agent_vectorstore.html',\n 'modules/agents/agent_executors/examples/async_agent.html',\n 'modules/agents/agent_executors/examples/chatgpt_clone.html',\n 'modules/agents/agent_executors/examples/handle_parsing_errors.html',\n 'modules/agents/agent_executors/examples/intermediate_steps.html',\n 'modules/agents/agent_executors/examples/max_iterations.html',\n 'modules/agents/agent_executors/examples/max_time_limit.html',\n 'modules/agents/agent_executors/examples/sharedmemory_for_tools.html',\n 'modules/agents/plan_and_execute.html',\n 'modules/callbacks/getting_started.html',\n 'use_cases/autonomous_agents.html',\n 'use_cases/agent_simulations.html',\n 'use_cases/personal_assistants.html',\n 'use_cases/question_answering.html',\n 'use_cases/chatbots.html',\n 'use_cases/tabular.html',\n 'use_cases/code.html',\n 'use_cases/apis.html',\n 'use_cases/extraction.html',\n 'use_cases/summarization.html',\n 'use_cases/evaluation.html',\n 'use_cases/evaluation/agent_benchmarking.html',\n 'use_cases/evaluation/agent_vectordb_sota_pg.html',\n 'use_cases/evaluation/benchmarking_template.html',\n 'use_cases/evaluation/data_augmented_question_answering.html',\n 'use_cases/evaluation/generic_agent_evaluation.html',\n 'use_cases/evaluation/huggingface_datasets.html',\n 'use_cases/evaluation/llm_math.html',\n 'use_cases/evaluation/openapi_eval.html',\n 'use_cases/evaluation/qa_benchmarking_pg.html',\n 'use_cases/evaluation/qa_benchmarking_sota.html',\n 'use_cases/evaluation/qa_generation.html',\n 'use_cases/evaluation/question_answering.html',\n 'use_cases/evaluation/sql_qa_benchmarking_chinook.html',\n 'reference/installation.html',\n 'reference.html',\n 'reference/models.html',\n 'reference/modules/llms.html',\n 'reference/modules/chat_models.html',\n 'reference/modules/embeddings.html',\n 'reference/prompts.html',\n 'reference/modules/prompts.html',\n 'reference/modules/example_selector.html',\n 'reference/modules/output_parsers.html',\n 'reference/indexes.html',\n 'reference/modules/docstore.html',\n 'reference/modules/text_splitter.html',\n 'reference/modules/document_loaders.html',\n 'reference/modules/vectorstores.html',\n 'reference/modules/retrievers.html',\n 'reference/modules/document_compressors.html',\n 'reference/modules/document_transformers.html',\n 'reference/modules/memory.html',\n 'reference/modules/chains.html',\n 'reference/agents.html',\n 'reference/modules/agents.html',\n 'reference/modules/tools.html',\n 'reference/modules/agent_toolkits.html',\n 'reference/modules/utilities.html',\n 'reference/modules/experimental.html',\n 'integrations.html',\n 'integrations/agent_with_wandb_tracing.html',\n 'integrations/ai21.html',\n 'integrations/aim_tracking.html',\n 'integrations/airbyte.html',\n 'integrations/aleph_alpha.html',\n 'integrations/amazon_bedrock.html',\n 'integrations/analyticdb.html',\n 'integrations/annoy.html',\n 'integrations/anthropic.html',\n 'integrations/anyscale.html',\n 'integrations/apify.html',\n 'integrations/argilla.html',\n 'integrations/arxiv.html',\n 'integrations/atlas.html',\n 'integrations/awadb.html',\n 'integrations/aws_s3.html',\n 'integrations/azlyrics.html',\n 'integrations/azure_blob_storage.html',\n 'integrations/azure_cognitive_search_.html',\n 'integrations/azure_openai.html',\n 'integrations/bananadev.html',\n 'integrations/beam.html',\n 'integrations/bilibili.html',\n 'integrations/blackboard.html',\n 'integrations/cassandra.html',\n 'integrations/cerebriumai.html',\n 'integrations/chroma.html',\n 'integrations/clearml_tracking.html',\n 'integrations/clickhouse.html',\n 'integrations/cohere.html',\n 'integrations/college_confidential.html',\n 'integrations/comet_tracking.html',\n 'integrations/confluence.html',\n 'integrations/ctransformers.html',\n 'integrations/databerry.html',\n 'integrations/databricks.html',\n 'integrations/deepinfra.html',\n 'integrations/deeplake.html',\n 'integrations/diffbot.html',\n 'integrations/discord.html',\n 'integrations/docugami.html',\n 'integrations/duckdb.html',\n 'integrations/elasticsearch.html',\n 'integrations/evernote.html',\n 'integrations/facebook_chat.html',\n 'integrations/figma.html',\n 'integrations/forefrontai.html',\n 'integrations/git.html',\n 'integrations/gitbook.html',\n 'integrations/google_bigquery.html',\n 'integrations/google_cloud_storage.html',\n 'integrations/google_drive.html',\n 'integrations/google_search.html',\n 'integrations/google_serper.html',\n 'integrations/google_vertex_ai.html',\n 'integrations/gooseai.html',\n 'integrations/gpt4all.html',\n 'integrations/graphsignal.html',\n 'integrations/gutenberg.html',\n 'integrations/hacker_news.html',\n 'integrations/hazy_research.html',\n 'integrations/helicone.html',\n 'integrations/huggingface.html',\n 'integrations/ifixit.html',\n 'integrations/imsdb.html',\n 'integrations/jina.html',\n 'integrations/lancedb.html',\n 'integrations/langchain_decorators.html',\n 'integrations/llamacpp.html',\n 'integrations/mediawikidump.html',\n 'integrations/metal.html',\n 'integrations/microsoft_onedrive.html',\n 'integrations/microsoft_powerpoint.html',\n 'integrations/microsoft_word.html',\n 'integrations/milvus.html',\n 'integrations/mlflow_tracking.html',\n 'integrations/modal.html',\n 'integrations/modern_treasury.html',\n 'integrations/momento.html',\n 'integrations/myscale.html',\n 'integrations/nlpcloud.html',\n 'integrations/notion.html',\n 'integrations/obsidian.html',\n 'integrations/openai.html',\n 'integrations/opensearch.html',\n 'integrations/openweathermap.html',\n 'integrations/petals.html',\n 'integrations/pgvector.html',\n 'integrations/pinecone.html',\n 'integrations/pipelineai.html',\n 'integrations/predictionguard.html',\n 'integrations/promptlayer.html',\n 'integrations/psychic.html',\n 'integrations/qdrant.html',\n 'integrations/ray_serve.html',\n 'integrations/rebuff.html',\n 'integrations/reddit.html',\n 'integrations/redis.html',\n 'integrations/replicate.html',\n 'integrations/roam.html',\n 'integrations/runhouse.html',\n 'integrations/rwkv.html',\n 'integrations/sagemaker_endpoint.html',\n 'integrations/searx.html',\n 'integrations/serpapi.html',\n 'integrations/shaleprotocol.html',\n 'integrations/sklearn.html',\n 'integrations/slack.html',\n 'integrations/spacy.html',\n 'integrations/spreedly.html',\n 'integrations/stochasticai.html',\n 'integrations/stripe.html',\n 'integrations/tair.html',\n 'integrations/telegram.html',\n 'integrations/tensorflow_hub.html',\n 'integrations/tomarkdown.html',\n 'integrations/trello.html',\n 'integrations/twitter.html',\n 'integrations/unstructured.html',\n 'integrations/vectara.html',\n 'integrations/vespa.html',\n 'integrations/wandb_tracking.html',\n 'integrations/weather.html',\n 'integrations/weaviate.html',\n 'integrations/whatsapp.html',\n 'integrations/whylabs_profiling.html',\n 'integrations/wikipedia.html',\n 'integrations/wolfram_alpha.html',\n 'integrations/writer.html',\n 'integrations/yeagerai.html',\n 'integrations/youtube.html',\n 'integrations/zep.html',\n 'integrations/zilliz.html',\n 'dependents.html',\n 'ecosystem/deployments.html',\n 'https://github.com/hwchase17/langchain-hub',\n 'additional_resources/deploy_llms.html',\n 'https://github.com/kyrolabs/awesome-langchain',\n 'additional_resources/tracing.html',\n 'additional_resources/model_laboratory.html',\n 'https://discord.gg/6adMQxSpJS',\n 'additional_resources/youtube.html',\n 'https://forms.gle/57d8AmXBYp8PP8tZA',\n 'https://github.com/hwchase17/langchain',\n '_sources/index.rst',\n '#getting-started',\n '#modules',\n '#use-cases',\n '#reference-docs',\n '#ecosystem',\n '#additional-resources',\n '#welcome-to-langchain',\n 'https://docs.langchain.com/docs/',\n 'https://js.langchain.com/docs/',\n '#getting-started',\n './getting_started/getting_started.html',\n './getting_started/concepts.html',\n './getting_started/tutorials.html',\n '#modules',\n './modules/models.html',\n './modules/prompts.html',\n './modules/memory.html',\n './modules/indexes.html',\n './modules/chains.html',\n './modules/agents.html',\n './modules/callbacks/getting_started.html',\n '#use-cases',\n './use_cases/autonomous_agents.html',\n './use_cases/agent_simulations.html',\n './use_cases/personal_assistants.html',\n './use_cases/question_answering.html',\n './use_cases/chatbots.html',\n './use_cases/tabular.html',\n './use_cases/code.html',\n './use_cases/apis.html',\n './use_cases/extraction.html',\n './use_cases/summarization.html',\n './use_cases/evaluation.html',\n '#reference-docs',\n './reference/installation.html',\n './reference.html',\n '#ecosystem',\n './integrations.html',\n './dependents.html',\n './ecosystem/deployments.html',\n '#additional-resources',\n 'https://github.com/hwchase17/langchain-hub',\n 'https://github.com/kyrolabs/awesome-langchain',\n 'https://kyrolabs.com',\n './additional_resources/deploy_llms.html',\n './additional_resources/tracing.html',\n './additional_resources/model_laboratory.html',\n 'https://discord.gg/6adMQxSpJS',\n './additional_resources/youtube.html',\n 'https://forms.gle/57d8AmXBYp8PP8tZA',\n 'getting_started/getting_started.html',\n '#getting-started',\n '#modules',\n '#use-cases',\n '#reference-docs',\n '#ecosystem',\n '#additional-resources']"
     },
     "execution_count": 199,
     "metadata": {},
     "output_type": "execute_result"
    }
   ],
   "source": [
    "# count links in a website\n",
    "def get_links(website_link):\n",
    "    html_data = get_data(website_link)\n",
    "    soup = BeautifulSoup(html_data, \"html.parser\")\n",
    "    list_links = []\n",
    "    for link in soup.find_all(\"a\", href=True):\n",
    "        list_links.append(link[\"href\"])\n",
    "    return list_links\n",
    "\n",
    "sub_links = get_links('https://python.langchain.com/en/latest/index.html')\n",
    "sub_links"
   ],
   "metadata": {
    "collapsed": false,
    "ExecuteTime": {
     "end_time": "2023-06-13T15:02:07.346360Z",
     "start_time": "2023-06-13T15:02:07.198473Z"
    }
   }
  },
  {
   "cell_type": "code",
   "execution_count": 200,
   "outputs": [
    {
     "data": {
      "text/plain": "677"
     },
     "execution_count": 200,
     "metadata": {},
     "output_type": "execute_result"
    }
   ],
   "source": [
    "len(sub_links)"
   ],
   "metadata": {
    "collapsed": false,
    "ExecuteTime": {
     "end_time": "2023-06-13T15:02:15.031490Z",
     "start_time": "2023-06-13T15:02:15.017770Z"
    }
   }
  },
  {
   "cell_type": "code",
   "execution_count": 201,
   "outputs": [
    {
     "name": "stdout",
     "output_type": "stream",
     "text": [
      "['https://python.langchain.com/en/latest/#main-content', 'https://python.langchain.com/en/latest/#', 'https://python.langchain.com/en/latest/getting_started/getting_started.html', 'https://python.langchain.com/en/latest/getting_started/concepts.html', 'https://python.langchain.com/en/latest/getting_started/tutorials.html', 'https://python.langchain.com/en/latest/modules/models.html', 'https://python.langchain.com/en/latest/modules/models/getting_started.html', 'https://python.langchain.com/en/latest/modules/models/llms.html', 'https://python.langchain.com/en/latest/modules/models/llms/getting_started.html', 'https://python.langchain.com/en/latest/modules/models/llms/how_to_guides.html', 'https://python.langchain.com/en/latest/modules/models/llms/examples/async_llm.html', 'https://python.langchain.com/en/latest/modules/models/llms/examples/custom_llm.html', 'https://python.langchain.com/en/latest/modules/models/llms/examples/fake_llm.html', 'https://python.langchain.com/en/latest/modules/models/llms/examples/human_input_llm.html', 'https://python.langchain.com/en/latest/modules/models/llms/examples/llm_caching.html', 'https://python.langchain.com/en/latest/modules/models/llms/examples/llm_serialization.html', 'https://python.langchain.com/en/latest/modules/models/llms/examples/streaming_llm.html', 'https://python.langchain.com/en/latest/modules/models/llms/examples/token_usage_tracking.html', 'https://python.langchain.com/en/latest/modules/models/llms/integrations.html', 'https://python.langchain.com/en/latest/modules/models/llms/integrations/ai21.html', 'https://python.langchain.com/en/latest/modules/models/llms/integrations/aleph_alpha.html', 'https://python.langchain.com/en/latest/modules/models/llms/integrations/anyscale.html', 'https://python.langchain.com/en/latest/modules/models/llms/integrations/aviary.html', 'https://python.langchain.com/en/latest/modules/models/llms/integrations/azure_openai_example.html', 'https://python.langchain.com/en/latest/modules/models/llms/integrations/banana.html', 'https://python.langchain.com/en/latest/modules/models/llms/integrations/baseten.html', 'https://python.langchain.com/en/latest/modules/models/llms/integrations/beam.html', 'https://python.langchain.com/en/latest/modules/models/llms/integrations/bedrock.html', 'https://python.langchain.com/en/latest/modules/models/llms/integrations/cerebriumai_example.html', 'https://python.langchain.com/en/latest/modules/models/llms/integrations/cohere.html', 'https://python.langchain.com/en/latest/modules/models/llms/integrations/ctransformers.html', 'https://python.langchain.com/en/latest/modules/models/llms/integrations/databricks.html', 'https://python.langchain.com/en/latest/modules/models/llms/integrations/deepinfra_example.html', 'https://python.langchain.com/en/latest/modules/models/llms/integrations/forefrontai_example.html', 'https://python.langchain.com/en/latest/modules/models/llms/integrations/google_vertex_ai_palm.html', 'https://python.langchain.com/en/latest/modules/models/llms/integrations/gooseai_example.html', 'https://python.langchain.com/en/latest/modules/models/llms/integrations/gpt4all.html', 'https://python.langchain.com/en/latest/modules/models/llms/integrations/huggingface_hub.html', 'https://python.langchain.com/en/latest/modules/models/llms/integrations/huggingface_pipelines.html', 'https://python.langchain.com/en/latest/modules/models/llms/integrations/huggingface_textgen_inference.html', 'https://python.langchain.com/en/latest/modules/models/llms/integrations/jsonformer_experimental.html', 'https://python.langchain.com/en/latest/modules/models/llms/integrations/llamacpp.html', 'https://python.langchain.com/en/latest/modules/models/llms/integrations/manifest.html', 'https://python.langchain.com/en/latest/modules/models/llms/integrations/modal.html', 'https://python.langchain.com/en/latest/modules/models/llms/integrations/mosaicml.html', 'https://python.langchain.com/en/latest/modules/models/llms/integrations/nlpcloud.html', 'https://python.langchain.com/en/latest/modules/models/llms/integrations/openai.html', 'https://python.langchain.com/en/latest/modules/models/llms/integrations/openlm.html', 'https://python.langchain.com/en/latest/modules/models/llms/integrations/petals_example.html', 'https://python.langchain.com/en/latest/modules/models/llms/integrations/pipelineai_example.html', 'https://python.langchain.com/en/latest/modules/models/llms/integrations/predictionguard.html', 'https://python.langchain.com/en/latest/modules/models/llms/integrations/promptlayer_openai.html', 'https://python.langchain.com/en/latest/modules/models/llms/integrations/rellm_experimental.html', 'https://python.langchain.com/en/latest/modules/models/llms/integrations/replicate.html', 'https://python.langchain.com/en/latest/modules/models/llms/integrations/runhouse.html', 'https://python.langchain.com/en/latest/modules/models/llms/integrations/sagemaker.html', 'https://python.langchain.com/en/latest/modules/models/llms/integrations/stochasticai.html', 'https://python.langchain.com/en/latest/modules/models/llms/integrations/writer.html', 'https://python.langchain.com/en/latest/reference/modules/llms.html', 'https://python.langchain.com/en/latest/modules/models/chat.html', 'https://python.langchain.com/en/latest/modules/models/chat/getting_started.html', 'https://python.langchain.com/en/latest/modules/models/chat/how_to_guides.html', 'https://python.langchain.com/en/latest/modules/models/chat/examples/few_shot_examples.html', 'https://python.langchain.com/en/latest/modules/models/chat/examples/streaming.html', 'https://python.langchain.com/en/latest/modules/models/chat/integrations.html', 'https://python.langchain.com/en/latest/modules/models/chat/integrations/anthropic.html', 'https://python.langchain.com/en/latest/modules/models/chat/integrations/azure_chat_openai.html', 'https://python.langchain.com/en/latest/modules/models/chat/integrations/google_vertex_ai_palm.html', 'https://python.langchain.com/en/latest/modules/models/chat/integrations/openai.html', 'https://python.langchain.com/en/latest/modules/models/chat/integrations/promptlayer_chatopenai.html', 'https://python.langchain.com/en/latest/modules/models/text_embedding.html', 'https://python.langchain.com/en/latest/modules/models/text_embedding/examples/aleph_alpha.html', 'https://python.langchain.com/en/latest/modules/models/text_embedding/examples/amazon_bedrock.html', 'https://python.langchain.com/en/latest/modules/models/text_embedding/examples/azureopenai.html', 'https://python.langchain.com/en/latest/modules/models/text_embedding/examples/cohere.html', 'https://python.langchain.com/en/latest/modules/models/text_embedding/examples/dashscope.html', 'https://python.langchain.com/en/latest/modules/models/text_embedding/examples/deepinfra.html', 'https://python.langchain.com/en/latest/modules/models/text_embedding/examples/elasticsearch.html', 'https://python.langchain.com/en/latest/modules/models/text_embedding/examples/embaas.html', 'https://python.langchain.com/en/latest/modules/models/text_embedding/examples/fake.html', 'https://python.langchain.com/en/latest/modules/models/text_embedding/examples/google_vertex_ai_palm.html', 'https://python.langchain.com/en/latest/modules/models/text_embedding/examples/huggingface_hub.html', 'https://python.langchain.com/en/latest/modules/models/text_embedding/examples/huggingface_instruct.html', 'https://python.langchain.com/en/latest/modules/models/text_embedding/examples/jina.html', 'https://python.langchain.com/en/latest/modules/models/text_embedding/examples/llamacpp.html', 'https://python.langchain.com/en/latest/modules/models/text_embedding/examples/minimax.html', 'https://python.langchain.com/en/latest/modules/models/text_embedding/examples/modelscope_hub.html', 'https://python.langchain.com/en/latest/modules/models/text_embedding/examples/mosaicml.html', 'https://python.langchain.com/en/latest/modules/models/text_embedding/examples/openai.html', 'https://python.langchain.com/en/latest/modules/models/text_embedding/examples/sagemaker-endpoint.html', 'https://python.langchain.com/en/latest/modules/models/text_embedding/examples/self-hosted.html', 'https://python.langchain.com/en/latest/modules/models/text_embedding/examples/sentence_transformers.html', 'https://python.langchain.com/en/latest/modules/models/text_embedding/examples/tensorflowhub.html', 'https://python.langchain.com/en/latest/modules/prompts.html', 'https://python.langchain.com/en/latest/modules/prompts/getting_started.html', 'https://python.langchain.com/en/latest/modules/prompts/prompt_templates.html', 'https://python.langchain.com/en/latest/modules/prompts/prompt_templates/getting_started.html', 'https://python.langchain.com/en/latest/modules/prompts/prompt_templates/how_to_guides.html', 'https://python.langchain.com/en/latest/modules/prompts/prompt_templates/examples/connecting_to_a_feature_store.html', 'https://python.langchain.com/en/latest/modules/prompts/prompt_templates/examples/custom_prompt_template.html', 'https://python.langchain.com/en/latest/modules/prompts/prompt_templates/examples/few_shot_examples.html', 'https://python.langchain.com/en/latest/modules/prompts/prompt_templates/examples/partial.html', 'https://python.langchain.com/en/latest/modules/prompts/prompt_templates/examples/prompt_composition.html', 'https://python.langchain.com/en/latest/modules/prompts/prompt_templates/examples/prompt_serialization.html', 'https://python.langchain.com/en/latest/reference/prompts.html', 'https://python.langchain.com/en/latest/reference/modules/prompts.html', 'https://python.langchain.com/en/latest/reference/modules/example_selector.html', 'https://python.langchain.com/en/latest/reference/modules/output_parsers.html', 'https://python.langchain.com/en/latest/modules/prompts/chat_prompt_template.html', 'https://python.langchain.com/en/latest/modules/prompts/example_selectors.html', 'https://python.langchain.com/en/latest/modules/prompts/example_selectors/examples/custom_example_selector.html', 'https://python.langchain.com/en/latest/modules/prompts/example_selectors/examples/length_based.html', 'https://python.langchain.com/en/latest/modules/prompts/example_selectors/examples/mmr.html', 'https://python.langchain.com/en/latest/modules/prompts/example_selectors/examples/ngram_overlap.html', 'https://python.langchain.com/en/latest/modules/prompts/example_selectors/examples/similarity.html', 'https://python.langchain.com/en/latest/modules/prompts/output_parsers.html', 'https://python.langchain.com/en/latest/modules/prompts/output_parsers/getting_started.html', 'https://python.langchain.com/en/latest/modules/prompts/output_parsers/examples/comma_separated.html', 'https://python.langchain.com/en/latest/modules/prompts/output_parsers/examples/datetime.html', 'https://python.langchain.com/en/latest/modules/prompts/output_parsers/examples/enum.html', 'https://python.langchain.com/en/latest/modules/prompts/output_parsers/examples/output_fixing_parser.html', 'https://python.langchain.com/en/latest/modules/prompts/output_parsers/examples/pydantic.html', 'https://python.langchain.com/en/latest/modules/prompts/output_parsers/examples/retry.html', 'https://python.langchain.com/en/latest/modules/prompts/output_parsers/examples/structured.html', 'https://python.langchain.com/en/latest/modules/memory.html', 'https://python.langchain.com/en/latest/modules/memory/getting_started.html', 'https://python.langchain.com/en/latest/modules/memory/how_to_guides.html', 'https://python.langchain.com/en/latest/modules/memory/types/buffer.html', 'https://python.langchain.com/en/latest/modules/memory/types/buffer_window.html', 'https://python.langchain.com/en/latest/modules/memory/types/entity_summary_memory.html', 'https://python.langchain.com/en/latest/modules/memory/types/kg.html', 'https://python.langchain.com/en/latest/modules/memory/types/summary.html', 'https://python.langchain.com/en/latest/modules/memory/types/summary_buffer.html', 'https://python.langchain.com/en/latest/modules/memory/types/token_buffer.html', 'https://python.langchain.com/en/latest/modules/memory/types/vectorstore_retriever_memory.html', 'https://python.langchain.com/en/latest/modules/memory/examples/adding_memory.html', 'https://python.langchain.com/en/latest/modules/memory/examples/adding_memory_chain_multiple_inputs.html', 'https://python.langchain.com/en/latest/modules/memory/examples/agent_with_memory.html', 'https://python.langchain.com/en/latest/modules/memory/examples/agent_with_memory_in_db.html', 'https://python.langchain.com/en/latest/modules/memory/examples/cassandra_chat_message_history.html', 'https://python.langchain.com/en/latest/modules/memory/examples/conversational_customization.html', 'https://python.langchain.com/en/latest/modules/memory/examples/custom_memory.html', 'https://python.langchain.com/en/latest/modules/memory/examples/dynamodb_chat_message_history.html', 'https://python.langchain.com/en/latest/modules/memory/examples/entity_memory_with_sqlite.html', 'https://python.langchain.com/en/latest/modules/memory/examples/momento_chat_message_history.html', 'https://python.langchain.com/en/latest/modules/memory/examples/mongodb_chat_message_history.html', 'https://python.langchain.com/en/latest/modules/memory/examples/motorhead_memory.html', 'https://python.langchain.com/en/latest/modules/memory/examples/motorhead_memory_managed.html', 'https://python.langchain.com/en/latest/modules/memory/examples/multiple_memory.html', 'https://python.langchain.com/en/latest/modules/memory/examples/postgres_chat_message_history.html', 'https://python.langchain.com/en/latest/modules/memory/examples/redis_chat_message_history.html', 'https://python.langchain.com/en/latest/modules/memory/examples/zep_memory.html', 'https://python.langchain.com/en/latest/modules/indexes.html', 'https://python.langchain.com/en/latest/modules/indexes/getting_started.html', 'https://python.langchain.com/en/latest/modules/indexes/document_loaders.html', 'https://python.langchain.com/en/latest/modules/indexes/document_loaders/examples/airtable.html', 'https://python.langchain.com/en/latest/modules/indexes/document_loaders/examples/audio.html', 'https://python.langchain.com/en/latest/modules/indexes/document_loaders/examples/conll-u.html', 'https://python.langchain.com/en/latest/modules/indexes/document_loaders/examples/copypaste.html', 'https://python.langchain.com/en/latest/modules/indexes/document_loaders/examples/csv.html', 'https://python.langchain.com/en/latest/modules/indexes/document_loaders/examples/email.html', 'https://python.langchain.com/en/latest/modules/indexes/document_loaders/examples/epub.html', 'https://python.langchain.com/en/latest/modules/indexes/document_loaders/examples/evernote.html', 'https://python.langchain.com/en/latest/modules/indexes/document_loaders/examples/excel.html', 'https://python.langchain.com/en/latest/modules/indexes/document_loaders/examples/facebook_chat.html', 'https://python.langchain.com/en/latest/modules/indexes/document_loaders/examples/file_directory.html', 'https://python.langchain.com/en/latest/modules/indexes/document_loaders/examples/html.html', 'https://python.langchain.com/en/latest/modules/indexes/document_loaders/examples/image.html', 'https://python.langchain.com/en/latest/modules/indexes/document_loaders/examples/jupyter_notebook.html', 'https://python.langchain.com/en/latest/modules/indexes/document_loaders/examples/json.html', 'https://python.langchain.com/en/latest/modules/indexes/document_loaders/examples/markdown.html', 'https://python.langchain.com/en/latest/modules/indexes/document_loaders/examples/microsoft_powerpoint.html', 'https://python.langchain.com/en/latest/modules/indexes/document_loaders/examples/microsoft_word.html', 'https://python.langchain.com/en/latest/modules/indexes/document_loaders/examples/odt.html', 'https://python.langchain.com/en/latest/modules/indexes/document_loaders/examples/pandas_dataframe.html', 'https://python.langchain.com/en/latest/modules/indexes/document_loaders/examples/pdf.html', 'https://python.langchain.com/en/latest/modules/indexes/document_loaders/examples/sitemap.html', 'https://python.langchain.com/en/latest/modules/indexes/document_loaders/examples/subtitle.html', 'https://python.langchain.com/en/latest/modules/indexes/document_loaders/examples/telegram.html', 'https://python.langchain.com/en/latest/modules/indexes/document_loaders/examples/toml.html', 'https://python.langchain.com/en/latest/modules/indexes/document_loaders/examples/unstructured_file.html', 'https://python.langchain.com/en/latest/modules/indexes/document_loaders/examples/url.html', 'https://python.langchain.com/en/latest/modules/indexes/document_loaders/examples/web_base.html', 'https://python.langchain.com/en/latest/modules/indexes/document_loaders/examples/weather.html', 'https://python.langchain.com/en/latest/modules/indexes/document_loaders/examples/whatsapp_chat.html', 'https://python.langchain.com/en/latest/modules/indexes/document_loaders/examples/arxiv.html', 'https://python.langchain.com/en/latest/modules/indexes/document_loaders/examples/azlyrics.html', 'https://python.langchain.com/en/latest/modules/indexes/document_loaders/examples/bilibili.html', 'https://python.langchain.com/en/latest/modules/indexes/document_loaders/examples/college_confidential.html', 'https://python.langchain.com/en/latest/modules/indexes/document_loaders/examples/gutenberg.html', 'https://python.langchain.com/en/latest/modules/indexes/document_loaders/examples/hacker_news.html', 'https://python.langchain.com/en/latest/modules/indexes/document_loaders/examples/hugging_face_dataset.html', 'https://python.langchain.com/en/latest/modules/indexes/document_loaders/examples/ifixit.html', 'https://python.langchain.com/en/latest/modules/indexes/document_loaders/examples/imsdb.html', 'https://python.langchain.com/en/latest/modules/indexes/document_loaders/examples/mediawikidump.html', 'https://python.langchain.com/en/latest/modules/indexes/document_loaders/examples/wikipedia.html', 'https://python.langchain.com/en/latest/modules/indexes/document_loaders/examples/youtube_transcript.html', 'https://python.langchain.com/en/latest/modules/indexes/document_loaders/examples/airbyte_json.html', 'https://python.langchain.com/en/latest/modules/indexes/document_loaders/examples/apify_dataset.html', 'https://python.langchain.com/en/latest/modules/indexes/document_loaders/examples/aws_s3_directory.html', 'https://python.langchain.com/en/latest/modules/indexes/document_loaders/examples/aws_s3_file.html', 'https://python.langchain.com/en/latest/modules/indexes/document_loaders/examples/azure_blob_storage_container.html', 'https://python.langchain.com/en/latest/modules/indexes/document_loaders/examples/azure_blob_storage_file.html', 'https://python.langchain.com/en/latest/modules/indexes/document_loaders/examples/blackboard.html', 'https://python.langchain.com/en/latest/modules/indexes/document_loaders/examples/blockchain.html', 'https://python.langchain.com/en/latest/modules/indexes/document_loaders/examples/chatgpt_loader.html', 'https://python.langchain.com/en/latest/modules/indexes/document_loaders/examples/confluence.html', 'https://python.langchain.com/en/latest/modules/indexes/document_loaders/examples/diffbot.html', 'https://python.langchain.com/en/latest/modules/indexes/document_loaders/examples/docugami.html', 'https://python.langchain.com/en/latest/modules/indexes/document_loaders/examples/duckdb.html', 'https://python.langchain.com/en/latest/modules/indexes/document_loaders/examples/fauna.html', 'https://python.langchain.com/en/latest/modules/indexes/document_loaders/examples/figma.html', 'https://python.langchain.com/en/latest/modules/indexes/document_loaders/examples/gitbook.html', 'https://python.langchain.com/en/latest/modules/indexes/document_loaders/examples/git.html', 'https://python.langchain.com/en/latest/modules/indexes/document_loaders/examples/google_bigquery.html', 'https://python.langchain.com/en/latest/modules/indexes/document_loaders/examples/google_cloud_storage_directory.html', 'https://python.langchain.com/en/latest/modules/indexes/document_loaders/examples/google_cloud_storage_file.html', 'https://python.langchain.com/en/latest/modules/indexes/document_loaders/examples/google_drive.html', 'https://python.langchain.com/en/latest/modules/indexes/document_loaders/examples/image_captions.html', 'https://python.langchain.com/en/latest/modules/indexes/document_loaders/examples/iugu.html', 'https://python.langchain.com/en/latest/modules/indexes/document_loaders/examples/joplin.html', 'https://python.langchain.com/en/latest/modules/indexes/document_loaders/examples/microsoft_onedrive.html', 'https://python.langchain.com/en/latest/modules/indexes/document_loaders/examples/modern_treasury.html', 'https://python.langchain.com/en/latest/modules/indexes/document_loaders/examples/notiondb.html', 'https://python.langchain.com/en/latest/modules/indexes/document_loaders/examples/notion.html', 'https://python.langchain.com/en/latest/modules/indexes/document_loaders/examples/obsidian.html', 'https://python.langchain.com/en/latest/modules/indexes/document_loaders/examples/psychic.html', 'https://python.langchain.com/en/latest/modules/indexes/document_loaders/examples/pyspark_dataframe.html', 'https://python.langchain.com/en/latest/modules/indexes/document_loaders/examples/readthedocs_documentation.html', 'https://python.langchain.com/en/latest/modules/indexes/document_loaders/examples/reddit.html', 'https://python.langchain.com/en/latest/modules/indexes/document_loaders/examples/roam.html', 'https://python.langchain.com/en/latest/modules/indexes/document_loaders/examples/slack.html', 'https://python.langchain.com/en/latest/modules/indexes/document_loaders/examples/snowflake.html', 'https://python.langchain.com/en/latest/modules/indexes/document_loaders/examples/spreedly.html', 'https://python.langchain.com/en/latest/modules/indexes/document_loaders/examples/stripe.html', 'https://python.langchain.com/en/latest/modules/indexes/document_loaders/examples/tomarkdown.html', 'https://python.langchain.com/en/latest/modules/indexes/document_loaders/examples/twitter.html', 'https://python.langchain.com/en/latest/modules/indexes/text_splitters.html', 'https://python.langchain.com/en/latest/modules/indexes/text_splitters/getting_started.html', 'https://python.langchain.com/en/latest/modules/indexes/text_splitters/examples/character_text_splitter.html', 'https://python.langchain.com/en/latest/modules/indexes/text_splitters/examples/code_splitter.html', 'https://python.langchain.com/en/latest/modules/indexes/text_splitters/examples/nltk.html', 'https://python.langchain.com/en/latest/modules/indexes/text_splitters/examples/recursive_text_splitter.html', 'https://python.langchain.com/en/latest/modules/indexes/text_splitters/examples/spacy.html', 'https://python.langchain.com/en/latest/modules/indexes/text_splitters/examples/tiktoken_splitter.html', 'https://python.langchain.com/en/latest/modules/indexes/text_splitters/examples/huggingface_length_function.html', 'https://python.langchain.com/en/latest/modules/indexes/text_splitters/examples/tiktoken.html', 'https://python.langchain.com/en/latest/modules/indexes/vectorstores.html', 'https://python.langchain.com/en/latest/modules/indexes/vectorstores/getting_started.html', 'https://python.langchain.com/en/latest/modules/indexes/vectorstores/examples/analyticdb.html', 'https://python.langchain.com/en/latest/modules/indexes/vectorstores/examples/annoy.html', 'https://python.langchain.com/en/latest/modules/indexes/vectorstores/examples/atlas.html', 'https://python.langchain.com/en/latest/modules/indexes/vectorstores/examples/awadb.html', 'https://python.langchain.com/en/latest/modules/indexes/vectorstores/examples/azuresearch.html', 'https://python.langchain.com/en/latest/modules/indexes/vectorstores/examples/chroma.html', 'https://python.langchain.com/en/latest/modules/indexes/vectorstores/examples/clickhouse.html', 'https://python.langchain.com/en/latest/modules/indexes/vectorstores/examples/deeplake.html', 'https://python.langchain.com/en/latest/modules/indexes/vectorstores/examples/docarray_hnsw.html', 'https://python.langchain.com/en/latest/modules/indexes/vectorstores/examples/docarray_in_memory.html', 'https://python.langchain.com/en/latest/modules/indexes/vectorstores/examples/elasticsearch.html', 'https://python.langchain.com/en/latest/modules/indexes/vectorstores/examples/faiss.html', 'https://python.langchain.com/en/latest/modules/indexes/vectorstores/examples/hologres.html', 'https://python.langchain.com/en/latest/modules/indexes/vectorstores/examples/lancedb.html', 'https://python.langchain.com/en/latest/modules/indexes/vectorstores/examples/matchingengine.html', 'https://python.langchain.com/en/latest/modules/indexes/vectorstores/examples/milvus.html', 'https://python.langchain.com/en/latest/modules/indexes/vectorstores/examples/myscale.html', 'https://python.langchain.com/en/latest/modules/indexes/vectorstores/examples/opensearch.html', 'https://python.langchain.com/en/latest/modules/indexes/vectorstores/examples/pgvector.html', 'https://python.langchain.com/en/latest/modules/indexes/vectorstores/examples/pinecone.html', 'https://python.langchain.com/en/latest/modules/indexes/vectorstores/examples/qdrant.html', 'https://python.langchain.com/en/latest/modules/indexes/vectorstores/examples/redis.html', 'https://python.langchain.com/en/latest/modules/indexes/vectorstores/examples/singlestoredb.html', 'https://python.langchain.com/en/latest/modules/indexes/vectorstores/examples/sklearn.html', 'https://python.langchain.com/en/latest/modules/indexes/vectorstores/examples/supabase.html', 'https://python.langchain.com/en/latest/modules/indexes/vectorstores/examples/tair.html', 'https://python.langchain.com/en/latest/modules/indexes/vectorstores/examples/tigris.html', 'https://python.langchain.com/en/latest/modules/indexes/vectorstores/examples/typesense.html', 'https://python.langchain.com/en/latest/modules/indexes/vectorstores/examples/vectara.html', 'https://python.langchain.com/en/latest/modules/indexes/vectorstores/examples/weaviate.html', 'https://python.langchain.com/en/latest/modules/indexes/vectorstores/examples/zilliz.html', 'https://python.langchain.com/en/latest/modules/indexes/retrievers.html', 'https://python.langchain.com/en/latest/modules/indexes/retrievers/examples/arxiv.html', 'https://python.langchain.com/en/latest/modules/indexes/retrievers/examples/aws_kendra_index_retriever.html', 'https://python.langchain.com/en/latest/modules/indexes/retrievers/examples/azure_cognitive_search.html', 'https://python.langchain.com/en/latest/modules/indexes/retrievers/examples/chatgpt-plugin.html', 'https://python.langchain.com/en/latest/modules/indexes/retrievers/examples/chroma_self_query.html', 'https://python.langchain.com/en/latest/modules/indexes/retrievers/examples/cohere-reranker.html', 'https://python.langchain.com/en/latest/modules/indexes/retrievers/examples/contextual-compression.html', 'https://python.langchain.com/en/latest/modules/indexes/retrievers/examples/databerry.html', 'https://python.langchain.com/en/latest/modules/indexes/retrievers/examples/elastic_search_bm25.html', 'https://python.langchain.com/en/latest/modules/indexes/retrievers/examples/knn.html', 'https://python.langchain.com/en/latest/modules/indexes/retrievers/examples/merger_retriever.html', 'https://python.langchain.com/en/latest/modules/indexes/retrievers/examples/metal.html', 'https://python.langchain.com/en/latest/modules/indexes/retrievers/examples/pinecone_hybrid_search.html', 'https://python.langchain.com/en/latest/modules/indexes/retrievers/examples/pubmed.html', 'https://python.langchain.com/en/latest/modules/indexes/retrievers/examples/qdrant_self_query.html', 'https://python.langchain.com/en/latest/modules/indexes/retrievers/examples/self_query.html', 'https://python.langchain.com/en/latest/modules/indexes/retrievers/examples/svm.html', 'https://python.langchain.com/en/latest/modules/indexes/retrievers/examples/tf_idf.html', 'https://python.langchain.com/en/latest/modules/indexes/retrievers/examples/time_weighted_vectorstore.html', 'https://python.langchain.com/en/latest/modules/indexes/retrievers/examples/vectorstore.html', 'https://python.langchain.com/en/latest/modules/indexes/retrievers/examples/vespa.html', 'https://python.langchain.com/en/latest/modules/indexes/retrievers/examples/weaviate-hybrid.html', 'https://python.langchain.com/en/latest/modules/indexes/retrievers/examples/weaviate_self_query.html', 'https://python.langchain.com/en/latest/modules/indexes/retrievers/examples/wikipedia.html', 'https://python.langchain.com/en/latest/modules/indexes/retrievers/examples/zep_memorystore.html', 'https://python.langchain.com/en/latest/modules/chains.html', 'https://python.langchain.com/en/latest/modules/chains/getting_started.html', 'https://python.langchain.com/en/latest/modules/chains/how_to_guides.html', 'https://python.langchain.com/en/latest/modules/chains/generic/async_chain.html', 'https://python.langchain.com/en/latest/modules/chains/generic/custom_chain.html', 'https://python.langchain.com/en/latest/modules/chains/generic/from_hub.html', 'https://python.langchain.com/en/latest/modules/chains/generic/llm_chain.html', 'https://python.langchain.com/en/latest/modules/chains/generic/router.html', 'https://python.langchain.com/en/latest/modules/chains/generic/sequential_chains.html', 'https://python.langchain.com/en/latest/modules/chains/generic/serialization.html', 'https://python.langchain.com/en/latest/modules/chains/generic/transformation.html', 'https://python.langchain.com/en/latest/modules/chains/index_examples/analyze_document.html', 'https://python.langchain.com/en/latest/modules/chains/index_examples/chat_vector_db.html', 'https://python.langchain.com/en/latest/modules/chains/index_examples/graph_qa.html', 'https://python.langchain.com/en/latest/modules/chains/index_examples/hyde.html', 'https://python.langchain.com/en/latest/modules/chains/index_examples/qa_with_sources.html', 'https://python.langchain.com/en/latest/modules/chains/index_examples/question_answering.html', 'https://python.langchain.com/en/latest/modules/chains/index_examples/summarize.html', 'https://python.langchain.com/en/latest/modules/chains/index_examples/vector_db_qa.html', 'https://python.langchain.com/en/latest/modules/chains/index_examples/vector_db_qa_with_sources.html', 'https://python.langchain.com/en/latest/modules/chains/index_examples/vector_db_text_generation.html', 'https://python.langchain.com/en/latest/modules/chains/examples/api.html', 'https://python.langchain.com/en/latest/modules/chains/examples/constitutional_chain.html', 'https://python.langchain.com/en/latest/modules/chains/examples/flare.html', 'https://python.langchain.com/en/latest/modules/chains/examples/graph_cypher_qa.html', 'https://python.langchain.com/en/latest/modules/chains/examples/graph_nebula_qa.html', 'https://python.langchain.com/en/latest/modules/chains/examples/llm_bash.html', 'https://python.langchain.com/en/latest/modules/chains/examples/llm_checker.html', 'https://python.langchain.com/en/latest/modules/chains/examples/llm_math.html', 'https://python.langchain.com/en/latest/modules/chains/examples/llm_requests.html', 'https://python.langchain.com/en/latest/modules/chains/examples/llm_summarization_checker.html', 'https://python.langchain.com/en/latest/modules/chains/examples/moderation.html', 'https://python.langchain.com/en/latest/modules/chains/examples/multi_prompt_router.html', 'https://python.langchain.com/en/latest/modules/chains/examples/multi_retrieval_qa_router.html', 'https://python.langchain.com/en/latest/modules/chains/examples/openapi.html', 'https://python.langchain.com/en/latest/modules/chains/examples/pal.html', 'https://python.langchain.com/en/latest/modules/chains/examples/sqlite.html', 'https://python.langchain.com/en/latest/reference/modules/chains.html', 'https://python.langchain.com/en/latest/modules/agents.html', 'https://python.langchain.com/en/latest/modules/agents/getting_started.html', 'https://python.langchain.com/en/latest/modules/agents/tools.html', 'https://python.langchain.com/en/latest/modules/agents/tools/getting_started.html', 'https://python.langchain.com/en/latest/modules/agents/tools/custom_tools.html', 'https://python.langchain.com/en/latest/modules/agents/tools/multi_input_tool.html', 'https://python.langchain.com/en/latest/modules/agents/tools/tool_input_validation.html', 'https://python.langchain.com/en/latest/modules/agents/tools/examples/apify.html', 'https://python.langchain.com/en/latest/modules/agents/tools/examples/arxiv.html', 'https://python.langchain.com/en/latest/modules/agents/tools/examples/awslambda.html', 'https://python.langchain.com/en/latest/modules/agents/tools/examples/bash.html', 'https://python.langchain.com/en/latest/modules/agents/tools/examples/bing_search.html', 'https://python.langchain.com/en/latest/modules/agents/tools/examples/brave_search.html', 'https://python.langchain.com/en/latest/modules/agents/tools/examples/chatgpt_plugins.html', 'https://python.langchain.com/en/latest/modules/agents/tools/examples/ddg.html', 'https://python.langchain.com/en/latest/modules/agents/tools/examples/filesystem.html', 'https://python.langchain.com/en/latest/modules/agents/tools/examples/google_places.html', 'https://python.langchain.com/en/latest/modules/agents/tools/examples/google_search.html', 'https://python.langchain.com/en/latest/modules/agents/tools/examples/google_serper.html', 'https://python.langchain.com/en/latest/modules/agents/tools/examples/gradio_tools.html', 'https://python.langchain.com/en/latest/modules/agents/tools/examples/graphql.html', 'https://python.langchain.com/en/latest/modules/agents/tools/examples/huggingface_tools.html', 'https://python.langchain.com/en/latest/modules/agents/tools/examples/human_tools.html', 'https://python.langchain.com/en/latest/modules/agents/tools/examples/ifttt.html', 'https://python.langchain.com/en/latest/modules/agents/tools/examples/metaphor_search.html', 'https://python.langchain.com/en/latest/modules/agents/tools/examples/openweathermap.html', 'https://python.langchain.com/en/latest/modules/agents/tools/examples/pubmed.html', 'https://python.langchain.com/en/latest/modules/agents/tools/examples/python.html', 'https://python.langchain.com/en/latest/modules/agents/tools/examples/requests.html', 'https://python.langchain.com/en/latest/modules/agents/tools/examples/sceneXplain.html', 'https://python.langchain.com/en/latest/modules/agents/tools/examples/search_tools.html', 'https://python.langchain.com/en/latest/modules/agents/tools/examples/searx_search.html', 'https://python.langchain.com/en/latest/modules/agents/tools/examples/serpapi.html', 'https://python.langchain.com/en/latest/modules/agents/tools/examples/twilio.html', 'https://python.langchain.com/en/latest/modules/agents/tools/examples/wikipedia.html', 'https://python.langchain.com/en/latest/modules/agents/tools/examples/wolfram_alpha.html', 'https://python.langchain.com/en/latest/modules/agents/tools/examples/youtube.html', 'https://python.langchain.com/en/latest/modules/agents/tools/examples/zapier.html', 'https://python.langchain.com/en/latest/modules/agents/agents.html', 'https://python.langchain.com/en/latest/modules/agents/agents/agent_types.html', 'https://python.langchain.com/en/latest/modules/agents/agents/custom_agent.html', 'https://python.langchain.com/en/latest/modules/agents/agents/custom_llm_agent.html', 'https://python.langchain.com/en/latest/modules/agents/agents/custom_llm_chat_agent.html', 'https://python.langchain.com/en/latest/modules/agents/agents/custom_mrkl_agent.html', 'https://python.langchain.com/en/latest/modules/agents/agents/custom_multi_action_agent.html', 'https://python.langchain.com/en/latest/modules/agents/agents/custom_agent_with_tool_retrieval.html', 'https://python.langchain.com/en/latest/modules/agents/agents/examples/chat_conversation_agent.html', 'https://python.langchain.com/en/latest/modules/agents/agents/examples/conversational_agent.html', 'https://python.langchain.com/en/latest/modules/agents/agents/examples/mrkl.html', 'https://python.langchain.com/en/latest/modules/agents/agents/examples/mrkl_chat.html', 'https://python.langchain.com/en/latest/modules/agents/agents/examples/react.html', 'https://python.langchain.com/en/latest/modules/agents/agents/examples/self_ask_with_search.html', 'https://python.langchain.com/en/latest/modules/agents/agents/examples/structured_chat.html', 'https://python.langchain.com/en/latest/modules/agents/toolkits.html', 'https://python.langchain.com/en/latest/modules/agents/toolkits/examples/azure_cognitive_services.html', 'https://python.langchain.com/en/latest/modules/agents/toolkits/examples/csv.html', 'https://python.langchain.com/en/latest/modules/agents/toolkits/examples/gmail.html', 'https://python.langchain.com/en/latest/modules/agents/toolkits/examples/jira.html', 'https://python.langchain.com/en/latest/modules/agents/toolkits/examples/json.html', 'https://python.langchain.com/en/latest/modules/agents/toolkits/examples/openapi.html', 'https://python.langchain.com/en/latest/modules/agents/toolkits/examples/openapi_nla.html', 'https://python.langchain.com/en/latest/modules/agents/toolkits/examples/pandas.html', 'https://python.langchain.com/en/latest/modules/agents/toolkits/examples/playwright.html', 'https://python.langchain.com/en/latest/modules/agents/toolkits/examples/powerbi.html', 'https://python.langchain.com/en/latest/modules/agents/toolkits/examples/python.html', 'https://python.langchain.com/en/latest/modules/agents/toolkits/examples/spark.html', 'https://python.langchain.com/en/latest/modules/agents/toolkits/examples/spark_sql.html', 'https://python.langchain.com/en/latest/modules/agents/toolkits/examples/sql_database.html', 'https://python.langchain.com/en/latest/modules/agents/toolkits/examples/vectorstore.html', 'https://python.langchain.com/en/latest/modules/agents/agent_executors.html', 'https://python.langchain.com/en/latest/modules/agents/agent_executors/examples/agent_vectorstore.html', 'https://python.langchain.com/en/latest/modules/agents/agent_executors/examples/async_agent.html', 'https://python.langchain.com/en/latest/modules/agents/agent_executors/examples/chatgpt_clone.html', 'https://python.langchain.com/en/latest/modules/agents/agent_executors/examples/handle_parsing_errors.html', 'https://python.langchain.com/en/latest/modules/agents/agent_executors/examples/intermediate_steps.html', 'https://python.langchain.com/en/latest/modules/agents/agent_executors/examples/max_iterations.html', 'https://python.langchain.com/en/latest/modules/agents/agent_executors/examples/max_time_limit.html', 'https://python.langchain.com/en/latest/modules/agents/agent_executors/examples/sharedmemory_for_tools.html', 'https://python.langchain.com/en/latest/modules/agents/plan_and_execute.html', 'https://python.langchain.com/en/latest/modules/callbacks/getting_started.html', 'https://python.langchain.com/en/latest/use_cases/autonomous_agents.html', 'https://python.langchain.com/en/latest/use_cases/agent_simulations.html', 'https://python.langchain.com/en/latest/use_cases/personal_assistants.html', 'https://python.langchain.com/en/latest/use_cases/question_answering.html', 'https://python.langchain.com/en/latest/use_cases/chatbots.html', 'https://python.langchain.com/en/latest/use_cases/tabular.html', 'https://python.langchain.com/en/latest/use_cases/code.html', 'https://python.langchain.com/en/latest/use_cases/apis.html', 'https://python.langchain.com/en/latest/use_cases/extraction.html', 'https://python.langchain.com/en/latest/use_cases/summarization.html', 'https://python.langchain.com/en/latest/use_cases/evaluation.html', 'https://python.langchain.com/en/latest/use_cases/evaluation/agent_benchmarking.html', 'https://python.langchain.com/en/latest/use_cases/evaluation/agent_vectordb_sota_pg.html', 'https://python.langchain.com/en/latest/use_cases/evaluation/benchmarking_template.html', 'https://python.langchain.com/en/latest/use_cases/evaluation/data_augmented_question_answering.html', 'https://python.langchain.com/en/latest/use_cases/evaluation/generic_agent_evaluation.html', 'https://python.langchain.com/en/latest/use_cases/evaluation/huggingface_datasets.html', 'https://python.langchain.com/en/latest/use_cases/evaluation/llm_math.html', 'https://python.langchain.com/en/latest/use_cases/evaluation/openapi_eval.html', 'https://python.langchain.com/en/latest/use_cases/evaluation/qa_benchmarking_pg.html', 'https://python.langchain.com/en/latest/use_cases/evaluation/qa_benchmarking_sota.html', 'https://python.langchain.com/en/latest/use_cases/evaluation/qa_generation.html', 'https://python.langchain.com/en/latest/use_cases/evaluation/question_answering.html', 'https://python.langchain.com/en/latest/use_cases/evaluation/sql_qa_benchmarking_chinook.html', 'https://python.langchain.com/en/latest/reference/installation.html', 'https://python.langchain.com/en/latest/reference.html', 'https://python.langchain.com/en/latest/reference/models.html', 'https://python.langchain.com/en/latest/reference/modules/llms.html', 'https://python.langchain.com/en/latest/reference/modules/chat_models.html', 'https://python.langchain.com/en/latest/reference/modules/embeddings.html', 'https://python.langchain.com/en/latest/reference/prompts.html', 'https://python.langchain.com/en/latest/reference/modules/prompts.html', 'https://python.langchain.com/en/latest/reference/modules/example_selector.html', 'https://python.langchain.com/en/latest/reference/modules/output_parsers.html', 'https://python.langchain.com/en/latest/reference/indexes.html', 'https://python.langchain.com/en/latest/reference/modules/docstore.html', 'https://python.langchain.com/en/latest/reference/modules/text_splitter.html', 'https://python.langchain.com/en/latest/reference/modules/document_loaders.html', 'https://python.langchain.com/en/latest/reference/modules/vectorstores.html', 'https://python.langchain.com/en/latest/reference/modules/retrievers.html', 'https://python.langchain.com/en/latest/reference/modules/document_compressors.html', 'https://python.langchain.com/en/latest/reference/modules/document_transformers.html', 'https://python.langchain.com/en/latest/reference/modules/memory.html', 'https://python.langchain.com/en/latest/reference/modules/chains.html', 'https://python.langchain.com/en/latest/reference/agents.html', 'https://python.langchain.com/en/latest/reference/modules/agents.html', 'https://python.langchain.com/en/latest/reference/modules/tools.html', 'https://python.langchain.com/en/latest/reference/modules/agent_toolkits.html', 'https://python.langchain.com/en/latest/reference/modules/utilities.html', 'https://python.langchain.com/en/latest/reference/modules/experimental.html', 'https://python.langchain.com/en/latest/integrations.html', 'https://python.langchain.com/en/latest/integrations/agent_with_wandb_tracing.html', 'https://python.langchain.com/en/latest/integrations/ai21.html', 'https://python.langchain.com/en/latest/integrations/aim_tracking.html', 'https://python.langchain.com/en/latest/integrations/airbyte.html', 'https://python.langchain.com/en/latest/integrations/aleph_alpha.html', 'https://python.langchain.com/en/latest/integrations/amazon_bedrock.html', 'https://python.langchain.com/en/latest/integrations/analyticdb.html', 'https://python.langchain.com/en/latest/integrations/annoy.html', 'https://python.langchain.com/en/latest/integrations/anthropic.html', 'https://python.langchain.com/en/latest/integrations/anyscale.html', 'https://python.langchain.com/en/latest/integrations/apify.html', 'https://python.langchain.com/en/latest/integrations/argilla.html', 'https://python.langchain.com/en/latest/integrations/arxiv.html', 'https://python.langchain.com/en/latest/integrations/atlas.html', 'https://python.langchain.com/en/latest/integrations/awadb.html', 'https://python.langchain.com/en/latest/integrations/aws_s3.html', 'https://python.langchain.com/en/latest/integrations/azlyrics.html', 'https://python.langchain.com/en/latest/integrations/azure_blob_storage.html', 'https://python.langchain.com/en/latest/integrations/azure_cognitive_search_.html', 'https://python.langchain.com/en/latest/integrations/azure_openai.html', 'https://python.langchain.com/en/latest/integrations/bananadev.html', 'https://python.langchain.com/en/latest/integrations/beam.html', 'https://python.langchain.com/en/latest/integrations/bilibili.html', 'https://python.langchain.com/en/latest/integrations/blackboard.html', 'https://python.langchain.com/en/latest/integrations/cassandra.html', 'https://python.langchain.com/en/latest/integrations/cerebriumai.html', 'https://python.langchain.com/en/latest/integrations/chroma.html', 'https://python.langchain.com/en/latest/integrations/clearml_tracking.html', 'https://python.langchain.com/en/latest/integrations/clickhouse.html', 'https://python.langchain.com/en/latest/integrations/cohere.html', 'https://python.langchain.com/en/latest/integrations/college_confidential.html', 'https://python.langchain.com/en/latest/integrations/comet_tracking.html', 'https://python.langchain.com/en/latest/integrations/confluence.html', 'https://python.langchain.com/en/latest/integrations/ctransformers.html', 'https://python.langchain.com/en/latest/integrations/databerry.html', 'https://python.langchain.com/en/latest/integrations/databricks.html', 'https://python.langchain.com/en/latest/integrations/deepinfra.html', 'https://python.langchain.com/en/latest/integrations/deeplake.html', 'https://python.langchain.com/en/latest/integrations/diffbot.html', 'https://python.langchain.com/en/latest/integrations/discord.html', 'https://python.langchain.com/en/latest/integrations/docugami.html', 'https://python.langchain.com/en/latest/integrations/duckdb.html', 'https://python.langchain.com/en/latest/integrations/elasticsearch.html', 'https://python.langchain.com/en/latest/integrations/evernote.html', 'https://python.langchain.com/en/latest/integrations/facebook_chat.html', 'https://python.langchain.com/en/latest/integrations/figma.html', 'https://python.langchain.com/en/latest/integrations/forefrontai.html', 'https://python.langchain.com/en/latest/integrations/git.html', 'https://python.langchain.com/en/latest/integrations/gitbook.html', 'https://python.langchain.com/en/latest/integrations/google_bigquery.html', 'https://python.langchain.com/en/latest/integrations/google_cloud_storage.html', 'https://python.langchain.com/en/latest/integrations/google_drive.html', 'https://python.langchain.com/en/latest/integrations/google_search.html', 'https://python.langchain.com/en/latest/integrations/google_serper.html', 'https://python.langchain.com/en/latest/integrations/google_vertex_ai.html', 'https://python.langchain.com/en/latest/integrations/gooseai.html', 'https://python.langchain.com/en/latest/integrations/gpt4all.html', 'https://python.langchain.com/en/latest/integrations/graphsignal.html', 'https://python.langchain.com/en/latest/integrations/gutenberg.html', 'https://python.langchain.com/en/latest/integrations/hacker_news.html', 'https://python.langchain.com/en/latest/integrations/hazy_research.html', 'https://python.langchain.com/en/latest/integrations/helicone.html', 'https://python.langchain.com/en/latest/integrations/huggingface.html', 'https://python.langchain.com/en/latest/integrations/ifixit.html', 'https://python.langchain.com/en/latest/integrations/imsdb.html', 'https://python.langchain.com/en/latest/integrations/jina.html', 'https://python.langchain.com/en/latest/integrations/lancedb.html', 'https://python.langchain.com/en/latest/integrations/langchain_decorators.html', 'https://python.langchain.com/en/latest/integrations/llamacpp.html', 'https://python.langchain.com/en/latest/integrations/mediawikidump.html', 'https://python.langchain.com/en/latest/integrations/metal.html', 'https://python.langchain.com/en/latest/integrations/microsoft_onedrive.html', 'https://python.langchain.com/en/latest/integrations/microsoft_powerpoint.html', 'https://python.langchain.com/en/latest/integrations/microsoft_word.html', 'https://python.langchain.com/en/latest/integrations/milvus.html', 'https://python.langchain.com/en/latest/integrations/mlflow_tracking.html', 'https://python.langchain.com/en/latest/integrations/modal.html', 'https://python.langchain.com/en/latest/integrations/modern_treasury.html', 'https://python.langchain.com/en/latest/integrations/momento.html', 'https://python.langchain.com/en/latest/integrations/myscale.html', 'https://python.langchain.com/en/latest/integrations/nlpcloud.html', 'https://python.langchain.com/en/latest/integrations/notion.html', 'https://python.langchain.com/en/latest/integrations/obsidian.html', 'https://python.langchain.com/en/latest/integrations/openai.html', 'https://python.langchain.com/en/latest/integrations/opensearch.html', 'https://python.langchain.com/en/latest/integrations/openweathermap.html', 'https://python.langchain.com/en/latest/integrations/petals.html', 'https://python.langchain.com/en/latest/integrations/pgvector.html', 'https://python.langchain.com/en/latest/integrations/pinecone.html', 'https://python.langchain.com/en/latest/integrations/pipelineai.html', 'https://python.langchain.com/en/latest/integrations/predictionguard.html', 'https://python.langchain.com/en/latest/integrations/promptlayer.html', 'https://python.langchain.com/en/latest/integrations/psychic.html', 'https://python.langchain.com/en/latest/integrations/qdrant.html', 'https://python.langchain.com/en/latest/integrations/ray_serve.html', 'https://python.langchain.com/en/latest/integrations/rebuff.html', 'https://python.langchain.com/en/latest/integrations/reddit.html', 'https://python.langchain.com/en/latest/integrations/redis.html', 'https://python.langchain.com/en/latest/integrations/replicate.html', 'https://python.langchain.com/en/latest/integrations/roam.html', 'https://python.langchain.com/en/latest/integrations/runhouse.html', 'https://python.langchain.com/en/latest/integrations/rwkv.html', 'https://python.langchain.com/en/latest/integrations/sagemaker_endpoint.html', 'https://python.langchain.com/en/latest/integrations/searx.html', 'https://python.langchain.com/en/latest/integrations/serpapi.html', 'https://python.langchain.com/en/latest/integrations/shaleprotocol.html', 'https://python.langchain.com/en/latest/integrations/sklearn.html', 'https://python.langchain.com/en/latest/integrations/slack.html', 'https://python.langchain.com/en/latest/integrations/spacy.html', 'https://python.langchain.com/en/latest/integrations/spreedly.html', 'https://python.langchain.com/en/latest/integrations/stochasticai.html', 'https://python.langchain.com/en/latest/integrations/stripe.html', 'https://python.langchain.com/en/latest/integrations/tair.html', 'https://python.langchain.com/en/latest/integrations/telegram.html', 'https://python.langchain.com/en/latest/integrations/tensorflow_hub.html', 'https://python.langchain.com/en/latest/integrations/tomarkdown.html', 'https://python.langchain.com/en/latest/integrations/trello.html', 'https://python.langchain.com/en/latest/integrations/twitter.html', 'https://python.langchain.com/en/latest/integrations/unstructured.html', 'https://python.langchain.com/en/latest/integrations/vectara.html', 'https://python.langchain.com/en/latest/integrations/vespa.html', 'https://python.langchain.com/en/latest/integrations/wandb_tracking.html', 'https://python.langchain.com/en/latest/integrations/weather.html', 'https://python.langchain.com/en/latest/integrations/weaviate.html', 'https://python.langchain.com/en/latest/integrations/whatsapp.html', 'https://python.langchain.com/en/latest/integrations/whylabs_profiling.html', 'https://python.langchain.com/en/latest/integrations/wikipedia.html', 'https://python.langchain.com/en/latest/integrations/wolfram_alpha.html', 'https://python.langchain.com/en/latest/integrations/writer.html', 'https://python.langchain.com/en/latest/integrations/yeagerai.html', 'https://python.langchain.com/en/latest/integrations/youtube.html', 'https://python.langchain.com/en/latest/integrations/zep.html', 'https://python.langchain.com/en/latest/integrations/zilliz.html', 'https://python.langchain.com/en/latest/dependents.html', 'https://python.langchain.com/en/latest/ecosystem/deployments.html', 'https://python.langchain.com/en/latest/https://github.com/hwchase17/langchain-hub', 'https://python.langchain.com/en/latest/additional_resources/deploy_llms.html', 'https://python.langchain.com/en/latest/https://github.com/kyrolabs/awesome-langchain', 'https://python.langchain.com/en/latest/additional_resources/tracing.html', 'https://python.langchain.com/en/latest/additional_resources/model_laboratory.html', 'https://python.langchain.com/en/latest/https://discord.gg/6adMQxSpJS', 'https://python.langchain.com/en/latest/additional_resources/youtube.html', 'https://python.langchain.com/en/latest/https://forms.gle/57d8AmXBYp8PP8tZA', 'https://python.langchain.com/en/latest/https://github.com/hwchase17/langchain', 'https://python.langchain.com/en/latest/_sources/index.rst', 'https://python.langchain.com/en/latest/#getting-started', 'https://python.langchain.com/en/latest/#modules', 'https://python.langchain.com/en/latest/#use-cases', 'https://python.langchain.com/en/latest/#reference-docs', 'https://python.langchain.com/en/latest/#ecosystem', 'https://python.langchain.com/en/latest/#additional-resources', 'https://python.langchain.com/en/latest/#welcome-to-langchain', 'https://python.langchain.com/en/latest/https://docs.langchain.com/docs/', 'https://python.langchain.com/en/latest/https://js.langchain.com/docs/', 'https://python.langchain.com/en/latest/#getting-started', 'https://python.langchain.com/en/latest/./getting_started/getting_started.html', 'https://python.langchain.com/en/latest/./getting_started/concepts.html', 'https://python.langchain.com/en/latest/./getting_started/tutorials.html', 'https://python.langchain.com/en/latest/#modules', 'https://python.langchain.com/en/latest/./modules/models.html', 'https://python.langchain.com/en/latest/./modules/prompts.html', 'https://python.langchain.com/en/latest/./modules/memory.html', 'https://python.langchain.com/en/latest/./modules/indexes.html', 'https://python.langchain.com/en/latest/./modules/chains.html', 'https://python.langchain.com/en/latest/./modules/agents.html', 'https://python.langchain.com/en/latest/./modules/callbacks/getting_started.html', 'https://python.langchain.com/en/latest/#use-cases', 'https://python.langchain.com/en/latest/./use_cases/autonomous_agents.html', 'https://python.langchain.com/en/latest/./use_cases/agent_simulations.html', 'https://python.langchain.com/en/latest/./use_cases/personal_assistants.html', 'https://python.langchain.com/en/latest/./use_cases/question_answering.html', 'https://python.langchain.com/en/latest/./use_cases/chatbots.html', 'https://python.langchain.com/en/latest/./use_cases/tabular.html', 'https://python.langchain.com/en/latest/./use_cases/code.html', 'https://python.langchain.com/en/latest/./use_cases/apis.html', 'https://python.langchain.com/en/latest/./use_cases/extraction.html', 'https://python.langchain.com/en/latest/./use_cases/summarization.html', 'https://python.langchain.com/en/latest/./use_cases/evaluation.html', 'https://python.langchain.com/en/latest/#reference-docs', 'https://python.langchain.com/en/latest/./reference/installation.html', 'https://python.langchain.com/en/latest/./reference.html', 'https://python.langchain.com/en/latest/#ecosystem', 'https://python.langchain.com/en/latest/./integrations.html', 'https://python.langchain.com/en/latest/./dependents.html', 'https://python.langchain.com/en/latest/./ecosystem/deployments.html', 'https://python.langchain.com/en/latest/#additional-resources', 'https://python.langchain.com/en/latest/https://github.com/hwchase17/langchain-hub', 'https://python.langchain.com/en/latest/https://github.com/kyrolabs/awesome-langchain', 'https://python.langchain.com/en/latest/https://kyrolabs.com', 'https://python.langchain.com/en/latest/./additional_resources/deploy_llms.html', 'https://python.langchain.com/en/latest/./additional_resources/tracing.html', 'https://python.langchain.com/en/latest/./additional_resources/model_laboratory.html', 'https://python.langchain.com/en/latest/https://discord.gg/6adMQxSpJS', 'https://python.langchain.com/en/latest/./additional_resources/youtube.html', 'https://python.langchain.com/en/latest/https://forms.gle/57d8AmXBYp8PP8tZA', 'https://python.langchain.com/en/latest/getting_started/getting_started.html', 'https://python.langchain.com/en/latest/#getting-started', 'https://python.langchain.com/en/latest/#modules', 'https://python.langchain.com/en/latest/#use-cases', 'https://python.langchain.com/en/latest/#reference-docs', 'https://python.langchain.com/en/latest/#ecosystem', 'https://python.langchain.com/en/latest/#additional-resources']\n"
     ]
    }
   ],
   "source": [
    "# Add base path to all links\n",
    "def add_base_path(website_link, list_links):\n",
    "    list_links_with_base_path = []\n",
    "\n",
    "    for link in list_links:\n",
    "\n",
    "        if not link.startswith('/'):\n",
    "            link_with_base_path = website_link + link\n",
    "            list_links_with_base_path.append(link_with_base_path)\n",
    "\n",
    "\t\t# if link.startswith('https://') dont add base path\n",
    "        elif link.startswith('http://'):\n",
    "            list_links_with_base_path.append(link)\n",
    "\n",
    "        elif link.startswith('.'):\n",
    "            link_with_base_path = website_link + link.split('/')[-1]\n",
    "            list_links_with_base_path.append(link_with_base_path)\n",
    "\n",
    "    return list_links_with_base_path\n",
    "\n",
    "link_list = add_base_path('https://python.langchain.com/en/latest/', sub_links)\n",
    "link_list_print = print(link_list)"
   ],
   "metadata": {
    "collapsed": false,
    "ExecuteTime": {
     "end_time": "2023-06-13T15:02:22.494938Z",
     "start_time": "2023-06-13T15:02:22.490736Z"
    }
   }
  },
  {
   "cell_type": "code",
   "execution_count": 207,
   "outputs": [],
   "source": [
    "def save_content(link_list):\n",
    "    for i, link in enumerate(link_list):\n",
    "        html_data = get_data(link)\n",
    "        soup = BeautifulSoup(html_data, \"html.parser\")\n",
    "        text = soup.get_text()\n",
    "\n",
    "        # Remove the first 835 lines\n",
    "        lines = text.splitlines()\n",
    "        cleaned_text = \"\\n\".join(lines[835:])\n",
    "\n",
    "        # Get the first 3 words in the cleaned text\n",
    "        words = cleaned_text.split()[:3]\n",
    "        file_name_prefix = \"_\".join(words)\n",
    "\n",
    "        # Replace special characters and spaces with an underscore\n",
    "        file_name_prefix = re.sub(r\"[^a-zA-Z0-9]+\", \"_\", file_name_prefix)\n",
    "\n",
    "        # Get the current working directory\n",
    "        current_dir = os.getcwd()\n",
    "\n",
    "        # Move up one level to the parent directory\n",
    "        parent_dir = os.path.dirname(current_dir)\n",
    "\n",
    "        # Set the path to the data folder\n",
    "        data_folder = os.path.join(parent_dir, \"data/langchain_doc\")\n",
    "\n",
    "        # Create the data folder if it doesn't exist\n",
    "        if not os.path.exists(data_folder):\n",
    "            os.makedirs(data_folder)\n",
    "\n",
    "        # Set the path to the output file\n",
    "        output_file = os.path.join(data_folder, f\"{i}_{file_name_prefix}.txt\")\n",
    "\n",
    "        # Save the cleaned content to the output file\n",
    "        with open(output_file, \"w\") as f:\n",
    "            f.write(cleaned_text)"
   ],
   "metadata": {
    "collapsed": false,
    "ExecuteTime": {
     "end_time": "2023-06-13T16:19:58.593491Z",
     "start_time": "2023-06-13T16:19:58.585704Z"
    }
   }
  },
  {
   "cell_type": "code",
   "execution_count": 208,
   "outputs": [],
   "source": [
    "# save the content of the first 10 links into txt files with the name content_1.txt, content_2.txt, etc.\n",
    "save_content(link_list)"
   ],
   "metadata": {
    "collapsed": false,
    "ExecuteTime": {
     "end_time": "2023-06-13T16:27:42.481314Z",
     "start_time": "2023-06-13T16:19:59.394583Z"
    }
   }
  },
  {
   "cell_type": "markdown",
   "source": [
    "# Q&A bot with langchain over a directory"
   ],
   "metadata": {
    "collapsed": false
   }
  },
  {
   "cell_type": "code",
   "execution_count": 209,
   "outputs": [],
   "source": [
    "from langchain.chains.question_answering import load_qa_chain\n",
    "from langchain.llms import OpenAI\n",
    "import os\n",
    "import getpass\n",
    "from langchain.document_loaders import PyPDFLoader, TextLoader\n",
    "from langchain.embeddings.openai import OpenAIEmbeddings\n",
    "from langchain.text_splitter import RecursiveCharacterTextSplitter, CharacterTextSplitter\n",
    "from langchain.vectorstores import DeepLake\n",
    "from langchain.chains import ConversationalRetrievalChain, RetrievalQA\n",
    "from langchain.chat_models import ChatOpenAI\n",
    "from langchain.llms import OpenAI\n",
    "from langchain.document_loaders import DirectoryLoader\n",
    "from langchain.document_loaders import TextLoader\n",
    "import os\n",
    "from langchain.llms import OpenAI\n",
    "from langchain.vectorstores import Chroma\n",
    "from langchain.embeddings import OpenAIEmbeddings\n",
    "from langchain.llms import OpenAI\n",
    "from langchain.chains import RetrievalQA\n",
    "from langchain.document_loaders import DirectoryLoader"
   ],
   "metadata": {
    "collapsed": false,
    "ExecuteTime": {
     "end_time": "2023-06-13T16:28:00.123604Z",
     "start_time": "2023-06-13T16:28:00.119561Z"
    }
   }
  },
  {
   "cell_type": "code",
   "execution_count": 182,
   "outputs": [],
   "source": [
    "#create a new openai api key\n",
    "#os.environ[\"OPENAI_API_KEY\"] = \"sk-...\"\n",
    "# set up openai api key\n",
    "openai_api_key = os.environ.get('OPENAI_API_KEY')"
   ],
   "metadata": {
    "collapsed": false,
    "ExecuteTime": {
     "end_time": "2023-06-12T21:13:18.681087Z",
     "start_time": "2023-06-12T21:13:18.672234Z"
    }
   }
  },
  {
   "cell_type": "code",
   "execution_count": 214,
   "outputs": [
    {
     "data": {
      "text/plain": "677"
     },
     "execution_count": 214,
     "metadata": {},
     "output_type": "execute_result"
    }
   ],
   "source": [
    "# print number of txt files in directory\n",
    "loader = DirectoryLoader('/Users/erictak/PycharmProjects/langchain/data/langchain_doc', glob=\"./*.txt\")\n",
    "doc = loader.load ( )\n",
    "len(doc)"
   ],
   "metadata": {
    "collapsed": false,
    "ExecuteTime": {
     "end_time": "2023-06-13T16:40:40.884468Z",
     "start_time": "2023-06-13T16:40:27.194196Z"
    }
   }
  },
  {
   "cell_type": "code",
   "execution_count": 215,
   "outputs": [],
   "source": [
    "#splitting the text into chunks\n",
    "text_splitter = RecursiveCharacterTextSplitter (chunk_size=1000, chunk_overlap=200)\n",
    "texts = text_splitter.split_documents(doc)"
   ],
   "metadata": {
    "collapsed": false,
    "ExecuteTime": {
     "end_time": "2023-06-13T16:40:48.706177Z",
     "start_time": "2023-06-13T16:40:48.517870Z"
    }
   }
  },
  {
   "cell_type": "code",
   "execution_count": 216,
   "outputs": [
    {
     "data": {
      "text/plain": "5558"
     },
     "execution_count": 216,
     "metadata": {},
     "output_type": "execute_result"
    }
   ],
   "source": [
    "# count the number of chunks\n",
    "len(texts)"
   ],
   "metadata": {
    "collapsed": false,
    "ExecuteTime": {
     "end_time": "2023-06-13T16:40:49.659040Z",
     "start_time": "2023-06-13T16:40:49.655558Z"
    }
   }
  },
  {
   "cell_type": "code",
   "execution_count": 217,
   "outputs": [
    {
     "data": {
      "text/plain": "Document(page_content='Twitter\\n\\nContents\\n\\nInstallation and Setup\\n\\nDocument Loader\\n\\nTwitter#\\n\\nTwitter is an online social media and social networking service.\\n\\nInstallation and Setup#\\n\\npip install tweepy\\n\\nWe must initialize the loader with the Twitter API token, and we need to set up the Twitter username.\\n\\nDocument Loader#\\n\\nSee a usage example.\\n\\nfrom langchain.document_loaders import TwitterTweetLoader\\n\\nprevious\\n\\nTrello\\n\\nnext\\n\\nUnstructured\\n\\nContents\\n\\nInstallation and Setup\\n\\nDocument Loader\\n\\nBy Harrison Chase\\n\\n© Copyright 2023, Harrison Chase.\\n\\nLast updated on Jun 13, 2023.', metadata={'source': '/Users/erictak/PycharmProjects/langchain/data/langchain_doc/592_Twitter_Contents_Installation.txt'})"
     },
     "execution_count": 217,
     "metadata": {},
     "output_type": "execute_result"
    }
   ],
   "source": [
    "# print the first chunk\n",
    "texts[0]"
   ],
   "metadata": {
    "collapsed": false,
    "ExecuteTime": {
     "end_time": "2023-06-13T16:40:51.356091Z",
     "start_time": "2023-06-13T16:40:51.341809Z"
    }
   }
  },
  {
   "cell_type": "markdown",
   "source": [
    "# Data base creation with ChromaDB\n",
    "\n",
    "https://www.youtube.com/watch?v=3yPBVii7Ct0"
   ],
   "metadata": {
    "collapsed": false
   }
  },
  {
   "cell_type": "code",
   "execution_count": 236,
   "outputs": [
    {
     "name": "stderr",
     "output_type": "stream",
     "text": [
      "Using embedded DuckDB with persistence: data will be stored in: data/db\n"
     ]
    }
   ],
   "source": [
    "# Embed and store the texts\n",
    "# Supplying a persist_directory will store the embeddings on disk\n",
    "persist_directory = 'db'\n",
    "\n",
    "## here we are using OpenAI embeddings but in future we will swap out to local embeddings\n",
    "embedding = OpenAIEmbeddings()\n",
    "\n",
    "vectordb = Chroma.from_documents(documents=texts,\n",
    "                                 embedding=embedding,\n",
    "                                 persist_directory=persist_directory)"
   ],
   "metadata": {
    "collapsed": false,
    "ExecuteTime": {
     "end_time": "2023-06-13T17:15:38.043866Z",
     "start_time": "2023-06-13T17:14:41.971235Z"
    }
   }
  },
  {
   "cell_type": "code",
   "execution_count": 237,
   "outputs": [],
   "source": [
    "# persiste the db to disk\n",
    "vectordb.persist()\n",
    "vectordb = None"
   ],
   "metadata": {
    "collapsed": false,
    "ExecuteTime": {
     "end_time": "2023-06-13T17:15:38.951273Z",
     "start_time": "2023-06-13T17:15:38.043614Z"
    }
   }
  },
  {
   "cell_type": "code",
   "execution_count": 238,
   "outputs": [
    {
     "name": "stderr",
     "output_type": "stream",
     "text": [
      "Using embedded DuckDB with persistence: data will be stored in: data/db\n"
     ]
    }
   ],
   "source": [
    "# Now we can load the persisted database from disk, and use it as normal.\n",
    "vectordb = Chroma(persist_directory=persist_directory,\n",
    "                  embedding_function=embedding)"
   ],
   "metadata": {
    "collapsed": false,
    "ExecuteTime": {
     "end_time": "2023-06-13T17:15:43.520342Z",
     "start_time": "2023-06-13T17:15:43.285176Z"
    }
   }
  },
  {
   "cell_type": "markdown",
   "source": [
    "# create retriever"
   ],
   "metadata": {
    "collapsed": false
   }
  },
  {
   "cell_type": "code",
   "execution_count": 221,
   "outputs": [],
   "source": [
    "retriever = vectordb.as_retriever()"
   ],
   "metadata": {
    "collapsed": false,
    "ExecuteTime": {
     "end_time": "2023-06-13T16:52:37.670786Z",
     "start_time": "2023-06-13T16:52:37.668225Z"
    }
   }
  },
  {
   "cell_type": "code",
   "execution_count": 222,
   "outputs": [],
   "source": [
    "docs = retriever.get_relevant_documents(\"What to do when getting started?\")"
   ],
   "metadata": {
    "collapsed": false,
    "ExecuteTime": {
     "end_time": "2023-06-13T16:52:39.785843Z",
     "start_time": "2023-06-13T16:52:39.352555Z"
    }
   }
  },
  {
   "cell_type": "code",
   "execution_count": 223,
   "outputs": [
    {
     "data": {
      "text/plain": "[Document(page_content='next\\n\\nQuickstart Guide\\n\\nContents\\n\\nGetting Started\\n\\nModules\\n\\nUse Cases\\n\\nReference Docs\\n\\nEcosystem\\n\\nAdditional Resources\\n\\nBy Harrison Chase\\n\\n© Copyright 2023, Harrison Chase.\\n\\nLast updated on Jun 13, 2023.', metadata={'source': '/Users/erictak/PycharmProjects/langchain/data/langchain_doc/1_Welcome_to_LangChain.txt'}),\n Document(page_content='next\\n\\nQuickstart Guide\\n\\nContents\\n\\nGetting Started\\n\\nModules\\n\\nUse Cases\\n\\nReference Docs\\n\\nEcosystem\\n\\nAdditional Resources\\n\\nBy Harrison Chase\\n\\n© Copyright 2023, Harrison Chase.\\n\\nLast updated on Jun 13, 2023.', metadata={'source': '/Users/erictak/PycharmProjects/langchain/data/langchain_doc/620_Welcome_to_LangChain.txt'}),\n Document(page_content='next\\n\\nQuickstart Guide\\n\\nContents\\n\\nGetting Started\\n\\nModules\\n\\nUse Cases\\n\\nReference Docs\\n\\nEcosystem\\n\\nAdditional Resources\\n\\nBy Harrison Chase\\n\\n© Copyright 2023, Harrison Chase.\\n\\nLast updated on Jun 13, 2023.', metadata={'source': '/Users/erictak/PycharmProjects/langchain/data/langchain_doc/633_Welcome_to_LangChain.txt'}),\n Document(page_content='next\\n\\nQuickstart Guide\\n\\nContents\\n\\nGetting Started\\n\\nModules\\n\\nUse Cases\\n\\nReference Docs\\n\\nEcosystem\\n\\nAdditional Resources\\n\\nBy Harrison Chase\\n\\n© Copyright 2023, Harrison Chase.\\n\\nLast updated on Jun 13, 2023.', metadata={'source': '/Users/erictak/PycharmProjects/langchain/data/langchain_doc/626_Welcome_to_LangChain.txt'})]"
     },
     "execution_count": 223,
     "metadata": {},
     "output_type": "execute_result"
    }
   ],
   "source": [
    "docs"
   ],
   "metadata": {
    "collapsed": false,
    "ExecuteTime": {
     "end_time": "2023-06-13T16:52:40.543592Z",
     "start_time": "2023-06-13T16:52:40.536600Z"
    }
   }
  },
  {
   "cell_type": "code",
   "execution_count": 224,
   "outputs": [
    {
     "data": {
      "text/plain": "4"
     },
     "execution_count": 224,
     "metadata": {},
     "output_type": "execute_result"
    }
   ],
   "source": [
    "len(docs)"
   ],
   "metadata": {
    "collapsed": false,
    "ExecuteTime": {
     "end_time": "2023-06-13T16:52:42.792185Z",
     "start_time": "2023-06-13T16:52:42.785957Z"
    }
   }
  },
  {
   "cell_type": "code",
   "execution_count": 225,
   "outputs": [],
   "source": [
    "retriever = vectordb.as_retriever(search_kwargs={\"k\": 2})"
   ],
   "metadata": {
    "collapsed": false,
    "ExecuteTime": {
     "end_time": "2023-06-13T16:52:43.707827Z",
     "start_time": "2023-06-13T16:52:43.701804Z"
    }
   }
  },
  {
   "cell_type": "code",
   "execution_count": 226,
   "outputs": [
    {
     "data": {
      "text/plain": "'similarity'"
     },
     "execution_count": 226,
     "metadata": {},
     "output_type": "execute_result"
    }
   ],
   "source": [
    "retriever.search_type"
   ],
   "metadata": {
    "collapsed": false,
    "ExecuteTime": {
     "end_time": "2023-06-13T16:52:44.139637Z",
     "start_time": "2023-06-13T16:52:44.133965Z"
    }
   }
  },
  {
   "cell_type": "code",
   "execution_count": 227,
   "outputs": [
    {
     "data": {
      "text/plain": "{'k': 2}"
     },
     "execution_count": 227,
     "metadata": {},
     "output_type": "execute_result"
    }
   ],
   "source": [
    "retriever.search_kwargs"
   ],
   "metadata": {
    "collapsed": false,
    "ExecuteTime": {
     "end_time": "2023-06-13T16:52:44.876646Z",
     "start_time": "2023-06-13T16:52:44.866167Z"
    }
   }
  },
  {
   "cell_type": "markdown",
   "source": [
    "# create a question answering chain"
   ],
   "metadata": {
    "collapsed": false
   }
  },
  {
   "cell_type": "code",
   "execution_count": 228,
   "outputs": [],
   "source": [
    "# create the chain to answer questions\n",
    "qa_chain = RetrievalQA.from_chain_type(llm=OpenAI(),\n",
    "                                  chain_type=\"stuff\",\n",
    "                                  retriever=retriever,\n",
    "                                  return_source_documents=True,\n",
    "                                  verbose=True)"
   ],
   "metadata": {
    "collapsed": false,
    "ExecuteTime": {
     "end_time": "2023-06-13T16:52:45.993547Z",
     "start_time": "2023-06-13T16:52:45.984829Z"
    }
   }
  },
  {
   "cell_type": "code",
   "execution_count": 229,
   "outputs": [],
   "source": [
    "## Cite sources\n",
    "def process_llm_response(llm_response):\n",
    "    print(llm_response['result'])\n",
    "    print('\\n\\nSources:')\n",
    "    for source in llm_response[\"source_documents\"]:\n",
    "        print(source.metadata['source'])"
   ],
   "metadata": {
    "collapsed": false,
    "ExecuteTime": {
     "end_time": "2023-06-13T16:52:47.030992Z",
     "start_time": "2023-06-13T16:52:47.019885Z"
    }
   }
  },
  {
   "cell_type": "code",
   "execution_count": 230,
   "outputs": [
    {
     "name": "stdout",
     "output_type": "stream",
     "text": [
      "\n",
      "\n",
      "\u001B[1m> Entering new RetrievalQA chain...\u001B[0m\n",
      "\n",
      "\u001B[1m> Finished chain.\u001B[0m\n",
      " The steps of the Quickstart Guide are Getting Started, Modules, Use Cases, Reference Docs, Ecosystem, and Additional Resources.\n",
      "\n",
      "\n",
      "Sources:\n",
      "/Users/erictak/PycharmProjects/langchain/data/langchain_doc/674_Welcome_to_LangChain.txt\n",
      "/Users/erictak/PycharmProjects/langchain/data/langchain_doc/620_Welcome_to_LangChain.txt\n"
     ]
    }
   ],
   "source": [
    "# full example\n",
    "query = \"What are the steps of the Quickstart Guide?\"\n",
    "llm_response = qa_chain(query)\n",
    "process_llm_response(llm_response)"
   ],
   "metadata": {
    "collapsed": false,
    "ExecuteTime": {
     "end_time": "2023-06-13T16:52:53.222644Z",
     "start_time": "2023-06-13T16:52:50.222572Z"
    }
   }
  },
  {
   "cell_type": "code",
   "execution_count": 231,
   "outputs": [
    {
     "name": "stdout",
     "output_type": "stream",
     "text": [
      "\n",
      "\n",
      "\u001B[1m> Entering new RetrievalQA chain...\u001B[0m\n",
      "\n",
      "\u001B[1m> Finished chain.\u001B[0m\n"
     ]
    },
    {
     "data": {
      "text/plain": "{'query': 'What are all agent types?',\n 'result': ' Action Agents, Plan-and-Execute Agents, Conversation Agent (for Chat Models), Conversation Agent MRKL, MRKL Chat ReAct, Self Ask With Search, Structured Tool Chat Agent, Custom Agent, Custom LLM Agent, Custom LLM Agent (with a ChatModel), Custom MRKL Agent, Custom MultiAction Agent, Custom Agent with Tool Retrieval.',\n 'source_documents': [Document(page_content='Agents\\n\\nAgents#\\n\\nNote\\n\\nConceptual Guide\\n\\nIn this part of the documentation we cover the different types of agents, disregarding which specific tools they are used with. For a high level overview of the different types of agents, see the below documentation.\\n\\nAgent Types\\n\\nFor documentation on how to create a custom agent, see the below.\\n\\nCustom Agent Custom LLM Agent Custom LLM Agent (with a ChatModel) Custom MRKL Agent Custom MultiAction Agent Custom Agent with Tool Retrieval\\n\\nWe also have documentation for an in-depth dive into each agent type.\\n\\nConversation Agent (for Chat Models) Conversation Agent MRKL MRKL Chat ReAct Self Ask With Search Structured Tool Chat Agent\\n\\nprevious Zapier Natural Language Actions API\\n\\nnext\\n\\nAgent Types\\n\\nBy Harrison Chase\\n\\n© Copyright 2023, Harrison Chase.\\n\\nLast updated on Jun 13, 2023.', metadata={'source': '/Users/erictak/PycharmProjects/langchain/data/langchain_doc/382_Agents_Agents_Note.txt'}),\n  Document(page_content='Agents\\n\\nContents\\n\\nAction Agents\\n\\nPlan\\n\\n\\n\\nand\\n\\n\\n\\nExecute Agents\\n\\nAgents#\\n\\nNote\\n\\nConceptual Guide\\n\\nSome applications require not just a predetermined chain of calls to LLMs/other tools, but potentially an unknown chain that depends on the user’s input. In these types of chains, there is an agent which has access to a suite of tools. Depending on the user input, the agent can then decide which, if any, of these tools to call. At the moment, there are two main types of agents:\\n\\nAction Agents: these agents decide the actions to take and execute that actions one action at a time. Plan-and-Execute Agents: these agents first decide a plan of actions to take, and then execute those actions one at a time.', metadata={'source': '/Users/erictak/PycharmProjects/langchain/data/langchain_doc/639_Agents_Contents_Action.txt'})]}"
     },
     "execution_count": 231,
     "metadata": {},
     "output_type": "execute_result"
    }
   ],
   "source": [
    "# break it down\n",
    "query = \"What are all agent types?\"\n",
    "llm_response = qa_chain(query)\n",
    "# process_llm_response(llm_response)\n",
    "llm_response"
   ],
   "metadata": {
    "collapsed": false,
    "ExecuteTime": {
     "end_time": "2023-06-13T16:59:09.473160Z",
     "start_time": "2023-06-13T16:59:03.687460Z"
    }
   }
  },
  {
   "cell_type": "code",
   "execution_count": 232,
   "outputs": [
    {
     "data": {
      "text/plain": "('similarity', <langchain.vectorstores.chroma.Chroma at 0x7f78a2b4d2a0>)"
     },
     "execution_count": 232,
     "metadata": {},
     "output_type": "execute_result"
    }
   ],
   "source": [
    "qa_chain.retriever.search_type , qa_chain.retriever.vectorstore"
   ],
   "metadata": {
    "collapsed": false,
    "ExecuteTime": {
     "end_time": "2023-06-13T16:59:29.850284Z",
     "start_time": "2023-06-13T16:59:29.837845Z"
    }
   }
  },
  {
   "cell_type": "code",
   "execution_count": 233,
   "outputs": [
    {
     "name": "stdout",
     "output_type": "stream",
     "text": [
      "Use the following pieces of context to answer the question at the end. If you don't know the answer, just say that you don't know, don't try to make up an answer.\n",
      "\n",
      "{context}\n",
      "\n",
      "Question: {question}\n",
      "Helpful Answer:\n"
     ]
    }
   ],
   "source": [
    "print(qa_chain.combine_documents_chain.llm_chain.prompt.template)"
   ],
   "metadata": {
    "collapsed": false,
    "ExecuteTime": {
     "end_time": "2023-06-13T16:59:30.476321Z",
     "start_time": "2023-06-13T16:59:30.470057Z"
    }
   }
  },
  {
   "cell_type": "markdown",
   "source": [
    "# Deleteing the DB"
   ],
   "metadata": {
    "collapsed": false
   }
  },
  {
   "cell_type": "code",
   "execution_count": 250,
   "outputs": [
    {
     "name": "stdout",
     "output_type": "stream",
     "text": [
      "updating: db/ (stored 0%)\r\n",
      "updating: db/chroma-embeddings.parquet (deflated 29%)\r\n",
      "updating: db/index/ (stored 0%)\r\n",
      "updating: db/index/index_metadata_b9a5e02f-ebd0-4b13-8858-b30b211c4546.pkl (deflated 5%)\r\n",
      "updating: db/index/id_to_uuid_b9a5e02f-ebd0-4b13-8858-b30b211c4546.pkl (deflated 37%)\r\n",
      "updating: db/index/uuid_to_id_d80886e4-65e1-4231-8c73-99ff58d68061.pkl (deflated 39%)\r\n",
      "updating: db/index/index_b9a5e02f-ebd0-4b13-8858-b30b211c4546.bin (deflated 17%)\r\n",
      "updating: db/index/index_d80886e4-65e1-4231-8c73-99ff58d68061.bin (deflated 17%)\r\n",
      "updating: db/index/uuid_to_id_b9a5e02f-ebd0-4b13-8858-b30b211c4546.pkl (deflated 41%)\r\n",
      "updating: db/index/id_to_uuid_d80886e4-65e1-4231-8c73-99ff58d68061.pkl (deflated 32%)\r\n",
      "updating: db/index/index_metadata_d80886e4-65e1-4231-8c73-99ff58d68061.pkl (deflated 5%)\r\n",
      "updating: db/chroma-collections.parquet (deflated 50%)\r\n",
      "updating: db/.DS_Store (deflated 96%)\r\n"
     ]
    }
   ],
   "source": [
    "!zip -r db.zip ./db"
   ],
   "metadata": {
    "collapsed": false,
    "ExecuteTime": {
     "end_time": "2023-06-13T17:27:10.552238Z",
     "start_time": "2023-06-13T17:27:05.048974Z"
    }
   }
  },
  {
   "cell_type": "code",
   "execution_count": 251,
   "outputs": [],
   "source": [
    "# To cleanup, you can delete the collection\n",
    "vectordb.delete_collection()\n",
    "vectordb.persist()\n",
    "\n",
    "# delete the directory\n",
    "!rm -rf db/"
   ],
   "metadata": {
    "collapsed": false,
    "ExecuteTime": {
     "end_time": "2023-06-13T17:27:10.802965Z",
     "start_time": "2023-06-13T17:27:10.552089Z"
    }
   }
  },
  {
   "cell_type": "markdown",
   "source": [
    "# Starting again loading the db"
   ],
   "metadata": {
    "collapsed": false
   }
  },
  {
   "cell_type": "code",
   "execution_count": 239,
   "outputs": [
    {
     "name": "stdout",
     "output_type": "stream",
     "text": [
      "Archive:  db.zip\r\n",
      "   creating: db/\r\n",
      "  inflating: db/chroma-embeddings.parquet  \r\n",
      "   creating: db/index/\r\n",
      "  inflating: db/index/index_metadata_b9a5e02f-ebd0-4b13-8858-b30b211c4546.pkl  \r\n",
      "  inflating: db/index/id_to_uuid_b9a5e02f-ebd0-4b13-8858-b30b211c4546.pkl  \r\n",
      "  inflating: db/index/uuid_to_id_d80886e4-65e1-4231-8c73-99ff58d68061.pkl  \r\n",
      "  inflating: db/index/index_b9a5e02f-ebd0-4b13-8858-b30b211c4546.bin  \r\n",
      "  inflating: db/index/index_d80886e4-65e1-4231-8c73-99ff58d68061.bin  \r\n",
      "  inflating: db/index/uuid_to_id_b9a5e02f-ebd0-4b13-8858-b30b211c4546.pkl  \r\n",
      "  inflating: db/index/id_to_uuid_d80886e4-65e1-4231-8c73-99ff58d68061.pkl  \r\n",
      "  inflating: db/index/index_metadata_d80886e4-65e1-4231-8c73-99ff58d68061.pkl  \r\n",
      "  inflating: db/chroma-collections.parquet  \r\n",
      "  inflating: db/.DS_Store            \r\n"
     ]
    }
   ],
   "source": [
    "!unzip db.zip"
   ],
   "metadata": {
    "collapsed": false,
    "ExecuteTime": {
     "end_time": "2023-06-13T17:23:24.374284Z",
     "start_time": "2023-06-13T17:23:22.776169Z"
    }
   }
  },
  {
   "cell_type": "code",
   "execution_count": null,
   "outputs": [],
   "source": [
    "os.environ[\"OPENAI_API_KEY\"] = \"sk-...\""
   ],
   "metadata": {
    "collapsed": false
   }
  },
  {
   "cell_type": "code",
   "execution_count": 240,
   "outputs": [
    {
     "name": "stderr",
     "output_type": "stream",
     "text": [
      "Using embedded DuckDB with persistence: data will be stored in: db\n"
     ]
    }
   ],
   "source": [
    "persist_directory = 'db'\n",
    "embedding = OpenAIEmbeddings()\n",
    "\n",
    "vectordb2 = Chroma(persist_directory=persist_directory,\n",
    "                  embedding_function=embedding,\n",
    "                   )\n",
    "\n",
    "retriever = vectordb2.as_retriever(search_kwargs={\"k\": 2})"
   ],
   "metadata": {
    "collapsed": false,
    "ExecuteTime": {
     "end_time": "2023-06-13T17:23:38.299454Z",
     "start_time": "2023-06-13T17:23:37.827395Z"
    }
   }
  },
  {
   "cell_type": "markdown",
   "source": [
    "#### Usung turbo GPT API"
   ],
   "metadata": {
    "collapsed": false
   }
  },
  {
   "cell_type": "code",
   "execution_count": 241,
   "outputs": [],
   "source": [
    "# Set up the turbo LLM\n",
    "turbo_llm = ChatOpenAI(\n",
    "    temperature=0,\n",
    "    model_name='gpt-3.5-turbo'\n",
    ")"
   ],
   "metadata": {
    "collapsed": false,
    "ExecuteTime": {
     "end_time": "2023-06-13T17:23:40.123986Z",
     "start_time": "2023-06-13T17:23:40.116014Z"
    }
   }
  },
  {
   "cell_type": "code",
   "execution_count": 242,
   "outputs": [],
   "source": [
    "# create the chain to answer questions\n",
    "qa_chain = RetrievalQA.from_chain_type(llm=turbo_llm,\n",
    "                                  chain_type=\"stuff\",\n",
    "                                  retriever=retriever,\n",
    "                                  return_source_documents=True,\n",
    "                                  verbose=True)"
   ],
   "metadata": {
    "collapsed": false,
    "ExecuteTime": {
     "end_time": "2023-06-13T17:23:41.109399Z",
     "start_time": "2023-06-13T17:23:41.103155Z"
    }
   }
  },
  {
   "cell_type": "code",
   "execution_count": 243,
   "outputs": [],
   "source": [
    "## Cite sources\n",
    "def process_llm_response(llm_response):\n",
    "    print(llm_response['result'])\n",
    "    print('\\n\\nSources:')\n",
    "    for source in llm_response[\"source_documents\"]:\n",
    "        print(source.metadata['source'])"
   ],
   "metadata": {
    "collapsed": false,
    "ExecuteTime": {
     "end_time": "2023-06-13T17:23:42.786698Z",
     "start_time": "2023-06-13T17:23:42.779471Z"
    }
   }
  },
  {
   "cell_type": "code",
   "execution_count": 246,
   "outputs": [
    {
     "name": "stdout",
     "output_type": "stream",
     "text": [
      "\n",
      "\n",
      "\u001B[1m> Entering new RetrievalQA chain...\u001B[0m\n",
      "\n",
      "\u001B[1m> Finished chain.\u001B[0m\n",
      "There are two main types of agents mentioned in the context: Action Agents and Plan-and-Execute Agents. Action Agents decide the actions to take and execute those actions one at a time, while Plan-and-Execute Agents first decide a plan of actions to take, and then execute those actions one at a time.\n",
      "\n",
      "\n",
      "Sources:\n",
      "/Users/erictak/PycharmProjects/langchain/data/langchain_doc/344_Agents_Contents_Action.txt\n",
      "/Users/erictak/PycharmProjects/langchain/data/langchain_doc/639_Agents_Contents_Action.txt\n"
     ]
    }
   ],
   "source": [
    "# full example\n",
    "query = \"What are the agent types?\"\n",
    "llm_response = qa_chain(query)\n",
    "process_llm_response(llm_response)"
   ],
   "metadata": {
    "collapsed": false,
    "ExecuteTime": {
     "end_time": "2023-06-13T17:24:09.616884Z",
     "start_time": "2023-06-13T17:24:05.210218Z"
    }
   }
  },
  {
   "cell_type": "code",
   "execution_count": 247,
   "outputs": [
    {
     "name": "stdout",
     "output_type": "stream",
     "text": [
      "Use the following pieces of context to answer the users question. \n",
      "If you don't know the answer, just say that you don't know, don't try to make up an answer.\n",
      "----------------\n",
      "{context}\n"
     ]
    }
   ],
   "source": [
    "print(qa_chain.combine_documents_chain.llm_chain.prompt.messages[0].prompt.template)"
   ],
   "metadata": {
    "collapsed": false,
    "ExecuteTime": {
     "end_time": "2023-06-13T17:24:30.303370Z",
     "start_time": "2023-06-13T17:24:30.294221Z"
    }
   }
  },
  {
   "cell_type": "code",
   "execution_count": 248,
   "outputs": [
    {
     "name": "stdout",
     "output_type": "stream",
     "text": [
      "{question}\n"
     ]
    }
   ],
   "source": [
    "print(qa_chain.combine_documents_chain.llm_chain.prompt.messages[1].prompt.template)"
   ],
   "metadata": {
    "collapsed": false,
    "ExecuteTime": {
     "end_time": "2023-06-13T17:24:43.806024Z",
     "start_time": "2023-06-13T17:24:43.799962Z"
    }
   }
  },
  {
   "cell_type": "code",
   "execution_count": 248,
   "outputs": [],
   "source": [],
   "metadata": {
    "collapsed": false,
    "ExecuteTime": {
     "end_time": "2023-06-13T17:24:45.799264Z",
     "start_time": "2023-06-13T17:24:45.796102Z"
    }
   }
  },
  {
   "cell_type": "markdown",
   "source": [
    "# Visualizing the Vector db\n",
    "https://github.com/mtybadger/chromaviz?ref=reactjsexample.com\n",
    "\n",
    "https://github.com/avantrio/chroma-viewer\n"
   ],
   "metadata": {
    "collapsed": false
   }
  },
  {
   "cell_type": "code",
   "execution_count": 249,
   "outputs": [
    {
     "name": "stderr",
     "output_type": "stream",
     "text": [
      "WARNING: This is a development server. Do not use it in a production deployment. Use a production WSGI server instead.\n",
      " * Running on http://127.0.0.1:5000\n",
      "Press CTRL+C to quit\n",
      "127.0.0.1 - - [13/Jun/2023 19:24:49] \"GET / HTTP/1.1\" 200 -\n",
      "127.0.0.1 - - [13/Jun/2023 19:24:49] \"GET /assets/index-8146af32.js HTTP/1.1\" 200 -\n",
      "127.0.0.1 - - [13/Jun/2023 19:24:49] \"GET /assets/index-26d05a53.css HTTP/1.1\" 200 -\n",
      "127.0.0.1 - - [13/Jun/2023 19:24:50] \"GET /assets/glasses-5d966a6f.svg HTTP/1.1\" 200 -\n",
      "127.0.0.1 - - [13/Jun/2023 19:24:51] \"GET /assets/glasses-5d966a6f.svg HTTP/1.1\" 200 -\n"
     ]
    },
    {
     "name": "stdout",
     "output_type": "stream",
     "text": [
      "          0         1         2         3         4         5         6     \\\n",
      "0    -0.009815  0.018561  0.006460  0.012899 -0.014451  0.028267 -0.022359   \n",
      "1    -0.010514 -0.008813  0.013774 -0.011708  0.002797  0.023796  0.008967   \n",
      "2    -0.044785  0.006911 -0.019481 -0.001580 -0.049780  0.029029  0.004075   \n",
      "3    -0.012110 -0.008646  0.017681  0.009194 -0.003554  0.028982 -0.018879   \n",
      "4    -0.008755  0.010048  0.024119 -0.010673 -0.008260  0.015011 -0.009682   \n",
      "...        ...       ...       ...       ...       ...       ...       ...   \n",
      "5553 -0.016741  0.011672 -0.011071 -0.013510 -0.025832  0.013263 -0.017589   \n",
      "5554 -0.000076  0.015720 -0.007606 -0.011536 -0.018768  0.031948 -0.004272   \n",
      "5555 -0.009832  0.005357  0.014872  0.012814  0.001638  0.014103  0.005159   \n",
      "5556 -0.005510 -0.000779 -0.005123 -0.019513 -0.014048  0.032374  0.000925   \n",
      "5557 -0.019258 -0.001421  0.003006 -0.028258  0.005047 -0.011195  0.018328   \n",
      "\n",
      "          7         8         9     ...      1526      1527      1528  \\\n",
      "0    -0.005355 -0.015600 -0.013433  ... -0.003403  0.000331  0.030881   \n",
      "1     0.006701 -0.019846 -0.021322  ...  0.020212 -0.006378 -0.009256   \n",
      "2    -0.034224 -0.037477 -0.036222  ...  0.008620 -0.028615 -0.008349   \n",
      "3    -0.017103 -0.049622 -0.006390  ... -0.008710 -0.003782 -0.015776   \n",
      "4    -0.025038 -0.010063 -0.021562  ...  0.026388 -0.021662  0.014925   \n",
      "...        ...       ...       ...  ...       ...       ...       ...   \n",
      "5553  0.003980 -0.039816 -0.044793  ... -0.012570 -0.003736  0.016246   \n",
      "5554  0.009815 -0.037819 -0.049051  ...  0.001280  0.001717  0.021139   \n",
      "5555 -0.033662 -0.015774 -0.046123  ...  0.006259  0.015746  0.014731   \n",
      "5556  0.005955 -0.027613 -0.023377  ...  0.025115 -0.010784 -0.007535   \n",
      "5557 -0.016946  0.007078 -0.009013  ...  0.004989  0.006651  0.016714   \n",
      "\n",
      "          1529      1530      1531      1532      1533      1534      1535  \n",
      "0    -0.004066 -0.017347 -0.001089 -0.008508 -0.002602 -0.023587 -0.023515  \n",
      "1    -0.023740 -0.062688 -0.029770  0.008518  0.010668 -0.021280 -0.012256  \n",
      "2    -0.002462 -0.000365  0.004199  0.015471  0.001557  0.013208 -0.052948  \n",
      "3    -0.010464 -0.016209  0.001308  0.015675 -0.015386  0.018316 -0.074533  \n",
      "4    -0.020154 -0.031488 -0.013000  0.005602  0.004845  0.002812 -0.025182  \n",
      "...        ...       ...       ...       ...       ...       ...       ...  \n",
      "5553 -0.009890 -0.029692 -0.017490  0.014026  0.028731 -0.009919 -0.042220  \n",
      "5554 -0.020744 -0.024963 -0.002715  0.005207  0.008298 -0.001273 -0.021322  \n",
      "5555 -0.015816 -0.009593 -0.007415  0.009839 -0.010699  0.004091 -0.045221  \n",
      "5556 -0.013510 -0.053432 -0.008459  0.012703 -0.010260 -0.018823 -0.020824  \n",
      "5557 -0.011790 -0.029981 -0.011250 -0.004719  0.003908  0.000668 -0.017658  \n",
      "\n",
      "[5558 rows x 1536 columns]\n",
      "Size of the dataframe: (5558, 1536)\n",
      "Cumulative explained variation for 50 principal components: 0.5686606106342948\n",
      "t-SNE done! Time elapsed: 8.344161987304688 seconds\n"
     ]
    },
    {
     "name": "stderr",
     "output_type": "stream",
     "text": [
      "127.0.0.1 - - [13/Jun/2023 19:25:00] \"GET /data HTTP/1.1\" 200 -\n"
     ]
    }
   ],
   "source": [
    "from langchain.vectorstores import Chroma\n",
    "\n",
    "from chromaviz import visualize_collection\n",
    "visualize_collection(vectordb._collection)"
   ],
   "metadata": {
    "collapsed": false,
    "ExecuteTime": {
     "end_time": "2023-06-13T17:26:55.171648Z",
     "start_time": "2023-06-13T17:24:47.380128Z"
    }
   }
  },
  {
   "cell_type": "code",
   "execution_count": null,
   "outputs": [],
   "source": [],
   "metadata": {
    "collapsed": false
   }
  }
 ],
 "metadata": {
  "kernelspec": {
   "display_name": "Python 3",
   "language": "python",
   "name": "python3"
  },
  "language_info": {
   "codemirror_mode": {
    "name": "ipython",
    "version": 2
   },
   "file_extension": ".py",
   "mimetype": "text/x-python",
   "name": "python",
   "nbconvert_exporter": "python",
   "pygments_lexer": "ipython2",
   "version": "2.7.6"
  }
 },
 "nbformat": 4,
 "nbformat_minor": 0
}
