{
 "cells": [
  {
   "cell_type": "markdown",
   "source": [
    "https://app.pinecone.io/organizations/-NUaJiYvEB6uARCsouWz/projects/us-west1-gcp-free:828f5ed/indexes/python-index\n",
    "https://docs.pinecone.io/docs/python-client\n",
    "https://community.pinecone.io/t/error-on-query-endpoint-typeerror-replace-argument-2-must-be-str-not-none/674\n",
    "https://docs.pinecon.io/docs/langchain-retrieval-augmentation\n",
    "\n",
    "docsearch = Pinecone.from_documents(docs, embeddings, index_name=index_name)\n",
    "# if you already have an index, you can load it like this\n",
    "# docsearch = Pinecone.from_existing_index(index_name, embeddings)"
   ],
   "metadata": {
    "collapsed": false
   }
  },
  {
   "cell_type": "code",
   "execution_count": 1,
   "outputs": [],
   "source": [
    "#!pip install langchain --upgrade\n",
    "# Version: 0.0.164\n",
    "\n",
    "#!pip install pypdf"
   ],
   "metadata": {
    "collapsed": false,
    "ExecuteTime": {
     "end_time": "2023-07-11T20:43:32.030612Z",
     "start_time": "2023-07-11T20:43:32.027160Z"
    }
   }
  },
  {
   "cell_type": "code",
   "execution_count": 2,
   "id": "2d3e92ed",
   "metadata": {
    "ExecuteTime": {
     "end_time": "2023-07-11T20:43:38.646407Z",
     "start_time": "2023-07-11T20:43:37.543240Z"
    }
   },
   "outputs": [],
   "source": [
    "# PDF Loaders. If unstructured gives you a hard time, try PyPDFLoader\n",
    "from langchain.document_loaders import UnstructuredPDFLoader, OnlinePDFLoader, PyPDFLoader\n",
    "\n",
    "from langchain.text_splitter import RecursiveCharacterTextSplitter\n",
    "import os"
   ]
  },
  {
   "cell_type": "markdown",
   "id": "5166d759",
   "metadata": {
    "ExecuteTime": {
     "end_time": "2023-07-11T20:38:08.852519Z",
     "start_time": "2023-07-11T20:38:08.848491Z"
    }
   },
   "source": [
    "### Load your data"
   ],
   "outputs": [],
   "execution_count": 210
  },
  {
   "cell_type": "code",
   "execution_count": 3,
   "id": "b4a2d6bf",
   "metadata": {
    "ExecuteTime": {
     "end_time": "2023-07-11T20:43:42.944961Z",
     "start_time": "2023-07-11T20:43:42.912188Z"
    }
   },
   "outputs": [],
   "source": [
    "loader = PyPDFLoader(\"../data/summary_strategy.pdf\")\n",
    "\n",
    "## Other options for loaders \n",
    "# loader = UnstructuredPDFLoader(\"../data/summary_strategy.pdf\")\n",
    "# loader = OnlinePDFLoader(\"...\")"
   ]
  },
  {
   "cell_type": "code",
   "execution_count": 4,
   "id": "bcdac23c",
   "metadata": {
    "ExecuteTime": {
     "end_time": "2023-07-11T20:43:44.085942Z",
     "start_time": "2023-07-11T20:43:43.785460Z"
    }
   },
   "outputs": [],
   "source": [
    "# load your data\n",
    "data = loader.load()"
   ]
  },
  {
   "cell_type": "code",
   "execution_count": 5,
   "id": "b4fd7c9e",
   "metadata": {
    "ExecuteTime": {
     "end_time": "2023-07-11T20:43:45.156670Z",
     "start_time": "2023-07-11T20:43:45.145752Z"
    }
   },
   "outputs": [
    {
     "name": "stdout",
     "output_type": "stream",
     "text": [
      "You have 18 document(s) in your data\n",
      "There are 3659 characters in your document\n"
     ]
    }
   ],
   "source": [
    "# Note: If you're using PyPDFLoader then it will split by page for you already\n",
    "print (f'You have {len(data)} document(s) in your data')\n",
    "print (f'There are {len(data[0].page_content)} characters in your document')"
   ]
  },
  {
   "cell_type": "markdown",
   "id": "8af9b604",
   "metadata": {
    "ExecuteTime": {
     "end_time": "2023-07-11T20:38:12.194260Z",
     "start_time": "2023-07-11T20:38:12.191771Z"
    }
   },
   "source": [
    "### Chunk your data up into smaller documents"
   ],
   "outputs": [],
   "execution_count": 213
  },
  {
   "cell_type": "code",
   "execution_count": 50,
   "id": "fb3c6f02",
   "metadata": {
    "ExecuteTime": {
     "end_time": "2023-07-12T10:34:13.205036Z",
     "start_time": "2023-07-12T10:34:13.201492Z"
    }
   },
   "outputs": [],
   "source": [
    "# Note: If you're using PyPDFLoader then we'll be splitting for the 2nd time.\n",
    "# This is optional, test out on your own data.\n",
    "\n",
    "text_splitter = RecursiveCharacterTextSplitter(chunk_size=1000, chunk_overlap=0)\n",
    "texts = text_splitter.split_documents(data)"
   ]
  },
  {
   "cell_type": "code",
   "execution_count": 51,
   "id": "879873a4",
   "metadata": {
    "ExecuteTime": {
     "end_time": "2023-07-12T10:34:13.739343Z",
     "start_time": "2023-07-12T10:34:13.733545Z"
    }
   },
   "outputs": [
    {
     "name": "stdout",
     "output_type": "stream",
     "text": [
      "Now you have 41 documents\n"
     ]
    }
   ],
   "source": [
    "print (f'Now you have {len(texts)} documents')"
   ]
  },
  {
   "cell_type": "markdown",
   "id": "838b2843",
   "metadata": {
    "ExecuteTime": {
     "end_time": "2023-07-11T20:38:19.825374Z",
     "start_time": "2023-07-11T20:38:19.820981Z"
    }
   },
   "source": [
    "### Create embeddings of your documents to get ready for semantic search"
   ],
   "outputs": [],
   "execution_count": 215
  },
  {
   "cell_type": "code",
   "execution_count": 52,
   "outputs": [],
   "source": [
    "from langchain.vectorstores import  Pinecone\n",
    "from langchain.embeddings.openai import OpenAIEmbeddings\n",
    "import pinecone"
   ],
   "metadata": {
    "collapsed": false,
    "ExecuteTime": {
     "end_time": "2023-07-12T10:34:17.660301Z",
     "start_time": "2023-07-12T10:34:17.658968Z"
    }
   }
  },
  {
   "cell_type": "code",
   "execution_count": 53,
   "outputs": [],
   "source": [
    "# import your API keys from a file called credentials.py\n",
    "from credentials import OPENAI_API_KEY, PINECONE_API_KEY, PINECONE_API_ENV"
   ],
   "metadata": {
    "collapsed": false,
    "ExecuteTime": {
     "end_time": "2023-07-12T10:34:18.100795Z",
     "start_time": "2023-07-12T10:34:18.098571Z"
    }
   }
  },
  {
   "cell_type": "code",
   "execution_count": 37,
   "id": "0e093ef3",
   "metadata": {
    "hide_input": false,
    "ExecuteTime": {
     "end_time": "2023-07-12T10:19:53.038928Z",
     "start_time": "2023-07-12T10:19:53.036481Z"
    }
   },
   "outputs": [],
   "source": [
    "# you can also store the keys in your environment variables\n",
    "# OPENAI_API_KEY = os.environ.get('OPENAI_API_KEY', 'sk-...')\n",
    "#\n",
    "# PINECONE_API_KEY = os.environ.get('PINECONE_API_KEY', '...')\n",
    "# PINECONE_API_ENV = os.environ.get('PINECONE_API_ENV', '...')"
   ]
  },
  {
   "cell_type": "code",
   "execution_count": 54,
   "id": "4e0d1c6a",
   "metadata": {
    "ExecuteTime": {
     "end_time": "2023-07-12T10:34:32.714760Z",
     "start_time": "2023-07-12T10:34:32.693975Z"
    }
   },
   "outputs": [],
   "source": [
    "embeddings = OpenAIEmbeddings(openai_api_key=OPENAI_API_KEY)"
   ]
  },
  {
   "cell_type": "code",
   "execution_count": 55,
   "outputs": [
    {
     "ename": "ApiException",
     "evalue": "(400)\nReason: Bad Request\nHTTP response headers: HTTPHeaderDict({'content-type': 'text/plain; charset=UTF-8', 'date': 'Wed, 12 Jul 2023 10:34:36 GMT', 'x-envoy-upstream-service-time': '1328', 'content-length': '131', 'server': 'envoy'})\nHTTP response body: The index exceeds the project quota of 1 pods by 1 pods. Upgrade your account or change the project settings to increase the quota.\n",
     "output_type": "error",
     "traceback": [
      "\u001B[0;31m---------------------------------------------------------------------------\u001B[0m",
      "\u001B[0;31mApiException\u001B[0m                              Traceback (most recent call last)",
      "Cell \u001B[0;32mIn[55], line 1\u001B[0m\n\u001B[0;32m----> 1\u001B[0m \u001B[43mpinecone\u001B[49m\u001B[38;5;241;43m.\u001B[39;49m\u001B[43mcreate_index\u001B[49m\u001B[43m(\u001B[49m\u001B[38;5;124;43m\"\u001B[39;49m\u001B[38;5;124;43mpython-index\u001B[39;49m\u001B[38;5;124;43m\"\u001B[39;49m\u001B[43m,\u001B[49m\u001B[43m \u001B[49m\u001B[43mdimension\u001B[49m\u001B[38;5;241;43m=\u001B[39;49m\u001B[38;5;241;43m1536\u001B[39;49m\u001B[43m,\u001B[49m\u001B[43m \u001B[49m\u001B[43mmetric\u001B[49m\u001B[38;5;241;43m=\u001B[39;49m\u001B[38;5;124;43m\"\u001B[39;49m\u001B[38;5;124;43mcosine\u001B[39;49m\u001B[38;5;124;43m\"\u001B[39;49m\u001B[43m)\u001B[49m\n",
      "File \u001B[0;32m~/miniconda3/lib/python3.10/site-packages/pinecone/manage.py:118\u001B[0m, in \u001B[0;36mcreate_index\u001B[0;34m(name, dimension, timeout, index_type, metric, replicas, shards, pods, pod_type, index_config, metadata_config, source_collection)\u001B[0m\n\u001B[1;32m     82\u001B[0m \u001B[38;5;124;03m\"\"\"Creates a Pinecone index.\u001B[39;00m\n\u001B[1;32m     83\u001B[0m \n\u001B[1;32m     84\u001B[0m \u001B[38;5;124;03m:param name: the name of the index.\u001B[39;00m\n\u001B[0;32m   (...)\u001B[0m\n\u001B[1;32m    114\u001B[0m \u001B[38;5;124;03m:param timeout: Timeout for wait until index gets ready. If None, wait indefinitely; if >=0, time out after this many seconds; if -1, return immediately and do not wait. Default: None\u001B[39;00m\n\u001B[1;32m    115\u001B[0m \u001B[38;5;124;03m\"\"\"\u001B[39;00m\n\u001B[1;32m    116\u001B[0m api_instance \u001B[38;5;241m=\u001B[39m _get_api_instance()\n\u001B[0;32m--> 118\u001B[0m \u001B[43mapi_instance\u001B[49m\u001B[38;5;241;43m.\u001B[39;49m\u001B[43mcreate_index\u001B[49m\u001B[43m(\u001B[49m\u001B[43mcreate_request\u001B[49m\u001B[38;5;241;43m=\u001B[39;49m\u001B[43mCreateRequest\u001B[49m\u001B[43m(\u001B[49m\n\u001B[1;32m    119\u001B[0m \u001B[43m    \u001B[49m\u001B[43mname\u001B[49m\u001B[38;5;241;43m=\u001B[39;49m\u001B[43mname\u001B[49m\u001B[43m,\u001B[49m\n\u001B[1;32m    120\u001B[0m \u001B[43m    \u001B[49m\u001B[43mdimension\u001B[49m\u001B[38;5;241;43m=\u001B[39;49m\u001B[43mdimension\u001B[49m\u001B[43m,\u001B[49m\n\u001B[1;32m    121\u001B[0m \u001B[43m    \u001B[49m\u001B[43mindex_type\u001B[49m\u001B[38;5;241;43m=\u001B[39;49m\u001B[43mindex_type\u001B[49m\u001B[43m,\u001B[49m\n\u001B[1;32m    122\u001B[0m \u001B[43m    \u001B[49m\u001B[43mmetric\u001B[49m\u001B[38;5;241;43m=\u001B[39;49m\u001B[43mmetric\u001B[49m\u001B[43m,\u001B[49m\n\u001B[1;32m    123\u001B[0m \u001B[43m    \u001B[49m\u001B[43mreplicas\u001B[49m\u001B[38;5;241;43m=\u001B[39;49m\u001B[43mreplicas\u001B[49m\u001B[43m,\u001B[49m\n\u001B[1;32m    124\u001B[0m \u001B[43m    \u001B[49m\u001B[43mshards\u001B[49m\u001B[38;5;241;43m=\u001B[39;49m\u001B[43mshards\u001B[49m\u001B[43m,\u001B[49m\n\u001B[1;32m    125\u001B[0m \u001B[43m    \u001B[49m\u001B[43mpods\u001B[49m\u001B[38;5;241;43m=\u001B[39;49m\u001B[43mpods\u001B[49m\u001B[43m,\u001B[49m\n\u001B[1;32m    126\u001B[0m \u001B[43m    \u001B[49m\u001B[43mpod_type\u001B[49m\u001B[38;5;241;43m=\u001B[39;49m\u001B[43mpod_type\u001B[49m\u001B[43m,\u001B[49m\n\u001B[1;32m    127\u001B[0m \u001B[43m    \u001B[49m\u001B[43mindex_config\u001B[49m\u001B[38;5;241;43m=\u001B[39;49m\u001B[43mindex_config\u001B[49m\u001B[43m \u001B[49m\u001B[38;5;129;43;01mor\u001B[39;49;00m\u001B[43m \u001B[49m\u001B[43m{\u001B[49m\u001B[43m}\u001B[49m\u001B[43m,\u001B[49m\n\u001B[1;32m    128\u001B[0m \u001B[43m    \u001B[49m\u001B[43mmetadata_config\u001B[49m\u001B[38;5;241;43m=\u001B[39;49m\u001B[43mmetadata_config\u001B[49m\u001B[43m,\u001B[49m\n\u001B[1;32m    129\u001B[0m \u001B[43m    \u001B[49m\u001B[43msource_collection\u001B[49m\u001B[38;5;241;43m=\u001B[39;49m\u001B[43msource_collection\u001B[49m\n\u001B[1;32m    130\u001B[0m \u001B[43m\u001B[49m\u001B[43m)\u001B[49m\u001B[43m)\u001B[49m\n\u001B[1;32m    132\u001B[0m \u001B[38;5;28;01mdef\u001B[39;00m \u001B[38;5;21mis_ready\u001B[39m():\n\u001B[1;32m    133\u001B[0m     status \u001B[38;5;241m=\u001B[39m _get_status(name)\n",
      "File \u001B[0;32m~/miniconda3/lib/python3.10/site-packages/pinecone/core/client/api_client.py:776\u001B[0m, in \u001B[0;36mEndpoint.__call__\u001B[0;34m(self, *args, **kwargs)\u001B[0m\n\u001B[1;32m    765\u001B[0m \u001B[38;5;28;01mdef\u001B[39;00m \u001B[38;5;21m__call__\u001B[39m(\u001B[38;5;28mself\u001B[39m, \u001B[38;5;241m*\u001B[39margs, \u001B[38;5;241m*\u001B[39m\u001B[38;5;241m*\u001B[39mkwargs):\n\u001B[1;32m    766\u001B[0m     \u001B[38;5;124;03m\"\"\" This method is invoked when endpoints are called\u001B[39;00m\n\u001B[1;32m    767\u001B[0m \u001B[38;5;124;03m    Example:\u001B[39;00m\n\u001B[1;32m    768\u001B[0m \n\u001B[0;32m   (...)\u001B[0m\n\u001B[1;32m    774\u001B[0m \n\u001B[1;32m    775\u001B[0m \u001B[38;5;124;03m    \"\"\"\u001B[39;00m\n\u001B[0;32m--> 776\u001B[0m     \u001B[38;5;28;01mreturn\u001B[39;00m \u001B[38;5;28;43mself\u001B[39;49m\u001B[38;5;241;43m.\u001B[39;49m\u001B[43mcallable\u001B[49m\u001B[43m(\u001B[49m\u001B[38;5;28;43mself\u001B[39;49m\u001B[43m,\u001B[49m\u001B[43m \u001B[49m\u001B[38;5;241;43m*\u001B[39;49m\u001B[43margs\u001B[49m\u001B[43m,\u001B[49m\u001B[43m \u001B[49m\u001B[38;5;241;43m*\u001B[39;49m\u001B[38;5;241;43m*\u001B[39;49m\u001B[43mkwargs\u001B[49m\u001B[43m)\u001B[49m\n",
      "File \u001B[0;32m~/miniconda3/lib/python3.10/site-packages/pinecone/core/client/api/index_operations_api.py:370\u001B[0m, in \u001B[0;36mIndexOperationsApi.__init__.<locals>.__create_index\u001B[0;34m(self, **kwargs)\u001B[0m\n\u001B[1;32m    366\u001B[0m kwargs[\u001B[38;5;124m'\u001B[39m\u001B[38;5;124m_check_return_type\u001B[39m\u001B[38;5;124m'\u001B[39m] \u001B[38;5;241m=\u001B[39m kwargs\u001B[38;5;241m.\u001B[39mget(\n\u001B[1;32m    367\u001B[0m     \u001B[38;5;124m'\u001B[39m\u001B[38;5;124m_check_return_type\u001B[39m\u001B[38;5;124m'\u001B[39m, \u001B[38;5;28;01mTrue\u001B[39;00m\n\u001B[1;32m    368\u001B[0m )\n\u001B[1;32m    369\u001B[0m kwargs[\u001B[38;5;124m'\u001B[39m\u001B[38;5;124m_host_index\u001B[39m\u001B[38;5;124m'\u001B[39m] \u001B[38;5;241m=\u001B[39m kwargs\u001B[38;5;241m.\u001B[39mget(\u001B[38;5;124m'\u001B[39m\u001B[38;5;124m_host_index\u001B[39m\u001B[38;5;124m'\u001B[39m)\n\u001B[0;32m--> 370\u001B[0m \u001B[38;5;28;01mreturn\u001B[39;00m \u001B[38;5;28;43mself\u001B[39;49m\u001B[38;5;241;43m.\u001B[39;49m\u001B[43mcall_with_http_info\u001B[49m\u001B[43m(\u001B[49m\u001B[38;5;241;43m*\u001B[39;49m\u001B[38;5;241;43m*\u001B[39;49m\u001B[43mkwargs\u001B[49m\u001B[43m)\u001B[49m\n",
      "File \u001B[0;32m~/miniconda3/lib/python3.10/site-packages/pinecone/core/client/api_client.py:838\u001B[0m, in \u001B[0;36mEndpoint.call_with_http_info\u001B[0;34m(self, **kwargs)\u001B[0m\n\u001B[1;32m    834\u001B[0m     header_list \u001B[38;5;241m=\u001B[39m \u001B[38;5;28mself\u001B[39m\u001B[38;5;241m.\u001B[39mapi_client\u001B[38;5;241m.\u001B[39mselect_header_content_type(\n\u001B[1;32m    835\u001B[0m         content_type_headers_list)\n\u001B[1;32m    836\u001B[0m     params[\u001B[38;5;124m'\u001B[39m\u001B[38;5;124mheader\u001B[39m\u001B[38;5;124m'\u001B[39m][\u001B[38;5;124m'\u001B[39m\u001B[38;5;124mContent-Type\u001B[39m\u001B[38;5;124m'\u001B[39m] \u001B[38;5;241m=\u001B[39m header_list\n\u001B[0;32m--> 838\u001B[0m \u001B[38;5;28;01mreturn\u001B[39;00m \u001B[38;5;28;43mself\u001B[39;49m\u001B[38;5;241;43m.\u001B[39;49m\u001B[43mapi_client\u001B[49m\u001B[38;5;241;43m.\u001B[39;49m\u001B[43mcall_api\u001B[49m\u001B[43m(\u001B[49m\n\u001B[1;32m    839\u001B[0m \u001B[43m    \u001B[49m\u001B[38;5;28;43mself\u001B[39;49m\u001B[38;5;241;43m.\u001B[39;49m\u001B[43msettings\u001B[49m\u001B[43m[\u001B[49m\u001B[38;5;124;43m'\u001B[39;49m\u001B[38;5;124;43mendpoint_path\u001B[39;49m\u001B[38;5;124;43m'\u001B[39;49m\u001B[43m]\u001B[49m\u001B[43m,\u001B[49m\u001B[43m \u001B[49m\u001B[38;5;28;43mself\u001B[39;49m\u001B[38;5;241;43m.\u001B[39;49m\u001B[43msettings\u001B[49m\u001B[43m[\u001B[49m\u001B[38;5;124;43m'\u001B[39;49m\u001B[38;5;124;43mhttp_method\u001B[39;49m\u001B[38;5;124;43m'\u001B[39;49m\u001B[43m]\u001B[49m\u001B[43m,\u001B[49m\n\u001B[1;32m    840\u001B[0m \u001B[43m    \u001B[49m\u001B[43mparams\u001B[49m\u001B[43m[\u001B[49m\u001B[38;5;124;43m'\u001B[39;49m\u001B[38;5;124;43mpath\u001B[39;49m\u001B[38;5;124;43m'\u001B[39;49m\u001B[43m]\u001B[49m\u001B[43m,\u001B[49m\n\u001B[1;32m    841\u001B[0m \u001B[43m    \u001B[49m\u001B[43mparams\u001B[49m\u001B[43m[\u001B[49m\u001B[38;5;124;43m'\u001B[39;49m\u001B[38;5;124;43mquery\u001B[39;49m\u001B[38;5;124;43m'\u001B[39;49m\u001B[43m]\u001B[49m\u001B[43m,\u001B[49m\n\u001B[1;32m    842\u001B[0m \u001B[43m    \u001B[49m\u001B[43mparams\u001B[49m\u001B[43m[\u001B[49m\u001B[38;5;124;43m'\u001B[39;49m\u001B[38;5;124;43mheader\u001B[39;49m\u001B[38;5;124;43m'\u001B[39;49m\u001B[43m]\u001B[49m\u001B[43m,\u001B[49m\n\u001B[1;32m    843\u001B[0m \u001B[43m    \u001B[49m\u001B[43mbody\u001B[49m\u001B[38;5;241;43m=\u001B[39;49m\u001B[43mparams\u001B[49m\u001B[43m[\u001B[49m\u001B[38;5;124;43m'\u001B[39;49m\u001B[38;5;124;43mbody\u001B[39;49m\u001B[38;5;124;43m'\u001B[39;49m\u001B[43m]\u001B[49m\u001B[43m,\u001B[49m\n\u001B[1;32m    844\u001B[0m \u001B[43m    \u001B[49m\u001B[43mpost_params\u001B[49m\u001B[38;5;241;43m=\u001B[39;49m\u001B[43mparams\u001B[49m\u001B[43m[\u001B[49m\u001B[38;5;124;43m'\u001B[39;49m\u001B[38;5;124;43mform\u001B[39;49m\u001B[38;5;124;43m'\u001B[39;49m\u001B[43m]\u001B[49m\u001B[43m,\u001B[49m\n\u001B[1;32m    845\u001B[0m \u001B[43m    \u001B[49m\u001B[43mfiles\u001B[49m\u001B[38;5;241;43m=\u001B[39;49m\u001B[43mparams\u001B[49m\u001B[43m[\u001B[49m\u001B[38;5;124;43m'\u001B[39;49m\u001B[38;5;124;43mfile\u001B[39;49m\u001B[38;5;124;43m'\u001B[39;49m\u001B[43m]\u001B[49m\u001B[43m,\u001B[49m\n\u001B[1;32m    846\u001B[0m \u001B[43m    \u001B[49m\u001B[43mresponse_type\u001B[49m\u001B[38;5;241;43m=\u001B[39;49m\u001B[38;5;28;43mself\u001B[39;49m\u001B[38;5;241;43m.\u001B[39;49m\u001B[43msettings\u001B[49m\u001B[43m[\u001B[49m\u001B[38;5;124;43m'\u001B[39;49m\u001B[38;5;124;43mresponse_type\u001B[39;49m\u001B[38;5;124;43m'\u001B[39;49m\u001B[43m]\u001B[49m\u001B[43m,\u001B[49m\n\u001B[1;32m    847\u001B[0m \u001B[43m    \u001B[49m\u001B[43mauth_settings\u001B[49m\u001B[38;5;241;43m=\u001B[39;49m\u001B[38;5;28;43mself\u001B[39;49m\u001B[38;5;241;43m.\u001B[39;49m\u001B[43msettings\u001B[49m\u001B[43m[\u001B[49m\u001B[38;5;124;43m'\u001B[39;49m\u001B[38;5;124;43mauth\u001B[39;49m\u001B[38;5;124;43m'\u001B[39;49m\u001B[43m]\u001B[49m\u001B[43m,\u001B[49m\n\u001B[1;32m    848\u001B[0m \u001B[43m    \u001B[49m\u001B[43masync_req\u001B[49m\u001B[38;5;241;43m=\u001B[39;49m\u001B[43mkwargs\u001B[49m\u001B[43m[\u001B[49m\u001B[38;5;124;43m'\u001B[39;49m\u001B[38;5;124;43masync_req\u001B[39;49m\u001B[38;5;124;43m'\u001B[39;49m\u001B[43m]\u001B[49m\u001B[43m,\u001B[49m\n\u001B[1;32m    849\u001B[0m \u001B[43m    \u001B[49m\u001B[43m_check_type\u001B[49m\u001B[38;5;241;43m=\u001B[39;49m\u001B[43mkwargs\u001B[49m\u001B[43m[\u001B[49m\u001B[38;5;124;43m'\u001B[39;49m\u001B[38;5;124;43m_check_return_type\u001B[39;49m\u001B[38;5;124;43m'\u001B[39;49m\u001B[43m]\u001B[49m\u001B[43m,\u001B[49m\n\u001B[1;32m    850\u001B[0m \u001B[43m    \u001B[49m\u001B[43m_return_http_data_only\u001B[49m\u001B[38;5;241;43m=\u001B[39;49m\u001B[43mkwargs\u001B[49m\u001B[43m[\u001B[49m\u001B[38;5;124;43m'\u001B[39;49m\u001B[38;5;124;43m_return_http_data_only\u001B[39;49m\u001B[38;5;124;43m'\u001B[39;49m\u001B[43m]\u001B[49m\u001B[43m,\u001B[49m\n\u001B[1;32m    851\u001B[0m \u001B[43m    \u001B[49m\u001B[43m_preload_content\u001B[49m\u001B[38;5;241;43m=\u001B[39;49m\u001B[43mkwargs\u001B[49m\u001B[43m[\u001B[49m\u001B[38;5;124;43m'\u001B[39;49m\u001B[38;5;124;43m_preload_content\u001B[39;49m\u001B[38;5;124;43m'\u001B[39;49m\u001B[43m]\u001B[49m\u001B[43m,\u001B[49m\n\u001B[1;32m    852\u001B[0m \u001B[43m    \u001B[49m\u001B[43m_request_timeout\u001B[49m\u001B[38;5;241;43m=\u001B[39;49m\u001B[43mkwargs\u001B[49m\u001B[43m[\u001B[49m\u001B[38;5;124;43m'\u001B[39;49m\u001B[38;5;124;43m_request_timeout\u001B[39;49m\u001B[38;5;124;43m'\u001B[39;49m\u001B[43m]\u001B[49m\u001B[43m,\u001B[49m\n\u001B[1;32m    853\u001B[0m \u001B[43m    \u001B[49m\u001B[43m_host\u001B[49m\u001B[38;5;241;43m=\u001B[39;49m\u001B[43m_host\u001B[49m\u001B[43m,\u001B[49m\n\u001B[1;32m    854\u001B[0m \u001B[43m    \u001B[49m\u001B[43mcollection_formats\u001B[49m\u001B[38;5;241;43m=\u001B[39;49m\u001B[43mparams\u001B[49m\u001B[43m[\u001B[49m\u001B[38;5;124;43m'\u001B[39;49m\u001B[38;5;124;43mcollection_format\u001B[39;49m\u001B[38;5;124;43m'\u001B[39;49m\u001B[43m]\u001B[49m\u001B[43m)\u001B[49m\n",
      "File \u001B[0;32m~/miniconda3/lib/python3.10/site-packages/pinecone/core/client/api_client.py:413\u001B[0m, in \u001B[0;36mApiClient.call_api\u001B[0;34m(self, resource_path, method, path_params, query_params, header_params, body, post_params, files, response_type, auth_settings, async_req, _return_http_data_only, collection_formats, _preload_content, _request_timeout, _host, _check_type)\u001B[0m\n\u001B[1;32m    359\u001B[0m \u001B[38;5;124;03m\"\"\"Makes the HTTP request (synchronous) and returns deserialized data.\u001B[39;00m\n\u001B[1;32m    360\u001B[0m \n\u001B[1;32m    361\u001B[0m \u001B[38;5;124;03mTo make an async_req request, set the async_req parameter.\u001B[39;00m\n\u001B[0;32m   (...)\u001B[0m\n\u001B[1;32m    410\u001B[0m \u001B[38;5;124;03m    then the method will return the response directly.\u001B[39;00m\n\u001B[1;32m    411\u001B[0m \u001B[38;5;124;03m\"\"\"\u001B[39;00m\n\u001B[1;32m    412\u001B[0m \u001B[38;5;28;01mif\u001B[39;00m \u001B[38;5;129;01mnot\u001B[39;00m async_req:\n\u001B[0;32m--> 413\u001B[0m     \u001B[38;5;28;01mreturn\u001B[39;00m \u001B[38;5;28;43mself\u001B[39;49m\u001B[38;5;241;43m.\u001B[39;49m\u001B[43m__call_api\u001B[49m\u001B[43m(\u001B[49m\u001B[43mresource_path\u001B[49m\u001B[43m,\u001B[49m\u001B[43m \u001B[49m\u001B[43mmethod\u001B[49m\u001B[43m,\u001B[49m\n\u001B[1;32m    414\u001B[0m \u001B[43m                           \u001B[49m\u001B[43mpath_params\u001B[49m\u001B[43m,\u001B[49m\u001B[43m \u001B[49m\u001B[43mquery_params\u001B[49m\u001B[43m,\u001B[49m\u001B[43m \u001B[49m\u001B[43mheader_params\u001B[49m\u001B[43m,\u001B[49m\n\u001B[1;32m    415\u001B[0m \u001B[43m                           \u001B[49m\u001B[43mbody\u001B[49m\u001B[43m,\u001B[49m\u001B[43m \u001B[49m\u001B[43mpost_params\u001B[49m\u001B[43m,\u001B[49m\u001B[43m \u001B[49m\u001B[43mfiles\u001B[49m\u001B[43m,\u001B[49m\n\u001B[1;32m    416\u001B[0m \u001B[43m                           \u001B[49m\u001B[43mresponse_type\u001B[49m\u001B[43m,\u001B[49m\u001B[43m \u001B[49m\u001B[43mauth_settings\u001B[49m\u001B[43m,\u001B[49m\n\u001B[1;32m    417\u001B[0m \u001B[43m                           \u001B[49m\u001B[43m_return_http_data_only\u001B[49m\u001B[43m,\u001B[49m\u001B[43m \u001B[49m\u001B[43mcollection_formats\u001B[49m\u001B[43m,\u001B[49m\n\u001B[1;32m    418\u001B[0m \u001B[43m                           \u001B[49m\u001B[43m_preload_content\u001B[49m\u001B[43m,\u001B[49m\u001B[43m \u001B[49m\u001B[43m_request_timeout\u001B[49m\u001B[43m,\u001B[49m\u001B[43m \u001B[49m\u001B[43m_host\u001B[49m\u001B[43m,\u001B[49m\n\u001B[1;32m    419\u001B[0m \u001B[43m                           \u001B[49m\u001B[43m_check_type\u001B[49m\u001B[43m)\u001B[49m\n\u001B[1;32m    421\u001B[0m \u001B[38;5;28;01mreturn\u001B[39;00m \u001B[38;5;28mself\u001B[39m\u001B[38;5;241m.\u001B[39mpool\u001B[38;5;241m.\u001B[39mapply_async(\u001B[38;5;28mself\u001B[39m\u001B[38;5;241m.\u001B[39m__call_api, (resource_path,\n\u001B[1;32m    422\u001B[0m                                                method, path_params,\n\u001B[1;32m    423\u001B[0m                                                query_params,\n\u001B[0;32m   (...)\u001B[0m\n\u001B[1;32m    431\u001B[0m                                                _request_timeout,\n\u001B[1;32m    432\u001B[0m                                                _host, _check_type))\n",
      "File \u001B[0;32m~/miniconda3/lib/python3.10/site-packages/pinecone/core/client/api_client.py:207\u001B[0m, in \u001B[0;36mApiClient.__call_api\u001B[0;34m(self, resource_path, method, path_params, query_params, header_params, body, post_params, files, response_type, auth_settings, _return_http_data_only, collection_formats, _preload_content, _request_timeout, _host, _check_type)\u001B[0m\n\u001B[1;32m    205\u001B[0m \u001B[38;5;28;01mexcept\u001B[39;00m ApiException \u001B[38;5;28;01mas\u001B[39;00m e:\n\u001B[1;32m    206\u001B[0m     e\u001B[38;5;241m.\u001B[39mbody \u001B[38;5;241m=\u001B[39m e\u001B[38;5;241m.\u001B[39mbody\u001B[38;5;241m.\u001B[39mdecode(\u001B[38;5;124m'\u001B[39m\u001B[38;5;124mutf-8\u001B[39m\u001B[38;5;124m'\u001B[39m)\n\u001B[0;32m--> 207\u001B[0m     \u001B[38;5;28;01mraise\u001B[39;00m e\n\u001B[1;32m    209\u001B[0m \u001B[38;5;28mself\u001B[39m\u001B[38;5;241m.\u001B[39mlast_response \u001B[38;5;241m=\u001B[39m response_data\n\u001B[1;32m    211\u001B[0m return_data \u001B[38;5;241m=\u001B[39m response_data\n",
      "File \u001B[0;32m~/miniconda3/lib/python3.10/site-packages/pinecone/core/client/api_client.py:200\u001B[0m, in \u001B[0;36mApiClient.__call_api\u001B[0;34m(self, resource_path, method, path_params, query_params, header_params, body, post_params, files, response_type, auth_settings, _return_http_data_only, collection_formats, _preload_content, _request_timeout, _host, _check_type)\u001B[0m\n\u001B[1;32m    196\u001B[0m     url \u001B[38;5;241m=\u001B[39m _host \u001B[38;5;241m+\u001B[39m resource_path\n\u001B[1;32m    198\u001B[0m \u001B[38;5;28;01mtry\u001B[39;00m:\n\u001B[1;32m    199\u001B[0m     \u001B[38;5;66;03m# perform request and return response\u001B[39;00m\n\u001B[0;32m--> 200\u001B[0m     response_data \u001B[38;5;241m=\u001B[39m \u001B[38;5;28;43mself\u001B[39;49m\u001B[38;5;241;43m.\u001B[39;49m\u001B[43mrequest\u001B[49m\u001B[43m(\u001B[49m\n\u001B[1;32m    201\u001B[0m \u001B[43m        \u001B[49m\u001B[43mmethod\u001B[49m\u001B[43m,\u001B[49m\u001B[43m \u001B[49m\u001B[43murl\u001B[49m\u001B[43m,\u001B[49m\u001B[43m \u001B[49m\u001B[43mquery_params\u001B[49m\u001B[38;5;241;43m=\u001B[39;49m\u001B[43mquery_params\u001B[49m\u001B[43m,\u001B[49m\u001B[43m \u001B[49m\u001B[43mheaders\u001B[49m\u001B[38;5;241;43m=\u001B[39;49m\u001B[43mheader_params\u001B[49m\u001B[43m,\u001B[49m\n\u001B[1;32m    202\u001B[0m \u001B[43m        \u001B[49m\u001B[43mpost_params\u001B[49m\u001B[38;5;241;43m=\u001B[39;49m\u001B[43mpost_params\u001B[49m\u001B[43m,\u001B[49m\u001B[43m \u001B[49m\u001B[43mbody\u001B[49m\u001B[38;5;241;43m=\u001B[39;49m\u001B[43mbody\u001B[49m\u001B[43m,\u001B[49m\n\u001B[1;32m    203\u001B[0m \u001B[43m        \u001B[49m\u001B[43m_preload_content\u001B[49m\u001B[38;5;241;43m=\u001B[39;49m\u001B[43m_preload_content\u001B[49m\u001B[43m,\u001B[49m\n\u001B[1;32m    204\u001B[0m \u001B[43m        \u001B[49m\u001B[43m_request_timeout\u001B[49m\u001B[38;5;241;43m=\u001B[39;49m\u001B[43m_request_timeout\u001B[49m\u001B[43m)\u001B[49m\n\u001B[1;32m    205\u001B[0m \u001B[38;5;28;01mexcept\u001B[39;00m ApiException \u001B[38;5;28;01mas\u001B[39;00m e:\n\u001B[1;32m    206\u001B[0m     e\u001B[38;5;241m.\u001B[39mbody \u001B[38;5;241m=\u001B[39m e\u001B[38;5;241m.\u001B[39mbody\u001B[38;5;241m.\u001B[39mdecode(\u001B[38;5;124m'\u001B[39m\u001B[38;5;124mutf-8\u001B[39m\u001B[38;5;124m'\u001B[39m)\n",
      "File \u001B[0;32m~/miniconda3/lib/python3.10/site-packages/pinecone/core/client/api_client.py:459\u001B[0m, in \u001B[0;36mApiClient.request\u001B[0;34m(self, method, url, query_params, headers, post_params, body, _preload_content, _request_timeout)\u001B[0m\n\u001B[1;32m    451\u001B[0m     \u001B[38;5;28;01mreturn\u001B[39;00m \u001B[38;5;28mself\u001B[39m\u001B[38;5;241m.\u001B[39mrest_client\u001B[38;5;241m.\u001B[39mOPTIONS(url,\n\u001B[1;32m    452\u001B[0m                                     query_params\u001B[38;5;241m=\u001B[39mquery_params,\n\u001B[1;32m    453\u001B[0m                                     headers\u001B[38;5;241m=\u001B[39mheaders,\n\u001B[0;32m   (...)\u001B[0m\n\u001B[1;32m    456\u001B[0m                                     _request_timeout\u001B[38;5;241m=\u001B[39m_request_timeout,\n\u001B[1;32m    457\u001B[0m                                     body\u001B[38;5;241m=\u001B[39mbody)\n\u001B[1;32m    458\u001B[0m \u001B[38;5;28;01melif\u001B[39;00m method \u001B[38;5;241m==\u001B[39m \u001B[38;5;124m\"\u001B[39m\u001B[38;5;124mPOST\u001B[39m\u001B[38;5;124m\"\u001B[39m:\n\u001B[0;32m--> 459\u001B[0m     \u001B[38;5;28;01mreturn\u001B[39;00m \u001B[38;5;28;43mself\u001B[39;49m\u001B[38;5;241;43m.\u001B[39;49m\u001B[43mrest_client\u001B[49m\u001B[38;5;241;43m.\u001B[39;49m\u001B[43mPOST\u001B[49m\u001B[43m(\u001B[49m\u001B[43murl\u001B[49m\u001B[43m,\u001B[49m\n\u001B[1;32m    460\u001B[0m \u001B[43m                                 \u001B[49m\u001B[43mquery_params\u001B[49m\u001B[38;5;241;43m=\u001B[39;49m\u001B[43mquery_params\u001B[49m\u001B[43m,\u001B[49m\n\u001B[1;32m    461\u001B[0m \u001B[43m                                 \u001B[49m\u001B[43mheaders\u001B[49m\u001B[38;5;241;43m=\u001B[39;49m\u001B[43mheaders\u001B[49m\u001B[43m,\u001B[49m\n\u001B[1;32m    462\u001B[0m \u001B[43m                                 \u001B[49m\u001B[43mpost_params\u001B[49m\u001B[38;5;241;43m=\u001B[39;49m\u001B[43mpost_params\u001B[49m\u001B[43m,\u001B[49m\n\u001B[1;32m    463\u001B[0m \u001B[43m                                 \u001B[49m\u001B[43m_preload_content\u001B[49m\u001B[38;5;241;43m=\u001B[39;49m\u001B[43m_preload_content\u001B[49m\u001B[43m,\u001B[49m\n\u001B[1;32m    464\u001B[0m \u001B[43m                                 \u001B[49m\u001B[43m_request_timeout\u001B[49m\u001B[38;5;241;43m=\u001B[39;49m\u001B[43m_request_timeout\u001B[49m\u001B[43m,\u001B[49m\n\u001B[1;32m    465\u001B[0m \u001B[43m                                 \u001B[49m\u001B[43mbody\u001B[49m\u001B[38;5;241;43m=\u001B[39;49m\u001B[43mbody\u001B[49m\u001B[43m)\u001B[49m\n\u001B[1;32m    466\u001B[0m \u001B[38;5;28;01melif\u001B[39;00m method \u001B[38;5;241m==\u001B[39m \u001B[38;5;124m\"\u001B[39m\u001B[38;5;124mPUT\u001B[39m\u001B[38;5;124m\"\u001B[39m:\n\u001B[1;32m    467\u001B[0m     \u001B[38;5;28;01mreturn\u001B[39;00m \u001B[38;5;28mself\u001B[39m\u001B[38;5;241m.\u001B[39mrest_client\u001B[38;5;241m.\u001B[39mPUT(url,\n\u001B[1;32m    468\u001B[0m                                 query_params\u001B[38;5;241m=\u001B[39mquery_params,\n\u001B[1;32m    469\u001B[0m                                 headers\u001B[38;5;241m=\u001B[39mheaders,\n\u001B[0;32m   (...)\u001B[0m\n\u001B[1;32m    472\u001B[0m                                 _request_timeout\u001B[38;5;241m=\u001B[39m_request_timeout,\n\u001B[1;32m    473\u001B[0m                                 body\u001B[38;5;241m=\u001B[39mbody)\n",
      "File \u001B[0;32m~/miniconda3/lib/python3.10/site-packages/pinecone/core/client/rest.py:271\u001B[0m, in \u001B[0;36mRESTClientObject.POST\u001B[0;34m(self, url, headers, query_params, post_params, body, _preload_content, _request_timeout)\u001B[0m\n\u001B[1;32m    269\u001B[0m \u001B[38;5;28;01mdef\u001B[39;00m \u001B[38;5;21mPOST\u001B[39m(\u001B[38;5;28mself\u001B[39m, url, headers\u001B[38;5;241m=\u001B[39m\u001B[38;5;28;01mNone\u001B[39;00m, query_params\u001B[38;5;241m=\u001B[39m\u001B[38;5;28;01mNone\u001B[39;00m, post_params\u001B[38;5;241m=\u001B[39m\u001B[38;5;28;01mNone\u001B[39;00m,\n\u001B[1;32m    270\u001B[0m          body\u001B[38;5;241m=\u001B[39m\u001B[38;5;28;01mNone\u001B[39;00m, _preload_content\u001B[38;5;241m=\u001B[39m\u001B[38;5;28;01mTrue\u001B[39;00m, _request_timeout\u001B[38;5;241m=\u001B[39m\u001B[38;5;28;01mNone\u001B[39;00m):\n\u001B[0;32m--> 271\u001B[0m     \u001B[38;5;28;01mreturn\u001B[39;00m \u001B[38;5;28;43mself\u001B[39;49m\u001B[38;5;241;43m.\u001B[39;49m\u001B[43mrequest\u001B[49m\u001B[43m(\u001B[49m\u001B[38;5;124;43m\"\u001B[39;49m\u001B[38;5;124;43mPOST\u001B[39;49m\u001B[38;5;124;43m\"\u001B[39;49m\u001B[43m,\u001B[49m\u001B[43m \u001B[49m\u001B[43murl\u001B[49m\u001B[43m,\u001B[49m\n\u001B[1;32m    272\u001B[0m \u001B[43m                        \u001B[49m\u001B[43mheaders\u001B[49m\u001B[38;5;241;43m=\u001B[39;49m\u001B[43mheaders\u001B[49m\u001B[43m,\u001B[49m\n\u001B[1;32m    273\u001B[0m \u001B[43m                        \u001B[49m\u001B[43mquery_params\u001B[49m\u001B[38;5;241;43m=\u001B[39;49m\u001B[43mquery_params\u001B[49m\u001B[43m,\u001B[49m\n\u001B[1;32m    274\u001B[0m \u001B[43m                        \u001B[49m\u001B[43mpost_params\u001B[49m\u001B[38;5;241;43m=\u001B[39;49m\u001B[43mpost_params\u001B[49m\u001B[43m,\u001B[49m\n\u001B[1;32m    275\u001B[0m \u001B[43m                        \u001B[49m\u001B[43m_preload_content\u001B[49m\u001B[38;5;241;43m=\u001B[39;49m\u001B[43m_preload_content\u001B[49m\u001B[43m,\u001B[49m\n\u001B[1;32m    276\u001B[0m \u001B[43m                        \u001B[49m\u001B[43m_request_timeout\u001B[49m\u001B[38;5;241;43m=\u001B[39;49m\u001B[43m_request_timeout\u001B[49m\u001B[43m,\u001B[49m\n\u001B[1;32m    277\u001B[0m \u001B[43m                        \u001B[49m\u001B[43mbody\u001B[49m\u001B[38;5;241;43m=\u001B[39;49m\u001B[43mbody\u001B[49m\u001B[43m)\u001B[49m\n",
      "File \u001B[0;32m~/miniconda3/lib/python3.10/site-packages/pinecone/core/client/rest.py:230\u001B[0m, in \u001B[0;36mRESTClientObject.request\u001B[0;34m(self, method, url, query_params, headers, body, post_params, _preload_content, _request_timeout)\u001B[0m\n\u001B[1;32m    227\u001B[0m     \u001B[38;5;28;01mif\u001B[39;00m \u001B[38;5;241m500\u001B[39m \u001B[38;5;241m<\u001B[39m\u001B[38;5;241m=\u001B[39m r\u001B[38;5;241m.\u001B[39mstatus \u001B[38;5;241m<\u001B[39m\u001B[38;5;241m=\u001B[39m \u001B[38;5;241m599\u001B[39m:\n\u001B[1;32m    228\u001B[0m         \u001B[38;5;28;01mraise\u001B[39;00m ServiceException(http_resp\u001B[38;5;241m=\u001B[39mr)\n\u001B[0;32m--> 230\u001B[0m     \u001B[38;5;28;01mraise\u001B[39;00m ApiException(http_resp\u001B[38;5;241m=\u001B[39mr)\n\u001B[1;32m    232\u001B[0m \u001B[38;5;28;01mreturn\u001B[39;00m r\n",
      "\u001B[0;31mApiException\u001B[0m: (400)\nReason: Bad Request\nHTTP response headers: HTTPHeaderDict({'content-type': 'text/plain; charset=UTF-8', 'date': 'Wed, 12 Jul 2023 10:34:36 GMT', 'x-envoy-upstream-service-time': '1328', 'content-length': '131', 'server': 'envoy'})\nHTTP response body: The index exceeds the project quota of 1 pods by 1 pods. Upgrade your account or change the project settings to increase the quota.\n"
     ]
    }
   ],
   "source": [
    "pinecone.create_index(\"python-index\", dimension=1536, metric=\"cosine\")"
   ],
   "metadata": {
    "collapsed": false,
    "ExecuteTime": {
     "end_time": "2023-07-12T10:34:36.319706Z",
     "start_time": "2023-07-12T10:34:33.151550Z"
    }
   }
  },
  {
   "cell_type": "code",
   "execution_count": 56,
   "id": "0deb2f6a",
   "metadata": {
    "ExecuteTime": {
     "end_time": "2023-07-12T10:34:36.962251Z",
     "start_time": "2023-07-12T10:34:36.400703Z"
    }
   },
   "outputs": [],
   "source": [
    "# initialize pinecone\n",
    "pinecone.init(\n",
    "    api_key=PINECONE_API_KEY,  # find at app.pinecone.io\n",
    "    environment=PINECONE_API_ENV  # next to api key in console\n",
    ")\n",
    "index_name = \"python-index\" # put in the name of your pinecone index here"
   ]
  },
  {
   "cell_type": "code",
   "execution_count": 57,
   "id": "388988ce",
   "metadata": {
    "ExecuteTime": {
     "end_time": "2023-07-12T10:34:43.715522Z",
     "start_time": "2023-07-12T10:34:38.079292Z"
    }
   },
   "outputs": [],
   "source": [
    "docsearch = Pinecone.from_texts([t.page_content for t in texts], embeddings, index_name=index_name)"
   ]
  },
  {
   "cell_type": "code",
   "execution_count": 58,
   "id": "34929595",
   "metadata": {
    "ExecuteTime": {
     "end_time": "2023-07-12T10:34:45.388534Z",
     "start_time": "2023-07-12T10:34:44.963064Z"
    }
   },
   "outputs": [],
   "source": [
    "query = \"Who was Von Clausewitz?\"\n",
    "docs = docsearch.similarity_search(query)"
   ]
  },
  {
   "cell_type": "code",
   "execution_count": 59,
   "outputs": [
    {
     "data": {
      "text/plain": "[Document(page_content='9RQ\\x03&ODXVHZLW]  Historic perspectives can still be seen in business perspective today. Clausewitz his perspective seems timeless. He is in the same timeframe as Jomini. French was in a revolution; Eu was ruled by royal houses and the Napoleonic war was going on. When was 12 he joined the army and when he turned 21 he joined the military academy as a scholar. There he met Gerhard von Scharnhorst (lecturer) and Marie von Bruhl (married Clausewitz). The was a grave and was Clausewitz his ticket to the higher circles in Prussia. She played an important role in Clausewitz his career progress and development of perspective in strategy. Von Clausewitz served in an old-fashioned army, Clausewitz was captured by the French and Prussia was conquered. After the release Clausewitz joined the Russian army and fought Napoleon. They defeated Napoleon. Clausewitz tried to finish a book but died of Cholera. 7KH\\x03ERRN\\x03KDV\\x03WKH\\x03WLWOH\\x03µ¶RQ\\x03ZDU¶¶\\x11\\x03', metadata={}),\n Document(page_content='9RQ\\x03&ODXVHZLW]  Historic perspectives can still be seen in business perspective today. Clausewitz his perspective seems timeless. He is in the same timeframe as Jomini. French was in a revolution; Eu was ruled by royal houses and the Napoleonic war was going on. When was 12 he joined the army and when he turned 21 he joined the military academy as a scholar. There he met Gerhard von Scharnhorst (lecturer) and Marie von Bruhl (married Clausewitz). The was a grave and was Clausewitz his ticket to the higher circles in Prussia. She played an important role in Clausewitz his career progress and development of perspective in strategy. Von Clausewitz served in an old-fashioned army, Clausewitz was captured by the French and Prussia was conquered. After the release Clausewitz joined the Russian army and fought Napoleon. They defeated Napoleon. Clausewitz tried to finish a book but died of Cholera. 7KH\\x03ERRN\\x03KDV\\x03WKH\\x03WLWOH\\x03µ¶RQ\\x03ZDU¶¶\\x11\\x03 &ODXVHZLW]\\x03GHILQHV\\x03VWUDWHJ\\\\\\x03DV\\x03µ¶7KH\\x03XVH\\x03RI\\x03FRPEDW\\x0f\\x03RU\\x03WKH\\x03threat of combat, for the purpose of the ZDU\\x03LQ\\x03ZKLFK\\x03PDNHV\\x03LW\\x03WDNHV\\x03SODFH¶¶\\x11\\x03)ULFWLRQ\\x03\\x0bSDJH\\x03\\x1b\\x1a\\x0c\\x03is a concept of his perspective. Clausewitz states it as that everything in war is simple, but the simplest thing ios difficult. The difficulties in war are cumulate and in in producing a kind of friction. You can only experience friction unless you experienced a war. He describes friction as countless minor incidents which can lower the general level of performance. An example: You have a plan to attack something, but then you experience friction: little things go wrong and suddenly the roads are of terrible quality, they are worse then expected, or a supply that comes in late so soldiers are out of food and ammunition. Things that cant be foresee. This calls Clausewitz friction. If this is what you believe, what is the role of theory? Clausewitz thought that Theory should never be leading. Practice will always be turned out different,', metadata={}),\n Document(page_content='9RQ\\x03&ODXVHZLW]  Historic perspectives can still be seen in business perspective today. Clausewitz his perspective seems timeless. He is in the same timeframe as Jomini. French was in a revolution; Eu was ruled by royal houses and the Napoleonic war was going on. When was 12 he joined the army and when he turned 21 he joined the military academy as a scholar. There he met Gerhard von Scharnhorst (lecturer) and Marie von Bruhl (married Clausewitz). The was a grave and was Clausewitz his ticket to the higher circles in Prussia. She played an important role in Clausewitz his career progress and development of perspective in strategy. Von Clausewitz served in an old-fashioned army, Clausewitz was captured by the French and Prussia was conquered. After the release Clausewitz joined the Russian army and fought Napoleon. They defeated Napoleon. Clausewitz tried to finish a book but died of Cholera. 7KH\\x03ERRN\\x03KDV\\x03WKH\\x03WLWOH\\x03µ¶RQ\\x03ZDU¶¶\\x11\\x03 &ODXVHZLW]\\x03GHILQHV\\x03VWUDWHJ\\\\\\x03DV\\x03µ¶7KH\\x03XVH\\x03RI\\x03FRPEDW\\x0f\\x03RU\\x03WKH\\x03threat of combat, for the purpose of the ZDU\\x03LQ\\x03ZKLFK\\x03PDNHV\\x03LW\\x03WDNHV\\x03SODFH¶¶\\x11\\x03)ULFWLRQ\\x03\\x0bSDJH\\x03\\x1b\\x1a\\x0c\\x03is a concept of his perspective. Clausewitz states it as that everything in war is simple, but the simplest thing ios difficult. The difficulties in war are cumulate and in in producing a kind of friction. You can only experience friction unless you experienced a war. He describes friction as countless minor incidents which can lower the general level of performance. An example: You have a plan to attack something, but then you experience friction: little things go wrong and suddenly the roads are of terrible quality, they are worse then expected, or a supply that comes in late so soldiers are out of food and ammunition. Things that cant be foresee. This calls Clausewitz friction. If this is what you believe, what is the role of theory? Clausewitz thought that Theory should never be leading. Practice will always be turned out different,', metadata={}),\n Document(page_content='DFFRUGLQJ\\x03WR\\x03&ODXVHZLW]\\x03IULFWLRQ\\x03RQO\\\\\\x03RFFXUV\\x03LQ\\x03ZDUV««\\x11\\x11\\x11\\x03\\x03 Another important aspect in his perspective is the trinity of war. Described on page 87, it consists of 3 parts. War is the interplay of three concepts. 1: Primordial violence, hatred & enmity (emotional part). 2nd: play of chance and probability (chance part. 3th: element of subordination, as an instrument of policy, which makes it subject of reason (reason).  Von Clausewitz tries to describe was as an interplay between those 3 concepts. Through his book all concepts can be fitted in to this trinity, it is the basis of his perspective. The fist relevant strategic perspective is intuition. When you interview business owners you will learn that they do business on intuition. This is linked to Clausewitz since Clausewitz told WKDW\\x03WKHRU\\\\\\x03QHYHU\\x03VKRXOG\\x03EH\\x03OHDGLQJ\\x11\\x03<RX\\x03GRQ¶W\\x03KDYH\\x03DOO\\x03WKH\\x03LQIRUPDWLRQ\\x03\\x0bGHVFULEHG\\x03DV\\x03IRJ\\x03RI\\x03war). Is this all an argument to just use your intuition? Another contemporary topic is chain of command. In some companies we see that there is a lot of hierarchy and everyone has to ask WKH\\x03WRS\\x03PDQDJHU\\x03IRU\\x03GHFLVLRQ\\x11\\x03%XW\\x03ZKHQ\\x03WKLQJV\\x03GRQ¶W\\x03JR\\x03DV\\x03SODQQHG\\x0f\\x03Ze see that this communication line gets flooded, and nobody know that to do. When this line gets flooded the LQIRUPDWLRQ\\x03ZRQW\\x03UHDFK\\x03HYHU\\\\RQH\\x03DQG\\x03WKLQJV\\x03FRPH\\x03WR\\x03D\\x03VWDQGVWLOO\\x11\\x036RPH\\x03RUJDQL]DWLRQV\\x03GRQ¶W\\x03want a structure like this, they are giving all workers more responsibility, they give them more decision power. This can be linked to von Clausewitz. Clausewitz is still a source of inspiration for quite some people, some companies struggle with uncertainty of the environment. What should we do if something goes wrong? Scenario planning? How to deal with uncertainty.', metadata={})]"
     },
     "execution_count": 59,
     "metadata": {},
     "output_type": "execute_result"
    }
   ],
   "source": [
    "docs"
   ],
   "metadata": {
    "collapsed": false,
    "ExecuteTime": {
     "end_time": "2023-07-12T10:34:46.059005Z",
     "start_time": "2023-07-12T10:34:46.056233Z"
    }
   }
  },
  {
   "cell_type": "code",
   "execution_count": 60,
   "id": "4e0f5b45",
   "metadata": {
    "ExecuteTime": {
     "end_time": "2023-07-12T10:34:47.953804Z",
     "start_time": "2023-07-12T10:34:47.947346Z"
    }
   },
   "outputs": [
    {
     "name": "stdout",
     "output_type": "stream",
     "text": [
      "9RQ\u0003&ODXVHZLW]  Historic perspectives can still be seen in business perspective today. Clausewitz his perspective seems timeless. He is in the same timeframe as Jomini. French was in a revolution; Eu was ruled by royal houses and the Napoleonic war was going on. When was 12 he joined the army and when he turned 21 he joined the military academy as a scholar. There he met Gerhard von Scharnhorst (lecturer) and Marie von Bruhl (married Clausewitz).\n"
     ]
    }
   ],
   "source": [
    "# Here's an example of the first document that was returned\n",
    "print(docs[0].page_content[:450])"
   ]
  },
  {
   "cell_type": "markdown",
   "id": "3c35dcd9",
   "metadata": {
    "ExecuteTime": {
     "end_time": "2023-07-11T20:23:44.812819Z",
     "start_time": "2023-07-11T20:23:44.807162Z"
    }
   },
   "source": [
    "### Query those docs to get your answer back"
   ],
   "outputs": [],
   "execution_count": 173
  },
  {
   "cell_type": "code",
   "execution_count": 61,
   "id": "f051337b",
   "metadata": {
    "ExecuteTime": {
     "end_time": "2023-07-12T10:34:50.299435Z",
     "start_time": "2023-07-12T10:34:50.297828Z"
    }
   },
   "outputs": [],
   "source": [
    "from langchain.llms import OpenAI\n",
    "from langchain.chains.question_answering import load_qa_chain"
   ]
  },
  {
   "cell_type": "code",
   "execution_count": 62,
   "id": "6b9b1c03",
   "metadata": {
    "ExecuteTime": {
     "end_time": "2023-07-12T10:34:51.108722Z",
     "start_time": "2023-07-12T10:34:51.104841Z"
    }
   },
   "outputs": [],
   "source": [
    "llm = OpenAI(temperature=0, openai_api_key=OPENAI_API_KEY)\n",
    "chain = load_qa_chain(llm, chain_type=\"stuff\")"
   ]
  },
  {
   "cell_type": "code",
   "execution_count": 63,
   "id": "f67ea7c2",
   "metadata": {
    "ExecuteTime": {
     "end_time": "2023-07-12T10:34:52.300794Z",
     "start_time": "2023-07-12T10:34:51.684637Z"
    }
   },
   "outputs": [],
   "source": [
    "query = \"Who was Von Clausewitz?\"\n",
    "docs = docsearch.similarity_search(query)"
   ]
  },
  {
   "cell_type": "code",
   "execution_count": 64,
   "id": "3dfd2b7d",
   "metadata": {
    "ExecuteTime": {
     "end_time": "2023-07-12T10:34:56.392959Z",
     "start_time": "2023-07-12T10:34:53.304705Z"
    }
   },
   "outputs": [
    {
     "data": {
      "text/plain": "' Von Clausewitz was a Prussian military theorist and soldier who lived in the same timeframe as Jomini. He joined the army at age 12 and the military academy as a scholar at age 21. He was married to Marie von Bruhl and served in an old-fashioned army. He was captured by the French and Prussia was conquered. After his release, he joined the Russian army and fought Napoleon. He tried to finish a book but died of Cholera.'"
     },
     "execution_count": 64,
     "metadata": {},
     "output_type": "execute_result"
    }
   ],
   "source": [
    "chain.run(input_documents=docs, question=query)"
   ]
  },
  {
   "cell_type": "code",
   "execution_count": 65,
   "outputs": [
    {
     "data": {
      "text/plain": "[Document(page_content='9RQ\\x03&ODXVHZLW]  Historic perspectives can still be seen in business perspective today. Clausewitz his perspective seems timeless. He is in the same timeframe as Jomini. French was in a revolution; Eu was ruled by royal houses and the Napoleonic war was going on. When was 12 he joined the army and when he turned 21 he joined the military academy as a scholar. There he met Gerhard von Scharnhorst (lecturer) and Marie von Bruhl (married Clausewitz). The was a grave and was Clausewitz his ticket to the higher circles in Prussia. She played an important role in Clausewitz his career progress and development of perspective in strategy. Von Clausewitz served in an old-fashioned army, Clausewitz was captured by the French and Prussia was conquered. After the release Clausewitz joined the Russian army and fought Napoleon. They defeated Napoleon. Clausewitz tried to finish a book but died of Cholera. 7KH\\x03ERRN\\x03KDV\\x03WKH\\x03WLWOH\\x03µ¶RQ\\x03ZDU¶¶\\x11\\x03', metadata={}),\n Document(page_content='9RQ\\x03&ODXVHZLW]  Historic perspectives can still be seen in business perspective today. Clausewitz his perspective seems timeless. He is in the same timeframe as Jomini. French was in a revolution; Eu was ruled by royal houses and the Napoleonic war was going on. When was 12 he joined the army and when he turned 21 he joined the military academy as a scholar. There he met Gerhard von Scharnhorst (lecturer) and Marie von Bruhl (married Clausewitz). The was a grave and was Clausewitz his ticket to the higher circles in Prussia. She played an important role in Clausewitz his career progress and development of perspective in strategy. Von Clausewitz served in an old-fashioned army, Clausewitz was captured by the French and Prussia was conquered. After the release Clausewitz joined the Russian army and fought Napoleon. They defeated Napoleon. Clausewitz tried to finish a book but died of Cholera. 7KH\\x03ERRN\\x03KDV\\x03WKH\\x03WLWOH\\x03µ¶RQ\\x03ZDU¶¶\\x11\\x03 &ODXVHZLW]\\x03GHILQHV\\x03VWUDWHJ\\\\\\x03DV\\x03µ¶7KH\\x03XVH\\x03RI\\x03FRPEDW\\x0f\\x03RU\\x03WKH\\x03threat of combat, for the purpose of the ZDU\\x03LQ\\x03ZKLFK\\x03PDNHV\\x03LW\\x03WDNHV\\x03SODFH¶¶\\x11\\x03)ULFWLRQ\\x03\\x0bSDJH\\x03\\x1b\\x1a\\x0c\\x03is a concept of his perspective. Clausewitz states it as that everything in war is simple, but the simplest thing ios difficult. The difficulties in war are cumulate and in in producing a kind of friction. You can only experience friction unless you experienced a war. He describes friction as countless minor incidents which can lower the general level of performance. An example: You have a plan to attack something, but then you experience friction: little things go wrong and suddenly the roads are of terrible quality, they are worse then expected, or a supply that comes in late so soldiers are out of food and ammunition. Things that cant be foresee. This calls Clausewitz friction. If this is what you believe, what is the role of theory? Clausewitz thought that Theory should never be leading. Practice will always be turned out different,', metadata={}),\n Document(page_content='9RQ\\x03&ODXVHZLW]  Historic perspectives can still be seen in business perspective today. Clausewitz his perspective seems timeless. He is in the same timeframe as Jomini. French was in a revolution; Eu was ruled by royal houses and the Napoleonic war was going on. When was 12 he joined the army and when he turned 21 he joined the military academy as a scholar. There he met Gerhard von Scharnhorst (lecturer) and Marie von Bruhl (married Clausewitz). The was a grave and was Clausewitz his ticket to the higher circles in Prussia. She played an important role in Clausewitz his career progress and development of perspective in strategy. Von Clausewitz served in an old-fashioned army, Clausewitz was captured by the French and Prussia was conquered. After the release Clausewitz joined the Russian army and fought Napoleon. They defeated Napoleon. Clausewitz tried to finish a book but died of Cholera. 7KH\\x03ERRN\\x03KDV\\x03WKH\\x03WLWOH\\x03µ¶RQ\\x03ZDU¶¶\\x11\\x03 &ODXVHZLW]\\x03GHILQHV\\x03VWUDWHJ\\\\\\x03DV\\x03µ¶7KH\\x03XVH\\x03RI\\x03FRPEDW\\x0f\\x03RU\\x03WKH\\x03threat of combat, for the purpose of the ZDU\\x03LQ\\x03ZKLFK\\x03PDNHV\\x03LW\\x03WDNHV\\x03SODFH¶¶\\x11\\x03)ULFWLRQ\\x03\\x0bSDJH\\x03\\x1b\\x1a\\x0c\\x03is a concept of his perspective. Clausewitz states it as that everything in war is simple, but the simplest thing ios difficult. The difficulties in war are cumulate and in in producing a kind of friction. You can only experience friction unless you experienced a war. He describes friction as countless minor incidents which can lower the general level of performance. An example: You have a plan to attack something, but then you experience friction: little things go wrong and suddenly the roads are of terrible quality, they are worse then expected, or a supply that comes in late so soldiers are out of food and ammunition. Things that cant be foresee. This calls Clausewitz friction. If this is what you believe, what is the role of theory? Clausewitz thought that Theory should never be leading. Practice will always be turned out different,', metadata={}),\n Document(page_content='DFFRUGLQJ\\x03WR\\x03&ODXVHZLW]\\x03IULFWLRQ\\x03RQO\\\\\\x03RFFXUV\\x03LQ\\x03ZDUV««\\x11\\x11\\x11\\x03\\x03 Another important aspect in his perspective is the trinity of war. Described on page 87, it consists of 3 parts. War is the interplay of three concepts. 1: Primordial violence, hatred & enmity (emotional part). 2nd: play of chance and probability (chance part. 3th: element of subordination, as an instrument of policy, which makes it subject of reason (reason).  Von Clausewitz tries to describe was as an interplay between those 3 concepts. Through his book all concepts can be fitted in to this trinity, it is the basis of his perspective. The fist relevant strategic perspective is intuition. When you interview business owners you will learn that they do business on intuition. This is linked to Clausewitz since Clausewitz told WKDW\\x03WKHRU\\\\\\x03QHYHU\\x03VKRXOG\\x03EH\\x03OHDGLQJ\\x11\\x03<RX\\x03GRQ¶W\\x03KDYH\\x03DOO\\x03WKH\\x03LQIRUPDWLRQ\\x03\\x0bGHVFULEHG\\x03DV\\x03IRJ\\x03RI\\x03war). Is this all an argument to just use your intuition? Another contemporary topic is chain of command. In some companies we see that there is a lot of hierarchy and everyone has to ask WKH\\x03WRS\\x03PDQDJHU\\x03IRU\\x03GHFLVLRQ\\x11\\x03%XW\\x03ZKHQ\\x03WKLQJV\\x03GRQ¶W\\x03JR\\x03DV\\x03SODQQHG\\x0f\\x03Ze see that this communication line gets flooded, and nobody know that to do. When this line gets flooded the LQIRUPDWLRQ\\x03ZRQW\\x03UHDFK\\x03HYHU\\\\RQH\\x03DQG\\x03WKLQJV\\x03FRPH\\x03WR\\x03D\\x03VWDQGVWLOO\\x11\\x036RPH\\x03RUJDQL]DWLRQV\\x03GRQ¶W\\x03want a structure like this, they are giving all workers more responsibility, they give them more decision power. This can be linked to von Clausewitz. Clausewitz is still a source of inspiration for quite some people, some companies struggle with uncertainty of the environment. What should we do if something goes wrong? Scenario planning? How to deal with uncertainty.', metadata={})]"
     },
     "execution_count": 65,
     "metadata": {},
     "output_type": "execute_result"
    }
   ],
   "source": [
    "docs"
   ],
   "metadata": {
    "collapsed": false,
    "ExecuteTime": {
     "end_time": "2023-07-12T10:35:02.053377Z",
     "start_time": "2023-07-12T10:35:02.046218Z"
    }
   }
  },
  {
   "cell_type": "code",
   "execution_count": null,
   "outputs": [],
   "source": [],
   "metadata": {
    "collapsed": false
   }
  }
 ],
 "metadata": {
  "kernelspec": {
   "display_name": "Python 3 (ipykernel)",
   "language": "python",
   "name": "python3"
  },
  "language_info": {
   "codemirror_mode": {
    "name": "ipython",
    "version": 3
   },
   "file_extension": ".py",
   "mimetype": "text/x-python",
   "name": "python",
   "nbconvert_exporter": "python",
   "pygments_lexer": "ipython3",
   "version": "3.9.13"
  }
 },
 "nbformat": 4,
 "nbformat_minor": 5
}
