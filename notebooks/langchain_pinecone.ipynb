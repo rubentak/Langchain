{
 "cells": [
  {
   "cell_type": "markdown",
   "source": [
    "# Pinecone + Langchain Demo\n",
    "\n",
    "In this notebook i will show you how to easily create a semantic search engine for your documents using Pinecone and Langchain. The goal is to be able to search through your documents and find the most relevant ones to your query. We will also be able to ask questions about the documents and get answers back.\n",
    "\n",
    "[Pinecone signup](https://www.pinecone.io/)\n",
    "After logging in you can see your porjects, indexes and collections\n",
    "\n",
    "\n",
    "[Pinecone documentation](https://docs.pinecone.io/docs/python-client)\n",
    "\n",
    "[Pinecone Langchain documentation](https://www.pinecone.io/learn/series/langchain/langchain-intro/)\n",
    "\n",
    "[Langchain documentation](https://python.langchain.com/docs/get_started/introduction.html)\n"
   ],
   "metadata": {
    "collapsed": false
   }
  },
  {
   "cell_type": "markdown",
   "source": [
    "### Install the packages"
   ],
   "metadata": {
    "collapsed": false
   }
  },
  {
   "cell_type": "code",
   "execution_count": 1,
   "outputs": [],
   "source": [
    "#!pip install langchain --upgrade\n",
    "#!pip install pypdf"
   ],
   "metadata": {
    "collapsed": false,
    "ExecuteTime": {
     "end_time": "2023-07-11T20:43:32.030612Z",
     "start_time": "2023-07-11T20:43:32.027160Z"
    }
   }
  },
  {
   "cell_type": "code",
   "execution_count": 2,
   "id": "2d3e92ed",
   "metadata": {
    "ExecuteTime": {
     "end_time": "2023-07-11T20:43:38.646407Z",
     "start_time": "2023-07-11T20:43:37.543240Z"
    }
   },
   "outputs": [],
   "source": [
    "# PDF Loaders. If unstructured gives you a hard time, try PyPDFLoader\n",
    "from langchain.document_loaders import UnstructuredPDFLoader, OnlinePDFLoader, PyPDFLoader\n",
    "from langchain.text_splitter import RecursiveCharacterTextSplitter\n",
    "import os"
   ]
  },
  {
   "cell_type": "markdown",
   "id": "5166d759",
   "metadata": {
    "ExecuteTime": {
     "end_time": "2023-07-11T20:38:08.852519Z",
     "start_time": "2023-07-11T20:38:08.848491Z"
    }
   },
   "source": [
    "### Load your data\n",
    "\n",
    "The PDF file that I will use is a summary of one of my courses on strategy that i had in my bacholar.\n",
    "\n",
    "The PDF discusses various perspectives in the field of strategy, including the ideas of Clausewitz, Jomini, Marx, Tolstoy, Weber, Taylor, Follett, Rockefeller, Sloan, Ansoff, and game theory. It highlights the relevance of these perspectives in today's business environment and their impact on strategic thinking. The passage also mentions the different schools of thought in strategy, including the prescriptive and descriptive schools, and raises questions about their relationship to each other in the strategic process. Overall, it provides a comprehensive overview of different strategic perspectives and their implications."
   ],
   "outputs": [],
   "execution_count": 210
  },
  {
   "cell_type": "code",
   "execution_count": 66,
   "outputs": [],
   "source": [
    "# create a loader\n",
    "loader = PyPDFLoader(\"../data/summary_strategy.pdf\")"
   ],
   "metadata": {
    "collapsed": false,
    "ExecuteTime": {
     "end_time": "2023-07-12T14:40:53.295630Z",
     "start_time": "2023-07-12T14:40:53.294111Z"
    }
   }
  },
  {
   "cell_type": "markdown",
   "source": [
    "### Other options for loaders"
   ],
   "metadata": {
    "collapsed": false
   }
  },
  {
   "cell_type": "code",
   "execution_count": 67,
   "outputs": [],
   "source": [
    "# loader = UnstructuredPDFLoader(\"../data/summary_strategy.pdf\")\n",
    "# loader = OnlinePDFLoader(\"...\")"
   ],
   "metadata": {
    "collapsed": false,
    "ExecuteTime": {
     "end_time": "2023-07-12T14:40:55.488569Z",
     "start_time": "2023-07-12T14:40:55.481401Z"
    }
   }
  },
  {
   "cell_type": "code",
   "execution_count": 68,
   "id": "bcdac23c",
   "metadata": {
    "ExecuteTime": {
     "end_time": "2023-07-12T14:40:56.211531Z",
     "start_time": "2023-07-12T14:40:55.960724Z"
    }
   },
   "outputs": [],
   "source": [
    "# load your data\n",
    "data = loader.load()"
   ]
  },
  {
   "cell_type": "markdown",
   "source": [
    "Note: If you're using PyPDFLoader, the text will be split by page for you already"
   ],
   "metadata": {
    "collapsed": false
   }
  },
  {
   "cell_type": "code",
   "execution_count": 69,
   "id": "b4fd7c9e",
   "metadata": {
    "ExecuteTime": {
     "end_time": "2023-07-12T14:41:07.196758Z",
     "start_time": "2023-07-12T14:41:07.169690Z"
    }
   },
   "outputs": [
    {
     "name": "stdout",
     "output_type": "stream",
     "text": [
      "You have 18 document(s) in your data\n",
      "There are 3659 characters in your document\n"
     ]
    }
   ],
   "source": [
    "print (f'You have {len(data)} document(s) in your data')\n",
    "print (f'There are {len(data[0].page_content)} characters in your document')"
   ]
  },
  {
   "cell_type": "markdown",
   "id": "8af9b604",
   "metadata": {
    "ExecuteTime": {
     "end_time": "2023-07-11T20:38:12.194260Z",
     "start_time": "2023-07-11T20:38:12.191771Z"
    }
   },
   "source": [
    "### Split your data up into smaller documents with Chunks\n",
    "\n",
    "The chunksize should be chosen according to the length of your documents. If you have very long documents, you should choose a smaller chunksize. If you have very short documents, you should choose a smaller chunksize.\n",
    "\n",
    "The chunk overlap is the number of characters that will be shared between each chunk. This is useful if you want to make sure that your chunks are not too small.\n",
    "\n",
    "Play around with these parameters to see what works best for your data.\n",
    "\n",
    "Note: If you're using PyPDFLoader then we'll be splitting for the 2nd time."
   ],
   "outputs": [],
   "execution_count": 213
  },
  {
   "cell_type": "code",
   "execution_count": 50,
   "id": "fb3c6f02",
   "metadata": {
    "ExecuteTime": {
     "end_time": "2023-07-12T10:34:13.205036Z",
     "start_time": "2023-07-12T10:34:13.201492Z"
    }
   },
   "outputs": [],
   "source": [
    "text_splitter = RecursiveCharacterTextSplitter(chunk_size=1000, chunk_overlap=0)\n",
    "texts = text_splitter.split_documents(data)"
   ]
  },
  {
   "cell_type": "code",
   "execution_count": 51,
   "id": "879873a4",
   "metadata": {
    "ExecuteTime": {
     "end_time": "2023-07-12T10:34:13.739343Z",
     "start_time": "2023-07-12T10:34:13.733545Z"
    }
   },
   "outputs": [
    {
     "name": "stdout",
     "output_type": "stream",
     "text": [
      "Now you have 41 documents\n"
     ]
    }
   ],
   "source": [
    "print (f'Now you have {len(texts)} documents')"
   ]
  },
  {
   "cell_type": "markdown",
   "id": "838b2843",
   "metadata": {
    "ExecuteTime": {
     "end_time": "2023-07-11T20:38:19.825374Z",
     "start_time": "2023-07-11T20:38:19.820981Z"
    }
   },
   "source": [
    "### Create embeddings of your documents\n",
    "\n",
    "Here we import yhe lanchain and pinecone libraries. We will use the OpenAIEmbeddings class to create embeddings of our documents. We will then use the Pinecone library to create a Pinecone index and add our documents to it. Finally, we will use the Pinecone library to query our index and get back the most similar documents to our query."
   ],
   "outputs": [],
   "execution_count": 215
  },
  {
   "cell_type": "code",
   "execution_count": 52,
   "outputs": [],
   "source": [
    "from langchain.vectorstores import  Pinecone\n",
    "from langchain.embeddings.openai import OpenAIEmbeddings\n",
    "import pinecone"
   ],
   "metadata": {
    "collapsed": false,
    "ExecuteTime": {
     "end_time": "2023-07-12T10:34:17.660301Z",
     "start_time": "2023-07-12T10:34:17.658968Z"
    }
   }
  },
  {
   "cell_type": "markdown",
   "source": [
    "I chose to store my api keys in a file called credentials.py. You can also store them in your environment variables. You can find your api keys in the pinecone console."
   ],
   "metadata": {
    "collapsed": false
   }
  },
  {
   "cell_type": "code",
   "execution_count": 53,
   "outputs": [],
   "source": [
    "# import your API keys from a file called credentials.py\n",
    "from credentials import OPENAI_API_KEY, PINECONE_API_KEY, PINECONE_API_ENV"
   ],
   "metadata": {
    "collapsed": false,
    "ExecuteTime": {
     "end_time": "2023-07-12T10:34:18.100795Z",
     "start_time": "2023-07-12T10:34:18.098571Z"
    }
   }
  },
  {
   "cell_type": "code",
   "execution_count": 37,
   "id": "0e093ef3",
   "metadata": {
    "hide_input": false,
    "ExecuteTime": {
     "end_time": "2023-07-12T10:19:53.038928Z",
     "start_time": "2023-07-12T10:19:53.036481Z"
    }
   },
   "outputs": [],
   "source": [
    "# you can also store the keys in your environment variables\n",
    "# OPENAI_API_KEY = os.environ.get('OPENAI_API_KEY', 'sk-...')\n",
    "#\n",
    "# PINECONE_API_KEY = os.environ.get('PINECONE_API_KEY', '...')\n",
    "# PINECONE_API_ENV = os.environ.get('PINECONE_API_ENV', '...')"
   ]
  },
  {
   "cell_type": "markdown",
   "source": [],
   "metadata": {
    "collapsed": false
   }
  },
  {
   "cell_type": "code",
   "execution_count": 54,
   "id": "4e0d1c6a",
   "metadata": {
    "ExecuteTime": {
     "end_time": "2023-07-12T10:34:32.714760Z",
     "start_time": "2023-07-12T10:34:32.693975Z"
    }
   },
   "outputs": [],
   "source": [
    "# create embeddings\n",
    "embeddings = OpenAIEmbeddings(openai_api_key=OPENAI_API_KEY)"
   ]
  },
  {
   "cell_type": "markdown",
   "source": [
    "### Create a Pinecone index and add your documents to it\n",
    "\n",
    "Here we create a Pinecone index and add our documents to it. We will then use the Pinecone library to query our index and get back the most similar documents to our query. I chose a dimension of 1536 and a metric of cosine. You can play around with these parameters to see what works best for your data.\n",
    "\n",
    "For the OpenAI text-embedding-ada-002 embeddings, the output dimension is 1536.\n",
    "\n",
    "\n",
    "The metric can be cosine, euclidean, or l2, depending on the type of data you have.\n",
    "\n",
    "#### Cosine Distance\n",
    "Description: Measures the cosine of the angle between two vectors, often used when working with normalized or convex sets.\n",
    "Use Cases: Document classification, semantic search, recommendation systems, and any other task involving high-dimensional and normalized data.\n",
    "\n",
    "#### Euclidean Distance (L2)\n",
    "Description: Calculates the straight-line distance between two vectors in a multidimensional space.\n",
    "Use Cases: Image recognition, speech recognition, handwriting analysis.\n",
    "\n",
    "#### Inner Product (Dot Product)\n",
    "Description: Computes the sum of the products of the vectors' corresponding components.\n",
    "Use Cases: Recommendation systems, collaborative filtering, matrix factorization.\n",
    "\n",
    "https://www.imaurer.com/which-vector-similarity-metric-should-i-use/\n",
    "\n",
    "In the free trial of pinecone you van only create one index. If you want to create more, you can upgrade to a paid plan."
   ],
   "metadata": {
    "collapsed": false
   }
  },
  {
   "cell_type": "code",
   "execution_count": null,
   "outputs": [],
   "source": [
    "# create a pinecone index\n",
    "pinecone.create_index(\"python-index\", dimension=1536, metric=\"cosine\")"
   ],
   "metadata": {
    "collapsed": false
   }
  },
  {
   "cell_type": "code",
   "execution_count": 56,
   "id": "0deb2f6a",
   "metadata": {
    "ExecuteTime": {
     "end_time": "2023-07-12T10:34:36.962251Z",
     "start_time": "2023-07-12T10:34:36.400703Z"
    }
   },
   "outputs": [],
   "source": [
    "# initialize pinecone\n",
    "pinecone.init(\n",
    "    api_key=PINECONE_API_KEY,  # find at app.pinecone.io\n",
    "    environment=PINECONE_API_ENV  # next to api key in console\n",
    ")\n",
    "index_name = \"python-index\" # put in the name of your pinecone index here"
   ]
  },
  {
   "cell_type": "code",
   "execution_count": 57,
   "id": "388988ce",
   "metadata": {
    "ExecuteTime": {
     "end_time": "2023-07-12T10:34:43.715522Z",
     "start_time": "2023-07-12T10:34:38.079292Z"
    }
   },
   "outputs": [],
   "source": [
    "docsearch = Pinecone.from_texts([t.page_content for t in texts], embeddings, index_name=index_name)\n",
    "\n",
    "# if you already have an index, you can load it like this\n",
    "#docsearch = Pinecone.from_existing_index(index_name, embeddings)"
   ]
  },
  {
   "cell_type": "code",
   "execution_count": 58,
   "id": "34929595",
   "metadata": {
    "ExecuteTime": {
     "end_time": "2023-07-12T10:34:45.388534Z",
     "start_time": "2023-07-12T10:34:44.963064Z"
    }
   },
   "outputs": [],
   "source": [
    "query = \"Who was Von Clausewitz?\"\n",
    "docs = docsearch.similarity_search(query)"
   ]
  },
  {
   "cell_type": "markdown",
   "source": [
    "the function of similarity_search is defined as follows:\n",
    "def similarity_search(self,\n",
    "                      query: str,\n",
    "                      k: int = 4,\n",
    "                      filter: dict | None = None,\n",
    "                      namespace: str | None = None,\n",
    "                      **kwargs: Any) -> list[Document]\n",
    "\n",
    "The Query is the text that you want to search for. The k is the number of documents that you want to return. The filter is a dictionary of filters that you can use to filter your results. The namespace is the namespace of your index. The **kwargs are any other arguments that you want to pass to the pinecone library.\n",
    "\n",
    "By default, it will return the top 4 documents that are most similar to your query. You can change this by changing the k parameter.\n"
   ],
   "metadata": {
    "collapsed": false
   }
  },
  {
   "cell_type": "code",
   "execution_count": 59,
   "outputs": [
    {
     "data": {
      "text/plain": "[Document(page_content='9RQ\\x03&ODXVHZLW]  Historic perspectives can still be seen in business perspective today. Clausewitz his perspective seems timeless. He is in the same timeframe as Jomini. French was in a revolution; Eu was ruled by royal houses and the Napoleonic war was going on. When was 12 he joined the army and when he turned 21 he joined the military academy as a scholar. There he met Gerhard von Scharnhorst (lecturer) and Marie von Bruhl (married Clausewitz). The was a grave and was Clausewitz his ticket to the higher circles in Prussia. She played an important role in Clausewitz his career progress and development of perspective in strategy. Von Clausewitz served in an old-fashioned army, Clausewitz was captured by the French and Prussia was conquered. After the release Clausewitz joined the Russian army and fought Napoleon. They defeated Napoleon. Clausewitz tried to finish a book but died of Cholera. 7KH\\x03ERRN\\x03KDV\\x03WKH\\x03WLWOH\\x03µ¶RQ\\x03ZDU¶¶\\x11\\x03', metadata={}),\n Document(page_content='9RQ\\x03&ODXVHZLW]  Historic perspectives can still be seen in business perspective today. Clausewitz his perspective seems timeless. He is in the same timeframe as Jomini. French was in a revolution; Eu was ruled by royal houses and the Napoleonic war was going on. When was 12 he joined the army and when he turned 21 he joined the military academy as a scholar. There he met Gerhard von Scharnhorst (lecturer) and Marie von Bruhl (married Clausewitz). The was a grave and was Clausewitz his ticket to the higher circles in Prussia. She played an important role in Clausewitz his career progress and development of perspective in strategy. Von Clausewitz served in an old-fashioned army, Clausewitz was captured by the French and Prussia was conquered. After the release Clausewitz joined the Russian army and fought Napoleon. They defeated Napoleon. Clausewitz tried to finish a book but died of Cholera. 7KH\\x03ERRN\\x03KDV\\x03WKH\\x03WLWOH\\x03µ¶RQ\\x03ZDU¶¶\\x11\\x03 &ODXVHZLW]\\x03GHILQHV\\x03VWUDWHJ\\\\\\x03DV\\x03µ¶7KH\\x03XVH\\x03RI\\x03FRPEDW\\x0f\\x03RU\\x03WKH\\x03threat of combat, for the purpose of the ZDU\\x03LQ\\x03ZKLFK\\x03PDNHV\\x03LW\\x03WDNHV\\x03SODFH¶¶\\x11\\x03)ULFWLRQ\\x03\\x0bSDJH\\x03\\x1b\\x1a\\x0c\\x03is a concept of his perspective. Clausewitz states it as that everything in war is simple, but the simplest thing ios difficult. The difficulties in war are cumulate and in in producing a kind of friction. You can only experience friction unless you experienced a war. He describes friction as countless minor incidents which can lower the general level of performance. An example: You have a plan to attack something, but then you experience friction: little things go wrong and suddenly the roads are of terrible quality, they are worse then expected, or a supply that comes in late so soldiers are out of food and ammunition. Things that cant be foresee. This calls Clausewitz friction. If this is what you believe, what is the role of theory? Clausewitz thought that Theory should never be leading. Practice will always be turned out different,', metadata={}),\n Document(page_content='9RQ\\x03&ODXVHZLW]  Historic perspectives can still be seen in business perspective today. Clausewitz his perspective seems timeless. He is in the same timeframe as Jomini. French was in a revolution; Eu was ruled by royal houses and the Napoleonic war was going on. When was 12 he joined the army and when he turned 21 he joined the military academy as a scholar. There he met Gerhard von Scharnhorst (lecturer) and Marie von Bruhl (married Clausewitz). The was a grave and was Clausewitz his ticket to the higher circles in Prussia. She played an important role in Clausewitz his career progress and development of perspective in strategy. Von Clausewitz served in an old-fashioned army, Clausewitz was captured by the French and Prussia was conquered. After the release Clausewitz joined the Russian army and fought Napoleon. They defeated Napoleon. Clausewitz tried to finish a book but died of Cholera. 7KH\\x03ERRN\\x03KDV\\x03WKH\\x03WLWOH\\x03µ¶RQ\\x03ZDU¶¶\\x11\\x03 &ODXVHZLW]\\x03GHILQHV\\x03VWUDWHJ\\\\\\x03DV\\x03µ¶7KH\\x03XVH\\x03RI\\x03FRPEDW\\x0f\\x03RU\\x03WKH\\x03threat of combat, for the purpose of the ZDU\\x03LQ\\x03ZKLFK\\x03PDNHV\\x03LW\\x03WDNHV\\x03SODFH¶¶\\x11\\x03)ULFWLRQ\\x03\\x0bSDJH\\x03\\x1b\\x1a\\x0c\\x03is a concept of his perspective. Clausewitz states it as that everything in war is simple, but the simplest thing ios difficult. The difficulties in war are cumulate and in in producing a kind of friction. You can only experience friction unless you experienced a war. He describes friction as countless minor incidents which can lower the general level of performance. An example: You have a plan to attack something, but then you experience friction: little things go wrong and suddenly the roads are of terrible quality, they are worse then expected, or a supply that comes in late so soldiers are out of food and ammunition. Things that cant be foresee. This calls Clausewitz friction. If this is what you believe, what is the role of theory? Clausewitz thought that Theory should never be leading. Practice will always be turned out different,', metadata={}),\n Document(page_content='DFFRUGLQJ\\x03WR\\x03&ODXVHZLW]\\x03IULFWLRQ\\x03RQO\\\\\\x03RFFXUV\\x03LQ\\x03ZDUV««\\x11\\x11\\x11\\x03\\x03 Another important aspect in his perspective is the trinity of war. Described on page 87, it consists of 3 parts. War is the interplay of three concepts. 1: Primordial violence, hatred & enmity (emotional part). 2nd: play of chance and probability (chance part. 3th: element of subordination, as an instrument of policy, which makes it subject of reason (reason).  Von Clausewitz tries to describe was as an interplay between those 3 concepts. Through his book all concepts can be fitted in to this trinity, it is the basis of his perspective. The fist relevant strategic perspective is intuition. When you interview business owners you will learn that they do business on intuition. This is linked to Clausewitz since Clausewitz told WKDW\\x03WKHRU\\\\\\x03QHYHU\\x03VKRXOG\\x03EH\\x03OHDGLQJ\\x11\\x03<RX\\x03GRQ¶W\\x03KDYH\\x03DOO\\x03WKH\\x03LQIRUPDWLRQ\\x03\\x0bGHVFULEHG\\x03DV\\x03IRJ\\x03RI\\x03war). Is this all an argument to just use your intuition? Another contemporary topic is chain of command. In some companies we see that there is a lot of hierarchy and everyone has to ask WKH\\x03WRS\\x03PDQDJHU\\x03IRU\\x03GHFLVLRQ\\x11\\x03%XW\\x03ZKHQ\\x03WKLQJV\\x03GRQ¶W\\x03JR\\x03DV\\x03SODQQHG\\x0f\\x03Ze see that this communication line gets flooded, and nobody know that to do. When this line gets flooded the LQIRUPDWLRQ\\x03ZRQW\\x03UHDFK\\x03HYHU\\\\RQH\\x03DQG\\x03WKLQJV\\x03FRPH\\x03WR\\x03D\\x03VWDQGVWLOO\\x11\\x036RPH\\x03RUJDQL]DWLRQV\\x03GRQ¶W\\x03want a structure like this, they are giving all workers more responsibility, they give them more decision power. This can be linked to von Clausewitz. Clausewitz is still a source of inspiration for quite some people, some companies struggle with uncertainty of the environment. What should we do if something goes wrong? Scenario planning? How to deal with uncertainty.', metadata={})]"
     },
     "execution_count": 59,
     "metadata": {},
     "output_type": "execute_result"
    }
   ],
   "source": [
    "docs"
   ],
   "metadata": {
    "collapsed": false,
    "ExecuteTime": {
     "end_time": "2023-07-12T10:34:46.059005Z",
     "start_time": "2023-07-12T10:34:46.056233Z"
    }
   }
  },
  {
   "cell_type": "code",
   "execution_count": 60,
   "id": "4e0f5b45",
   "metadata": {
    "ExecuteTime": {
     "end_time": "2023-07-12T10:34:47.953804Z",
     "start_time": "2023-07-12T10:34:47.947346Z"
    }
   },
   "outputs": [
    {
     "name": "stdout",
     "output_type": "stream",
     "text": [
      "9RQ\u0003&ODXVHZLW]  Historic perspectives can still be seen in business perspective today. Clausewitz his perspective seems timeless. He is in the same timeframe as Jomini. French was in a revolution; Eu was ruled by royal houses and the Napoleonic war was going on. When was 12 he joined the army and when he turned 21 he joined the military academy as a scholar. There he met Gerhard von Scharnhorst (lecturer) and Marie von Bruhl (married Clausewitz).\n"
     ]
    }
   ],
   "source": [
    "# Here's an example of the first document that was returned\n",
    "print(docs[0].page_content[:450])"
   ]
  },
  {
   "cell_type": "markdown",
   "id": "3c35dcd9",
   "metadata": {
    "ExecuteTime": {
     "end_time": "2023-07-11T20:23:44.812819Z",
     "start_time": "2023-07-11T20:23:44.807162Z"
    }
   },
   "source": [
    "### Query those docs to get your answer back\n",
    "\n",
    "Here we will use the langchain library to create a question answering chain. We will then use the chain to query our documents and get back the answer to our question.\n",
    "\n",
    "If you want to know more about how to use the question answering chain, I wrote a Medium article about it here: https://medium.com/@rubentak/langchain-using-different-langchain-chains-to-write-a-new-episode-for-the-office-us-7c45d869d895"
   ],
   "outputs": [],
   "execution_count": 173
  },
  {
   "cell_type": "code",
   "execution_count": 61,
   "id": "f051337b",
   "metadata": {
    "ExecuteTime": {
     "end_time": "2023-07-12T10:34:50.299435Z",
     "start_time": "2023-07-12T10:34:50.297828Z"
    }
   },
   "outputs": [],
   "source": [
    "from langchain.llms import OpenAI\n",
    "from langchain.chains.question_answering import load_qa_chain"
   ]
  },
  {
   "cell_type": "code",
   "execution_count": 62,
   "id": "6b9b1c03",
   "metadata": {
    "ExecuteTime": {
     "end_time": "2023-07-12T10:34:51.108722Z",
     "start_time": "2023-07-12T10:34:51.104841Z"
    }
   },
   "outputs": [],
   "source": [
    "llm = OpenAI(temperature=0, openai_api_key=OPENAI_API_KEY)\n",
    "chain = load_qa_chain(llm, chain_type=\"stuff\")"
   ]
  },
  {
   "cell_type": "code",
   "execution_count": 63,
   "id": "f67ea7c2",
   "metadata": {
    "ExecuteTime": {
     "end_time": "2023-07-12T10:34:52.300794Z",
     "start_time": "2023-07-12T10:34:51.684637Z"
    }
   },
   "outputs": [],
   "source": [
    "query = \"Who was Von Clausewitz?\"\n",
    "docs = docsearch.similarity_search(query)"
   ]
  },
  {
   "cell_type": "code",
   "execution_count": 64,
   "id": "3dfd2b7d",
   "metadata": {
    "ExecuteTime": {
     "end_time": "2023-07-12T10:34:56.392959Z",
     "start_time": "2023-07-12T10:34:53.304705Z"
    }
   },
   "outputs": [
    {
     "data": {
      "text/plain": "' Von Clausewitz was a Prussian military theorist and soldier who lived in the same timeframe as Jomini. He joined the army at age 12 and the military academy as a scholar at age 21. He was married to Marie von Bruhl and served in an old-fashioned army. He was captured by the French and Prussia was conquered. After his release, he joined the Russian army and fought Napoleon. He tried to finish a book but died of Cholera.'"
     },
     "execution_count": 64,
     "metadata": {},
     "output_type": "execute_result"
    }
   ],
   "source": [
    "chain.run(input_documents=docs, question=query)"
   ]
  },
  {
   "cell_type": "code",
   "execution_count": 65,
   "outputs": [
    {
     "data": {
      "text/plain": "[Document(page_content='9RQ\\x03&ODXVHZLW]  Historic perspectives can still be seen in business perspective today. Clausewitz his perspective seems timeless. He is in the same timeframe as Jomini. French was in a revolution; Eu was ruled by royal houses and the Napoleonic war was going on. When was 12 he joined the army and when he turned 21 he joined the military academy as a scholar. There he met Gerhard von Scharnhorst (lecturer) and Marie von Bruhl (married Clausewitz). The was a grave and was Clausewitz his ticket to the higher circles in Prussia. She played an important role in Clausewitz his career progress and development of perspective in strategy. Von Clausewitz served in an old-fashioned army, Clausewitz was captured by the French and Prussia was conquered. After the release Clausewitz joined the Russian army and fought Napoleon. They defeated Napoleon. Clausewitz tried to finish a book but died of Cholera. 7KH\\x03ERRN\\x03KDV\\x03WKH\\x03WLWOH\\x03µ¶RQ\\x03ZDU¶¶\\x11\\x03', metadata={}),\n Document(page_content='9RQ\\x03&ODXVHZLW]  Historic perspectives can still be seen in business perspective today. Clausewitz his perspective seems timeless. He is in the same timeframe as Jomini. French was in a revolution; Eu was ruled by royal houses and the Napoleonic war was going on. When was 12 he joined the army and when he turned 21 he joined the military academy as a scholar. There he met Gerhard von Scharnhorst (lecturer) and Marie von Bruhl (married Clausewitz). The was a grave and was Clausewitz his ticket to the higher circles in Prussia. She played an important role in Clausewitz his career progress and development of perspective in strategy. Von Clausewitz served in an old-fashioned army, Clausewitz was captured by the French and Prussia was conquered. After the release Clausewitz joined the Russian army and fought Napoleon. They defeated Napoleon. Clausewitz tried to finish a book but died of Cholera. 7KH\\x03ERRN\\x03KDV\\x03WKH\\x03WLWOH\\x03µ¶RQ\\x03ZDU¶¶\\x11\\x03 &ODXVHZLW]\\x03GHILQHV\\x03VWUDWHJ\\\\\\x03DV\\x03µ¶7KH\\x03XVH\\x03RI\\x03FRPEDW\\x0f\\x03RU\\x03WKH\\x03threat of combat, for the purpose of the ZDU\\x03LQ\\x03ZKLFK\\x03PDNHV\\x03LW\\x03WDNHV\\x03SODFH¶¶\\x11\\x03)ULFWLRQ\\x03\\x0bSDJH\\x03\\x1b\\x1a\\x0c\\x03is a concept of his perspective. Clausewitz states it as that everything in war is simple, but the simplest thing ios difficult. The difficulties in war are cumulate and in in producing a kind of friction. You can only experience friction unless you experienced a war. He describes friction as countless minor incidents which can lower the general level of performance. An example: You have a plan to attack something, but then you experience friction: little things go wrong and suddenly the roads are of terrible quality, they are worse then expected, or a supply that comes in late so soldiers are out of food and ammunition. Things that cant be foresee. This calls Clausewitz friction. If this is what you believe, what is the role of theory? Clausewitz thought that Theory should never be leading. Practice will always be turned out different,', metadata={}),\n Document(page_content='9RQ\\x03&ODXVHZLW]  Historic perspectives can still be seen in business perspective today. Clausewitz his perspective seems timeless. He is in the same timeframe as Jomini. French was in a revolution; Eu was ruled by royal houses and the Napoleonic war was going on. When was 12 he joined the army and when he turned 21 he joined the military academy as a scholar. There he met Gerhard von Scharnhorst (lecturer) and Marie von Bruhl (married Clausewitz). The was a grave and was Clausewitz his ticket to the higher circles in Prussia. She played an important role in Clausewitz his career progress and development of perspective in strategy. Von Clausewitz served in an old-fashioned army, Clausewitz was captured by the French and Prussia was conquered. After the release Clausewitz joined the Russian army and fought Napoleon. They defeated Napoleon. Clausewitz tried to finish a book but died of Cholera. 7KH\\x03ERRN\\x03KDV\\x03WKH\\x03WLWOH\\x03µ¶RQ\\x03ZDU¶¶\\x11\\x03 &ODXVHZLW]\\x03GHILQHV\\x03VWUDWHJ\\\\\\x03DV\\x03µ¶7KH\\x03XVH\\x03RI\\x03FRPEDW\\x0f\\x03RU\\x03WKH\\x03threat of combat, for the purpose of the ZDU\\x03LQ\\x03ZKLFK\\x03PDNHV\\x03LW\\x03WDNHV\\x03SODFH¶¶\\x11\\x03)ULFWLRQ\\x03\\x0bSDJH\\x03\\x1b\\x1a\\x0c\\x03is a concept of his perspective. Clausewitz states it as that everything in war is simple, but the simplest thing ios difficult. The difficulties in war are cumulate and in in producing a kind of friction. You can only experience friction unless you experienced a war. He describes friction as countless minor incidents which can lower the general level of performance. An example: You have a plan to attack something, but then you experience friction: little things go wrong and suddenly the roads are of terrible quality, they are worse then expected, or a supply that comes in late so soldiers are out of food and ammunition. Things that cant be foresee. This calls Clausewitz friction. If this is what you believe, what is the role of theory? Clausewitz thought that Theory should never be leading. Practice will always be turned out different,', metadata={}),\n Document(page_content='DFFRUGLQJ\\x03WR\\x03&ODXVHZLW]\\x03IULFWLRQ\\x03RQO\\\\\\x03RFFXUV\\x03LQ\\x03ZDUV««\\x11\\x11\\x11\\x03\\x03 Another important aspect in his perspective is the trinity of war. Described on page 87, it consists of 3 parts. War is the interplay of three concepts. 1: Primordial violence, hatred & enmity (emotional part). 2nd: play of chance and probability (chance part. 3th: element of subordination, as an instrument of policy, which makes it subject of reason (reason).  Von Clausewitz tries to describe was as an interplay between those 3 concepts. Through his book all concepts can be fitted in to this trinity, it is the basis of his perspective. The fist relevant strategic perspective is intuition. When you interview business owners you will learn that they do business on intuition. This is linked to Clausewitz since Clausewitz told WKDW\\x03WKHRU\\\\\\x03QHYHU\\x03VKRXOG\\x03EH\\x03OHDGLQJ\\x11\\x03<RX\\x03GRQ¶W\\x03KDYH\\x03DOO\\x03WKH\\x03LQIRUPDWLRQ\\x03\\x0bGHVFULEHG\\x03DV\\x03IRJ\\x03RI\\x03war). Is this all an argument to just use your intuition? Another contemporary topic is chain of command. In some companies we see that there is a lot of hierarchy and everyone has to ask WKH\\x03WRS\\x03PDQDJHU\\x03IRU\\x03GHFLVLRQ\\x11\\x03%XW\\x03ZKHQ\\x03WKLQJV\\x03GRQ¶W\\x03JR\\x03DV\\x03SODQQHG\\x0f\\x03Ze see that this communication line gets flooded, and nobody know that to do. When this line gets flooded the LQIRUPDWLRQ\\x03ZRQW\\x03UHDFK\\x03HYHU\\\\RQH\\x03DQG\\x03WKLQJV\\x03FRPH\\x03WR\\x03D\\x03VWDQGVWLOO\\x11\\x036RPH\\x03RUJDQL]DWLRQV\\x03GRQ¶W\\x03want a structure like this, they are giving all workers more responsibility, they give them more decision power. This can be linked to von Clausewitz. Clausewitz is still a source of inspiration for quite some people, some companies struggle with uncertainty of the environment. What should we do if something goes wrong? Scenario planning? How to deal with uncertainty.', metadata={})]"
     },
     "execution_count": 65,
     "metadata": {},
     "output_type": "execute_result"
    }
   ],
   "source": [
    "docs"
   ],
   "metadata": {
    "collapsed": false,
    "ExecuteTime": {
     "end_time": "2023-07-12T10:35:02.053377Z",
     "start_time": "2023-07-12T10:35:02.046218Z"
    }
   }
  },
  {
   "cell_type": "code",
   "execution_count": null,
   "outputs": [],
   "source": [],
   "metadata": {
    "collapsed": false
   }
  }
 ],
 "metadata": {
  "kernelspec": {
   "display_name": "Python 3 (ipykernel)",
   "language": "python",
   "name": "python3"
  },
  "language_info": {
   "codemirror_mode": {
    "name": "ipython",
    "version": 3
   },
   "file_extension": ".py",
   "mimetype": "text/x-python",
   "name": "python",
   "nbconvert_exporter": "python",
   "pygments_lexer": "ipython3",
   "version": "3.9.13"
  }
 },
 "nbformat": 4,
 "nbformat_minor": 5
}
