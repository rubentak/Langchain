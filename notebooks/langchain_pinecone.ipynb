{
 "cells": [
  {
   "cell_type": "markdown",
   "source": [
    "# Pinecone + Langchain Demo\n",
    "\n",
    "In this notebook i will show you how to easily create a semantic search engine for your documents using Pinecone and Langchain. The goal is to be able to search through your documents and find the most relevant ones to your query. We will also be able to ask questions about the documents and get answers back.\n",
    "\n",
    "[Pinecone signup](https://www.pinecone.io/)\n",
    "After logging in you can see your porjects, indexes and collections\n",
    "\n",
    "\n",
    "[Pinecone documentation](https://docs.pinecone.io/docs/python-client)\n",
    "\n",
    "[Pinecone Langchain documentation](https://www.pinecone.io/learn/series/langchain/langchain-intro/)\n",
    "\n",
    "[Langchain documentation](https://python.langchain.com/docs/get_started/introduction.html)\n"
   ],
   "metadata": {
    "collapsed": false
   }
  },
  {
   "cell_type": "markdown",
   "source": [
    "### Install the packages"
   ],
   "metadata": {
    "collapsed": false
   }
  },
  {
   "cell_type": "code",
   "execution_count": 74,
   "outputs": [],
   "source": [
    "#!pip install langchain --upgrade\n",
    "#!pip install pypdf"
   ],
   "metadata": {
    "collapsed": false,
    "ExecuteTime": {
     "end_time": "2023-07-15T14:37:31.981776Z",
     "start_time": "2023-07-15T14:37:31.976404Z"
    }
   }
  },
  {
   "cell_type": "code",
   "execution_count": 75,
   "id": "2d3e92ed",
   "metadata": {
    "ExecuteTime": {
     "end_time": "2023-07-15T14:37:32.320468Z",
     "start_time": "2023-07-15T14:37:32.315132Z"
    }
   },
   "outputs": [],
   "source": [
    "# PDF Loaders. If unstructured gives you a hard time, try PyPDFLoader\n",
    "from langchain.document_loaders import UnstructuredPDFLoader, OnlinePDFLoader, PyPDFLoader\n",
    "from langchain.text_splitter import RecursiveCharacterTextSplitter\n",
    "import os"
   ]
  },
  {
   "cell_type": "markdown",
   "id": "5166d759",
   "metadata": {
    "ExecuteTime": {
     "end_time": "2023-07-11T20:38:08.852519Z",
     "start_time": "2023-07-11T20:38:08.848491Z"
    }
   },
   "source": [
    "### Load your data\n",
    "\n",
    "The PDF file that I will use is a summary of one of my courses on strategy that i had in my bacholar.\n",
    "\n",
    "The PDF discusses various perspectives in the field of strategy, including the ideas of Clausewitz, Jomini, Marx, Tolstoy, Weber, Taylor, Follett, Rockefeller, Sloan, Ansoff, and game theory. It highlights the relevance of these perspectives in today's business environment and their impact on strategic thinking. The passage also mentions the different schools of thought in strategy, including the prescriptive and descriptive schools, and raises questions about their relationship to each other in the strategic process. Overall, it provides a comprehensive overview of different strategic perspectives and their implications."
   ],
   "outputs": [],
   "execution_count": 210
  },
  {
   "cell_type": "code",
   "execution_count": 76,
   "outputs": [],
   "source": [
    "# create a loader\n",
    "loader = PyPDFLoader(\"../data/summary_strategy.pdf\")"
   ],
   "metadata": {
    "collapsed": false,
    "ExecuteTime": {
     "end_time": "2023-07-15T14:37:33.051666Z",
     "start_time": "2023-07-15T14:37:33.046956Z"
    }
   }
  },
  {
   "cell_type": "markdown",
   "source": [
    "### Other options for loaders"
   ],
   "metadata": {
    "collapsed": false
   }
  },
  {
   "cell_type": "code",
   "execution_count": 77,
   "outputs": [],
   "source": [
    "# loader = UnstructuredPDFLoader(\"../data/summary_strategy.pdf\")\n",
    "# loader = OnlinePDFLoader(\"...\")"
   ],
   "metadata": {
    "collapsed": false,
    "ExecuteTime": {
     "end_time": "2023-07-15T14:37:33.655630Z",
     "start_time": "2023-07-15T14:37:33.652399Z"
    }
   }
  },
  {
   "cell_type": "code",
   "execution_count": 78,
   "id": "bcdac23c",
   "metadata": {
    "ExecuteTime": {
     "end_time": "2023-07-15T14:37:34.295917Z",
     "start_time": "2023-07-15T14:37:34.040125Z"
    }
   },
   "outputs": [],
   "source": [
    "# load your data\n",
    "data = loader.load()"
   ]
  },
  {
   "cell_type": "markdown",
   "source": [
    "Note: If you're using PyPDFLoader, the text will be split by page for you already"
   ],
   "metadata": {
    "collapsed": false
   }
  },
  {
   "cell_type": "code",
   "execution_count": 79,
   "id": "b4fd7c9e",
   "metadata": {
    "ExecuteTime": {
     "end_time": "2023-07-15T14:37:34.987030Z",
     "start_time": "2023-07-15T14:37:34.981646Z"
    }
   },
   "outputs": [
    {
     "name": "stdout",
     "output_type": "stream",
     "text": [
      "You have 18 document(s) in your data\n",
      "There are 3659 characters in your document\n"
     ]
    }
   ],
   "source": [
    "print (f'You have {len(data)} document(s) in your data')\n",
    "print (f'There are {len(data[0].page_content)} characters in your document')"
   ]
  },
  {
   "cell_type": "markdown",
   "id": "8af9b604",
   "metadata": {
    "ExecuteTime": {
     "end_time": "2023-07-11T20:38:12.194260Z",
     "start_time": "2023-07-11T20:38:12.191771Z"
    }
   },
   "source": [
    "### Split your data up into smaller documents with Chunks\n",
    "\n",
    "The chunksize should be chosen according to the length of your documents. If you have very long documents, you should choose a smaller chunksize. If you have very short documents, you should choose a smaller chunksize.\n",
    "\n",
    "The chunk overlap is the number of characters that will be shared between each chunk. This is useful if you want to make sure that your chunks are not too small.\n",
    "\n",
    "Play around with these parameters to see what works best for your data.\n",
    "\n",
    "Note: If you're using PyPDFLoader then we'll be splitting for the 2nd time."
   ],
   "outputs": [],
   "execution_count": 213
  },
  {
   "cell_type": "code",
   "execution_count": 80,
   "id": "fb3c6f02",
   "metadata": {
    "ExecuteTime": {
     "end_time": "2023-07-15T14:37:35.803893Z",
     "start_time": "2023-07-15T14:37:35.801136Z"
    }
   },
   "outputs": [],
   "source": [
    "text_splitter = RecursiveCharacterTextSplitter(chunk_size=1000, chunk_overlap=0)\n",
    "texts = text_splitter.split_documents(data)"
   ]
  },
  {
   "cell_type": "code",
   "execution_count": 81,
   "id": "879873a4",
   "metadata": {
    "ExecuteTime": {
     "end_time": "2023-07-15T14:37:36.304731Z",
     "start_time": "2023-07-15T14:37:36.295954Z"
    }
   },
   "outputs": [
    {
     "name": "stdout",
     "output_type": "stream",
     "text": [
      "Now you have 41 documents\n"
     ]
    }
   ],
   "source": [
    "print (f'Now you have {len(texts)} documents')"
   ]
  },
  {
   "cell_type": "markdown",
   "id": "838b2843",
   "metadata": {
    "ExecuteTime": {
     "end_time": "2023-07-11T20:38:19.825374Z",
     "start_time": "2023-07-11T20:38:19.820981Z"
    }
   },
   "source": [
    "### Create embeddings of your documents\n",
    "\n",
    "Here we import the LangChain and Pinecone libraries. We will use the OpenAIEmbeddings class to create embeddings of our documents. We will then use the Pinecone library to create a Pinecone index and add our documents to it. Finally, we will use the Pinecone library to query our index and get back the most similar documents to our query."
   ],
   "outputs": [],
   "execution_count": 215
  },
  {
   "cell_type": "code",
   "execution_count": 121,
   "outputs": [],
   "source": [
    "# import libraries\n",
    "from langchain.vectorstores import  Pinecone\n",
    "from langchain.embeddings.openai import OpenAIEmbeddings\n",
    "import pinecone"
   ],
   "metadata": {
    "collapsed": false,
    "ExecuteTime": {
     "end_time": "2023-07-16T21:39:05.951908Z",
     "start_time": "2023-07-16T21:39:05.949818Z"
    }
   }
  },
  {
   "cell_type": "markdown",
   "source": [
    "I chose to store my api keys in a file called credentials.py. You can also store them in your environment variables. You can find your api keys in the pinecone console."
   ],
   "metadata": {
    "collapsed": false
   }
  },
  {
   "cell_type": "code",
   "execution_count": 122,
   "outputs": [],
   "source": [
    "# import your API keys from a file called credentials.py\n",
    "from credentials import OPENAI_API_KEY, PINECONE_API_KEY, PINECONE_API_ENV"
   ],
   "metadata": {
    "collapsed": false,
    "ExecuteTime": {
     "end_time": "2023-07-16T21:39:09.408778Z",
     "start_time": "2023-07-16T21:39:09.405108Z"
    }
   }
  },
  {
   "cell_type": "code",
   "execution_count": 123,
   "id": "0e093ef3",
   "metadata": {
    "hide_input": false,
    "ExecuteTime": {
     "end_time": "2023-07-16T21:39:11.479373Z",
     "start_time": "2023-07-16T21:39:11.475703Z"
    }
   },
   "outputs": [],
   "source": [
    "# you can also store the keys in your environment variables\n",
    "# OPENAI_API_KEY = os.environ.get('OPENAI_API_KEY', 'sk-...')\n",
    "#\n",
    "# PINECONE_API_KEY = os.environ.get('PINECONE_API_KEY', '...')\n",
    "# PINECONE_API_ENV = os.environ.get('PINECONE_API_ENV', '...')"
   ]
  },
  {
   "cell_type": "markdown",
   "source": [
    "I will use the OpenAI embeddings model to create embeddings of my documents. You can use any of the models that are available in the OpenAIEmbeddings class. You can also use any of the other embeddings models that are available in the langchain library."
   ],
   "metadata": {
    "collapsed": false
   }
  },
  {
   "cell_type": "code",
   "execution_count": 85,
   "id": "4e0d1c6a",
   "metadata": {
    "ExecuteTime": {
     "end_time": "2023-07-15T14:37:46.360383Z",
     "start_time": "2023-07-15T14:37:46.357915Z"
    }
   },
   "outputs": [],
   "source": [
    "# create embeddings\n",
    "embeddings = OpenAIEmbeddings(openai_api_key=OPENAI_API_KEY)"
   ]
  },
  {
   "cell_type": "markdown",
   "source": [
    "## Create a Pinecone index and add your documents to it\n",
    "\n",
    "Here we create a Pinecone index and add our documents to it. We will then use the Pinecone library to query our index and get back the most similar documents to our query. I chose a dimension of 1536 and a metric of cosine. You can play around with these parameters to see what works best for your data.\n",
    "\n",
    "For the OpenAI text-embedding-ada-002 embeddings, the output dimension is 1536, hence the dimension parameter.\n",
    "\n",
    "\n",
    "The metric can be cosine, euclidean, or l2, depending on the type of data you have.\n",
    "\n",
    "#### Cosine Distance\n",
    "Description: Measures the cosine of the angle between two vectors, often used when working with normalized or convex sets.\n",
    "Use Cases: Document classification, semantic search, recommendation systems, and any other task involving high-dimensional and normalized data.\n",
    "\n",
    "#### Euclidean Distance (L2)\n",
    "Description: Calculates the straight-line distance between two vectors in a multidimensional space.\n",
    "Use Cases: Image recognition, speech recognition, handwriting analysis.\n",
    "\n",
    "#### Inner Product (Dot Product)\n",
    "Description: Computes the sum of the products of the vectors' corresponding components.\n",
    "Use Cases: Recommendation systems, collaborative filtering, matrix factorization.\n",
    "\n",
    "[source](https://www.imaurer.com/which-vector-similarity-metric-should-i-use/)\n",
    "\n",
    "In the free trial of pinecone you van only create one index. If you want to create more, you can upgrade to a paid plan."
   ],
   "metadata": {
    "collapsed": false
   }
  },
  {
   "cell_type": "code",
   "execution_count": null,
   "outputs": [],
   "source": [
    "# create a pinecone index\n",
    "pinecone.create_index(\"python-index\", dimension=1536, metric=\"cosine\")"
   ],
   "metadata": {
    "collapsed": false
   }
  },
  {
   "cell_type": "code",
   "execution_count": 86,
   "id": "0deb2f6a",
   "metadata": {
    "ExecuteTime": {
     "end_time": "2023-07-15T14:37:53.481093Z",
     "start_time": "2023-07-15T14:37:52.637558Z"
    }
   },
   "outputs": [],
   "source": [
    "# initialize pinecone\n",
    "pinecone.init(\n",
    "    api_key=PINECONE_API_KEY,  # find at app.pinecone.io\n",
    "    environment=PINECONE_API_ENV  # next to API key in console\n",
    ")\n",
    "\n",
    "index_name = \"python-index\" # put in the name of your pinecone index here"
   ]
  },
  {
   "cell_type": "code",
   "execution_count": null,
   "outputs": [],
   "source": [
    "docsearch = Pinecone.from_texts([t.page_content for t in texts], embeddings, index_name=index_name)"
   ],
   "metadata": {
    "collapsed": false
   }
  },
  {
   "cell_type": "code",
   "execution_count": null,
   "outputs": [],
   "source": [
    "# if you already have an index, you can load it like this\n",
    "#docsearch = Pinecone.from_existing_index(index_name, embeddings)"
   ],
   "metadata": {
    "collapsed": false
   }
  },
  {
   "cell_type": "code",
   "execution_count": 115,
   "id": "34929595",
   "metadata": {
    "ExecuteTime": {
     "end_time": "2023-07-15T15:32:31.030766Z",
     "start_time": "2023-07-15T15:32:29.390088Z"
    }
   },
   "outputs": [],
   "source": [
    "query = \"Who was Von Clausewitz?\"\n",
    "docs = docsearch.similarity_search(query)"
   ]
  },
  {
   "cell_type": "markdown",
   "source": [
    "the function of similarity_search is defined as follows:\n",
    "\n",
    "\n",
    "def similarity_search(\n",
    "    self,\n",
    "    query: str,\n",
    "    k: int = 4,\n",
    "    filter: dict | None = None,\n",
    "    namespace: str | None = None,\n",
    "    **kwargs: Any) -> list[Document]\n",
    "\n",
    "\n",
    "The Query is the text that you want to search for. The k is the number of documents that you want to return. The filter is a dictionary of filters that you can use to filter your results. The namespace is the namespace of your index. The **kwargs are any other arguments that you want to pass to the pinecone library.\n",
    "\n",
    "By default, it will return the top 4 documents that are most similar to your query. You can change this by changing the k parameter.\n"
   ],
   "metadata": {
    "collapsed": false
   }
  },
  {
   "cell_type": "code",
   "execution_count": 89,
   "outputs": [
    {
     "data": {
      "text/plain": "[Document(page_content='9RQ\\x03&ODXVHZLW]  Historic perspectives can still be seen in business perspective today. Clausewitz his perspective seems timeless. He is in the same timeframe as Jomini. French was in a revolution; Eu was ruled by royal houses and the Napoleonic war was going on. When was 12 he joined the army and when he turned 21 he joined the military academy as a scholar. There he met Gerhard von Scharnhorst (lecturer) and Marie von Bruhl (married Clausewitz). The was a grave and was Clausewitz his ticket to the higher circles in Prussia. She played an important role in Clausewitz his career progress and development of perspective in strategy. Von Clausewitz served in an old-fashioned army, Clausewitz was captured by the French and Prussia was conquered. After the release Clausewitz joined the Russian army and fought Napoleon. They defeated Napoleon. Clausewitz tried to finish a book but died of Cholera. 7KH\\x03ERRN\\x03KDV\\x03WKH\\x03WLWOH\\x03µ¶RQ\\x03ZDU¶¶\\x11\\x03', metadata={}),\n Document(page_content='9RQ\\x03&ODXVHZLW]  Historic perspectives can still be seen in business perspective today. Clausewitz his perspective seems timeless. He is in the same timeframe as Jomini. French was in a revolution; Eu was ruled by royal houses and the Napoleonic war was going on. When was 12 he joined the army and when he turned 21 he joined the military academy as a scholar. There he met Gerhard von Scharnhorst (lecturer) and Marie von Bruhl (married Clausewitz). The was a grave and was Clausewitz his ticket to the higher circles in Prussia. She played an important role in Clausewitz his career progress and development of perspective in strategy. Von Clausewitz served in an old-fashioned army, Clausewitz was captured by the French and Prussia was conquered. After the release Clausewitz joined the Russian army and fought Napoleon. They defeated Napoleon. Clausewitz tried to finish a book but died of Cholera. 7KH\\x03ERRN\\x03KDV\\x03WKH\\x03WLWOH\\x03µ¶RQ\\x03ZDU¶¶\\x11\\x03', metadata={}),\n Document(page_content='9RQ\\x03&ODXVHZLW]  Historic perspectives can still be seen in business perspective today. Clausewitz his perspective seems timeless. He is in the same timeframe as Jomini. French was in a revolution; Eu was ruled by royal houses and the Napoleonic war was going on. When was 12 he joined the army and when he turned 21 he joined the military academy as a scholar. There he met Gerhard von Scharnhorst (lecturer) and Marie von Bruhl (married Clausewitz). The was a grave and was Clausewitz his ticket to the higher circles in Prussia. She played an important role in Clausewitz his career progress and development of perspective in strategy. Von Clausewitz served in an old-fashioned army, Clausewitz was captured by the French and Prussia was conquered. After the release Clausewitz joined the Russian army and fought Napoleon. They defeated Napoleon. Clausewitz tried to finish a book but died of Cholera. 7KH\\x03ERRN\\x03KDV\\x03WKH\\x03WLWOH\\x03µ¶RQ\\x03ZDU¶¶\\x11\\x03 &ODXVHZLW]\\x03GHILQHV\\x03VWUDWHJ\\\\\\x03DV\\x03µ¶7KH\\x03XVH\\x03RI\\x03FRPEDW\\x0f\\x03RU\\x03WKH\\x03threat of combat, for the purpose of the ZDU\\x03LQ\\x03ZKLFK\\x03PDNHV\\x03LW\\x03WDNHV\\x03SODFH¶¶\\x11\\x03)ULFWLRQ\\x03\\x0bSDJH\\x03\\x1b\\x1a\\x0c\\x03is a concept of his perspective. Clausewitz states it as that everything in war is simple, but the simplest thing ios difficult. The difficulties in war are cumulate and in in producing a kind of friction. You can only experience friction unless you experienced a war. He describes friction as countless minor incidents which can lower the general level of performance. An example: You have a plan to attack something, but then you experience friction: little things go wrong and suddenly the roads are of terrible quality, they are worse then expected, or a supply that comes in late so soldiers are out of food and ammunition. Things that cant be foresee. This calls Clausewitz friction. If this is what you believe, what is the role of theory? Clausewitz thought that Theory should never be leading. Practice will always be turned out different,', metadata={}),\n Document(page_content='9RQ\\x03&ODXVHZLW]  Historic perspectives can still be seen in business perspective today. Clausewitz his perspective seems timeless. He is in the same timeframe as Jomini. French was in a revolution; Eu was ruled by royal houses and the Napoleonic war was going on. When was 12 he joined the army and when he turned 21 he joined the military academy as a scholar. There he met Gerhard von Scharnhorst (lecturer) and Marie von Bruhl (married Clausewitz). The was a grave and was Clausewitz his ticket to the higher circles in Prussia. She played an important role in Clausewitz his career progress and development of perspective in strategy. Von Clausewitz served in an old-fashioned army, Clausewitz was captured by the French and Prussia was conquered. After the release Clausewitz joined the Russian army and fought Napoleon. They defeated Napoleon. Clausewitz tried to finish a book but died of Cholera. 7KH\\x03ERRN\\x03KDV\\x03WKH\\x03WLWOH\\x03µ¶RQ\\x03ZDU¶¶\\x11\\x03 &ODXVHZLW]\\x03GHILQHV\\x03VWUDWHJ\\\\\\x03DV\\x03µ¶7KH\\x03XVH\\x03RI\\x03FRPEDW\\x0f\\x03RU\\x03WKH\\x03threat of combat, for the purpose of the ZDU\\x03LQ\\x03ZKLFK\\x03PDNHV\\x03LW\\x03WDNHV\\x03SODFH¶¶\\x11\\x03)ULFWLRQ\\x03\\x0bSDJH\\x03\\x1b\\x1a\\x0c\\x03is a concept of his perspective. Clausewitz states it as that everything in war is simple, but the simplest thing ios difficult. The difficulties in war are cumulate and in in producing a kind of friction. You can only experience friction unless you experienced a war. He describes friction as countless minor incidents which can lower the general level of performance. An example: You have a plan to attack something, but then you experience friction: little things go wrong and suddenly the roads are of terrible quality, they are worse then expected, or a supply that comes in late so soldiers are out of food and ammunition. Things that cant be foresee. This calls Clausewitz friction. If this is what you believe, what is the role of theory? Clausewitz thought that Theory should never be leading. Practice will always be turned out different,', metadata={})]"
     },
     "execution_count": 89,
     "metadata": {},
     "output_type": "execute_result"
    }
   ],
   "source": [
    "docs"
   ],
   "metadata": {
    "collapsed": false,
    "ExecuteTime": {
     "end_time": "2023-07-15T14:38:06.258476Z",
     "start_time": "2023-07-15T14:38:06.252699Z"
    }
   }
  },
  {
   "cell_type": "code",
   "execution_count": 90,
   "id": "4e0f5b45",
   "metadata": {
    "ExecuteTime": {
     "end_time": "2023-07-15T14:38:08.005124Z",
     "start_time": "2023-07-15T14:38:07.993020Z"
    }
   },
   "outputs": [
    {
     "name": "stdout",
     "output_type": "stream",
     "text": [
      "9RQ\u0003&ODXVHZLW]  Historic perspectives can still be seen in business perspective today. Clausewitz his perspective seems timeless. He is in the same timeframe as Jomini. French was in a revolution; Eu was ruled by royal houses and the Napoleonic war was going on. When was 12 he joined the army and when he turned 21 he joined the military academy as a scholar. There he met Gerhard von Scharnhorst (lecturer) and Marie von Bruhl (married Clausewitz).\n"
     ]
    }
   ],
   "source": [
    "# Here's an example of the first document that was returned\n",
    "print(docs[0].page_content[:450])"
   ]
  },
  {
   "cell_type": "markdown",
   "id": "3c35dcd9",
   "metadata": {
    "ExecuteTime": {
     "end_time": "2023-07-11T20:23:44.812819Z",
     "start_time": "2023-07-11T20:23:44.807162Z"
    }
   },
   "source": [
    "### Query those docs to get your answer back\n",
    "\n",
    "Here we will use the langchain library to create a question answering chain. We will then use the chain to query our documents and get back the answer to our question.\n",
    "\n",
    "If you want to know more about how to use the question answering chain, I wrote a Medium article about it here: https://medium.com/@rubentak/langchain-using-different-langchain-chains-to-write-a-new-episode-for-the-office-us-7c45d869d895"
   ],
   "outputs": [],
   "execution_count": 173
  },
  {
   "cell_type": "code",
   "execution_count": 117,
   "id": "f051337b",
   "metadata": {
    "ExecuteTime": {
     "end_time": "2023-07-15T15:49:47.786253Z",
     "start_time": "2023-07-15T15:49:47.782357Z"
    }
   },
   "outputs": [],
   "source": [
    "from langchain.chains.question_answering import load_qa_chain\n",
    "from langchain.llms import OpenAI\n",
    "from langchain.chat_models import ChatOpenAI"
   ]
  },
  {
   "cell_type": "markdown",
   "source": [
    "Use GPT-4 model to answer questions"
   ],
   "metadata": {
    "collapsed": false
   }
  },
  {
   "cell_type": "code",
   "execution_count": 118,
   "id": "6b9b1c03",
   "metadata": {
    "ExecuteTime": {
     "end_time": "2023-07-15T15:49:48.484598Z",
     "start_time": "2023-07-15T15:49:48.481346Z"
    }
   },
   "outputs": [],
   "source": [
    "llm = OpenAI(temperature=0, openai_api_key=OPENAI_API_KEY, model_name='gpt-4')\n",
    "chain = load_qa_chain(llm, chain_type=\"stuff\")"
   ]
  },
  {
   "cell_type": "code",
   "execution_count": 119,
   "id": "f67ea7c2",
   "metadata": {
    "ExecuteTime": {
     "end_time": "2023-07-15T15:49:51.947489Z",
     "start_time": "2023-07-15T15:49:50.105431Z"
    }
   },
   "outputs": [],
   "source": [
    "query = \"Who was Von Clausewitz?\"\n",
    "docs = docsearch.similarity_search(query)"
   ]
  },
  {
   "cell_type": "code",
   "execution_count": 120,
   "id": "3dfd2b7d",
   "metadata": {
    "ExecuteTime": {
     "end_time": "2023-07-15T15:50:03.469398Z",
     "start_time": "2023-07-15T15:49:53.052399Z"
    }
   },
   "outputs": [
    {
     "data": {
      "text/plain": "'Von Clausewitz was a military theorist who served in the Prussian and Russian armies. He joined the army at the age of 12 and later attended a military academy where he met influential figures such as Gerhard von Scharnhorst and Marie von Bruhl, the latter of whom he married. His wife played a significant role in his career progress and development of perspective in strategy. He was captured by the French during the Napoleonic war, and after his release, he joined the Russian army and fought against Napoleon. He attempted to finish a book titled \"On War\" but died of Cholera before he could complete it. His perspectives on war and strategy are still influential today.'"
     },
     "execution_count": 120,
     "metadata": {},
     "output_type": "execute_result"
    }
   ],
   "source": [
    "chain.run(input_documents=docs, question=query)"
   ]
  },
  {
   "cell_type": "code",
   "execution_count": 95,
   "outputs": [
    {
     "data": {
      "text/plain": "[Document(page_content='9RQ\\x03&ODXVHZLW]  Historic perspectives can still be seen in business perspective today. Clausewitz his perspective seems timeless. He is in the same timeframe as Jomini. French was in a revolution; Eu was ruled by royal houses and the Napoleonic war was going on. When was 12 he joined the army and when he turned 21 he joined the military academy as a scholar. There he met Gerhard von Scharnhorst (lecturer) and Marie von Bruhl (married Clausewitz). The was a grave and was Clausewitz his ticket to the higher circles in Prussia. She played an important role in Clausewitz his career progress and development of perspective in strategy. Von Clausewitz served in an old-fashioned army, Clausewitz was captured by the French and Prussia was conquered. After the release Clausewitz joined the Russian army and fought Napoleon. They defeated Napoleon. Clausewitz tried to finish a book but died of Cholera. 7KH\\x03ERRN\\x03KDV\\x03WKH\\x03WLWOH\\x03µ¶RQ\\x03ZDU¶¶\\x11\\x03', metadata={}),\n Document(page_content='9RQ\\x03&ODXVHZLW]  Historic perspectives can still be seen in business perspective today. Clausewitz his perspective seems timeless. He is in the same timeframe as Jomini. French was in a revolution; Eu was ruled by royal houses and the Napoleonic war was going on. When was 12 he joined the army and when he turned 21 he joined the military academy as a scholar. There he met Gerhard von Scharnhorst (lecturer) and Marie von Bruhl (married Clausewitz). The was a grave and was Clausewitz his ticket to the higher circles in Prussia. She played an important role in Clausewitz his career progress and development of perspective in strategy. Von Clausewitz served in an old-fashioned army, Clausewitz was captured by the French and Prussia was conquered. After the release Clausewitz joined the Russian army and fought Napoleon. They defeated Napoleon. Clausewitz tried to finish a book but died of Cholera. 7KH\\x03ERRN\\x03KDV\\x03WKH\\x03WLWOH\\x03µ¶RQ\\x03ZDU¶¶\\x11\\x03', metadata={}),\n Document(page_content='9RQ\\x03&ODXVHZLW]  Historic perspectives can still be seen in business perspective today. Clausewitz his perspective seems timeless. He is in the same timeframe as Jomini. French was in a revolution; Eu was ruled by royal houses and the Napoleonic war was going on. When was 12 he joined the army and when he turned 21 he joined the military academy as a scholar. There he met Gerhard von Scharnhorst (lecturer) and Marie von Bruhl (married Clausewitz). The was a grave and was Clausewitz his ticket to the higher circles in Prussia. She played an important role in Clausewitz his career progress and development of perspective in strategy. Von Clausewitz served in an old-fashioned army, Clausewitz was captured by the French and Prussia was conquered. After the release Clausewitz joined the Russian army and fought Napoleon. They defeated Napoleon. Clausewitz tried to finish a book but died of Cholera. 7KH\\x03ERRN\\x03KDV\\x03WKH\\x03WLWOH\\x03µ¶RQ\\x03ZDU¶¶\\x11\\x03 &ODXVHZLW]\\x03GHILQHV\\x03VWUDWHJ\\\\\\x03DV\\x03µ¶7KH\\x03XVH\\x03RI\\x03FRPEDW\\x0f\\x03RU\\x03WKH\\x03threat of combat, for the purpose of the ZDU\\x03LQ\\x03ZKLFK\\x03PDNHV\\x03LW\\x03WDNHV\\x03SODFH¶¶\\x11\\x03)ULFWLRQ\\x03\\x0bSDJH\\x03\\x1b\\x1a\\x0c\\x03is a concept of his perspective. Clausewitz states it as that everything in war is simple, but the simplest thing ios difficult. The difficulties in war are cumulate and in in producing a kind of friction. You can only experience friction unless you experienced a war. He describes friction as countless minor incidents which can lower the general level of performance. An example: You have a plan to attack something, but then you experience friction: little things go wrong and suddenly the roads are of terrible quality, they are worse then expected, or a supply that comes in late so soldiers are out of food and ammunition. Things that cant be foresee. This calls Clausewitz friction. If this is what you believe, what is the role of theory? Clausewitz thought that Theory should never be leading. Practice will always be turned out different,', metadata={}),\n Document(page_content='9RQ\\x03&ODXVHZLW]  Historic perspectives can still be seen in business perspective today. Clausewitz his perspective seems timeless. He is in the same timeframe as Jomini. French was in a revolution; Eu was ruled by royal houses and the Napoleonic war was going on. When was 12 he joined the army and when he turned 21 he joined the military academy as a scholar. There he met Gerhard von Scharnhorst (lecturer) and Marie von Bruhl (married Clausewitz). The was a grave and was Clausewitz his ticket to the higher circles in Prussia. She played an important role in Clausewitz his career progress and development of perspective in strategy. Von Clausewitz served in an old-fashioned army, Clausewitz was captured by the French and Prussia was conquered. After the release Clausewitz joined the Russian army and fought Napoleon. They defeated Napoleon. Clausewitz tried to finish a book but died of Cholera. 7KH\\x03ERRN\\x03KDV\\x03WKH\\x03WLWOH\\x03µ¶RQ\\x03ZDU¶¶\\x11\\x03 &ODXVHZLW]\\x03GHILQHV\\x03VWUDWHJ\\\\\\x03DV\\x03µ¶7KH\\x03XVH\\x03RI\\x03FRPEDW\\x0f\\x03RU\\x03WKH\\x03threat of combat, for the purpose of the ZDU\\x03LQ\\x03ZKLFK\\x03PDNHV\\x03LW\\x03WDNHV\\x03SODFH¶¶\\x11\\x03)ULFWLRQ\\x03\\x0bSDJH\\x03\\x1b\\x1a\\x0c\\x03is a concept of his perspective. Clausewitz states it as that everything in war is simple, but the simplest thing ios difficult. The difficulties in war are cumulate and in in producing a kind of friction. You can only experience friction unless you experienced a war. He describes friction as countless minor incidents which can lower the general level of performance. An example: You have a plan to attack something, but then you experience friction: little things go wrong and suddenly the roads are of terrible quality, they are worse then expected, or a supply that comes in late so soldiers are out of food and ammunition. Things that cant be foresee. This calls Clausewitz friction. If this is what you believe, what is the role of theory? Clausewitz thought that Theory should never be leading. Practice will always be turned out different,', metadata={})]"
     },
     "execution_count": 95,
     "metadata": {},
     "output_type": "execute_result"
    }
   ],
   "source": [
    "docs"
   ],
   "metadata": {
    "collapsed": false,
    "ExecuteTime": {
     "end_time": "2023-07-15T14:38:21.290333Z",
     "start_time": "2023-07-15T14:38:21.283490Z"
    }
   }
  },
  {
   "cell_type": "code",
   "execution_count": null,
   "outputs": [],
   "source": [
    "from langchain.document_loaders import PyPDFLoader\n",
    "from langchain.text_splitter import RecursiveCharacterTextSplitter\n",
    "from langchain.vectorstores import Pinecone\n",
    "from langchain.embeddings.openai import OpenAIEmbeddings\n",
    "from langchain.llms import OpenAI\n",
    "from langchain.chains.question_answering import load_qa_chain\n",
    "import pinecone\n",
    "from credentials import OPENAI_API_KEY, PINECONE_API_KEY, PINECONE_API_ENV"
   ],
   "metadata": {
    "collapsed": false
   }
  },
  {
   "cell_type": "code",
   "execution_count": 113,
   "outputs": [],
   "source": [
    "def create_qa_bot(prompt):\n",
    "    # Load the PDF data\n",
    "    loader = PyPDFLoader(\"../data/summary_strategy.pdf\")\n",
    "    data = loader.load()\n",
    "\n",
    "    # Split the data into smaller documents\n",
    "    text_splitter = RecursiveCharacterTextSplitter(chunk_size=1000, chunk_overlap=0)\n",
    "    texts = text_splitter.split_documents(data)\n",
    "\n",
    "    # Create embeddings\n",
    "    embeddings = OpenAIEmbeddings(openai_api_key=OPENAI_API_KEY)\n",
    "\n",
    "    # Create a Pinecone index and add the documents to it\n",
    "    #pinecone.create_index(\"python-index\", dimension=1536, metric=\"cosine\")\n",
    "    pinecone.init(api_key=PINECONE_API_KEY, environment=PINECONE_API_ENV)\n",
    "    index_name = \"python-index\"\n",
    "    docsearch = Pinecone.from_texts([t.page_content for t in texts], embeddings, index_name=index_name)\n",
    "\n",
    "    # Perform similarity search\n",
    "    docs = docsearch.similarity_search(prompt)\n",
    "\n",
    "    # Load the question answering chain\n",
    "    llm = OpenAI(temperature=0, openai_api_key=OPENAI_API_KEY)\n",
    "    chain = load_qa_chain(llm, chain_type=\"stuff\")\n",
    "\n",
    "    # Query the documents and get the answer\n",
    "    answer = chain.run(input_documents=docs, question=prompt)\n",
    "\n",
    "    return answer"
   ],
   "metadata": {
    "collapsed": false,
    "ExecuteTime": {
     "end_time": "2023-07-15T14:47:52.895033Z",
     "start_time": "2023-07-15T14:47:52.891904Z"
    }
   }
  },
  {
   "cell_type": "code",
   "execution_count": 114,
   "outputs": [
    {
     "name": "stdout",
     "output_type": "stream",
     "text": [
      " Von Clausewitz was a Prussian military theorist and soldier who served in the Prussian army and the Russian army during the Napoleonic Wars. He is best known for his book On War, which is still studied today for its insights into military strategy and tactics.\n"
     ]
    }
   ],
   "source": [
    "# Usage example\n",
    "prompt = \"Who was Von Clausewitz?\"\n",
    "answer = create_qa_bot(prompt)\n",
    "print(answer)"
   ],
   "metadata": {
    "collapsed": false,
    "ExecuteTime": {
     "end_time": "2023-07-15T14:48:03.232732Z",
     "start_time": "2023-07-15T14:47:53.439422Z"
    }
   }
  },
  {
   "cell_type": "code",
   "execution_count": null,
   "outputs": [],
   "source": [],
   "metadata": {
    "collapsed": false
   }
  }
 ],
 "metadata": {
  "kernelspec": {
   "display_name": "Python 3 (ipykernel)",
   "language": "python",
   "name": "python3"
  },
  "language_info": {
   "codemirror_mode": {
    "name": "ipython",
    "version": 3
   },
   "file_extension": ".py",
   "mimetype": "text/x-python",
   "name": "python",
   "nbconvert_exporter": "python",
   "pygments_lexer": "ipython3",
   "version": "3.9.13"
  }
 },
 "nbformat": 4,
 "nbformat_minor": 5
}
