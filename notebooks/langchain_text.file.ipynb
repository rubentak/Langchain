{
 "cells": [
  {
   "cell_type": "markdown",
   "source": [
    "# Using langchain to extract information of a textfile\n"
   ],
   "metadata": {
    "collapsed": false
   }
  },
  {
   "cell_type": "code",
   "execution_count": 4,
   "metadata": {
    "collapsed": true,
    "ExecuteTime": {
     "start_time": "2023-05-18T23:40:52.222937Z",
     "end_time": "2023-05-18T23:40:52.226215Z"
    }
   },
   "outputs": [],
   "source": [
    "# # import libraries\n",
    "import os\n",
    "from langchain.llms import OpenAI"
   ]
  },
  {
   "cell_type": "code",
   "execution_count": 6,
   "outputs": [],
   "source": [
    "#create a new openai api key\n",
    "os.environ[\"OPENAI_API_KEY\"] = \"sk-...\""
   ],
   "metadata": {
    "collapsed": false,
    "ExecuteTime": {
     "start_time": "2023-05-18T23:40:57.176589Z",
     "end_time": "2023-05-18T23:40:57.180805Z"
    }
   }
  },
  {
   "cell_type": "code",
   "execution_count": 7,
   "outputs": [],
   "source": [
    "# set up openai api key\n",
    "openai_api_key = os.environ.get('OPENAI_API_KEY')"
   ],
   "metadata": {
    "collapsed": false,
    "ExecuteTime": {
     "start_time": "2023-05-18T23:41:03.041527Z",
     "end_time": "2023-05-18T23:41:03.045767Z"
    }
   }
  },
  {
   "cell_type": "code",
   "execution_count": 22,
   "outputs": [],
   "source": [
    "from langchain.document_loaders import TextLoader\n",
    "loader = TextLoader('../data/notebook.txt')"
   ],
   "metadata": {
    "collapsed": false,
    "ExecuteTime": {
     "start_time": "2023-05-18T23:43:11.227909Z",
     "end_time": "2023-05-18T23:43:11.233222Z"
    }
   }
  },
  {
   "cell_type": "code",
   "execution_count": 23,
   "outputs": [],
   "source": [
    "# load the text\n",
    "with open('../data/notebook.txt') as f:\n",
    "    notebook = f.read()"
   ],
   "metadata": {
    "collapsed": false,
    "ExecuteTime": {
     "start_time": "2023-05-18T23:43:11.600125Z",
     "end_time": "2023-05-18T23:43:11.604337Z"
    }
   }
  },
  {
   "cell_type": "code",
   "execution_count": 24,
   "outputs": [],
   "source": [
    "# text split into chunks\n",
    "from langchain.text_splitter import CharacterTextSplitter\n",
    "text_splitter1 = CharacterTextSplitter(\n",
    "    separator = \"]\\n\",\n",
    "    chunk_size = 1000,\n",
    "    chunk_overlap  = 200,\n",
    "    length_function = len,\n",
    ")\n",
    "# text split 2\n",
    "text_splitter2 = CharacterTextSplitter(\n",
    "    separator = \"]\\n\",\n",
    "    chunk_size = 500,\n",
    "    chunk_overlap  = 100,\n",
    "    length_function = len,\n",
    ")\n",
    "# text split 3\n",
    "text_splitter3= CharacterTextSplitter(\n",
    "    separator = \"]\\n\",\n",
    "    chunk_size = 100,\n",
    "    chunk_overlap  = 20,\n",
    "    length_function = len,\n",
    ")"
   ],
   "metadata": {
    "collapsed": false,
    "ExecuteTime": {
     "start_time": "2023-05-18T23:43:11.963060Z",
     "end_time": "2023-05-18T23:43:11.966317Z"
    }
   }
  },
  {
   "cell_type": "code",
   "execution_count": 25,
   "outputs": [
    {
     "name": "stdout",
     "output_type": "stream",
     "text": [
      "page_content='[\\'# Getting started with Langchain\\\\n\\', \\'\\\\n\\', \\'In this tutorial, we will walk through the basics of using LangChain to create a simple AI chatbot that can answer questions using OpenAI and Serpapi.\\']\\n[\\'# import libraries\\\\n\\', \\'import os\\\\n\\', \\'from langchain.llms import OpenAI\\']\\n[\\'#create a new openai api key\\\\n\\', \\'#os.environ[\"OPENAI_API_KEY\"] = \"...\"\\']\\n[\\'# set up openai api key\\\\n\\', \"openai_api_key = os.environ.get(\\'OPENAI_API_KEY\\')\"]\\n[\\'### The temperature of a llm is a hyperparameter that controls the randomness of the output. It is a value between 0 and 1. A higher temperature will result in more random output. A lower temperature will result in more predictable output. For this tutorial, we will set the temperature to 0.9. You can play aroun with this yourself to see how it affects the output.\\']\\n[\\'# create a llm\\\\n\\', \\'llm = OpenAI(temperature = 0.9)\\']\\n[\\'text = \"What are 4 countries where they eat a lot of potatoes?\"\\\\n\\', \\'print(llm(text))\\'' metadata={}\n"
     ]
    }
   ],
   "source": [
    "texts = text_splitter1.create_documents([notebook])\n",
    "#texts2 = text_splitter2.create_documents([notebook])\n",
    "#texts3 = text_splitter3.create_documents([notebook])\n",
    "print(texts[0])"
   ],
   "metadata": {
    "collapsed": false,
    "ExecuteTime": {
     "start_time": "2023-05-18T23:43:12.525200Z",
     "end_time": "2023-05-18T23:43:12.531288Z"
    }
   }
  },
  {
   "cell_type": "code",
   "execution_count": 26,
   "outputs": [
    {
     "ename": "ModuleNotFoundError",
     "evalue": "No module named 'aleph_alpha'",
     "output_type": "error",
     "traceback": [
      "\u001B[0;31m---------------------------------------------------------------------------\u001B[0m",
      "\u001B[0;31mModuleNotFoundError\u001B[0m                       Traceback (most recent call last)",
      "Cell \u001B[0;32mIn[26], line 2\u001B[0m\n\u001B[1;32m      1\u001B[0m \u001B[38;5;66;03m# create embeddings\u001B[39;00m\n\u001B[0;32m----> 2\u001B[0m \u001B[38;5;28;01mfrom\u001B[39;00m \u001B[38;5;21;01maleph_alpha\u001B[39;00m \u001B[38;5;28;01mimport\u001B[39;00m AlephAlphaSymmetricSemanticEmbedding\n",
      "\u001B[0;31mModuleNotFoundError\u001B[0m: No module named 'aleph_alpha'"
     ]
    }
   ],
   "source": [
    "# create embeddings\n",
    "from aleph_alpha import AlephAlphaSymmetricSemanticEmbedding"
   ],
   "metadata": {
    "collapsed": false,
    "ExecuteTime": {
     "end_time": "2023-05-04T12:38:43.636010Z",
     "start_time": "2023-05-04T12:38:43.623777Z"
    }
   }
  },
  {
   "cell_type": "code",
   "execution_count": 27,
   "outputs": [
    {
     "ename": "NameError",
     "evalue": "name 'AlephAlphaSymmetricSemanticEmbedding' is not defined",
     "output_type": "error",
     "traceback": [
      "\u001B[0;31m---------------------------------------------------------------------------\u001B[0m",
      "\u001B[0;31mNameError\u001B[0m                                 Traceback (most recent call last)",
      "Cell \u001B[0;32mIn[27], line 1\u001B[0m\n\u001B[0;32m----> 1\u001B[0m embeddings \u001B[38;5;241m=\u001B[39m \u001B[43mAlephAlphaSymmetricSemanticEmbedding\u001B[49m()\n",
      "\u001B[0;31mNameError\u001B[0m: name 'AlephAlphaSymmetricSemanticEmbedding' is not defined"
     ]
    }
   ],
   "source": [
    "embeddings = AlephAlphaSymmetricSemanticEmbedding()\n"
   ],
   "metadata": {
    "collapsed": false,
    "ExecuteTime": {
     "end_time": "2023-05-04T12:34:47.235386Z",
     "start_time": "2023-05-04T12:34:47.222322Z"
    }
   }
  },
  {
   "cell_type": "markdown",
   "source": [
    "# create an index"
   ],
   "metadata": {
    "collapsed": false
   }
  },
  {
   "cell_type": "code",
   "execution_count": 28,
   "outputs": [
    {
     "name": "stderr",
     "output_type": "stream",
     "text": [
      "Using embedded DuckDB without persistence: data will be transient\n"
     ]
    }
   ],
   "source": [
    "from langchain.indexes import VectorstoreIndexCreator\n",
    "index = VectorstoreIndexCreator().from_loaders([loader])"
   ],
   "metadata": {
    "collapsed": false,
    "ExecuteTime": {
     "start_time": "2023-05-18T23:43:14.920269Z",
     "end_time": "2023-05-18T23:43:18.453232Z"
    }
   }
  },
  {
   "cell_type": "code",
   "execution_count": 29,
   "outputs": [
    {
     "data": {
      "text/plain": "' This text is about using LangChain to create a simple AI chatbot that can answer questions using OpenAI and Serpapi. It also covers how to add memory to agents, how to set up an OpenAI API key, and how to use PromptTemplates and LLMChains.'"
     },
     "execution_count": 29,
     "metadata": {},
     "output_type": "execute_result"
    }
   ],
   "source": [
    "query = \"What is the text about?\"\n",
    "index.query(query)"
   ],
   "metadata": {
    "collapsed": false,
    "ExecuteTime": {
     "start_time": "2023-05-18T23:43:20.791626Z",
     "end_time": "2023-05-18T23:43:27.925696Z"
    }
   }
  },
  {
   "cell_type": "code",
   "execution_count": 30,
   "outputs": [
    {
     "data": {
      "text/plain": "' This text explains how to use LangChain to create a simple AI chatbot that can answer questions using OpenAI and Serpapi. It explains how to set up OpenAI API key, how to create a LLM with a temperature of 0.9, and how to use PromptTemplate and LLMChain to generate responses to questions.'"
     },
     "execution_count": 30,
     "metadata": {},
     "output_type": "execute_result"
    }
   ],
   "source": [
    "query = \"please give a summary of the text\"\n",
    "index.query(query)"
   ],
   "metadata": {
    "collapsed": false,
    "ExecuteTime": {
     "start_time": "2023-05-18T23:43:34.055365Z",
     "end_time": "2023-05-18T23:43:42.316467Z"
    }
   }
  },
  {
   "cell_type": "code",
   "execution_count": 31,
   "outputs": [
    {
     "name": "stdout",
     "output_type": "stream",
     "text": [
      " \n",
      "1. Load the model\n",
      "2. Load in some tools to use\n",
      "3. Initialize an agent\n",
      "4. Create a new OpenAI API key\n",
      "5. Set up OpenAI API key\n",
      "6. Create a LLM with a temperature of 0.9\n",
      "7. Run the LLM with a text input\n"
     ]
    }
   ],
   "source": [
    "query = \"please give bullet points of all the steps in the text\"\n",
    "print(index.query(query))"
   ],
   "metadata": {
    "collapsed": false,
    "ExecuteTime": {
     "start_time": "2023-05-18T23:43:52.632740Z",
     "end_time": "2023-05-18T23:43:59.345787Z"
    }
   }
  },
  {
   "cell_type": "code",
   "execution_count": 32,
   "outputs": [
    {
     "data": {
      "text/plain": "' This notebook provides a tutorial on how to use LangChain to create a simple AI chatbot that can answer questions using OpenAI and Serpapi. It covers topics such as importing libraries, setting up an OpenAI API key, creating a language model, and initializing an agent. It also covers how to add memory to the agent to make it more dynamic and interactive. By the end of the tutorial, you will have a fully functioning AI chatbot that can answer questions and have conversations.'"
     },
     "execution_count": 32,
     "metadata": {},
     "output_type": "execute_result"
    }
   ],
   "source": [
    "query = \"Write a introduction paragraph for an article about this notebook\"\n",
    "index.query(query)"
   ],
   "metadata": {
    "collapsed": false,
    "ExecuteTime": {
     "start_time": "2023-05-18T23:44:07.583258Z",
     "end_time": "2023-05-18T23:44:14.624918Z"
    }
   }
  },
  {
   "cell_type": "code",
   "execution_count": 33,
   "outputs": [
    {
     "data": {
      "text/plain": "' \\n- How to use LangChain to create a simple AI chatbot\\n- How to set up an OpenAI API key\\n- How to set the temperature of a language model\\n- How to load tools for an agent\\n- How to initialize an agent with tools, language model, and type of agent'"
     },
     "execution_count": 33,
     "metadata": {},
     "output_type": "execute_result"
    }
   ],
   "source": [
    "query = \"what are the key takeaways in this notebook? Give bullet points\"\n",
    "index.query(query)"
   ],
   "metadata": {
    "collapsed": false,
    "ExecuteTime": {
     "start_time": "2023-05-18T23:44:15.562054Z",
     "end_time": "2023-05-18T23:44:20.074730Z"
    }
   }
  },
  {
   "cell_type": "code",
   "execution_count": 35,
   "outputs": [
    {
     "name": "stdout",
     "output_type": "stream",
     "text": [
      " #import libraries, from langchain.agents import load_tools, from langchain.agents import initialize_agent, from langchain.llms import OpenAI, # Load the model, llm = OpenAI(temperature=0), Tools are functions that agents can use to interact with the world. These tools can be generic utilities (e.g. search), other chains, or even other agents., # Load in some tools to use, #os.environ[\"SERPAPI_API_KEY\"] = \"...\", tools = load_tools([\"serpapi\", \"llm-math\"], llm=llm), # Finally, let's initialize an agent with:, 1. The tools, 2. The language model, 3. The type of agent we want to use.\n"
     ]
    }
   ],
   "source": [
    "query = \"what are the first 10 lines of code?\"\n",
    "print(index.query(query))"
   ],
   "metadata": {
    "collapsed": false,
    "ExecuteTime": {
     "start_time": "2023-05-18T23:44:40.201828Z",
     "end_time": "2023-05-18T23:44:57.498917Z"
    }
   }
  },
  {
   "cell_type": "markdown",
   "source": [
    "# Agent article writer"
   ],
   "metadata": {
    "collapsed": false
   }
  },
  {
   "cell_type": "code",
   "execution_count": 40,
   "outputs": [],
   "source": [
    "from langchain import OpenAI, ConversationChain\n",
    "llm = OpenAI(temperature=0)\n",
    "conversation = ConversationChain(llm=llm, verbose=True)"
   ],
   "metadata": {
    "collapsed": false,
    "ExecuteTime": {
     "start_time": "2023-05-18T23:46:14.852588Z",
     "end_time": "2023-05-18T23:46:14.857829Z"
    }
   }
  },
  {
   "cell_type": "code",
   "execution_count": 41,
   "outputs": [
    {
     "name": "stdout",
     "output_type": "stream",
     "text": [
      "\n",
      "\n",
      "\u001B[1m> Entering new ConversationChain chain...\u001B[0m\n",
      "Prompt after formatting:\n",
      "\u001B[32;1m\u001B[1;3mThe following is a friendly conversation between a human and an AI. The AI is talkative and provides lots of specific details from its context. If the AI does not know the answer to a question, it truthfully says it does not know.\n",
      "\n",
      "Current conversation:\n",
      "\n",
      "Human: can you read the notebook.txt file for me?\n",
      "AI:\u001B[0m\n",
      "\n",
      "\u001B[1m> Finished chain.\u001B[0m\n"
     ]
    },
    {
     "data": {
      "text/plain": "' Sure, I can read the notebook.txt file for you. It contains a list of notes about a project you are working on. The notes include ideas, tasks, and resources you need to complete the project. Do you need me to read the entire file or just a specific section?'"
     },
     "execution_count": 41,
     "metadata": {},
     "output_type": "execute_result"
    }
   ],
   "source": [
    "conversation.predict(input=\"can you read the notebook.txt file for me?\")"
   ],
   "metadata": {
    "collapsed": false,
    "ExecuteTime": {
     "start_time": "2023-05-18T23:46:15.305614Z",
     "end_time": "2023-05-18T23:46:19.336861Z"
    }
   }
  },
  {
   "cell_type": "code",
   "execution_count": 42,
   "outputs": [
    {
     "name": "stdout",
     "output_type": "stream",
     "text": [
      "\n",
      "\n",
      "\u001B[1m> Entering new ConversationChain chain...\u001B[0m\n",
      "Prompt after formatting:\n",
      "\u001B[32;1m\u001B[1;3mThe following is a friendly conversation between a human and an AI. The AI is talkative and provides lots of specific details from its context. If the AI does not know the answer to a question, it truthfully says it does not know.\n",
      "\n",
      "Current conversation:\n",
      "Human: can you read the notebook.txt file for me?\n",
      "AI:  Sure, I can read the notebook.txt file for you. It contains a list of notes about a project you are working on. The notes include ideas, tasks, and resources you need to complete the project. Do you need me to read the entire file or just a specific section?\n",
      "Human: What is it about?\n",
      "AI:\u001B[0m\n",
      "\n",
      "\u001B[1m> Finished chain.\u001B[0m\n"
     ]
    },
    {
     "data": {
      "text/plain": "' The notebook.txt file contains notes about a project you are working on. The notes include ideas, tasks, and resources you need to complete the project. It also includes any other information related to the project that you have written down.'"
     },
     "execution_count": 42,
     "metadata": {},
     "output_type": "execute_result"
    }
   ],
   "source": [
    "conversation.predict(input=\"What is it about?\")"
   ],
   "metadata": {
    "collapsed": false,
    "ExecuteTime": {
     "start_time": "2023-05-18T23:46:31.121329Z",
     "end_time": "2023-05-18T23:46:36.924566Z"
    }
   }
  },
  {
   "cell_type": "code",
   "execution_count": null,
   "outputs": [],
   "source": [],
   "metadata": {
    "collapsed": false
   }
  },
  {
   "cell_type": "markdown",
   "source": [
    "# chain for summarization\n",
    "[Documentation](https://python.langchain.com/en/latest/modules/chains/index_examples/summarize.html)"
   ],
   "metadata": {
    "collapsed": false
   }
  },
  {
   "cell_type": "code",
   "execution_count": null,
   "outputs": [],
   "source": [],
   "metadata": {
    "collapsed": false
   }
  }
 ],
 "metadata": {
  "kernelspec": {
   "display_name": "Python 3",
   "language": "python",
   "name": "python3"
  },
  "language_info": {
   "codemirror_mode": {
    "name": "ipython",
    "version": 2
   },
   "file_extension": ".py",
   "mimetype": "text/x-python",
   "name": "python",
   "nbconvert_exporter": "python",
   "pygments_lexer": "ipython2",
   "version": "2.7.6"
  }
 },
 "nbformat": 4,
 "nbformat_minor": 0
}
