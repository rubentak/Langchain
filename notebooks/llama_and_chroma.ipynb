{
 "cells": [
  {
   "cell_type": "code",
   "execution_count": 1,
   "id": "initial_id",
   "metadata": {
    "collapsed": true,
    "ExecuteTime": {
     "end_time": "2023-09-27T16:36:00.813823Z",
     "start_time": "2023-09-27T16:36:00.480824Z"
    }
   },
   "outputs": [
    {
     "ename": "ModuleNotFoundError",
     "evalue": "No module named 'dotenv'",
     "output_type": "error",
     "traceback": [
      "\u001B[0;31m---------------------------------------------------------------------------\u001B[0m",
      "\u001B[0;31mModuleNotFoundError\u001B[0m                       Traceback (most recent call last)",
      "Input \u001B[0;32mIn [1]\u001B[0m, in \u001B[0;36m<cell line: 1>\u001B[0;34m()\u001B[0m\n\u001B[0;32m----> 1\u001B[0m \u001B[38;5;28;01mfrom\u001B[39;00m \u001B[38;5;21;01mdotenv\u001B[39;00m \u001B[38;5;28;01mimport\u001B[39;00m load_dotenv\n\u001B[1;32m      2\u001B[0m load_dotenv()\n\u001B[1;32m      4\u001B[0m \u001B[38;5;28;01mfrom\u001B[39;00m \u001B[38;5;21;01mllama_index\u001B[39;00m \u001B[38;5;28;01mimport\u001B[39;00m GPTVectorStoreIndex, TrafilaturaWebReader\n",
      "\u001B[0;31mModuleNotFoundError\u001B[0m: No module named 'dotenv'"
     ]
    }
   ],
   "source": [
    "\n",
    "from dotenv import load_dotenv\n",
    "load_dotenv()\n",
    "\n",
    "from llama_index import GPTVectorStoreIndex, TrafilaturaWebReader\n",
    "import chromadb\n",
    "\n",
    "\n",
    "def create_embedding_store(name):\n",
    "    chroma_client = chromadb.Client()\n",
    "    return chroma_client.create_collection(name)\n",
    "\n",
    "def query_pages(collection, urls, questions):\n",
    "    docs = TrafilaturaWebReader().load_data(urls)\n",
    "    index = GPTVectorStoreIndex.from_documents(docs, chroma_collection=collection)\n",
    "    query_engine = index.as_query_engine()\n",
    "    for question in questions:\n",
    "        print(f\"Question: {question} \\n\")\n",
    "        print(f\"Answer: {query_engine.query(question)}\")\n",
    "\n",
    "if __name__ == \"__main__\":\n",
    "    url_list = [\"https://supertype.ai\", \"https://supertype.ai/about-us\"]\n",
    "    questions = [\n",
    "        \"Who are the members of Supertype.ai\",\n",
    "        \"What problems are they trying to solve?\",\n",
    "        \"What are the important values at the company?\"\n",
    "    ]\n",
    "\n",
    "    collection = create_embedding_store(\"supertype\")\n",
    "\n",
    "    query_pages(\n",
    "        collection,\n",
    "        url_list,\n",
    "        questions\n",
    "    )"
   ]
  },
  {
   "cell_type": "code",
   "execution_count": null,
   "outputs": [],
   "source": [],
   "metadata": {
    "collapsed": false
   },
   "id": "191f7441b389b70a"
  }
 ],
 "metadata": {
  "kernelspec": {
   "display_name": "Python 3",
   "language": "python",
   "name": "python3"
  },
  "language_info": {
   "codemirror_mode": {
    "name": "ipython",
    "version": 2
   },
   "file_extension": ".py",
   "mimetype": "text/x-python",
   "name": "python",
   "nbconvert_exporter": "python",
   "pygments_lexer": "ipython2",
   "version": "2.7.6"
  }
 },
 "nbformat": 4,
 "nbformat_minor": 5
}
